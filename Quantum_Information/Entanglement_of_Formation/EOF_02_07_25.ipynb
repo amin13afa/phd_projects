{
 "cells": [
  {
   "cell_type": "code",
   "execution_count": 1,
   "id": "1319973e",
   "metadata": {},
   "outputs": [],
   "source": [
    "import numpy as np \n",
    "import scipy.sparse as ss\n",
    "from scipy.linalg import norm\n",
    "import qiskit\n",
    "from qiskit.quantum_info import Statevector,DensityMatrix,partial_trace\n",
    "from qiskit.quantum_info import entanglement_of_formation, entropy\n",
    "import h5py"
   ]
  },
  {
   "cell_type": "code",
   "execution_count": 2,
   "id": "acec4b52",
   "metadata": {},
   "outputs": [],
   "source": [
    "# Define the number of qubit\n",
    "global qubit \n",
    "qubit = 4"
   ]
  },
  {
   "cell_type": "code",
   "execution_count": 3,
   "id": "062b67da",
   "metadata": {},
   "outputs": [],
   "source": [
    "# function to define labels\n",
    "def labelCreation(qubit:int):\n",
    "    labels = []\n",
    "    for j in range(2**qubit):\n",
    "        b = bin(j).replace(\"0b\",\"\")\n",
    "        if len(b) < qubit:\n",
    "            n = qubit - len(b)\n",
    "            b = n*\"0\"+b\n",
    "        labels.append(b)\n",
    "    return labels"
   ]
  },
  {
   "cell_type": "code",
   "execution_count": 4,
   "id": "572d3341",
   "metadata": {},
   "outputs": [],
   "source": [
    "# function to define statevector and density matrix \n",
    "def StateCreation(coef,labels):\n",
    "    if np.isclose(np.linalg.norm(coef),1):\n",
    "        ψ = Statevector(np.zeros(2**qubit))\n",
    "        for j in range(len(labels)):\n",
    "            ψ += coef[j]*Statevector.from_label(labels[j])\n",
    "        ρ = DensityMatrix(ψ)\n",
    "    else:\n",
    "        raise TypeError(\"The coefficient vector is not normalized\")\n",
    "    return ψ, ρ"
   ]
  },
  {
   "cell_type": "code",
   "execution_count": 5,
   "id": "e75442f3",
   "metadata": {},
   "outputs": [],
   "source": [
    "# check created labels \n",
    "labels = labelCreation(qubit)"
   ]
  },
  {
   "cell_type": "code",
   "execution_count": 6,
   "id": "ed113cf7",
   "metadata": {},
   "outputs": [],
   "source": [
    "# Coefficients determination \n",
    "coef = np.zeros(2**qubit)\n",
    "coef[0] = 0.5;\n",
    "coef[5] = 0.5;\n",
    "coef[10] = 0.5;\n",
    "coef[15] = 0.5;"
   ]
  },
  {
   "cell_type": "code",
   "execution_count": 7,
   "id": "e8236a72",
   "metadata": {},
   "outputs": [
    {
     "name": "stdout",
     "output_type": "stream",
     "text": [
      "j = 0, coef = 0.5, label = 0000\n",
      "j = 1, coef = 0.0, label = 0001\n",
      "j = 2, coef = 0.0, label = 0010\n",
      "j = 3, coef = 0.0, label = 0011\n",
      "j = 4, coef = 0.0, label = 0100\n",
      "j = 5, coef = 0.5, label = 0101\n",
      "j = 6, coef = 0.0, label = 0110\n",
      "j = 7, coef = 0.0, label = 0111\n",
      "j = 8, coef = 0.0, label = 1000\n",
      "j = 9, coef = 0.0, label = 1001\n",
      "j = 10, coef = 0.5, label = 1010\n",
      "j = 11, coef = 0.0, label = 1011\n",
      "j = 12, coef = 0.0, label = 1100\n",
      "j = 13, coef = 0.0, label = 1101\n",
      "j = 14, coef = 0.0, label = 1110\n",
      "j = 15, coef = 0.5, label = 1111\n"
     ]
    }
   ],
   "source": [
    "# Check labels with their coefficients\n",
    "\n",
    "for j in range(len(labels)):\n",
    "    print(\"j = {}, coef = {}, label = {}\".format(j,coef[j],labels[j]))"
   ]
  },
  {
   "cell_type": "code",
   "execution_count": 8,
   "id": "4a5bbd75",
   "metadata": {},
   "outputs": [],
   "source": [
    "# Create quantum state \n",
    "ψ, ρ = StateCreation(coef, labels)"
   ]
  },
  {
   "cell_type": "code",
   "execution_count": 9,
   "id": "9c194d78",
   "metadata": {},
   "outputs": [
    {
     "data": {
      "text/latex": [
       "$$\\frac{1}{2} |0000\\rangle+\\frac{1}{2} |0101\\rangle+\\frac{1}{2} |1010\\rangle+\\frac{1}{2} |1111\\rangle$$"
      ],
      "text/plain": [
       "<IPython.core.display.Latex object>"
      ]
     },
     "execution_count": 9,
     "metadata": {},
     "output_type": "execute_result"
    }
   ],
   "source": [
    "# take a look at created state \n",
    "ψ.draw('latex')"
   ]
  },
  {
   "cell_type": "code",
   "execution_count": 10,
   "id": "27a2b8eb",
   "metadata": {},
   "outputs": [
    {
     "data": {
      "text/latex": [
       "$$\n",
       "\n",
       "\\begin{bmatrix}\n",
       "\\frac{1}{4} & 0 & 0 & 0 & \\cdots & 0 & 0 & \\frac{1}{4}  \\\\\n",
       " 0 & 0 & 0 & 0 & \\cdots & 0 & 0 & 0  \\\\\n",
       " 0 & 0 & 0 & 0 & \\cdots & 0 & 0 & 0  \\\\\n",
       " 0 & 0 & 0 & 0 & \\cdots & 0 & 0 & 0  \\\\\n",
       " \\vdots & \\vdots & \\vdots & \\vdots & \\ddots & \\vdots & \\vdots & \\vdots \\\\\n",
       " 0 & 0 & 0 & 0 & \\cdots & 0 & 0 & 0  \\\\\n",
       " 0 & 0 & 0 & 0 & \\cdots & 0 & 0 & 0  \\\\\n",
       " \\frac{1}{4} & 0 & 0 & 0 & \\cdots & 0 & 0 & \\frac{1}{4}  \\\\\n",
       " \\end{bmatrix}\n",
       "$$"
      ],
      "text/plain": [
       "<IPython.core.display.Latex object>"
      ]
     },
     "execution_count": 10,
     "metadata": {},
     "output_type": "execute_result"
    }
   ],
   "source": [
    "# take a look at created density matrix\n",
    "ρ.draw('latex')"
   ]
  },
  {
   "cell_type": "code",
   "execution_count": 11,
   "id": "15034d8d",
   "metadata": {},
   "outputs": [],
   "source": [
    "# Define a function to take  partial trace \n",
    "# This func takes two input, density matrix and a list \n",
    "# In the input list, we are given the number of part we should partial trace over \n",
    "\n",
    "def PartialTrace(ρ,L:list):\n",
    "    \"\"\"\n",
    "    ρ: Density matrix\n",
    "    List: this list just can take 1,2,3\n",
    "    \"\"\"\n",
    "    pt1 = []\n",
    "    pt2 = []\n",
    "    pt3 = []\n",
    "        \n",
    "    if np.isin(1,L) and len(ρ.dims()) > 1:\n",
    "        for j in range(len(ρ.dims())):\n",
    "            pt1.append(partial_trace(ρ,[j]))\n",
    "    \n",
    "    if np.isin(2,L) and len(ρ.dims()) > 2:\n",
    "        for j in range(len(ρ.dims())-1):\n",
    "            pt2.append(partial_trace(ρ,[j,j+1]))\n",
    "            if j+2 < len(ρ.dims()):\n",
    "                pt2.append(partial_trace(ρ,[j,j+2]))\n",
    "                if j+3 < len(ρ.dims()):\n",
    "                    pt2.append(partial_trace(ρ,[j,j+3]))\n",
    "                    \n",
    "    if np.isin(3,L) and len(ρ.dims()) > 3:\n",
    "        for j in range(len(ρ.dims())-2):\n",
    "            pt3.append(qiskit.quantum_info.partial_trace(ρ,[j,j+1,j+2]))\n",
    "            if j+3 < len(ρ.dims()):\n",
    "                pt3.append(qiskit.quantum_info.partial_trace(ρ,[j,j+1,j+3]))\n",
    "                if j+1 < len(ρ.dims())-2:\n",
    "                    pt3.append(qiskit.quantum_info.partial_trace(ρ,[j,j+2,j+3]))\n",
    "                    \n",
    "    partial_trace_func = {\n",
    "        \"partial_trace_1\" : pt1,\n",
    "        \"partial_trace_2\" : pt2,\n",
    "        \"partial_trace_3\" : pt3\n",
    "    }\n",
    "                        \n",
    "    return partial_trace_func"
   ]
  },
  {
   "cell_type": "code",
   "execution_count": 12,
   "id": "f3074e2a",
   "metadata": {},
   "outputs": [
    {
     "data": {
      "text/plain": [
       "4"
      ]
     },
     "execution_count": 12,
     "metadata": {},
     "output_type": "execute_result"
    }
   ],
   "source": [
    "# Take partial trace over one part \n",
    "ρ_pt_1 = PartialTrace(ρ, [1])\n",
    "len(ρ_pt_1['partial_trace_1'])"
   ]
  },
  {
   "cell_type": "code",
   "execution_count": 13,
   "id": "e55b2772",
   "metadata": {},
   "outputs": [],
   "source": [
    "# Function to compute entanglement of formation(EOF) for a three-partite system\n",
    "def EOF_3(ρ_pt:dict): \n",
    "    \"\"\"\n",
    "    ρ_pt : A dictionary containing partial trace over density matrix \n",
    "    \"\"\"\n",
    "    eof_1 = []\n",
    "    eof_2 = []\n",
    "    entropy_1 = []\n",
    "    entropy_2 = []\n",
    "    if len(ρ_pt['partial_trace_1']) == 0:\n",
    "        pass\n",
    "    else:\n",
    "        for j in range(len(ρ_pt['partial_trace_1'])):\n",
    "            eof_1.append(entanglement_of_formation(\n",
    "                ρ_pt['partial_trace_1'][j]))\n",
    "            entropy_1.append(entropy(ρ_pt['partial_trace_1'][j]))\n",
    "    \n",
    "    if len(ρ_pt['partial_trace_2']) == 0:\n",
    "        pass \n",
    "    else:\n",
    "        for j in range(len(ρ_pt['partial_trace_2'])):\n",
    "            eof_2.append(entanglement_of_formation(\n",
    "                ρ_pt['partial_trace_1'][j]))\n",
    "            entropy_2.append(entropy(ρ_pt['partial_trace_2'][j]))\n",
    "            \n",
    "            \n",
    "    eof_1 = np.array(eof_1)\n",
    "    eof_2 = np.array(eof_2)\n",
    "    entropy_1 = np.array(entropy_1)\n",
    "    entropy_2 = np.array(entropy_2)\n",
    "    EOF = np.sum(eof_1+eof_2+entropy_1+entropy_2)/6\n",
    "    return EOF"
   ]
  },
  {
   "cell_type": "code",
   "execution_count": 72,
   "id": "02b8ec4c",
   "metadata": {},
   "outputs": [
    {
     "name": "stdout",
     "output_type": "stream",
     "text": [
      "16\n"
     ]
    }
   ],
   "source": [
    "V = np.zeros((8,1))\n",
    "list_of_ro = []\n",
    "start = -1.0;\n",
    "stop = 1.0;\n",
    "num = 3;\n",
    "\n",
    "for v0 in np.linspace(start, stop, num):\n",
    "    V[0,0] = v0\n",
    "    for v1 in np.linspace(start, stop, num):\n",
    "        V[1,0] = v1\n",
    "        for v2 in np.linspace(start, stop, num):\n",
    "            V[2,0] = v2\n",
    "            for v3 in np.linspace(start, stop, num):\n",
    "                V[3,0] = v3\n",
    "                for v4 in np.linspace(start, stop, num):\n",
    "                    V[4,0] = v4\n",
    "                    for v5 in np.linspace(start, stop, num):\n",
    "                        V[5,0] = v5\n",
    "                        for v6 in np.linspace(start, stop, num):\n",
    "                            V[6,0] = v6\n",
    "                            for v7 in np.linspace(start, stop, num):\n",
    "                                V[7,0] = v7\n",
    "                                ρ = DensityMatrix(np.outer(V,V))\n",
    "                                ρ_2 = DensityMatrix(np.matmul(ρ.data,ρ.data))\n",
    "                                if ρ.purity() == 1 and ρ_2.purity() == 1:\n",
    "                                    list_of_ro.append(ρ)\n",
    "                                    \n",
    "print(len(list_of_ro))"
   ]
  },
  {
   "cell_type": "code",
   "execution_count": 77,
   "id": "062d780b",
   "metadata": {},
   "outputs": [
    {
     "name": "stdout",
     "output_type": "stream",
     "text": [
      "1.0\n",
      "1.0\n",
      "1.0\n",
      "1.0\n",
      "1.0\n",
      "1.0\n",
      "1.0\n",
      "1.0\n",
      "1.0\n",
      "1.0\n",
      "1.0\n",
      "1.0\n",
      "1.0\n",
      "1.0\n",
      "1.0\n",
      "1.0\n"
     ]
    }
   ],
   "source": [
    "for j in range(len(list_of_ro)):\n",
    "    M = np.real(list_of_ro[j].data)\n",
    "    U,S,V = np.linalg.svd(M)\n",
    "    S = S/np.trace(np.diag(S))\n",
    "    A = np.matmul(np.matmul(U,S),V)\n",
    "    B = np.eye(2**(qubit-1))/(2**(qubit-1))\n",
    "    "
   ]
  },
  {
   "cell_type": "code",
   "execution_count": null,
   "id": "3f74f9ad",
   "metadata": {},
   "outputs": [],
   "source": []
  },
  {
   "cell_type": "code",
   "execution_count": 30,
   "id": "3fbfb5eb",
   "metadata": {},
   "outputs": [],
   "source": [
    "m = np.real(D[9].data) "
   ]
  },
  {
   "cell_type": "code",
   "execution_count": 37,
   "id": "25796722",
   "metadata": {},
   "outputs": [],
   "source": [
    "U,D,Vd = np.linalg.svd(m)"
   ]
  },
  {
   "cell_type": "code",
   "execution_count": 39,
   "id": "aefbc0ea",
   "metadata": {},
   "outputs": [],
   "source": [
    "Dp = D / np.trace(np.diag(D))   "
   ]
  },
  {
   "cell_type": "code",
   "execution_count": 43,
   "id": "76caf559",
   "metadata": {},
   "outputs": [],
   "source": [
    "A = np.matmul(np.matmul(U,np.diag(Dp)),Vd)"
   ]
  },
  {
   "cell_type": "code",
   "execution_count": 44,
   "id": "e7b4d2b4",
   "metadata": {},
   "outputs": [
    {
     "data": {
      "text/plain": [
       "array([[0., 0., 0., 0., 0., 0., 0., 0.],\n",
       "       [0., 0., 0., 0., 0., 0., 0., 0.],\n",
       "       [0., 0., 0., 0., 0., 0., 0., 0.],\n",
       "       [0., 0., 0., 0., 0., 0., 0., 0.],\n",
       "       [0., 0., 0., 0., 0., 0., 0., 0.],\n",
       "       [0., 0., 0., 0., 0., 0., 0., 0.],\n",
       "       [0., 0., 0., 0., 0., 0., 1., 0.],\n",
       "       [0., 0., 0., 0., 0., 0., 0., 0.]])"
      ]
     },
     "execution_count": 44,
     "metadata": {},
     "output_type": "execute_result"
    }
   ],
   "source": [
    "A"
   ]
  },
  {
   "cell_type": "code",
   "execution_count": 54,
   "id": "5c4955eb",
   "metadata": {},
   "outputs": [
    {
     "data": {
      "text/plain": [
       "(8, 8)"
      ]
     },
     "execution_count": 54,
     "metadata": {},
     "output_type": "execute_result"
    }
   ],
   "source": [
    "B = np.eye(2**(qubit-1))/(2**(qubit-1))\n",
    "B.shape"
   ]
  },
  {
   "cell_type": "code",
   "execution_count": 56,
   "id": "f1d77565",
   "metadata": {},
   "outputs": [
    {
     "name": "stdout",
     "output_type": "stream",
     "text": [
      "0.9354143466934853\n",
      "0.8418729120241368\n",
      "0.7483314773547882\n",
      "0.6547900426854397\n",
      "0.5612486080160911\n",
      "0.46770717334674267\n",
      "0.374165738677394\n",
      "0.28062430400804556\n",
      "0.187082869338697\n",
      "0.09354143466934856\n"
     ]
    }
   ],
   "source": [
    "for p in np.arange(0,1,0.1):\n",
    "    print(np.linalg.norm((m-(p*A+(1-p)*B))))"
   ]
  },
  {
   "cell_type": "code",
   "execution_count": 71,
   "id": "3989983f",
   "metadata": {},
   "outputs": [
    {
     "name": "stdout",
     "output_type": "stream",
     "text": [
      "1.0\n",
      "0.0\n",
      "0.0\n",
      "0.0\n",
      "0.0\n",
      "0.0\n",
      "0.0\n",
      "0.0\n"
     ]
    }
   ],
   "source": [
    "for j in range(len(D)):\n",
    "#     M = np.real(D[j].data)\n",
    "    print(D[j])\n"
   ]
  },
  {
   "cell_type": "code",
   "execution_count": 70,
   "id": "162ce17f",
   "metadata": {},
   "outputs": [
    {
     "data": {
      "text/plain": [
       "array(0.)"
      ]
     },
     "execution_count": 70,
     "metadata": {},
     "output_type": "execute_result"
    }
   ],
   "source": [
    "M"
   ]
  },
  {
   "cell_type": "code",
   "execution_count": 60,
   "id": "3f15d44d",
   "metadata": {},
   "outputs": [
    {
     "name": "stdout",
     "output_type": "stream",
     "text": [
      "1\n"
     ]
    }
   ],
   "source": [
    "count = 0;\n",
    "ans = []\n",
    "for p in np.arange(0,1,0.1):\n",
    "    if np.linalg.norm((m-(p*A+(1-p)*B)))<1e-1:\n",
    "        count += 1\n",
    "        ans.append(p)\n",
    "        \n",
    "print(count)"
   ]
  },
  {
   "cell_type": "code",
   "execution_count": 61,
   "id": "dc2c54db",
   "metadata": {},
   "outputs": [
    {
     "data": {
      "text/plain": [
       "[0.9]"
      ]
     },
     "execution_count": 61,
     "metadata": {},
     "output_type": "execute_result"
    }
   ],
   "source": [
    "ans"
   ]
  },
  {
   "cell_type": "code",
   "execution_count": 20,
   "id": "5f399c43",
   "metadata": {},
   "outputs": [
    {
     "data": {
      "text/plain": [
       "(1+0j)"
      ]
     },
     "execution_count": 20,
     "metadata": {},
     "output_type": "execute_result"
    }
   ],
   "source": [
    "# My ans \n",
    "ans = []\n",
    "for j in range(3):\n",
    "    M = ρ_pt_1[\"partial_trace_1\"][j].data\n",
    "    for k in range(len(D)):\n",
    "        A = D[k].data\n",
    "        for p in np.linspace(0,1,100):\n",
    "            for kk in range(len(D)):\n",
    "                B = D[kk].data"
   ]
  },
  {
   "cell_type": "code",
   "execution_count": 39,
   "id": "5908f631",
   "metadata": {},
   "outputs": [
    {
     "data": {
      "text/plain": [
       "(8, 8)"
      ]
     },
     "execution_count": 39,
     "metadata": {},
     "output_type": "execute_result"
    }
   ],
   "source": [
    "D[0].data.shape"
   ]
  },
  {
   "cell_type": "code",
   "execution_count": 42,
   "id": "5e19c04e",
   "metadata": {},
   "outputs": [
    {
     "name": "stdout",
     "output_type": "stream",
     "text": [
      "0\n"
     ]
    }
   ],
   "source": [
    "# My ans \n",
    "ans = []\n",
    "count = 0\n",
    "for j in range(3):\n",
    "    M = ρ_pt_1[\"partial_trace_1\"][j].data\n",
    "    for k_A in range(len(D)):\n",
    "        A = D[k_A].data\n",
    "        for k_B in range(len(D)):\n",
    "            B = D[k_B].data\n",
    "            for p in np.arange(0,1.1,0.1):\n",
    "                if M == p*A + (1-p)*B:\n",
    "                    print(\"Success\")\n",
    "                    count += 1\n",
    "                    \n",
    "print(count)"
   ]
  },
  {
   "cell_type": "code",
   "execution_count": 44,
   "id": "24ceec49",
   "metadata": {},
   "outputs": [
    {
     "data": {
      "text/plain": [
       "1.4142135623730951"
      ]
     },
     "execution_count": 44,
     "metadata": {},
     "output_type": "execute_result"
    }
   ],
   "source": [
    "a = np.array([[0,1],[1,0]])\n",
    "b = np.array([[0,1],[1,0]])\n",
    "np.linalg.norm(a)"
   ]
  },
  {
   "cell_type": "code",
   "execution_count": null,
   "id": "ad486082",
   "metadata": {},
   "outputs": [],
   "source": [
    "np.linalg.norm()"
   ]
  },
  {
   "cell_type": "code",
   "execution_count": null,
   "id": "b3df1b28",
   "metadata": {},
   "outputs": [],
   "source": []
  }
 ],
 "metadata": {
  "kernelspec": {
   "display_name": "Python 3 (ipykernel)",
   "language": "python",
   "name": "python3"
  },
  "language_info": {
   "codemirror_mode": {
    "name": "ipython",
    "version": 3
   },
   "file_extension": ".py",
   "mimetype": "text/x-python",
   "name": "python",
   "nbconvert_exporter": "python",
   "pygments_lexer": "ipython3",
   "version": "3.9.13"
  }
 },
 "nbformat": 4,
 "nbformat_minor": 5
}
