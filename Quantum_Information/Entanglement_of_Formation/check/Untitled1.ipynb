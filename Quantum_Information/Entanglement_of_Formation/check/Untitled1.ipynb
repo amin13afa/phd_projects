{
 "cells": [
  {
   "cell_type": "code",
   "execution_count": 1,
   "id": "22164936",
   "metadata": {},
   "outputs": [],
   "source": [
    "import numpy as np \n",
    "from qiskit import QuantumCircuit\n",
    "from qiskit.quantum_info import DensityMatrix, partial_trace, Statevector, entropy\n"
   ]
  },
  {
   "cell_type": "code",
   "execution_count": null,
   "id": "399baa5f",
   "metadata": {},
   "outputs": [],
   "source": []
  },
  {
   "cell_type": "code",
   "execution_count": 75,
   "id": "9f86df1a",
   "metadata": {},
   "outputs": [],
   "source": [
    "\n",
    "X = []\n",
    "D = []\n",
    "for i in np.arange(0,1.1,0.5):\n",
    "    for j in np.arange(0,1.1,0.5):\n",
    "        for k in np.arange(0,1.1,0.5):\n",
    "            for l in np.arange(0,1.1,0.5):\n",
    "                if DensityMatrix([[i,j],[k,l]]).is_valid() and DensityMatrix([[i,j],[k,l]]).trace() == 1:\n",
    "                    X.append([i,j,k,l])\n",
    "                    D.append(DensityMatrix([[i,j],[k,l]]))\n",
    "                    \n",
    "                    "
   ]
  },
  {
   "cell_type": "code",
   "execution_count": 43,
   "id": "70787a64",
   "metadata": {},
   "outputs": [],
   "source": [
    "A = np.zeros()\n",
    "for a in range(8):\n",
    "    for i in np.linspace(0,1,3):\n",
    "        for j in np.linspace(0,1,3):\n",
    "            for k in np.linspace(0,1,3):\n",
    "                for l in np.linspace(0,1,3):\n",
    "                    A[a,0]\n",
    "                \n",
    "                "
   ]
  },
  {
   "cell_type": "code",
   "execution_count": 126,
   "id": "079820ff",
   "metadata": {},
   "outputs": [],
   "source": [
    "A = np.zeros((4,1))\n",
    "D = []\n",
    "d = 0.5\n",
    "for a0 in np.arange(0,1.1,d):\n",
    "    A[0,0] = a0\n",
    "    for a1 in np.arange(0,1.1,d):\n",
    "        A[1,0] = a1\n",
    "        for a2 in np.arange(0,1.1,d):\n",
    "            A[2,0] = a2\n",
    "            for a3 in np.arange(0,1.1,d):\n",
    "                A[3,0] = a3\n",
    "                B = DensityMatrix(np.outer(A,A))\n",
    "#                 B = B/B.trace()\n",
    "                B2 = DensityMatrix(np.matmul(B.data,B.data))\n",
    "                if B.is_valid() and B2.is_valid():\n",
    "                    D.append(B)\n",
    "                    \n"
   ]
  },
  {
   "cell_type": "code",
   "execution_count": 132,
   "id": "45542ee5",
   "metadata": {},
   "outputs": [
    {
     "name": "stdout",
     "output_type": "stream",
     "text": [
      "DensityMatrix([[0.+0.j, 0.+0.j, 0.+0.j, 0.+0.j],\n",
      "               [0.+0.j, 0.+0.j, 0.+0.j, 0.+0.j],\n",
      "               [0.+0.j, 0.+0.j, 1.+0.j, 0.+0.j],\n",
      "               [0.+0.j, 0.+0.j, 0.+0.j, 0.+0.j]],\n",
      "              dims=(2, 2))\n"
     ]
    }
   ],
   "source": [
    "len(D)\n",
    "D[1]"
   ]
  },
  {
   "cell_type": "code",
   "execution_count": 125,
   "id": "5d22b5d2",
   "metadata": {},
   "outputs": [
    {
     "data": {
      "text/plain": [
       "True"
      ]
     },
     "execution_count": 125,
     "metadata": {},
     "output_type": "execute_result"
    }
   ],
   "source": [
    "test = DensityMatrix(D[37])\n",
    "test2 = DensityMatrix(np.matmul(test.data,test.data))\n",
    "test2.is_valid()"
   ]
  },
  {
   "cell_type": "code",
   "execution_count": null,
   "id": "9f571e4d",
   "metadata": {},
   "outputs": [],
   "source": []
  },
  {
   "cell_type": "code",
   "execution_count": null,
   "id": "f833400a",
   "metadata": {},
   "outputs": [],
   "source": []
  },
  {
   "cell_type": "code",
   "execution_count": 136,
   "id": "a368fa86",
   "metadata": {},
   "outputs": [],
   "source": [
    "A = np.zeros((8,1))\n",
    "D = []\n",
    "start = 0;\n",
    "stop = 1.1;\n",
    "step = 0.5;\n",
    "\n",
    "for a0 in np.arange(start, stop, step):\n",
    "    A[0,0] = a0\n",
    "    for a1 in np.arange(start, stop, step):\n",
    "        A[1,0] = a1\n",
    "        for a2 in np.arange(start, stop, step):\n",
    "            A[2,0] = a2\n",
    "            for a3 in np.arange(start, stop, step):\n",
    "                A[3,0] = a3\n",
    "                for a4 in np.arange(start, stop, step):\n",
    "                    A[4,0] = a4\n",
    "                    for a5 in np.arange(start, stop, step):\n",
    "                        A[5,0] = a5\n",
    "                        for a6 in np.arange(start, stop, step):\n",
    "                            A[6,0] = a6\n",
    "                            for a7 in np.arange(start, stop, step):\n",
    "                                A[7,0] = a7\n",
    "                                ρ = DensityMatrix(np.outer(A,A))\n",
    "#                                 ρ = ρ/ρ.trace()\n",
    "                                ρ_2 = DensityMatrix(np.matmul(ρ.data,ρ.data))\n",
    "                                if ρ.is_valid() and ρ_2.is_valid():\n",
    "                                    D.append(ρ)\n",
    "                                    \n",
    "                                "
   ]
  },
  {
   "cell_type": "code",
   "execution_count": 137,
   "id": "1fa8f679",
   "metadata": {},
   "outputs": [
    {
     "data": {
      "text/plain": [
       "78"
      ]
     },
     "execution_count": 137,
     "metadata": {},
     "output_type": "execute_result"
    }
   ],
   "source": [
    "len(D)"
   ]
  },
  {
   "cell_type": "code",
   "execution_count": 83,
   "id": "c64025bc",
   "metadata": {},
   "outputs": [
    {
     "name": "stdout",
     "output_type": "stream",
     "text": [
      "True\n",
      "(1+0j)\n"
     ]
    }
   ],
   "source": [
    "ar = DensityMatrix(np.outer(A,A))\n",
    "ar2 = np.matmul(ar,ar)\n",
    "\n",
    "ar = ar/np.trace(ar)\n",
    "ar2 = ar2/np.trace(ar2)\n",
    "print(ar.is_valid())\n",
    "# print(ar2.is_valid())\n",
    "print(ar.purity())\n"
   ]
  },
  {
   "cell_type": "code",
   "execution_count": 84,
   "id": "a0b7deb6",
   "metadata": {},
   "outputs": [
    {
     "data": {
      "text/plain": [
       "{'1|1': (0.5+0j), '2|1': (0.5+0j), '1|2': (0.5+0j), '2|2': (0.5+0j)}"
      ]
     },
     "execution_count": 84,
     "metadata": {},
     "output_type": "execute_result"
    }
   ],
   "source": [
    "ar.to_dict()"
   ]
  },
  {
   "cell_type": "code",
   "execution_count": 93,
   "id": "a2736f56",
   "metadata": {},
   "outputs": [
    {
     "data": {
      "text/plain": [
       "array([[0. , 0. , 0. ],\n",
       "       [0. , 0.5, 0.5],\n",
       "       [0. , 0.5, 0.5]])"
      ]
     },
     "execution_count": 93,
     "metadata": {},
     "output_type": "execute_result"
    }
   ],
   "source": [
    "np.real(ar)"
   ]
  },
  {
   "cell_type": "code",
   "execution_count": 99,
   "id": "bdaa6906",
   "metadata": {},
   "outputs": [
    {
     "data": {
      "text/plain": [
       "array({'11|11': (0.25+0j), '12|11': (0.25+0j), '21|11': (0.25+0j), '22|11': (0.25+0j), '11|12': (0.25+0j), '12|12': (0.25+0j), '21|12': (0.25+0j), '22|12': (0.25+0j), '11|21': (0.25+0j), '12|21': (0.25+0j), '21|21': (0.25+0j), '22|21': (0.25+0j), '11|22': (0.25+0j), '12|22': (0.25+0j), '21|22': (0.25+0j), '22|22': (0.25+0j)},\n",
       "      dtype=object)"
      ]
     },
     "execution_count": 99,
     "metadata": {},
     "output_type": "execute_result"
    }
   ],
   "source": [
    "np.real(ar.expand(ar).to_dict())"
   ]
  },
  {
   "cell_type": "code",
   "execution_count": 95,
   "id": "2e8e06ac",
   "metadata": {},
   "outputs": [
    {
     "data": {
      "text/plain": [
       "array([0. , 0.5, 0.5])"
      ]
     },
     "execution_count": 95,
     "metadata": {},
     "output_type": "execute_result"
    }
   ],
   "source": [
    "ar.probabilities()"
   ]
  },
  {
   "cell_type": "code",
   "execution_count": 96,
   "id": "8cd83fc3",
   "metadata": {},
   "outputs": [
    {
     "data": {
      "text/plain": [
       "{'1|1': (0.5+0j), '2|1': (0.5+0j), '1|2': (0.5+0j), '2|2': (0.5+0j)}"
      ]
     },
     "execution_count": 96,
     "metadata": {},
     "output_type": "execute_result"
    }
   ],
   "source": [
    "ar.to_dict()"
   ]
  },
  {
   "cell_type": "code",
   "execution_count": 105,
   "id": "6ea5675d",
   "metadata": {},
   "outputs": [],
   "source": [
    "aa = ar.data@ar.data\n",
    "aad = DensityMatrix()"
   ]
  },
  {
   "cell_type": "code",
   "execution_count": 108,
   "id": "587822b4",
   "metadata": {},
   "outputs": [
    {
     "data": {
      "text/plain": [
       "True"
      ]
     },
     "execution_count": 108,
     "metadata": {},
     "output_type": "execute_result"
    }
   ],
   "source": [
    "aad.is_valid()"
   ]
  },
  {
   "cell_type": "code",
   "execution_count": 109,
   "id": "2b4c4bb8",
   "metadata": {},
   "outputs": [
    {
     "data": {
      "text/plain": [
       "array([[0. +0.j, 0. +0.j, 0. +0.j],\n",
       "       [0. +0.j, 0.5+0.j, 0.5+0.j],\n",
       "       [0. +0.j, 0.5+0.j, 0.5+0.j]])"
      ]
     },
     "execution_count": 109,
     "metadata": {},
     "output_type": "execute_result"
    }
   ],
   "source": [
    "np.matmul(ar.data,ar.data)"
   ]
  },
  {
   "cell_type": "code",
   "execution_count": 1,
   "id": "91215852",
   "metadata": {},
   "outputs": [],
   "source": [
    "import numpy as np "
   ]
  },
  {
   "cell_type": "code",
   "execution_count": 2,
   "id": "b1babef9",
   "metadata": {},
   "outputs": [],
   "source": [
    "a = np.array([1,2,3])\n",
    "b = np.array([10,20,30])\n"
   ]
  },
  {
   "cell_type": "code",
   "execution_count": 3,
   "id": "26aa46d6",
   "metadata": {},
   "outputs": [
    {
     "data": {
      "text/plain": [
       "140"
      ]
     },
     "execution_count": 3,
     "metadata": {},
     "output_type": "execute_result"
    }
   ],
   "source": [
    "np.dot(a,b)"
   ]
  },
  {
   "cell_type": "code",
   "execution_count": 10,
   "id": "005b5b45",
   "metadata": {},
   "outputs": [
    {
     "data": {
      "text/plain": [
       "array([[1, 2, 3],\n",
       "       [2, 4, 6],\n",
       "       [3, 6, 9]])"
      ]
     },
     "execution_count": 10,
     "metadata": {},
     "output_type": "execute_result"
    }
   ],
   "source": [
    "np.outer(a,a)"
   ]
  },
  {
   "cell_type": "code",
   "execution_count": 25,
   "id": "a976c2e7",
   "metadata": {},
   "outputs": [
    {
     "data": {
      "text/plain": [
       "array([[10, 20, 30],\n",
       "       [20, 40, 60],\n",
       "       [30, 60, 90]])"
      ]
     },
     "execution_count": 25,
     "metadata": {},
     "output_type": "execute_result"
    }
   ],
   "source": [
    "np.tensordot(a,b,axes=0)"
   ]
  },
  {
   "cell_type": "code",
   "execution_count": 29,
   "id": "02bba11f",
   "metadata": {},
   "outputs": [
    {
     "data": {
      "text/plain": [
       "array([[ 1400,  2800,  4200],\n",
       "       [ 2800,  5600,  8400],\n",
       "       [ 4200,  8400, 12600]])"
      ]
     },
     "execution_count": 29,
     "metadata": {},
     "output_type": "execute_result"
    }
   ],
   "source": [
    "np.matmul(np.outer(a,b),np.outer(a,b))"
   ]
  },
  {
   "cell_type": "code",
   "execution_count": 22,
   "id": "c216a8cc",
   "metadata": {},
   "outputs": [
    {
     "data": {
      "text/plain": [
       "array([10, 20, 30, 20, 40, 60, 30, 60, 90])"
      ]
     },
     "execution_count": 22,
     "metadata": {},
     "output_type": "execute_result"
    }
   ],
   "source": [
    "np.kron(a,b)"
   ]
  },
  {
   "cell_type": "code",
   "execution_count": null,
   "id": "89e4e00d",
   "metadata": {},
   "outputs": [],
   "source": [
    "np.dot()\n",
    "np.outer()\n",
    "np.tensordot()\n",
    "np.kron()\n",
    "np.matmul()"
   ]
  }
 ],
 "metadata": {
  "kernelspec": {
   "display_name": "Python 3 (ipykernel)",
   "language": "python",
   "name": "python3"
  },
  "language_info": {
   "codemirror_mode": {
    "name": "ipython",
    "version": 3
   },
   "file_extension": ".py",
   "mimetype": "text/x-python",
   "name": "python",
   "nbconvert_exporter": "python",
   "pygments_lexer": "ipython3",
   "version": "3.9.13"
  }
 },
 "nbformat": 4,
 "nbformat_minor": 5
}
