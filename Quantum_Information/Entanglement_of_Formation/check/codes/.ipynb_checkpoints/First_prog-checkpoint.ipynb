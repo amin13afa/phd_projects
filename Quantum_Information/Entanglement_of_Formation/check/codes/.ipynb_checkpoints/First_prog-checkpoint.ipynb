{
 "cells": [
  {
   "cell_type": "code",
   "execution_count": 1,
   "id": "ae630d69",
   "metadata": {},
   "outputs": [],
   "source": [
    "# import library\n",
    "from qiskit import QuantumCircuit\n",
    "from qiskit.quantum_info import entanglement_of_formation, entropy, Statevector\n",
    "from qiskit.quantum_info import DensityMatrix, partial_trace\n",
    "import numpy as np"
   ]
  },
  {
   "cell_type": "code",
   "execution_count": 2,
   "id": "e58f6801",
   "metadata": {},
   "outputs": [
    {
     "data": {
      "image/png": "[encoded data removed]",
      "text/plain": [
       "<Figure size 371.107x367.889 with 1 Axes>"
      ]
     },
     "execution_count": 2,
     "metadata": {},
     "output_type": "execute_result"
    }
   ],
   "source": [
    "# circuit definition\n",
    "c = QuantumCircuit(3,3)\n",
    "# c.x(0)\n",
    "c.h(0)\n",
    "c.cx(0,1)\n",
    "c.cx(0,2)\n",
    "c.draw('mpl')"
   ]
  },
  {
   "cell_type": "code",
   "execution_count": 3,
   "id": "808774b5",
   "metadata": {},
   "outputs": [],
   "source": [
    "# Density matrix creation\n",
    "def density_op_creation(circuit):\n",
    "    return DensityMatrix.from_instruction(circuit)"
   ]
  },
  {
   "cell_type": "code",
   "execution_count": 4,
   "id": "45737bc4",
   "metadata": {},
   "outputs": [],
   "source": [
    "# state vector creation\n",
    "def state_creation(coef,labels):\n",
    "    ψ = Statevector(np.zeros(8))\n",
    "    for j in range(len(labels)):\n",
    "        ψ += coef[j]*Statevector.from_label(labels[j])\n",
    "    ρ = DensityMatrix(ψ)\n",
    "    return ψ, ρ\n"
   ]
  },
  {
   "cell_type": "code",
   "execution_count": 3,
   "id": "a7ed1135",
   "metadata": {},
   "outputs": [],
   "source": [
    "# Take partial trace over desired part\n",
    "def partialTrace(ρ):\n",
    "    # single partite partial trace computation\n",
    "    s_pt1 = []\n",
    "    for j in range(len(ρ.dims())):\n",
    "        s_pt1.append(partial_trace(ρ,[j]))\n",
    "    # doubly parties  partial trace computation\n",
    "    s_pt2 = []\n",
    "    for j in range(len(ρ.dims())):\n",
    "        s_pt2.append(partial_trace(ρ,[j,j+1]))\n",
    "        if j+2 < len(ρ.dims()):\n",
    "            s_pt2.append(partial_trace(ρ,[j,j+2]))\n",
    "        else:\n",
    "            break\n",
    "    return s_pt1, s_pt2"
   ]
  },
  {
   "cell_type": "code",
   "execution_count": 4,
   "id": "38169539",
   "metadata": {},
   "outputs": [],
   "source": [
    "# Computation Entanglement of formation  \n",
    "def EOF(s_pt1,s_pt2):\n",
    "    E_1 = 0\n",
    "    E_2 = 0\n",
    "    S_1 = 0\n",
    "    S_2 = 0\n",
    "    for j in range(len(ρ.dims())):\n",
    "        E_1 += entanglement_of_formation(s_pt1[j]) \n",
    "        S_1 += entropy(s_pt1[j])\n",
    "        S_2 += entropy(s_pt2[j])\n",
    "    EOF_123 = (1.0/6)*(E_1 + S_1 + S_2)\n",
    "    return EOF_123"
   ]
  },
  {
   "cell_type": "code",
   "execution_count": 5,
   "id": "93890f40",
   "metadata": {},
   "outputs": [],
   "source": [
    "# coef \n",
    "# coef = [a,b,c,d,e,f,g,h]\n",
    "# cof = [1/np.sqrt(2),0,0,0,0,0,0,1/np.sqrt(2)]\n",
    "cof = [0,1/(np.sqrt(3)),1/(np.sqrt(3)),0,1/(np.sqrt(3)),0,0,0]\n",
    "labels = [\"000\",\"001\",\"010\",\"011\",\"100\",\"101\",\"110\",\"111\"]"
   ]
  },
  {
   "cell_type": "code",
   "execution_count": 11,
   "id": "9bef7af3",
   "metadata": {},
   "outputs": [
    {
     "name": "stdout",
     "output_type": "stream",
     "text": [
      "1.0\n"
     ]
    }
   ],
   "source": [
    "# use state/density matrix  creation function\n",
    "\n",
    "ψ,ρ = state_creation(cof,labels)\n",
    "# ρ_c = density_creation(c)\n",
    "s_tr1, s_tr2 = partialTrace(ρ)\n",
    "print(EOF(s_tr1,s_tr2))\n",
    "# ψ.draw('latex')"
   ]
  },
  {
   "cell_type": "code",
   "execution_count": 7,
   "id": "44234416",
   "metadata": {},
   "outputs": [
    {
     "data": {
      "text/latex": [
       "$$\n",
       "\n",
       "\\begin{bmatrix}\n",
       "\\tfrac{1}{2} & 0 & 0 & 0 & 0 & 0 & 0 & \\tfrac{1}{2}  \\\\\n",
       " 0 & 0 & 0 & 0 & 0 & 0 & 0 & 0  \\\\\n",
       " 0 & 0 & 0 & 0 & 0 & 0 & 0 & 0  \\\\\n",
       " 0 & 0 & 0 & 0 & 0 & 0 & 0 & 0  \\\\\n",
       " 0 & 0 & 0 & 0 & 0 & 0 & 0 & 0  \\\\\n",
       " 0 & 0 & 0 & 0 & 0 & 0 & 0 & 0  \\\\\n",
       " 0 & 0 & 0 & 0 & 0 & 0 & 0 & 0  \\\\\n",
       " \\tfrac{1}{2} & 0 & 0 & 0 & 0 & 0 & 0 & \\tfrac{1}{2}  \\\\\n",
       " \\end{bmatrix}\n",
       "$$"
      ],
      "text/plain": [
       "<IPython.core.display.Latex object>"
      ]
     },
     "execution_count": 7,
     "metadata": {},
     "output_type": "execute_result"
    }
   ],
   "source": [
    "# take look at output state/DM\n",
    "ρ.draw('latex')"
   ]
  },
  {
   "cell_type": "code",
   "execution_count": null,
   "id": "4101c1db",
   "metadata": {},
   "outputs": [],
   "source": []
  }
 ],
 "metadata": {
  "kernelspec": {
   "display_name": "Python 3 (ipykernel)",
   "language": "python",
   "name": "python3"
  },
  "language_info": {
   "codemirror_mode": {
    "name": "ipython",
    "version": 3
   },
   "file_extension": ".py",
   "mimetype": "text/x-python",
   "name": "python",
   "nbconvert_exporter": "python",
   "pygments_lexer": "ipython3",
   "version": "3.9.13"
  }
 },
 "nbformat": 4,
 "nbformat_minor": 5
}
