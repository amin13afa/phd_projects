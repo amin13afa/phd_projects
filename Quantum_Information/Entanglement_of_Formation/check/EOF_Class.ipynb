{
 "cells": [
  {
   "cell_type": "code",
   "execution_count": 51,
   "id": "809ddda1",
   "metadata": {},
   "outputs": [],
   "source": [
    "import numpy as np \n",
    "from qiskit import QuantumCircuit\n",
    "from qiskit.quantum_info import Statevector,DensityMatrix, partial_trace, entropy"
   ]
  },
  {
   "cell_type": "code",
   "execution_count": 1,
   "id": "c77c8c3b",
   "metadata": {},
   "outputs": [],
   "source": [
    "import numpy as np \n",
    "import qiskit "
   ]
  },
  {
   "cell_type": "code",
   "execution_count": 2,
   "id": "e2e0f963",
   "metadata": {},
   "outputs": [],
   "source": [
    "class Up_Int:\n",
    "    def __set_name__(self, owner, name):\n",
    "        self.name = name\n",
    "    def __get__(self, instance, owner):\n",
    "        return instance.__dict__[self.name]\n",
    "    def __set__(self, instance, value):\n",
    "        if not isinstance(value, int):\n",
    "            raise ValueError(\"Value must be an integer\")\n",
    "        instance.__dict__[self.name] = value\n",
    "    def __delete__(self, instance):\n",
    "        instance.__dict__[self.name] = None\n",
    "            \n",
    "class Up_Str:\n",
    "    def __set_name__(self, owner, name):\n",
    "        self.name = name\n",
    "    def __get__(self, instance, owner):\n",
    "        return instance.__dict__[self.name]\n",
    "    def __set__(self, instance, value):\n",
    "        if not isinstance(value, str):\n",
    "            raise ValueError(\"Value must be string\")\n",
    "        instance.__dict__[self.name] = value\n",
    "    def __delete__(self, instance):\n",
    "        instance.__dict__[self.name] = None\n",
    "        \n",
    "class Up_List:\n",
    "    def __set_name__(self, owner, name):\n",
    "        self.name = name\n",
    "    def __get__(self, instance, owner):\n",
    "        return instance.__dict__[self.name]\n",
    "    def __set__(self, instance, value):\n",
    "        if not isinstance(value, list):\n",
    "            raise ValueError(\"Value must be an integer\")\n",
    "        instance.__dict__[self.name] = value\n",
    "    def __delete__(self, instance):\n",
    "        instance.__dict__[self.name] = None"
   ]
  },
  {
   "cell_type": "code",
   "execution_count": 9,
   "id": "8de7d60d",
   "metadata": {},
   "outputs": [],
   "source": [
    "class DM:\n",
    "    \"\"\"\n",
    "    qubit = number of qubit, int\n",
    "    coef = The coefficient of ψ, list\n",
    "    \"\"\"\n",
    "    qubit = Up_Int()\n",
    "    coef = Up_List()\n",
    "    def __init__(self, qubit, coef):\n",
    "        self.qubit = qubit\n",
    "        self.coef = coef\n",
    "        \n",
    "    def LabelCreation(self):\n",
    "        labels = []\n",
    "        for j in range(2**self.qubit):\n",
    "            b = bin(j).replace(\"0b\",\"\")\n",
    "            if len(b) < self.qubit:\n",
    "                n = self.qubit - len(b)\n",
    "                b = n*\"0\"+b\n",
    "            labels.append(b)\n",
    "        return self.labels\n",
    "    def CoefChecker(self):\n",
    "        if not np.isclose(np.linalg.norm(self.coef),1):\n",
    "            raise ValueError(\"Coefficient list must be normalized to one\")\n",
    "        ψ = qiskit.quantum_info.Statevector(np.zeros(2**self.qubit))\n",
    "        for j in range(len(self.labels)):\n",
    "            ψ += self.coef[j]*qiskit.quantum_info.Statevector.from_label(self.labels[j])\n",
    "        ρ = qiskit.quantum_info.DensityMatrix(ψ)\n",
    "        return ψ, ρ"
   ]
  },
  {
   "cell_type": "code",
   "execution_count": 52,
   "id": "b37099c6",
   "metadata": {},
   "outputs": [],
   "source": []
  },
  {
   "cell_type": "code",
   "execution_count": 10,
   "id": "3bfd67b5",
   "metadata": {},
   "outputs": [],
   "source": [
    "d = DM(2,[1/np.sqrt(2),1/np.sqrt(2), 0,0])"
   ]
  },
  {
   "cell_type": "code",
   "execution_count": 12,
   "id": "cb4b79bb",
   "metadata": {},
   "outputs": [
    {
     "ename": "AttributeError",
     "evalue": "'DM' object has no attribute 'labels'",
     "output_type": "error",
     "traceback": [
      "\u001b[0;31m---------------------------------------------------------------------------\u001b[0m",
      "\u001b[0;31mAttributeError\u001b[0m                            Traceback (most recent call last)",
      "\u001b[0;32m/tmp/ipykernel_19938/3439329174.py\u001b[0m in \u001b[0;36m<module>\u001b[0;34m\u001b[0m\n\u001b[0;32m----> 1\u001b[0;31m \u001b[0md\u001b[0m\u001b[0;34m.\u001b[0m\u001b[0mLabelCreation\u001b[0m\u001b[0;34m(\u001b[0m\u001b[0;34m)\u001b[0m\u001b[0;34m\u001b[0m\u001b[0;34m\u001b[0m\u001b[0m\n\u001b[0m",
      "\u001b[0;32m/tmp/ipykernel_19938/4181440371.py\u001b[0m in \u001b[0;36mLabelCreation\u001b[0;34m(self)\u001b[0m\n\u001b[1;32m     18\u001b[0m                 \u001b[0mb\u001b[0m \u001b[0;34m=\u001b[0m \u001b[0mn\u001b[0m\u001b[0;34m*\u001b[0m\u001b[0;34m\"0\"\u001b[0m\u001b[0;34m+\u001b[0m\u001b[0mb\u001b[0m\u001b[0;34m\u001b[0m\u001b[0;34m\u001b[0m\u001b[0m\n\u001b[1;32m     19\u001b[0m             \u001b[0mlabels\u001b[0m\u001b[0;34m.\u001b[0m\u001b[0mappend\u001b[0m\u001b[0;34m(\u001b[0m\u001b[0mb\u001b[0m\u001b[0;34m)\u001b[0m\u001b[0;34m\u001b[0m\u001b[0;34m\u001b[0m\u001b[0m\n\u001b[0;32m---> 20\u001b[0;31m         \u001b[0;32mreturn\u001b[0m \u001b[0mself\u001b[0m\u001b[0;34m.\u001b[0m\u001b[0mlabels\u001b[0m\u001b[0;34m\u001b[0m\u001b[0;34m\u001b[0m\u001b[0m\n\u001b[0m\u001b[1;32m     21\u001b[0m     \u001b[0;32mdef\u001b[0m \u001b[0mCoefChecker\u001b[0m\u001b[0;34m(\u001b[0m\u001b[0mself\u001b[0m\u001b[0;34m)\u001b[0m\u001b[0;34m:\u001b[0m\u001b[0;34m\u001b[0m\u001b[0;34m\u001b[0m\u001b[0m\n\u001b[1;32m     22\u001b[0m         \u001b[0;32mif\u001b[0m \u001b[0;32mnot\u001b[0m \u001b[0mnp\u001b[0m\u001b[0;34m.\u001b[0m\u001b[0misclose\u001b[0m\u001b[0;34m(\u001b[0m\u001b[0mnp\u001b[0m\u001b[0;34m.\u001b[0m\u001b[0mlinalg\u001b[0m\u001b[0;34m.\u001b[0m\u001b[0mnorm\u001b[0m\u001b[0;34m(\u001b[0m\u001b[0mself\u001b[0m\u001b[0;34m.\u001b[0m\u001b[0mcoef\u001b[0m\u001b[0;34m)\u001b[0m\u001b[0;34m,\u001b[0m\u001b[0;36m1\u001b[0m\u001b[0;34m)\u001b[0m\u001b[0;34m:\u001b[0m\u001b[0;34m\u001b[0m\u001b[0;34m\u001b[0m\u001b[0m\n",
      "\u001b[0;31mAttributeError\u001b[0m: 'DM' object has no attribute 'labels'"
     ]
    }
   ],
   "source": [
    "d.LabelCreation()"
   ]
  },
  {
   "cell_type": "code",
   "execution_count": 13,
   "id": "5d5bf50d",
   "metadata": {},
   "outputs": [
    {
     "ename": "AttributeError",
     "evalue": "'DM' object has no attribute 'labels'",
     "output_type": "error",
     "traceback": [
      "\u001b[0;31m---------------------------------------------------------------------------\u001b[0m",
      "\u001b[0;31mAttributeError\u001b[0m                            Traceback (most recent call last)",
      "\u001b[0;32m/tmp/ipykernel_19938/886726506.py\u001b[0m in \u001b[0;36m<module>\u001b[0;34m\u001b[0m\n\u001b[0;32m----> 1\u001b[0;31m \u001b[0md\u001b[0m\u001b[0;34m.\u001b[0m\u001b[0mCoefChecker\u001b[0m\u001b[0;34m(\u001b[0m\u001b[0;34m)\u001b[0m\u001b[0;34m\u001b[0m\u001b[0;34m\u001b[0m\u001b[0m\n\u001b[0m",
      "\u001b[0;32m/tmp/ipykernel_19938/4181440371.py\u001b[0m in \u001b[0;36mCoefChecker\u001b[0;34m(self)\u001b[0m\n\u001b[1;32m     23\u001b[0m             \u001b[0;32mraise\u001b[0m \u001b[0mValueError\u001b[0m\u001b[0;34m(\u001b[0m\u001b[0;34m\"Coefficient list must be normalized to one\"\u001b[0m\u001b[0;34m)\u001b[0m\u001b[0;34m\u001b[0m\u001b[0;34m\u001b[0m\u001b[0m\n\u001b[1;32m     24\u001b[0m         \u001b[0mψ\u001b[0m \u001b[0;34m=\u001b[0m \u001b[0mqiskit\u001b[0m\u001b[0;34m.\u001b[0m\u001b[0mquantum_info\u001b[0m\u001b[0;34m.\u001b[0m\u001b[0mStatevector\u001b[0m\u001b[0;34m(\u001b[0m\u001b[0mnp\u001b[0m\u001b[0;34m.\u001b[0m\u001b[0mzeros\u001b[0m\u001b[0;34m(\u001b[0m\u001b[0;36m2\u001b[0m\u001b[0;34m**\u001b[0m\u001b[0mself\u001b[0m\u001b[0;34m.\u001b[0m\u001b[0mqubit\u001b[0m\u001b[0;34m)\u001b[0m\u001b[0;34m)\u001b[0m\u001b[0;34m\u001b[0m\u001b[0;34m\u001b[0m\u001b[0m\n\u001b[0;32m---> 25\u001b[0;31m         \u001b[0;32mfor\u001b[0m \u001b[0mj\u001b[0m \u001b[0;32min\u001b[0m \u001b[0mrange\u001b[0m\u001b[0;34m(\u001b[0m\u001b[0mlen\u001b[0m\u001b[0;34m(\u001b[0m\u001b[0mself\u001b[0m\u001b[0;34m.\u001b[0m\u001b[0mlabels\u001b[0m\u001b[0;34m)\u001b[0m\u001b[0;34m)\u001b[0m\u001b[0;34m:\u001b[0m\u001b[0;34m\u001b[0m\u001b[0;34m\u001b[0m\u001b[0m\n\u001b[0m\u001b[1;32m     26\u001b[0m             \u001b[0mψ\u001b[0m \u001b[0;34m+=\u001b[0m \u001b[0mself\u001b[0m\u001b[0;34m.\u001b[0m\u001b[0mcoef\u001b[0m\u001b[0;34m[\u001b[0m\u001b[0mj\u001b[0m\u001b[0;34m]\u001b[0m\u001b[0;34m*\u001b[0m\u001b[0mqiskit\u001b[0m\u001b[0;34m.\u001b[0m\u001b[0mquantum_info\u001b[0m\u001b[0;34m.\u001b[0m\u001b[0mStatevector\u001b[0m\u001b[0;34m.\u001b[0m\u001b[0mfrom_label\u001b[0m\u001b[0;34m(\u001b[0m\u001b[0mself\u001b[0m\u001b[0;34m.\u001b[0m\u001b[0mlabels\u001b[0m\u001b[0;34m[\u001b[0m\u001b[0mj\u001b[0m\u001b[0;34m]\u001b[0m\u001b[0;34m)\u001b[0m\u001b[0;34m\u001b[0m\u001b[0;34m\u001b[0m\u001b[0m\n\u001b[1;32m     27\u001b[0m         \u001b[0mρ\u001b[0m \u001b[0;34m=\u001b[0m \u001b[0mqiskit\u001b[0m\u001b[0;34m.\u001b[0m\u001b[0mquantum_info\u001b[0m\u001b[0;34m.\u001b[0m\u001b[0mDensityMatrix\u001b[0m\u001b[0;34m(\u001b[0m\u001b[0mψ\u001b[0m\u001b[0;34m)\u001b[0m\u001b[0;34m\u001b[0m\u001b[0;34m\u001b[0m\u001b[0m\n",
      "\u001b[0;31mAttributeError\u001b[0m: 'DM' object has no attribute 'labels'"
     ]
    }
   ],
   "source": [
    "d.CoefChecker()"
   ]
  },
  {
   "cell_type": "code",
   "execution_count": null,
   "id": "db8c3c7f",
   "metadata": {},
   "outputs": [],
   "source": []
  },
  {
   "cell_type": "code",
   "execution_count": 49,
   "id": "e7d938e7",
   "metadata": {},
   "outputs": [
    {
     "data": {
      "text/plain": [
       "True"
      ]
     },
     "execution_count": 49,
     "metadata": {},
     "output_type": "execute_result"
    }
   ],
   "source": []
  },
  {
   "cell_type": "code",
   "execution_count": null,
   "id": "3b527f30",
   "metadata": {},
   "outputs": [],
   "source": []
  },
  {
   "cell_type": "code",
   "execution_count": null,
   "id": "b3053c70",
   "metadata": {},
   "outputs": [],
   "source": []
  },
  {
   "cell_type": "code",
   "execution_count": 22,
   "id": "0534aff8",
   "metadata": {},
   "outputs": [],
   "source": [
    "class EOF:\n",
    "    pass"
   ]
  },
  {
   "cell_type": "code",
   "execution_count": 16,
   "id": "6d74c239",
   "metadata": {},
   "outputs": [],
   "source": []
  },
  {
   "cell_type": "code",
   "execution_count": 15,
   "id": "ae58632f",
   "metadata": {},
   "outputs": [],
   "source": [
    "# func to def state vector and dm \n",
    "def state_creation(coef,labels):\n",
    "    if np.isclose(np.linalg.norm(coef),1):\n",
    "        ψ = Statevector(np.zeros(2**qubit))\n",
    "        for j in range(len(labels)):\n",
    "            ψ += coef[j]*Statevector.from_label(labels[j])\n",
    "        ρ = DensityMatrix(ψ)\n",
    "    else:\n",
    "        raise TypeError(\"The coefficient vector is not normalized\")\n",
    "    return ψ, ρ"
   ]
  },
  {
   "cell_type": "code",
   "execution_count": null,
   "id": "bbcd9c8d",
   "metadata": {},
   "outputs": [],
   "source": []
  },
  {
   "cell_type": "code",
   "execution_count": 19,
   "id": "d718552a",
   "metadata": {},
   "outputs": [
    {
     "ename": "SyntaxError",
     "evalue": "invalid syntax (335397794.py, line 23)",
     "output_type": "error",
     "traceback": [
      "\u001b[0;36m  File \u001b[0;32m\"/tmp/ipykernel_10324/335397794.py\"\u001b[0;36m, line \u001b[0;32m23\u001b[0m\n\u001b[0;31m    elif ρ.dim >= 16:\u001b[0m\n\u001b[0m    ^\u001b[0m\n\u001b[0;31mSyntaxError\u001b[0m\u001b[0;31m:\u001b[0m invalid syntax\n"
     ]
    }
   ],
   "source": [
    "# Take partial trace over desired part\n",
    "def partialTrace(ρ):\n",
    "    ρ_pt = []\n",
    "    if ρ.dim < 4:\n",
    "        raise TypeError(\"Partial_trace can not be computed for dimention less than 4\")\n",
    "    elif ρ.dim >= 4:\n",
    "        ρ_pt1 = []\n",
    "        for j in range(len(ρ.dims())):\n",
    "            ρ_pt1.append(partial_trace(ρ,[j]))\n",
    "    \n",
    "#     ρ_pt.append(ρ_pt1)\n",
    "    \n",
    "    elif ρ.dim >= 8:\n",
    "        ρ_pt2 = []\n",
    "        for j in range(len(ρ.dims())):\n",
    "            ρ_pt2.append(partial_trace(ρ,[j,j+1]))\n",
    "            if j+2 < len(ρ.dims()):\n",
    "                ρ_pt2.append(partial_trace(ρ,[j,j+2]))\n",
    "            else:\n",
    "                break\n",
    "    ρ_pt.append(ρ_pt2) \n",
    "    \n",
    "    elif ρ.dim >= 16:\n",
    "        ρ_pt3 = []\n",
    "        for j in range(len(ρ.dims())):\n",
    "            ρ_pt3.append(partial_trace(ρ, [j,j+1,j+2]))\n",
    "            if j+3 < len(ρ.dims()):\n",
    "                ρ_pt3.append(partial_trace(ρ, [j,j+1,j+3]))\n",
    "                ρ_pt3.append(partial_trace(ρ, [j,j+2,j+3]))\n",
    "            else:\n",
    "                break\n",
    "    ρ_pt.append(ρ_pt3)\n",
    "    return ρ_pt\n",
    "        \n",
    "    "
   ]
  },
  {
   "cell_type": "code",
   "execution_count": null,
   "id": "6351ff7a",
   "metadata": {},
   "outputs": [],
   "source": []
  },
  {
   "cell_type": "code",
   "execution_count": 2,
   "id": "a6cf4a45",
   "metadata": {},
   "outputs": [],
   "source": [
    "A = np.zeros((8,1))\n",
    "D = []\n",
    "start = 0;\n",
    "stop = 1.1;\n",
    "step = 0.5;\n",
    "\n",
    "for a0 in np.arange(start, stop, step):\n",
    "    A[0,0] = a0\n",
    "    for a1 in np.arange(start, stop, step):\n",
    "        A[1,0] = a1\n",
    "        for a2 in np.arange(start, stop, step):\n",
    "            A[2,0] = a2\n",
    "            for a3 in np.arange(start, stop, step):\n",
    "                A[3,0] = a3\n",
    "                for a4 in np.arange(start, stop, step):\n",
    "                    A[4,0] = a4\n",
    "                    for a5 in np.arange(start, stop, step):\n",
    "                        A[5,0] = a5\n",
    "                        for a6 in np.arange(start, stop, step):\n",
    "                            A[6,0] = a6\n",
    "                            for a7 in np.arange(start, stop, step):\n",
    "                                A[7,0] = a7\n",
    "                                ρ = DensityMatrix(np.outer(A,A))\n",
    "#                                 ρ = ρ/ρ.trace()\n",
    "                                ρ_2 = DensityMatrix(np.matmul(ρ.data,ρ.data))\n",
    "                                if ρ.is_valid() and ρ_2.is_valid():\n",
    "                                    D.append(ρ)\n",
    "                                    \n",
    "                                "
   ]
  },
  {
   "cell_type": "code",
   "execution_count": 9,
   "id": "a38d375b",
   "metadata": {},
   "outputs": [
    {
     "data": {
      "text/plain": [
       "100"
      ]
     },
     "execution_count": 9,
     "metadata": {},
     "output_type": "execute_result"
    }
   ],
   "source": [
    "DD = []\n",
    "for p1 in np.linspace(0,1,10):\n",
    "    for p2 in np.linspace(0,1,10):\n"
   ]
  },
  {
   "cell_type": "code",
   "execution_count": 14,
   "id": "a6bfd8a8",
   "metadata": {},
   "outputs": [
    {
     "data": {
      "text/plain": [
       "[0.0, 0.1111111111111111]"
      ]
     },
     "execution_count": 14,
     "metadata": {},
     "output_type": "execute_result"
    }
   ],
   "source": [
    "z[1]"
   ]
  },
  {
   "cell_type": "code",
   "execution_count": 49,
   "id": "95c01410",
   "metadata": {},
   "outputs": [],
   "source": [
    "def ValidDensityMatrix_4(start:float, stop:float, step:float) -> list:\n",
    "    A = np.zeros((8,1))\n",
    "    D = []\n",
    "    for a0 in np.arange(start, stop, step):\n",
    "        A[0,0] = a0\n",
    "        for a1 in np.arange(start, stop, step):\n",
    "            A[1,0] = a1\n",
    "            for a2 in np.arange(start, stop, step):\n",
    "                A[2,0] = a2\n",
    "                for a3 in np.arange(start, stop, step):\n",
    "                    A[3,0] = a3\n",
    "                    for a4 in np.arange(start, stop, step):\n",
    "                        A[4,0] = a4\n",
    "                        for a5 in np.arange(start, stop, step):\n",
    "                            A[5,0] = a5\n",
    "                            for a6 in np.arange(start, stop, step):\n",
    "                                A[6,0] = a6\n",
    "                                for a7 in np.arange(start, stop, step):\n",
    "                                    A[7,0] = a7\n",
    "                                    ρ = DensityMatrix(np.outer(A,A))\n",
    "                                    # should we use this normalization or not?\n",
    "    #                                 ρ = ρ/ρ.trace() \n",
    "                                    ρ_2 = DensityMatrix(np.matmul(ρ.data,ρ.data))\n",
    "                                    if ρ.is_valid() and ρ_2.is_valid():\n",
    "                                        D.append(ρ)\n",
    "    return D\n",
    "    \n",
    "    "
   ]
  },
  {
   "cell_type": "code",
   "execution_count": 47,
   "id": "006f5bd2",
   "metadata": {},
   "outputs": [],
   "source": [
    "ρ = ValidDensityMatrix_4(0.0, 1.1, 0.5)"
   ]
  },
  {
   "cell_type": "code",
   "execution_count": 48,
   "id": "f0f11c97",
   "metadata": {},
   "outputs": [
    {
     "data": {
      "text/plain": [
       "78"
      ]
     },
     "execution_count": 48,
     "metadata": {},
     "output_type": "execute_result"
    }
   ],
   "source": [
    "len(ρ)"
   ]
  },
  {
   "cell_type": "code",
   "execution_count": 55,
   "id": "2b71da67",
   "metadata": {},
   "outputs": [
    {
     "name": "stdout",
     "output_type": "stream",
     "text": [
      "0.0\n",
      "0.0\n",
      "0.0\n",
      "7.496407398736577e-31\n",
      "0.0\n",
      "7.496407398736577e-31\n",
      "7.496407398736577e-31\n",
      "7.496407398736577e-31\n",
      "7.496407398736577e-31\n",
      "0.0\n",
      "7.496407398736577e-31\n",
      "7.496407398736577e-31\n",
      "7.496407398736577e-31\n",
      "7.496407398736577e-31\n",
      "7.496407398736577e-31\n",
      "7.496407398736577e-31\n",
      "7.496407398736577e-31\n",
      "7.496407398736577e-31\n",
      "7.496407398736577e-31\n",
      "7.496407398736577e-31\n",
      "0.0\n",
      "7.496407398736577e-31\n",
      "7.496407398736577e-31\n",
      "7.496407398736577e-31\n",
      "7.496407398736577e-31\n",
      "7.496407398736577e-31\n",
      "7.496407398736577e-31\n",
      "7.496407398736577e-31\n",
      "7.496407398736577e-31\n",
      "7.496407398736577e-31\n",
      "7.496407398736577e-31\n",
      "7.496407398736577e-31\n",
      "7.496407398736577e-31\n",
      "7.496407398736577e-31\n",
      "7.496407398736577e-31\n",
      "7.496407398736577e-31\n",
      "7.496407398736577e-31\n",
      "7.496407398736577e-31\n",
      "7.496407398736577e-31\n",
      "7.496407398736577e-31\n",
      "7.496407398736577e-31\n",
      "0.0\n",
      "7.496407398736577e-31\n",
      "7.496407398736577e-31\n",
      "7.496407398736577e-31\n",
      "7.496407398736577e-31\n",
      "7.496407398736577e-31\n",
      "7.496407398736577e-31\n",
      "7.496407398736577e-31\n",
      "7.496407398736577e-31\n",
      "7.496407398736577e-31\n",
      "7.496407398736577e-31\n",
      "7.496407398736577e-31\n",
      "7.496407398736577e-31\n",
      "7.496407398736577e-31\n",
      "7.496407398736577e-31\n",
      "7.496407398736577e-31\n",
      "7.496407398736577e-31\n",
      "7.496407398736577e-31\n",
      "7.496407398736577e-31\n",
      "7.496407398736577e-31\n",
      "7.496407398736577e-31\n",
      "7.496407398736577e-31\n",
      "7.496407398736577e-31\n",
      "7.496407398736577e-31\n",
      "7.496407398736577e-31\n",
      "7.496407398736577e-31\n",
      "7.496407398736577e-31\n",
      "7.496407398736577e-31\n",
      "7.496407398736577e-31\n",
      "7.496407398736577e-31\n",
      "7.496407398736577e-31\n",
      "7.496407398736577e-31\n",
      "7.496407398736577e-31\n",
      "7.496407398736577e-31\n",
      "7.496407398736577e-31\n",
      "7.496407398736577e-31\n",
      "0.0\n"
     ]
    }
   ],
   "source": [
    "for j in range(len(ρ)):\n",
    "    print(entropy(ρ[j]))"
   ]
  },
  {
   "cell_type": "code",
   "execution_count": null,
   "id": "670d0b77",
   "metadata": {},
   "outputs": [],
   "source": []
  },
  {
   "cell_type": "code",
   "execution_count": 39,
   "id": "ec3e59aa",
   "metadata": {},
   "outputs": [],
   "source": [
    "class FOE:\n",
    "    def __set_name__(self,owner, name):\n",
    "        self.name = name\n",
    "    def __get__(self,instance,owner):\n",
    "        return instance.__dict__[self.name]\n",
    "    def __set__(self, instance, value):\n",
    "        if not isinstance(value, str):\n",
    "            raise ValueError(\"Value must be string\")\n",
    "        instance.__dict__[self.name] = value\n",
    "    def __delete__(self,instance):\n",
    "        instance.__dict__[self.name] = None"
   ]
  },
  {
   "cell_type": "code",
   "execution_count": 40,
   "id": "9e2d60bb",
   "metadata": {},
   "outputs": [],
   "source": [
    "class EOF:\n",
    "    \"\"\"\n",
    "    EOF, take two positional argument, name, lastname,\n",
    "    each in string format\n",
    "    \"\"\"\n",
    "    name = FOE()\n",
    "    lastname = FOE()\n",
    "    car = FOE()\n",
    "    def __init__(self,name, lastname,car):\n",
    "        self.name = name\n",
    "        self.lastname = lastname\n",
    "        self.car = car\n",
    "    "
   ]
  },
  {
   "cell_type": "code",
   "execution_count": 43,
   "id": "3e89f058",
   "metadata": {},
   "outputs": [
    {
     "name": "stdout",
     "output_type": "stream",
     "text": [
      "206\n"
     ]
    }
   ],
   "source": [
    "p = EOF(\"Amin\",\"Ahadi\",\"206\")\n",
    "print(p.car)"
   ]
  },
  {
   "cell_type": "code",
   "execution_count": 14,
   "id": "6f79299f",
   "metadata": {},
   "outputs": [
    {
     "name": "stdout",
     "output_type": "stream",
     "text": [
      "\n",
      "    EOF, take two positional argument, name, lastname,\n",
      "    each in string format\n",
      "    \n"
     ]
    }
   ],
   "source": [
    "print(EOF.__doc__)"
   ]
  },
  {
   "cell_type": "code",
   "execution_count": 18,
   "id": "34ca8cc5",
   "metadata": {},
   "outputs": [],
   "source": [
    "def foo(x:int)-> int:\n",
    "    return x"
   ]
  },
  {
   "cell_type": "code",
   "execution_count": 22,
   "id": "42b14c96",
   "metadata": {},
   "outputs": [
    {
     "data": {
      "text/plain": [
       "2.0"
      ]
     },
     "execution_count": 22,
     "metadata": {},
     "output_type": "execute_result"
    }
   ],
   "source": [
    "foo(2)"
   ]
  },
  {
   "cell_type": "code",
   "execution_count": null,
   "id": "e79ecc36",
   "metadata": {},
   "outputs": [],
   "source": []
  }
 ],
 "metadata": {
  "kernelspec": {
   "display_name": "Python 3 (ipykernel)",
   "language": "python",
   "name": "python3"
  },
  "language_info": {
   "codemirror_mode": {
    "name": "ipython",
    "version": 3
   },
   "file_extension": ".py",
   "mimetype": "text/x-python",
   "name": "python",
   "nbconvert_exporter": "python",
   "pygments_lexer": "ipython3",
   "version": "3.9.13"
  }
 },
 "nbformat": 4,
 "nbformat_minor": 5
}
