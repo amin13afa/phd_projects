{
 "cells": [
  {
   "cell_type": "markdown",
   "id": "6696d5e9",
   "metadata": {},
   "source": [
    "### Import libraries"
   ]
  },
  {
   "cell_type": "code",
   "execution_count": 1,
   "id": "f113d18a",
   "metadata": {},
   "outputs": [],
   "source": [
    "import numpy as np \n",
    "import scipy.sparse as ss\n",
    "from scipy.linalg import norm\n",
    "import qiskit\n",
    "from qiskit.quantum_info import Statevector,DensityMatrix,partial_trace\n",
    "from qiskit.quantum_info import entanglement_of_formation, entropy\n",
    "import h5py"
   ]
  },
  {
   "cell_type": "code",
   "execution_count": 2,
   "id": "d4ec7f0a",
   "metadata": {},
   "outputs": [],
   "source": [
    "# Define the number of qubit\n",
    "global qubit \n",
    "qubit = 4"
   ]
  },
  {
   "cell_type": "code",
   "execution_count": 3,
   "id": "04b5292b",
   "metadata": {},
   "outputs": [],
   "source": [
    "# function to define labels\n",
    "def labelCreation(qubit:int):\n",
    "    labels = []\n",
    "    for j in range(2**qubit):\n",
    "        b = bin(j).replace(\"0b\",\"\")\n",
    "        if len(b) < qubit:\n",
    "            n = qubit - len(b)\n",
    "            b = n*\"0\"+b\n",
    "        labels.append(b)\n",
    "    return labels"
   ]
  },
  {
   "cell_type": "code",
   "execution_count": 4,
   "id": "863a920a",
   "metadata": {},
   "outputs": [],
   "source": [
    "# function to define statevector and density matrix \n",
    "def StateCreation(coef,labels):\n",
    "    if np.isclose(np.linalg.norm(coef),1):\n",
    "        ψ = Statevector(np.zeros(2**qubit))\n",
    "        for j in range(len(labels)):\n",
    "            ψ += coef[j]*Statevector.from_label(labels[j])\n",
    "        ρ = DensityMatrix(ψ)\n",
    "    else:\n",
    "        raise TypeError(\"The coefficient vector is not normalized\")\n",
    "    return ψ, ρ"
   ]
  },
  {
   "cell_type": "code",
   "execution_count": 5,
   "id": "0214d73d",
   "metadata": {},
   "outputs": [],
   "source": [
    "# check created labels \n",
    "labels = labelCreation(qubit)"
   ]
  },
  {
   "cell_type": "code",
   "execution_count": 6,
   "id": "7bbec8dd",
   "metadata": {},
   "outputs": [],
   "source": [
    "# Coefficients determination \n",
    "coef = np.zeros(2**qubit)\n",
    "coef[0] = 0.5;\n",
    "coef[5] = 0.5;\n",
    "coef[10] = 0.5;\n",
    "coef[15] = 0.5;"
   ]
  },
  {
   "cell_type": "code",
   "execution_count": 7,
   "id": "bd013ca0",
   "metadata": {},
   "outputs": [
    {
     "name": "stdout",
     "output_type": "stream",
     "text": [
      "j = 0, coef = 0.5, label = 0000\n",
      "j = 1, coef = 0.0, label = 0001\n",
      "j = 2, coef = 0.0, label = 0010\n",
      "j = 3, coef = 0.0, label = 0011\n",
      "j = 4, coef = 0.0, label = 0100\n",
      "j = 5, coef = 0.5, label = 0101\n",
      "j = 6, coef = 0.0, label = 0110\n",
      "j = 7, coef = 0.0, label = 0111\n",
      "j = 8, coef = 0.0, label = 1000\n",
      "j = 9, coef = 0.0, label = 1001\n",
      "j = 10, coef = 0.5, label = 1010\n",
      "j = 11, coef = 0.0, label = 1011\n",
      "j = 12, coef = 0.0, label = 1100\n",
      "j = 13, coef = 0.0, label = 1101\n",
      "j = 14, coef = 0.0, label = 1110\n",
      "j = 15, coef = 0.5, label = 1111\n"
     ]
    }
   ],
   "source": [
    "# Check labels with their coefficients\n",
    "\n",
    "for j in range(len(labels)):\n",
    "    print(\"j = {}, coef = {}, label = {}\".format(j,coef[j],labels[j]))"
   ]
  },
  {
   "cell_type": "code",
   "execution_count": 8,
   "id": "c9c82799",
   "metadata": {},
   "outputs": [],
   "source": [
    "# Create quantum state \n",
    "ψ, ρ = StateCreation(coef, labels)"
   ]
  },
  {
   "cell_type": "code",
   "execution_count": 9,
   "id": "dd566681",
   "metadata": {},
   "outputs": [
    {
     "data": {
      "text/latex": [
       "$$\\frac{1}{2} |0000\\rangle+\\frac{1}{2} |0101\\rangle+\\frac{1}{2} |1010\\rangle+\\frac{1}{2} |1111\\rangle$$"
      ],
      "text/plain": [
       "<IPython.core.display.Latex object>"
      ]
     },
     "execution_count": 9,
     "metadata": {},
     "output_type": "execute_result"
    }
   ],
   "source": [
    "# take a look at created state \n",
    "ψ.draw('latex')"
   ]
  },
  {
   "cell_type": "code",
   "execution_count": 10,
   "id": "32e0af88",
   "metadata": {},
   "outputs": [
    {
     "data": {
      "text/latex": [
       "$$\n",
       "\n",
       "\\begin{bmatrix}\n",
       "\\frac{1}{4} & 0 & 0 & 0 & \\cdots & 0 & 0 & \\frac{1}{4}  \\\\\n",
       " 0 & 0 & 0 & 0 & \\cdots & 0 & 0 & 0  \\\\\n",
       " 0 & 0 & 0 & 0 & \\cdots & 0 & 0 & 0  \\\\\n",
       " 0 & 0 & 0 & 0 & \\cdots & 0 & 0 & 0  \\\\\n",
       " \\vdots & \\vdots & \\vdots & \\vdots & \\ddots & \\vdots & \\vdots & \\vdots \\\\\n",
       " 0 & 0 & 0 & 0 & \\cdots & 0 & 0 & 0  \\\\\n",
       " 0 & 0 & 0 & 0 & \\cdots & 0 & 0 & 0  \\\\\n",
       " \\frac{1}{4} & 0 & 0 & 0 & \\cdots & 0 & 0 & \\frac{1}{4}  \\\\\n",
       " \\end{bmatrix}\n",
       "$$"
      ],
      "text/plain": [
       "<IPython.core.display.Latex object>"
      ]
     },
     "execution_count": 10,
     "metadata": {},
     "output_type": "execute_result"
    }
   ],
   "source": [
    "# take a look at created density matrix\n",
    "ρ.draw('latex')"
   ]
  },
  {
   "cell_type": "code",
   "execution_count": 15,
   "id": "941d7702",
   "metadata": {},
   "outputs": [
    {
     "data": {
      "text/plain": [
       "{'0000': 0.25, '0101': 0.25, '1010': 0.25, '1111': 0.25}"
      ]
     },
     "execution_count": 15,
     "metadata": {},
     "output_type": "execute_result"
    }
   ],
   "source": [
    "ρ.probabilities_dict()"
   ]
  },
  {
   "cell_type": "code",
   "execution_count": 22,
   "id": "503ece34",
   "metadata": {},
   "outputs": [
    {
     "data": {
      "text/latex": [
       "$$\n",
       "\n",
       "\\begin{bmatrix}\n",
       "\\frac{1}{4} & 0 & 0 & 0 & 0 & \\frac{1}{4} & 0 & 0  \\\\\n",
       " 0 & 0 & 0 & 0 & 0 & 0 & 0 & 0  \\\\\n",
       " 0 & 0 & \\frac{1}{4} & 0 & 0 & 0 & 0 & \\frac{1}{4}  \\\\\n",
       " 0 & 0 & 0 & 0 & 0 & 0 & 0 & 0  \\\\\n",
       " 0 & 0 & 0 & 0 & 0 & 0 & 0 & 0  \\\\\n",
       " \\frac{1}{4} & 0 & 0 & 0 & 0 & \\frac{1}{4} & 0 & 0  \\\\\n",
       " 0 & 0 & 0 & 0 & 0 & 0 & 0 & 0  \\\\\n",
       " 0 & 0 & \\frac{1}{4} & 0 & 0 & 0 & 0 & \\frac{1}{4}  \\\\\n",
       " \\end{bmatrix}\n",
       "$$"
      ],
      "text/plain": [
       "<IPython.core.display.Latex object>"
      ]
     },
     "execution_count": 22,
     "metadata": {},
     "output_type": "execute_result"
    }
   ],
   "source": [
    "partial_trace(ρ,[0]).draw('latex')"
   ]
  },
  {
   "cell_type": "code",
   "execution_count": 31,
   "id": "4e04b1c9",
   "metadata": {},
   "outputs": [
    {
     "data": {
      "text/plain": [
       "{'000': 0.25, '010': 0.25, '101': 0.25, '111': 0.25}"
      ]
     },
     "execution_count": 31,
     "metadata": {},
     "output_type": "execute_result"
    }
   ],
   "source": [
    "partial_trace(ρ,[0]).probabilities_dict()"
   ]
  },
  {
   "cell_type": "code",
   "execution_count": 33,
   "id": "c5668525",
   "metadata": {},
   "outputs": [],
   "source": [
    "# Define a function to take  partial trace \n",
    "# This func takes two input, density matrix and a list \n",
    "# In the input list, we are given the number of part we should partial trace over \n",
    "\n",
    "def PartialTrace(ρ,L:list):\n",
    "    \"\"\"\n",
    "    ρ: Density matrix\n",
    "    List: this list just can take 1,2,3\n",
    "    \"\"\"\n",
    "    pt1 = []\n",
    "    pt2 = []\n",
    "    pt3 = []\n",
    "        \n",
    "    if np.isin(1,L) and len(ρ.dims()) > 1:\n",
    "        for j in range(len(ρ.dims())):\n",
    "            pt1.append(partial_trace(ρ,[j]))\n",
    "    \n",
    "    if np.isin(2,L) and len(ρ.dims()) > 2:\n",
    "        for j in range(len(ρ.dims())-1):\n",
    "            pt2.append(partial_trace(ρ,[j,j+1]))\n",
    "            if j+2 < len(ρ.dims()):\n",
    "                pt2.append(partial_trace(ρ,[j,j+2]))\n",
    "                if j+3 < len(ρ.dims()):\n",
    "                    pt2.append(partial_trace(ρ,[j,j+3]))\n",
    "                    \n",
    "    if np.isin(3,L) and len(ρ.dims()) > 3:\n",
    "        for j in range(len(ρ.dims())-2):\n",
    "            pt3.append(qiskit.quantum_info.partial_trace(ρ,[j,j+1,j+2]))\n",
    "            if j+3 < len(ρ.dims()):\n",
    "                pt3.append(qiskit.quantum_info.partial_trace(ρ,[j,j+1,j+3]))\n",
    "                if j+1 < len(ρ.dims())-2:\n",
    "                    pt3.append(qiskit.quantum_info.partial_trace(ρ,[j,j+2,j+3]))\n",
    "                    \n",
    "    partial_trace_func = {\n",
    "        \"partial_trace_1\" : pt1,\n",
    "        \"partial_trace_2\" : pt2,\n",
    "        \"partial_trace_3\" : pt3\n",
    "    }\n",
    "                        \n",
    "    return partial_trace_func"
   ]
  },
  {
   "cell_type": "code",
   "execution_count": 34,
   "id": "a3d14f28",
   "metadata": {},
   "outputs": [
    {
     "data": {
      "text/plain": [
       "4"
      ]
     },
     "execution_count": 34,
     "metadata": {},
     "output_type": "execute_result"
    }
   ],
   "source": [
    "# Take partial trace over one part \n",
    "ρ_pt_1 = PartialTrace(ρ, [1])\n",
    "len(ρ_pt_1['partial_trace_1'])"
   ]
  },
  {
   "cell_type": "code",
   "execution_count": 19,
   "id": "29f4be00",
   "metadata": {},
   "outputs": [
    {
     "data": {
      "text/latex": [
       "$$\n",
       "\n",
       "\\begin{bmatrix}\n",
       "\\frac{1}{4} & 0 & 0 & 0 & 0 & 0 & \\frac{1}{4} & 0  \\\\\n",
       " 0 & \\frac{1}{4} & 0 & 0 & 0 & 0 & 0 & \\frac{1}{4}  \\\\\n",
       " 0 & 0 & 0 & 0 & 0 & 0 & 0 & 0  \\\\\n",
       " 0 & 0 & 0 & 0 & 0 & 0 & 0 & 0  \\\\\n",
       " 0 & 0 & 0 & 0 & 0 & 0 & 0 & 0  \\\\\n",
       " 0 & 0 & 0 & 0 & 0 & 0 & 0 & 0  \\\\\n",
       " \\frac{1}{4} & 0 & 0 & 0 & 0 & 0 & \\frac{1}{4} & 0  \\\\\n",
       " 0 & \\frac{1}{4} & 0 & 0 & 0 & 0 & 0 & \\frac{1}{4}  \\\\\n",
       " \\end{bmatrix}\n",
       "$$"
      ],
      "text/plain": [
       "<IPython.core.display.Latex object>"
      ]
     },
     "execution_count": 19,
     "metadata": {},
     "output_type": "execute_result"
    }
   ],
   "source": [
    "ρ_pt_1['partial_trace_1'][2].draw('latex')"
   ]
  },
  {
   "cell_type": "code",
   "execution_count": 20,
   "id": "4de57018",
   "metadata": {},
   "outputs": [],
   "source": [
    "# Function to compute entanglement of formation(EOF) for a three-partite system (pure)\n",
    "def EOF_3(ρ_pt:dict): \n",
    "    \"\"\"\n",
    "    ρ_pt : A dictionary containing partial trace over density matrix \n",
    "    \"\"\"\n",
    "    eof_1 = []\n",
    "    eof_2 = []\n",
    "    entropy_1 = []\n",
    "    entropy_2 = []\n",
    "    if len(ρ_pt['partial_trace_1']) == 0:\n",
    "        pass\n",
    "    else:\n",
    "        for j in range(len(ρ_pt['partial_trace_1'])):\n",
    "            eof_1.append(entanglement_of_formation(\n",
    "                ρ_pt['partial_trace_1'][j]))\n",
    "            entropy_1.append(entropy(ρ_pt['partial_trace_1'][j]))\n",
    "    \n",
    "    if len(ρ_pt['partial_trace_2']) == 0:\n",
    "        pass \n",
    "    else:\n",
    "        for j in range(len(ρ_pt['partial_trace_2'])):\n",
    "            eof_2.append(entanglement_of_formation(\n",
    "                ρ_pt['partial_trace_1'][j]))\n",
    "            entropy_2.append(entropy(ρ_pt['partial_trace_2'][j]))\n",
    "            \n",
    "            \n",
    "    eof_1 = np.array(eof_1)\n",
    "    eof_2 = np.array(eof_2)\n",
    "    entropy_1 = np.array(entropy_1)\n",
    "    entropy_2 = np.array(entropy_2)\n",
    "    EOF = np.sum(eof_1+eof_2+entropy_1+entropy_2)/6\n",
    "    return EOF"
   ]
  },
  {
   "cell_type": "markdown",
   "id": "9b953e49",
   "metadata": {},
   "source": [
    "# 2"
   ]
  },
  {
   "cell_type": "code",
   "execution_count": null,
   "id": "6369932e",
   "metadata": {},
   "outputs": [],
   "source": []
  },
  {
   "cell_type": "code",
   "execution_count": null,
   "id": "6f192adb",
   "metadata": {},
   "outputs": [],
   "source": []
  },
  {
   "cell_type": "code",
   "execution_count": 44,
   "id": "5b9ec5b5",
   "metadata": {},
   "outputs": [
    {
     "name": "stdout",
     "output_type": "stream",
     "text": [
      "Done\n"
     ]
    }
   ],
   "source": [
    "V = np.zeros((8,1))\n",
    "# V = np.zeros(8)\n",
    "D = []\n",
    "vector = np.empty((600,8,1))\n",
    "start = 0 ;\n",
    "stop = 1.0;\n",
    "num = 4;\n",
    "flag = 0\n",
    "for v0 in np.linspace(start, stop, num): \n",
    "    V[0,0] = v0\n",
    "    for v1 in np.linspace(start, stop, num):\n",
    "        V[1,0] = v1\n",
    "        for v2 in np.linspace(start, stop, num):\n",
    "            V[2,0] = v2\n",
    "            for v3 in np.linspace(start, stop, num):\n",
    "                V[3,0] = v3\n",
    "                for v4 in np.linspace(start, stop, num):\n",
    "                    V[4,0] = v4\n",
    "                    for v5 in np.linspace(start, stop, num):\n",
    "                        V[5,0] = v5\n",
    "                        for v6 in np.linspace(start, stop, num):\n",
    "                            V[6,0] = v6\n",
    "                            p = 0\n",
    "                            for j in range(7):\n",
    "                                p = p+V[j,0]**2\n",
    "                            p = 1-p\n",
    "                            if p > 0 :\n",
    "                                V[7,0] = np.sqrt(p)\n",
    "                                summ = 0 \n",
    "                                for j in range(8):\n",
    "                                    summ = summ + V[j,0]**2\n",
    "                                if summ == 1:\n",
    "                                    for k in range(600):\n",
    "                                        vector[k] = V\n",
    "                                    \n",
    "\n",
    "print(\"Done\")"
   ]
  },
  {
   "cell_type": "code",
   "execution_count": 49,
   "id": "acc08fc6",
   "metadata": {},
   "outputs": [
    {
     "data": {
      "text/plain": [
       "array([[0.66666667],\n",
       "       [0.66666667],\n",
       "       [0.        ],\n",
       "       [0.        ],\n",
       "       [0.        ],\n",
       "       [0.        ],\n",
       "       [0.        ],\n",
       "       [0.33333333]])"
      ]
     },
     "execution_count": 49,
     "metadata": {},
     "output_type": "execute_result"
    }
   ],
   "source": [
    "vector[1]"
   ]
  },
  {
   "cell_type": "code",
   "execution_count": 41,
   "id": "10fd6f66",
   "metadata": {},
   "outputs": [],
   "source": [
    "V = np.zeros((8,1))\n",
    "# V = np.zeros(8)\n",
    "D = []\n",
    "vector = np.empty((600,8,1))\n",
    "start = 0 ;\n",
    "stop = 1.0;\n",
    "num = 4;\n",
    "flag = 0\n",
    "for v0 in np.linspace(start, stop, num): \n",
    "    V[0,0] = v0\n",
    "    for v1 in np.linspace(start, stop, num):\n",
    "        V[1,0] = v1\n",
    "        for v2 in np.linspace(start, stop, num):\n",
    "            V[2,0] = v2\n",
    "            for v3 in np.linspace(start, stop, num):\n",
    "                V[3,0] = v3\n",
    "                for v4 in np.linspace(start, stop, num):\n",
    "                    V[4,0] = v4\n",
    "                    for v5 in np.linspace(start, stop, num):\n",
    "                        V[5,0] = v5\n",
    "                        for v6 in np.linspace(start, stop, num):\n",
    "                            V[6,0] = v6\n",
    "                            vecs = V**2\n",
    "                            vecs = np.sum(vecs)\n",
    "                            vecs = 1 - vecs \n",
    "#                             print(np.sqrt(vecs))\n",
    "                            V[7,0]\n",
    "                            if 0 < vecs < 1:\n",
    "                                V[7,0] = np.sqrt(vecs)\n",
    "                                for k in range(600):\n",
    "#                                     print(np.sqrt(np.sum(V**2)))\n",
    "                                    vector[k] = V\n",
    "\n",
    "\n",
    "# print(\"Done\")"
   ]
  },
  {
   "cell_type": "code",
   "execution_count": 43,
   "id": "31ffe32f",
   "metadata": {},
   "outputs": [
    {
     "data": {
      "text/plain": [
       "array([[0.        ],\n",
       "       [0.        ],\n",
       "       [0.        ],\n",
       "       [0.        ],\n",
       "       [0.        ],\n",
       "       [0.        ],\n",
       "       [0.33333333],\n",
       "       [0.94280904]])"
      ]
     },
     "execution_count": 43,
     "metadata": {},
     "output_type": "execute_result"
    }
   ],
   "source": [
    "vector[5]"
   ]
  },
  {
   "cell_type": "code",
   "execution_count": 34,
   "id": "d1193738",
   "metadata": {},
   "outputs": [
    {
     "data": {
      "text/plain": [
       "array([1.])"
      ]
     },
     "execution_count": 34,
     "metadata": {},
     "output_type": "execute_result"
    }
   ],
   "source": []
  },
  {
   "cell_type": "code",
   "execution_count": 47,
   "id": "799a4b70",
   "metadata": {},
   "outputs": [
    {
     "data": {
      "text/plain": [
       "3"
      ]
     },
     "execution_count": 47,
     "metadata": {},
     "output_type": "execute_result"
    }
   ],
   "source": [
    "D = D[0:3]\n",
    "len(D)"
   ]
  },
  {
   "cell_type": "code",
   "execution_count": 56,
   "id": "643ccd51",
   "metadata": {},
   "outputs": [
    {
     "name": "stdout",
     "output_type": "stream",
     "text": [
      "1212\n"
     ]
    }
   ],
   "source": [
    "# My ans \n",
    "ans = []\n",
    "for j in range(3):\n",
    "    M = ρ_pt_1[\"partial_trace_1\"][j].data\n",
    "#     r,c,v = ss.find(M)\n",
    "    for k in range(len(D)):\n",
    "        A = D[k].data\n",
    "        for p in np.linspace(0,1,100):\n",
    "            for kk in range(len(D)):\n",
    "                B = D[kk].data\n",
    "                for m in range(len(r)):\n",
    "                    if norm(M[r[m]][c[m]] - (p*A[r[m]][c[m]] + (1-p)*B[r[m]][c[m]])) < 1e-3:\n",
    "                        ans.append((j,p,A,B))\n",
    "print(len(ans))"
   ]
  },
  {
   "cell_type": "code",
   "execution_count": 84,
   "id": "ba32e4c8",
   "metadata": {},
   "outputs": [
    {
     "data": {
      "text/plain": [
       "True"
      ]
     },
     "execution_count": 84,
     "metadata": {},
     "output_type": "execute_result"
    }
   ],
   "source": [
    "M = ρ_pt_1[\"partial_trace_1\"][2].data\n",
    "# M == p*A + (1-p)*B\n",
    "np.any(np.isclose(M,(p*A + (1-p)*B)))"
   ]
  },
  {
   "cell_type": "code",
   "execution_count": 85,
   "id": "681975db",
   "metadata": {},
   "outputs": [
    {
     "data": {
      "text/plain": [
       "array([[ True, False, False, False,  True,  True, False,  True],\n",
       "       [False,  True, False, False,  True,  True,  True, False],\n",
       "       [False, False, False, False,  True,  True,  True,  True],\n",
       "       [False, False, False, False,  True,  True,  True,  True],\n",
       "       [ True,  True,  True,  True,  True,  True,  True,  True],\n",
       "       [ True,  True,  True,  True,  True,  True,  True,  True],\n",
       "       [False,  True,  True,  True,  True,  True, False,  True],\n",
       "       [ True, False,  True,  True,  True,  True,  True, False]])"
      ]
     },
     "execution_count": 85,
     "metadata": {},
     "output_type": "execute_result"
    }
   ],
   "source": [
    "np.isclose(M,(p*A + (1-p)*B))"
   ]
  },
  {
   "cell_type": "code",
   "execution_count": 46,
   "id": "e9def66c",
   "metadata": {},
   "outputs": [
    {
     "name": "stdout",
     "output_type": "stream",
     "text": [
      "0\n"
     ]
    }
   ],
   "source": [
    "# Javidan ans\n",
    "ans = []\n",
    "for j in range(3):\n",
    "    M = ρ_pt_1[\"partial_trace_1\"][j].data\n",
    "    for k in range(len(D)):\n",
    "        A = D[k].data\n",
    "        for kk in range(len(D)):\n",
    "            B = D[kk].data\n",
    "            if not A[0,0] - B[0,0] == 0:\n",
    "                p = (M[0,0] - B[0,0])/(A[0,0] - B[0,0])\n",
    "                if norm(M - (p*A+(1-p)*B))<1e-3:\n",
    "                    ans.append((p,A,B))\n",
    "\n",
    "print(len(ans))"
   ]
  },
  {
   "cell_type": "code",
   "execution_count": null,
   "id": "76847698",
   "metadata": {},
   "outputs": [],
   "source": []
  },
  {
   "cell_type": "code",
   "execution_count": null,
   "id": "a2f3b8fb",
   "metadata": {},
   "outputs": [],
   "source": []
  },
  {
   "cell_type": "code",
   "execution_count": null,
   "id": "2794a7ec",
   "metadata": {},
   "outputs": [],
   "source": [
    "hf = h5py.File(\"Dinkhah_data.h5\",\"w\")\n",
    "hf.create_dataset(\"ans\", data=ans)\n",
    "hf.close()"
   ]
  },
  {
   "cell_type": "code",
   "execution_count": null,
   "id": "68a9f6f6",
   "metadata": {},
   "outputs": [],
   "source": []
  },
  {
   "cell_type": "code",
   "execution_count": null,
   "id": "ae2f893a",
   "metadata": {
    "scrolled": true
   },
   "outputs": [],
   "source": []
  },
  {
   "cell_type": "code",
   "execution_count": null,
   "id": "bca395c6",
   "metadata": {},
   "outputs": [],
   "source": []
  },
  {
   "cell_type": "code",
   "execution_count": null,
   "id": "ec1f96c8",
   "metadata": {},
   "outputs": [],
   "source": []
  },
  {
   "cell_type": "code",
   "execution_count": null,
   "id": "a2180963",
   "metadata": {},
   "outputs": [],
   "source": []
  },
  {
   "cell_type": "code",
   "execution_count": null,
   "id": "fde6a2cc",
   "metadata": {},
   "outputs": [],
   "source": []
  },
  {
   "cell_type": "code",
   "execution_count": null,
   "id": "bf38fdbb",
   "metadata": {},
   "outputs": [],
   "source": []
  },
  {
   "cell_type": "code",
   "execution_count": null,
   "id": "937d1eaf",
   "metadata": {},
   "outputs": [],
   "source": []
  },
  {
   "cell_type": "code",
   "execution_count": null,
   "id": "540e05df",
   "metadata": {},
   "outputs": [],
   "source": []
  },
  {
   "cell_type": "code",
   "execution_count": null,
   "id": "a70e6134",
   "metadata": {},
   "outputs": [],
   "source": []
  }
 ],
 "metadata": {
  "kernelspec": {
   "display_name": "Python 3 (ipykernel)",
   "language": "python",
   "name": "python3"
  },
  "language_info": {
   "codemirror_mode": {
    "name": "ipython",
    "version": 3
   },
   "file_extension": ".py",
   "mimetype": "text/x-python",
   "name": "python",
   "nbconvert_exporter": "python",
   "pygments_lexer": "ipython3",
   "version": "3.9.13"
  }
 },
 "nbformat": 4,
 "nbformat_minor": 5
}
