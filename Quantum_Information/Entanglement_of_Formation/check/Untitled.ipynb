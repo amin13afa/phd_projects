{
 "cells": [
  {
   "cell_type": "code",
   "execution_count": 1,
   "id": "83441c42",
   "metadata": {},
   "outputs": [],
   "source": [
    "import numpy as np \n",
    "from qiskit import QuantumCircuit\n",
    "from qiskit.quantum_info import DensityMatrix, partial_trace, Statevector, entropy\n"
   ]
  },
  {
   "cell_type": "code",
   "execution_count": 26,
   "id": "4fc93ca1",
   "metadata": {},
   "outputs": [],
   "source": [
    "global qubit \n",
    "qubit = 2"
   ]
  },
  {
   "cell_type": "code",
   "execution_count": 16,
   "id": "7a25a72e",
   "metadata": {},
   "outputs": [],
   "source": [
    "# func to def state vector and dm \n",
    "def state_creation(coef,labels):\n",
    "    if np.isclose(np.linalg.norm(coef),1):\n",
    "        ψ = Statevector(np.zeros(2**qubit))\n",
    "        for j in range(len(labels)):\n",
    "            ψ += coef[j]*Statevector.from_label(labels[j])\n",
    "        ρ = DensityMatrix(ψ)\n",
    "    else:\n",
    "        raise TypeError(\"The coefficient vector is not normalized\")\n",
    "    return ψ, ρ"
   ]
  },
  {
   "cell_type": "code",
   "execution_count": null,
   "id": "a7b214d5",
   "metadata": {},
   "outputs": [],
   "source": []
  },
  {
   "cell_type": "code",
   "execution_count": null,
   "id": "c2a322e4",
   "metadata": {},
   "outputs": [],
   "source": []
  },
  {
   "cell_type": "code",
   "execution_count": null,
   "id": "8a641d83",
   "metadata": {},
   "outputs": [],
   "source": []
  },
  {
   "cell_type": "code",
   "execution_count": 17,
   "id": "708c2df1",
   "metadata": {},
   "outputs": [],
   "source": [
    "# func to def labels\n",
    "def labelCreation(qubit:int):\n",
    "    labels = []\n",
    "    for j in range(2**qubit):\n",
    "        b = bin(j).replace(\"0b\",\"\")\n",
    "        if len(b) < qubit:\n",
    "            n = qubit - len(b)\n",
    "            b = n*\"0\"+b\n",
    "        labels.append(b)\n",
    "    return labels"
   ]
  },
  {
   "cell_type": "code",
   "execution_count": 27,
   "id": "b025b3f0",
   "metadata": {},
   "outputs": [],
   "source": [
    "cof = np.zeros(2**qubit)\n",
    "cof[0] = 1/np.sqrt(2)\n",
    "cof[1] = -1/np.sqrt(2)\n",
    "cof\n",
    "labels = labelCreation(qubit)"
   ]
  },
  {
   "cell_type": "code",
   "execution_count": 12,
   "id": "6e8857fb",
   "metadata": {},
   "outputs": [
    {
     "data": {
      "text/plain": [
       "1.4415419267167124e-15"
      ]
     },
     "execution_count": 12,
     "metadata": {},
     "output_type": "execute_result"
    }
   ],
   "source": [
    "entropy(ρ)"
   ]
  },
  {
   "cell_type": "code",
   "execution_count": 151,
   "id": "18c1965b",
   "metadata": {},
   "outputs": [
    {
     "ename": "SyntaxError",
     "evalue": "invalid syntax (1693261823.py, line 22)",
     "output_type": "error",
     "traceback": [
      "\u001b[0;36m  File \u001b[0;32m\"/tmp/ipykernel_17376/1693261823.py\"\u001b[0;36m, line \u001b[0;32m22\u001b[0m\n\u001b[0;31m    elif ρ.dim >= 16:\u001b[0m\n\u001b[0m    ^\u001b[0m\n\u001b[0;31mSyntaxError\u001b[0m\u001b[0;31m:\u001b[0m invalid syntax\n"
     ]
    }
   ],
   "source": [
    "# Take partial trace over desired part\n",
    "def partialTrace(ρ):\n",
    "    ρ_pt = []\n",
    "    if ρ.dim < 4:\n",
    "        raise TypeError(\"Partial_trace can not be computed for dimention less than 4\")\n",
    "    elif ρ.dim >= 4:\n",
    "        ρ_pt1 = []\n",
    "        for j in range(len(ρ.dims())):\n",
    "            ρ_pt1.append(partial_trace(ρ,[j]))\n",
    "    \n",
    "#     ρ_pt.append(ρ_pt1)\n",
    "    \n",
    "    elif ρ.dim >= 8:\n",
    "        ρ_pt2 = []\n",
    "        for j in range(len(ρ.dims())):\n",
    "            ρ_pt2.append(partial_trace(ρ,[j,j+1]))\n",
    "            if j+2 < len(ρ.dims()):\n",
    "                ρ_pt2.append(partial_trace(ρ,[j,j+2]))\n",
    "            else:\n",
    "                break\n",
    "    ρ_pt.append(ρ_pt2)            \n",
    "    elif ρ.dim >= 16:\n",
    "        ρ_pt3 = []\n",
    "        for j in range(len(ρ.dims())):\n",
    "            ρ_pt3.append(partial_trace(ρ, [j,j+1,j+2]))\n",
    "            if j+3 < len(ρ.dims()):\n",
    "                ρ_pt3.append(partial_trace(ρ, [j,j+1,j+3]))\n",
    "                ρ_pt3.append(partial_trace(ρ, [j,j+2,j+3]))\n",
    "            else:\n",
    "                break\n",
    "    ρ_pt.append(ρ_pt3)\n",
    "    return ρ_pt\n",
    "        \n",
    "    "
   ]
  },
  {
   "cell_type": "code",
   "execution_count": 145,
   "id": "3d7dd2d2",
   "metadata": {},
   "outputs": [],
   "source": [
    "# Take partial trace over desired part\n",
    "def partialTrace(ρ):\n",
    "    ρ_pt = [0,0,0]\n",
    "    # partial trace over three participant\n",
    "    if ρ.dim == 16:      \n",
    "        ρ_pt3 = []\n",
    "        for j in range(len(ρ.dims())):\n",
    "            ρ_pt3.append(partial_trace(ρ, [j,j+1,j+2]))\n",
    "            if j+3 < len(ρ.dims()):\n",
    "                ρ_pt3.append(partial_trace(ρ, [j,j+1,j+3]))\n",
    "                ρ_pt3.append(partial_trace(ρ, [j,j+2,j+3]))\n",
    "            else:\n",
    "                break\n",
    "        \n",
    "    # partial trace over two participant\n",
    "    elif ρ.dim >= 8:\n",
    "        ρ_pt2 = []\n",
    "        for j in range(len(ρ.dims())):\n",
    "            ρ_pt2.append(partial_trace(ρ,[j,j+1]))\n",
    "            if j+2 < len(ρ.dims()):\n",
    "                ρ_pt2.append(partial_trace(ρ,[j,j+2]))\n",
    "            else:\n",
    "                break\n",
    "        \n",
    "    # partial trace over one participant\n",
    "    elif ρ.dim >= 4:\n",
    "        ρ_pt1 = []\n",
    "        for j in range(len(ρ.dims())):\n",
    "            ρ_pt1.append(partial_trace(ρ,[j]))\n",
    "    else:\n",
    "        raise TypeError(\"Partial_trace can not be computed for dimention less than 4\")\n",
    "        \n",
    "    return ρ_pt\n",
    "        \n",
    "    "
   ]
  },
  {
   "cell_type": "code",
   "execution_count": 146,
   "id": "a2f883ee",
   "metadata": {},
   "outputs": [
    {
     "data": {
      "text/plain": [
       "[0, 0, 0]"
      ]
     },
     "execution_count": 146,
     "metadata": {},
     "output_type": "execute_result"
    }
   ],
   "source": [
    "partialTrace(ρ)"
   ]
  },
  {
   "cell_type": "code",
   "execution_count": 148,
   "id": "302d4d9b",
   "metadata": {},
   "outputs": [
    {
     "data": {
      "text/plain": [
       "[9, 8, 7, 6, 5, 4, 3, 2, 1, 0]"
      ]
     },
     "execution_count": 148,
     "metadata": {},
     "output_type": "execute_result"
    }
   ],
   "source": [
    "s = []\n",
    "for j in range(10):\n",
    "    s.insert(0,j)\n",
    "s"
   ]
  },
  {
   "cell_type": "code",
   "execution_count": null,
   "id": "097aeb4e",
   "metadata": {},
   "outputs": [],
   "source": []
  },
  {
   "cell_type": "code",
   "execution_count": 1,
   "id": "4cbfdcfc",
   "metadata": {},
   "outputs": [],
   "source": [
    "# Function to compute EOF for a three-partite system\n",
    "def EOF_3(ρ_pt): \n",
    "    eof_1 = []\n",
    "    eof_2 = []\n",
    "    entropy_1 = []\n",
    "    entropy_2 = []\n",
    "    if ρ_pt['partial_trace_1'] == 0:\n",
    "        pass\n",
    "    else:\n",
    "        for j in range(len(ρ_pt['partial_trace_1'])):\n",
    "            eof_1.append(qiskit.quantum_info.entanglement_of_formation(\n",
    "                ρ_pt['partial_trace_1'][j]))\n",
    "            entropy_1.append(qiskit.quantum_info.entropy(ρ_pt['partial_trace_1'][j]))\n",
    "    \n",
    "    if ρ_pt['partial_trace_2'] == 0:\n",
    "        pass \n",
    "    else:\n",
    "        for j in range(len(ρ_pt['partial_trace_2'])):\n",
    "            eof_2.append(qiskit.quantum_info.entanglement_of_formation(\n",
    "                ρ_pt['partial_trace_1'][j]))\n",
    "            entropy_2.append(qiskit.quantum_info.entropy(ρ_pt['partial_trace_2'][j]))\n",
    "            \n",
    "            \n",
    "    eof_1 = np.array(eof_1)\n",
    "    eof_2 = np.array(eof_2)\n",
    "    entropy_1 = np.array(entropy_1)\n",
    "    entropy_2 = np.array(entropy_2)\n",
    "    EOF = np.sum(eof_1+eof_2+entropy_1+entropy_2)/6\n",
    "    return EOF\n",
    "    \n",
    "            \n",
    "            \n",
    "    "
   ]
  },
  {
   "cell_type": "code",
   "execution_count": null,
   "id": "afe84b02",
   "metadata": {},
   "outputs": [],
   "source": []
  },
  {
   "cell_type": "code",
   "execution_count": null,
   "id": "48913414",
   "metadata": {},
   "outputs": [],
   "source": []
  },
  {
   "cell_type": "code",
   "execution_count": 11,
   "id": "0297be4a",
   "metadata": {},
   "outputs": [],
   "source": [
    "# Take partial trace over desired part\n",
    "def partialTrace(ρ):\n",
    "    \n",
    "    # partial trace over one participant\n",
    "    if ρ.dim >= 4:\n",
    "    ρ_pt1 = []\n",
    "    for j in range(len(ρ.dims())):\n",
    "        ρ_pt1.append(partial_trace(ρ,[j]))\n",
    "    \n",
    "    # partial trace over two participant\n",
    "    ρ_pt2 = []\n",
    "    for j in range(len(ρ.dims())):\n",
    "        ρ_pt2.append(partial_trace(ρ,[j,j+1]))\n",
    "        if j+2 < len(ρ.dims()):\n",
    "            ρ_pt2.append(partial_trace(ρ,[j,j+2]))\n",
    "        else:\n",
    "            break\n",
    "    # partial trace over two participant\n",
    "    ρ_pt3 = []\n",
    "    for j in range(len(ρ.dims())):\n",
    "        ρ_pt3.append(partial_trace(ρ, [j,j+1,j+2]))\n",
    "        if j+3 < len(ρ.dims()):\n",
    "            ρ_pt3.append(partial_trace(ρ, [j,j+1,j+3]))\n",
    "            ρ_pt3.append(partial_trace(ρ, [j,j+2,j+3]))\n",
    "        else:\n",
    "            break\n",
    "            \n",
    "    \n",
    "    return s_pt1, s_pt2"
   ]
  },
  {
   "cell_type": "code",
   "execution_count": null,
   "id": "d98856c2",
   "metadata": {},
   "outputs": [],
   "source": [
    "# Computation Entanglement of formation  \n",
    "def EOF(s_pt1,s_pt2):\n",
    "    E_1 = 0\n",
    "    E_2 = 0\n",
    "    S_1 = 0\n",
    "    S_2 = 0\n",
    "    for j in range(len(ρ.dims())):\n",
    "        E_1 += entanglement_of_formation(s_pt1[j]) \n",
    "        S_1 += entropy(s_pt1[j])\n",
    "        S_2 += entropy(s_pt2[j])\n",
    "    EOF_123 = (1.0/6)*(E_1 + S_1 + S_2)\n",
    "    return EOF_123"
   ]
  },
  {
   "cell_type": "code",
   "execution_count": null,
   "id": "731c02f6",
   "metadata": {},
   "outputs": [],
   "source": []
  },
  {
   "cell_type": "code",
   "execution_count": 29,
   "id": "0e38fb9f",
   "metadata": {},
   "outputs": [],
   "source": [
    "import numpy as np \n",
    "import h5py "
   ]
  },
  {
   "cell_type": "code",
   "execution_count": 30,
   "id": "02ab1f38",
   "metadata": {},
   "outputs": [
    {
     "name": "stdout",
     "output_type": "stream",
     "text": [
      "[(array([[0.84969392, 0.04957093, 0.32099683, 0.09800437, 0.93033671],\n",
      "       [0.10191251, 0.9716684 , 0.37363561, 0.34077582, 0.05306839],\n",
      "       [0.08000428, 0.13724438, 0.35252342, 0.79477336, 0.59226888],\n",
      "       [0.33523719, 0.86558605, 0.99823237, 0.38324644, 0.41210192],\n",
      "       [0.17051572, 0.46880851, 0.33681957, 0.0118249 , 0.22679883]]), array([[0.17206536, 0.58559349, 0.73914282, 0.8991155 , 0.10863569],\n",
      "       [0.19466509, 0.53301167, 0.95551659, 0.57725385, 0.27278369],\n",
      "       [0.52628017, 0.17072212, 0.71542717, 0.08209677, 0.62967051],\n",
      "       [0.8180446 , 0.3487559 , 0.51111335, 0.50618572, 0.89943329],\n",
      "       [0.21728361, 0.15264203, 0.19452857, 0.91021922, 0.75900724]])), (array([[0.81152615, 0.72289409, 0.84414326, 0.14220447, 0.51037592],\n",
      "       [0.30530543, 0.33407977, 0.33799825, 0.60505868, 0.66723887],\n",
      "       [0.58070004, 0.38996102, 0.51690659, 0.07195394, 0.05498829],\n",
      "       [0.84521352, 0.26946143, 0.18814191, 0.7628105 , 0.48028079],\n",
      "       [0.04861477, 0.00894965, 0.67668793, 0.55896156, 0.43543136]]), array([[0.12288021, 0.18328786, 0.9779153 , 0.57600345, 0.18178776],\n",
      "       [0.07504965, 0.87908014, 0.10514747, 0.00193726, 0.53144967],\n",
      "       [0.33878962, 0.98059878, 0.91967498, 0.93370199, 0.76216768],\n",
      "       [0.5735377 , 0.59653824, 0.92561049, 0.30290653, 0.21546851],\n",
      "       [0.61336377, 0.22528551, 0.84611265, 0.98752117, 0.44212391]])), (array([[0.10685157, 0.91396598, 0.44308008, 0.36757392, 0.81484762],\n",
      "       [0.92583519, 0.0343653 , 0.72737293, 0.1861634 , 0.46759356],\n",
      "       [0.85703576, 0.05677828, 0.33644245, 0.45852892, 0.33862459],\n",
      "       [0.44836298, 0.18529588, 0.38329336, 0.72400113, 0.85936929],\n",
      "       [0.53286446, 0.76130643, 0.7625297 , 0.67462632, 0.91199545]]), array([[0.17582006, 0.76369433, 0.83956856, 0.12409027, 0.55607644],\n",
      "       [0.84399709, 0.87466868, 0.98456838, 0.0328579 , 0.53119781],\n",
      "       [0.5799936 , 0.74178942, 0.34745139, 0.10463776, 0.38771621],\n",
      "       [0.43127257, 0.99785979, 0.92847039, 0.65605824, 0.91429558],\n",
      "       [0.41989564, 0.74710559, 0.93954563, 0.76555175, 0.46363302]]))]\n"
     ]
    }
   ],
   "source": [
    "ans = []\n",
    "hf = h5py.File(\"data.h5\",\"w\")\n",
    "for j in range(3):\n",
    "    a,b = np.random.rand(5,5), np.random.rand(5,5)\n",
    "    ans.append((a,b))\n",
    "    \n",
    "    \n",
    "print(ans)\n",
    "hf.create_dataset(\"ans\", data=ans)\n",
    "hf.close()    "
   ]
  },
  {
   "cell_type": "code",
   "execution_count": 31,
   "id": "c620854d",
   "metadata": {},
   "outputs": [],
   "source": [
    "h = h5py.File(\"data.h5\",\"r\")"
   ]
  },
  {
   "cell_type": "code",
   "execution_count": 32,
   "id": "7b273d49",
   "metadata": {},
   "outputs": [
    {
     "data": {
      "text/plain": [
       "<KeysViewHDF5 ['ans']>"
      ]
     },
     "execution_count": 32,
     "metadata": {},
     "output_type": "execute_result"
    }
   ],
   "source": [
    "h.keys()"
   ]
  },
  {
   "cell_type": "code",
   "execution_count": 33,
   "id": "2a8ab12c",
   "metadata": {},
   "outputs": [
    {
     "data": {
      "text/plain": [
       "array([[[0.84969392, 0.04957093, 0.32099683, 0.09800437, 0.93033671],\n",
       "        [0.10191251, 0.9716684 , 0.37363561, 0.34077582, 0.05306839],\n",
       "        [0.08000428, 0.13724438, 0.35252342, 0.79477336, 0.59226888],\n",
       "        [0.33523719, 0.86558605, 0.99823237, 0.38324644, 0.41210192],\n",
       "        [0.17051572, 0.46880851, 0.33681957, 0.0118249 , 0.22679883]],\n",
       "\n",
       "       [[0.17206536, 0.58559349, 0.73914282, 0.8991155 , 0.10863569],\n",
       "        [0.19466509, 0.53301167, 0.95551659, 0.57725385, 0.27278369],\n",
       "        [0.52628017, 0.17072212, 0.71542717, 0.08209677, 0.62967051],\n",
       "        [0.8180446 , 0.3487559 , 0.51111335, 0.50618572, 0.89943329],\n",
       "        [0.21728361, 0.15264203, 0.19452857, 0.91021922, 0.75900724]]])"
      ]
     },
     "execution_count": 33,
     "metadata": {},
     "output_type": "execute_result"
    }
   ],
   "source": [
    "h['ans'][0]"
   ]
  },
  {
   "cell_type": "code",
   "execution_count": 39,
   "id": "2c981154",
   "metadata": {},
   "outputs": [
    {
     "name": "stdout",
     "output_type": "stream",
     "text": [
      "0.0\n",
      "0.010101010101010102\n",
      "0.020202020202020204\n",
      "0.030303030303030304\n",
      "0.04040404040404041\n",
      "0.05050505050505051\n",
      "0.06060606060606061\n",
      "0.07070707070707072\n",
      "0.08080808080808081\n",
      "0.09090909090909091\n",
      "0.10101010101010102\n",
      "0.11111111111111112\n",
      "0.12121212121212122\n",
      "0.13131313131313133\n",
      "0.14141414141414144\n",
      "0.15151515151515152\n",
      "0.16161616161616163\n",
      "0.17171717171717174\n",
      "0.18181818181818182\n",
      "0.19191919191919193\n",
      "0.20202020202020204\n",
      "0.21212121212121213\n",
      "0.22222222222222224\n",
      "0.23232323232323235\n",
      "0.24242424242424243\n",
      "0.25252525252525254\n",
      "0.26262626262626265\n",
      "0.27272727272727276\n",
      "0.2828282828282829\n",
      "0.29292929292929293\n",
      "0.30303030303030304\n",
      "0.31313131313131315\n",
      "0.32323232323232326\n",
      "0.33333333333333337\n",
      "0.3434343434343435\n",
      "0.3535353535353536\n",
      "0.36363636363636365\n",
      "0.37373737373737376\n",
      "0.38383838383838387\n",
      "0.393939393939394\n",
      "0.4040404040404041\n",
      "0.4141414141414142\n",
      "0.42424242424242425\n",
      "0.43434343434343436\n",
      "0.4444444444444445\n",
      "0.4545454545454546\n",
      "0.4646464646464647\n",
      "0.4747474747474748\n",
      "0.48484848484848486\n",
      "0.494949494949495\n",
      "0.5050505050505051\n",
      "0.5151515151515152\n",
      "0.5252525252525253\n",
      "0.5353535353535354\n",
      "0.5454545454545455\n",
      "0.5555555555555556\n",
      "0.5656565656565657\n",
      "0.5757575757575758\n",
      "0.5858585858585859\n",
      "0.595959595959596\n",
      "0.6060606060606061\n",
      "0.6161616161616162\n",
      "0.6262626262626263\n",
      "0.6363636363636365\n",
      "0.6464646464646465\n",
      "0.6565656565656566\n",
      "0.6666666666666667\n",
      "0.6767676767676768\n",
      "0.686868686868687\n",
      "0.696969696969697\n",
      "0.7070707070707072\n",
      "0.7171717171717172\n",
      "0.7272727272727273\n",
      "0.7373737373737375\n",
      "0.7474747474747475\n",
      "0.7575757575757577\n",
      "0.7676767676767677\n",
      "0.7777777777777778\n",
      "0.787878787878788\n",
      "0.797979797979798\n",
      "0.8080808080808082\n",
      "0.8181818181818182\n",
      "0.8282828282828284\n",
      "0.8383838383838385\n",
      "0.8484848484848485\n",
      "0.8585858585858587\n",
      "0.8686868686868687\n",
      "0.8787878787878789\n",
      "0.888888888888889\n",
      "0.8989898989898991\n",
      "0.9090909090909092\n",
      "0.9191919191919192\n",
      "0.9292929292929294\n",
      "0.9393939393939394\n",
      "0.9494949494949496\n",
      "0.9595959595959597\n",
      "0.9696969696969697\n",
      "0.9797979797979799\n",
      "0.98989898989899\n",
      "1.0\n"
     ]
    }
   ],
   "source": [
    "for j in np.linspace(0,1,100):\n",
    "    print(j)"
   ]
  },
  {
   "cell_type": "code",
   "execution_count": null,
   "id": "c4b8d492",
   "metadata": {},
   "outputs": [],
   "source": []
  }
 ],
 "metadata": {
  "kernelspec": {
   "display_name": "Python 3 (ipykernel)",
   "language": "python",
   "name": "python3"
  },
  "language_info": {
   "codemirror_mode": {
    "name": "ipython",
    "version": 3
   },
   "file_extension": ".py",
   "mimetype": "text/x-python",
   "name": "python",
   "nbconvert_exporter": "python",
   "pygments_lexer": "ipython3",
   "version": "3.9.13"
  }
 },
 "nbformat": 4,
 "nbformat_minor": 5
}
