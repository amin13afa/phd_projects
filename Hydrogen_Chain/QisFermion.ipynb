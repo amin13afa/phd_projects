{
 "cells": [
  {
   "cell_type": "markdown",
   "id": "e22254fb",
   "metadata": {},
   "source": [
    "# Qiskit_nature"
   ]
  },
  {
   "cell_type": "markdown",
   "id": "c96dd0bb",
   "metadata": {},
   "source": [
    "$$\n",
    "h^{p}_{q} = h^{q}_{p}\n",
    "$$\n",
    "$$\n",
    "h_{rs}^{pq} = h_{sr}^{qp}\n",
    "$$\n",
    "$$\n",
    "h^{pq}_{rs} = h^{sq}_{rp} = h^{pr}_{qs} = h^{sr}_{qp}\n",
    "$$"
   ]
  },
  {
   "cell_type": "code",
   "execution_count": 1,
   "id": "c4d84e29",
   "metadata": {},
   "outputs": [],
   "source": [
    "import numpy as np \n",
    "from qiskit_nature.units import DistanceUnit \n",
    "from qiskit_nature.second_q.drivers import PySCFDriver"
   ]
  },
  {
   "cell_type": "code",
   "execution_count": 17,
   "id": "8e5885b8",
   "metadata": {},
   "outputs": [],
   "source": [
    "driver = PySCFDriver(\n",
    "atom = \"H 0 0 0\",\n",
    "# atom=\"H 0 0 0; H 0 0 0.74\",\n",
    "# atom=\"H 0 0 0; H 0 0 0.74; H 0 0 1.48\",\n",
    "basis=\"sto3g\",\n",
    "charge=0,\n",
    "# spin = 0,\n",
    "spin=1,\n",
    "unit=DistanceUnit.ANGSTROM)\n",
    "problem = driver.run()"
   ]
  },
  {
   "cell_type": "code",
   "execution_count": 18,
   "id": "911931d2",
   "metadata": {},
   "outputs": [],
   "source": [
    "hamiltonian = problem.hamiltonian\n",
    "coefficients = hamiltonian.electronic_integrals\n",
    "fermionic_op = hamiltonian.second_q_op()"
   ]
  },
  {
   "cell_type": "code",
   "execution_count": 5,
   "id": "77da3256",
   "metadata": {},
   "outputs": [
    {
     "name": "stdout",
     "output_type": "stream",
     "text": [
      "Polynomial Tensor\n",
      " \"+-\":\n",
      "[[-1.25330979e+00 -2.22044605e-16]\n",
      " [-1.11022302e-16 -4.75068849e-01]]\n",
      " \"++--\":\n",
      "[[[[6.74755927e-01 1.17961196e-16]\n",
      "   [3.33066907e-16 1.81210462e-01]]\n",
      "\n",
      "  [[2.77555756e-16 1.81210462e-01]\n",
      "   [6.63711401e-01 1.66533454e-16]]]\n",
      "\n",
      "\n",
      " [[[2.35922393e-16 6.63711401e-01]\n",
      "   [1.81210462e-01 1.11022302e-16]]\n",
      "\n",
      "  [[1.81210462e-01 1.38777878e-16]\n",
      "   [1.38777878e-16 6.97651504e-01]]]]\n"
     ]
    }
   ],
   "source": [
    "print(coefficients.alpha)"
   ]
  },
  {
   "cell_type": "code",
   "execution_count": 19,
   "id": "84a367f2",
   "metadata": {},
   "outputs": [
    {
     "name": "stdout",
     "output_type": "stream",
     "text": [
      "Fermionic Operator\n",
      "number spin orbitals=2, number terms=6\n",
      "  0.3873029719599489 * ( +_0 +_0 -_0 -_0 )\n",
      "+ 0.3873029719599489 * ( +_0 +_1 -_1 -_0 )\n",
      "+ 0.3873029719599489 * ( +_1 +_0 -_0 -_1 )\n",
      "+ 0.3873029719599489 * ( +_1 +_1 -_1 -_1 )\n",
      "+ -0.46658184955727533 * ( +_0 -_0 )\n",
      "+ -0.46658184955727533 * ( +_1 -_1 )\n"
     ]
    }
   ],
   "source": [
    "second_q_op = hamiltonian.second_q_op()\n",
    "print(second_q_op)"
   ]
  },
  {
   "cell_type": "markdown",
   "id": "eca84f4d",
   "metadata": {},
   "source": [
    "# Openfermion"
   ]
  },
  {
   "cell_type": "code",
   "execution_count": 29,
   "id": "ea72e07d",
   "metadata": {},
   "outputs": [],
   "source": [
    "from openfermion.chem import MolecularData "
   ]
  },
  {
   "cell_type": "code",
   "execution_count": 29,
   "id": "501bcec5",
   "metadata": {},
   "outputs": [],
   "source": [
    "geometry = [['H', [0, 0, 0]],\n",
    "            ['H', [0, 0, 0.745]],\n",
    "            ['H', [0, 0, 1.49]]];\n",
    "\n",
    "basis = 'sto-3g';\n",
    "multiplicity = 1;\n",
    "charge = 0;\n",
    "h2_molecule = MolecularData(geometry, basis, multiplicity, charge)"
   ]
  },
  {
   "cell_type": "code",
   "execution_count": 3,
   "id": "a8a7cfdb",
   "metadata": {},
   "outputs": [],
   "source": [
    "from openfermionpyscf import run_pyscf "
   ]
  },
  {
   "cell_type": "code",
   "execution_count": 5,
   "id": "af7b8b68",
   "metadata": {},
   "outputs": [],
   "source": [
    "h2_molecule = run_pyscf(h2_molecule,\n",
    "                        run_mp2=True,\n",
    "                        run_cisd=True,\n",
    "                        run_ccsd=True,\n",
    "                        run_fci=True)\n",
    "h2_filename = h2_molecule.filename\n",
    "h2_molecule.save()"
   ]
  },
  {
   "cell_type": "code",
   "execution_count": 7,
   "id": "54b6204b",
   "metadata": {},
   "outputs": [],
   "source": [
    "two_h2 = h2_molecule.two_body_integrals"
   ]
  },
  {
   "cell_type": "code",
   "execution_count": 9,
   "id": "698c84d8",
   "metadata": {},
   "outputs": [
    {
     "data": {
      "text/plain": [
       "(2, 2, 2, 2)"
      ]
     },
     "execution_count": 9,
     "metadata": {},
     "output_type": "execute_result"
    }
   ],
   "source": [
    "two_h2.shape"
   ]
  },
  {
   "cell_type": "code",
   "execution_count": 10,
   "id": "fb9cb98b",
   "metadata": {},
   "outputs": [
    {
     "data": {
      "text/plain": [
       "array([[[[ 6.73801841e-01, -2.28983499e-16],\n",
       "         [-2.22044605e-16,  1.81490576e-01]],\n",
       "\n",
       "        [[-2.22044605e-16,  1.81490576e-01],\n",
       "         [ 6.62843238e-01,  2.49800181e-16]]],\n",
       "\n",
       "\n",
       "       [[[-2.28983499e-16,  6.62843238e-01],\n",
       "         [ 1.81490576e-01, -1.11022302e-16]],\n",
       "\n",
       "        [[ 1.81490576e-01, -1.11022302e-16],\n",
       "         [ 2.49800181e-16,  6.96731985e-01]]]])"
      ]
     },
     "execution_count": 10,
     "metadata": {},
     "output_type": "execute_result"
    }
   ],
   "source": [
    "two_h2"
   ]
  },
  {
   "cell_type": "markdown",
   "id": "ba81b680",
   "metadata": {},
   "source": [
    "# openfermion    NEW"
   ]
  },
  {
   "cell_type": "code",
   "execution_count": 1,
   "id": "6a215ea9",
   "metadata": {},
   "outputs": [],
   "source": [
    "import numpy as np \n",
    "import openfermion as of \n",
    "import openfermionpyscf as ofps\n",
    "from scipy.sparse import linalg\n",
    "# from openfermion.linalg import get_ground_state, get_sparse_operator"
   ]
  },
  {
   "cell_type": "code",
   "execution_count": 3,
   "id": "3b26f932",
   "metadata": {},
   "outputs": [
    {
     "name": "stdout",
     "output_type": "stream",
     "text": [
      "j=  0 \t 0.0\n",
      "j=  1 \t 0.73\n",
      "j=  2 \t 1.46\n",
      "j=  3 \t 2.19\n",
      "j=  4 \t 2.92\n",
      "j=  5 \t 3.65\n",
      "j=  6 \t 4.38\n",
      "j=  7 \t 5.109999999999999\n",
      "j=  8 \t 5.84\n",
      "j=  9 \t 6.57\n"
     ]
    }
   ],
   "source": [
    "for j in range(10):\n",
    "    print(\"j= \",j,\"\\t\",j*0.73)"
   ]
  },
  {
   "cell_type": "code",
   "execution_count": 2,
   "id": "5fc2b5be",
   "metadata": {},
   "outputs": [],
   "source": [
    "# Set molecule parameters\n",
    "geometry1 = [(\"H\", (0.0, 0.0, 0.0))];\n",
    "\n",
    "geometry2 = [(\"H\", (0.0, 0.0, 0.0)),\n",
    "            (\"H\", (0.0, 0.0, 0.73))];\n",
    "\n",
    "geometry3 = [(\"H\", (0.0, 0.0, 0.0)),\n",
    "            (\"H\", (0.0, 0.0, 0.73)),\n",
    "            (\"H\", (0.0, 0.0, 1.46))];\n",
    "\n",
    "geometry4 = [(\"H\", (0.0, 0.0, 0.0)),\n",
    "            (\"H\", (0.0, 0.0,  0.73)),\n",
    "            (\"H\", (0.0, 0.0,  1.46)),\n",
    "             (\"H\", (0.0, 0.0, 2.19))];\n",
    "\n",
    "\n",
    "geometry5 = [(\"H\", (0.0, 0.0, 0.0)),\n",
    "            (\"H\", (0.0, 0.0,  0.73)),\n",
    "            (\"H\", (0.0, 0.0,  1.46)),\n",
    "            (\"H\", (0.0, 0.0, 2.19)),\n",
    "            (\"H\", (0.0, 0.0, 2.92))];\n",
    "\n",
    "geometry6 = [(\"H\", (0.0, 0.0, 0.0)),\n",
    "            (\"H\", (0.0, 0.0,  0.73)),\n",
    "            (\"H\", (0.0, 0.0,  1.46)),\n",
    "            (\"H\", (0.0, 0.0, 2.19)),\n",
    "            (\"H\", (0.0, 0.0, 2.92)),\n",
    "            (\"H\", (0.0, 0.0, 3.65))];\n",
    "\n",
    "\n",
    "geometry7 = [(\"H\", (0.0, 0.0, 0.0)),\n",
    "            (\"H\", (0.0, 0.0,  0.73)),\n",
    "            (\"H\", (0.0, 0.0,  1.46)),\n",
    "            (\"H\", (0.0, 0.0, 2.19)),\n",
    "            (\"H\", (0.0, 0.0, 2.92)),\n",
    "            (\"H\", (0.0, 0.0, 3.65)),\n",
    "            (\"H\", (0.0, 0.0, 4.38))];\n",
    "\n",
    "\n",
    "geometry8 = [(\"H\", (0.0, 0.0, 0.0)),\n",
    "            (\"H\", (0.0, 0.0,  0.73)),\n",
    "            (\"H\", (0.0, 0.0,  1.46)),\n",
    "            (\"H\", (0.0, 0.0, 2.19)),\n",
    "            (\"H\", (0.0, 0.0, 2.92)),\n",
    "            (\"H\", (0.0, 0.0, 3.65)),\n",
    "            (\"H\", (0.0, 0.0, 4.38)),\n",
    "            (\"H\", (0.0, 0.0, 5.10))];\n",
    "\n",
    "\n",
    "\n",
    "\n",
    "\n",
    "basis = \"sto-3g\";\n",
    "multiplicity1 = 2;\n",
    "multiplicity2 = 1;\n",
    "multiplicity3 = 2;\n",
    "multiplicity4 = 1;\n",
    "multiplicity5 = 2;\n",
    "multiplicity6 = 1;\n",
    "multiplicity7 = 2;\n",
    "multiplicity8 = 1;\n",
    "\n",
    "charge = 0;\n",
    "\n",
    "# Perform electronic structure calculations and\n",
    "# obtain Hamiltonian as an InteractionOperator\n",
    "\n",
    "hamiltonian1 = ofps.generate_molecular_hamiltonian(geometry1, basis, multiplicity1, charge)\n",
    "hamiltonian2 = ofps.generate_molecular_hamiltonian(geometry2, basis, multiplicity2, charge)\n",
    "hamiltonian3 = ofps.generate_molecular_hamiltonian(geometry3, basis, multiplicity3, charge)\n",
    "hamiltonian4 = ofps.generate_molecular_hamiltonian(geometry4, basis, multiplicity4, charge)\n",
    "hamiltonian5 = ofps.generate_molecular_hamiltonian(geometry5, basis, multiplicity5, charge)\n",
    "hamiltonian6 = ofps.generate_molecular_hamiltonian(geometry6, basis, multiplicity6, charge)\n",
    "hamiltonian7 = ofps.generate_molecular_hamiltonian(geometry7, basis, multiplicity7, charge)\n",
    "hamiltonian8 = ofps.generate_molecular_hamiltonian(geometry8, basis, multiplicity8, charge)\n",
    "\n"
   ]
  },
  {
   "cell_type": "code",
   "execution_count": 3,
   "id": "299755fe",
   "metadata": {},
   "outputs": [],
   "source": [
    "hamiltonian_ferm_op1 = of.get_fermion_operator(hamiltonian1)\n",
    "hamiltonian_ferm_op2 = of.get_fermion_operator(hamiltonian2)\n",
    "hamiltonian_ferm_op3 = of.get_fermion_operator(hamiltonian3)\n",
    "hamiltonian_ferm_op4 = of.get_fermion_operator(hamiltonian4)\n",
    "hamiltonian_ferm_op5 = of.get_fermion_operator(hamiltonian5)\n",
    "hamiltonian_ferm_op6 = of.get_fermion_operator(hamiltonian6)\n",
    "hamiltonian_ferm_op7 = of.get_fermion_operator(hamiltonian7)\n",
    "hamiltonian_ferm_op8 = of.get_fermion_operator(hamiltonian8)"
   ]
  },
  {
   "cell_type": "code",
   "execution_count": 4,
   "id": "2d94db9f",
   "metadata": {},
   "outputs": [],
   "source": [
    "# Map to QubitOperator using the JWT\n",
    "hamiltonian_jw1 = of.jordan_wigner(hamiltonian_ferm_op1)\n",
    "hamiltonian_jw2 = of.jordan_wigner(hamiltonian_ferm_op2)\n",
    "hamiltonian_jw3 = of.jordan_wigner(hamiltonian_ferm_op3)\n",
    "hamiltonian_jw4 = of.jordan_wigner(hamiltonian_ferm_op4)\n",
    "hamiltonian_jw5 = of.jordan_wigner(hamiltonian_ferm_op5)\n",
    "hamiltonian_jw6 = of.jordan_wigner(hamiltonian_ferm_op6)\n",
    "hamiltonian_jw7 = of.jordan_wigner(hamiltonian_ferm_op7)\n",
    "hamiltonian_jw8 = of.jordan_wigner(hamiltonian_ferm_op8)"
   ]
  },
  {
   "cell_type": "code",
   "execution_count": 5,
   "id": "3fb1b5b1",
   "metadata": {},
   "outputs": [],
   "source": [
    "# Convert to Scipy sparse matrix\n",
    "hamiltonian_jw_sparse1 = of.get_sparse_operator(hamiltonian_jw1)\n",
    "hamiltonian_jw_sparse2 = of.get_sparse_operator(hamiltonian_jw2)\n",
    "hamiltonian_jw_sparse3 = of.get_sparse_operator(hamiltonian_jw3)\n",
    "hamiltonian_jw_sparse4 = of.get_sparse_operator(hamiltonian_jw4)"
   ]
  },
  {
   "cell_type": "code",
   "execution_count": 6,
   "id": "ef936725",
   "metadata": {},
   "outputs": [],
   "source": [
    "hamiltonian_jw_sparse5 = of.get_sparse_operator(hamiltonian_jw5)\n",
    "hamiltonian_jw_sparse6 = of.get_sparse_operator(hamiltonian_jw6)"
   ]
  },
  {
   "cell_type": "code",
   "execution_count": null,
   "id": "a554509a",
   "metadata": {},
   "outputs": [],
   "source": [
    "hamiltonian_jw_sparse8 = of.get_sparse_operator(hamiltonian_jw8)"
   ]
  },
  {
   "cell_type": "code",
   "execution_count": 7,
   "id": "c86eab92",
   "metadata": {},
   "outputs": [],
   "source": [
    "hamiltonian_jw_sparse7 = of.get_sparse_operator(hamiltonian_jw7)"
   ]
  },
  {
   "cell_type": "code",
   "execution_count": null,
   "id": "f33065ad",
   "metadata": {},
   "outputs": [],
   "source": [
    "# Convert to Scipy sparse matrix\n",
    "hamiltonian_jw_sparse1 = of.get_sparse_operator(hamiltonian_jw1)\n",
    "hamiltonian_jw_sparse2 = of.get_sparse_operator(hamiltonian_jw2)\n",
    "hamiltonian_jw_sparse3 = of.get_sparse_operator(hamiltonian_jw3)\n",
    "hamiltonian_jw_sparse4 = of.get_sparse_operator(hamiltonian_jw4)\n",
    "hamiltonian_jw_sparse5 = of.get_sparse_operator(hamiltonian_jw5)\n",
    "hamiltonian_jw_sparse6 = of.get_sparse_operator(hamiltonian_jw6)\n",
    "hamiltonian_jw_sparse7 = of.get_sparse_operator(hamiltonian_jw7)\n",
    "hamiltonian_jw_sparse8 = of.get_sparse_operator(hamiltonian_jw8)"
   ]
  },
  {
   "cell_type": "code",
   "execution_count": null,
   "id": "94a01f1d",
   "metadata": {},
   "outputs": [],
   "source": [
    "Up to here "
   ]
  },
  {
   "cell_type": "code",
   "execution_count": 9,
   "id": "7cfba293",
   "metadata": {},
   "outputs": [
    {
     "name": "stdout",
     "output_type": "stream",
     "text": [
      "[-0.46658185]\n",
      "[-1.13728568]\n",
      "[-1.5203783]\n",
      "[-2.13200947]\n",
      "[-2.54400018]\n",
      "[-3.12823887]\n",
      "[-3.55858444]\n"
     ]
    }
   ],
   "source": [
    "# Compute ground energy\n",
    "eigvals1, eigvecs1 = linalg.eigsh(hamiltonian_jw_sparse1, k=1, which='SA')\n",
    "eigvals2, eigvecs2 = linalg.eigsh(hamiltonian_jw_sparse2, k=1, which='SA')\n",
    "eigvals3, eigvecs3 = linalg.eigsh(hamiltonian_jw_sparse3, k=1, which='SA')\n",
    "eigvals4, eigvecs4 = linalg.eigsh(hamiltonian_jw_sparse4, k=1, which='SA')\n",
    "eigvals5, eigvecs5 = linalg.eigsh(hamiltonian_jw_sparse5, k=1, which='SA')\n",
    "eigvals6, eigvecs6 = linalg.eigsh(hamiltonian_jw_sparse6, k=1, which='SA')\n",
    "eigvals7, eigvecs7 = linalg.eigsh(hamiltonian_jw_sparse7, k=1, which='SA')\n",
    "print(eigvals1)\n",
    "print(eigvals2)\n",
    "print(eigvals3)\n",
    "print(eigvals4)\n",
    "print(eigvals5)\n",
    "print(eigvals6)\n",
    "print(eigvals7)"
   ]
  },
  {
   "cell_type": "code",
   "execution_count": 10,
   "id": "b75e826a",
   "metadata": {},
   "outputs": [
    {
     "name": "stdout",
     "output_type": "stream",
     "text": [
      "(4, 1) (16, 1) (64, 1) (256, 1) (1024, 1) (4096, 1) (16384, 1)\n"
     ]
    }
   ],
   "source": [
    "print(eigvecs1.shape, eigvecs2.shape, eigvecs3.shape, \n",
    "      eigvecs4.shape, eigvecs5.shape, eigvecs6.shape,\n",
    "     eigvecs7.shape)"
   ]
  },
  {
   "cell_type": "code",
   "execution_count": null,
   "id": "0e13daf3",
   "metadata": {},
   "outputs": [],
   "source": []
  },
  {
   "cell_type": "code",
   "execution_count": 14,
   "id": "518fb4e2",
   "metadata": {},
   "outputs": [
    {
     "data": {
      "text/plain": [
       "array(-0.114603+0.00162226j)"
      ]
     },
     "execution_count": 14,
     "metadata": {},
     "output_type": "execute_result"
    }
   ],
   "source": [
    "np.tensordot(np.kron(eigvecs2,eigvecs2),eigvecs4)"
   ]
  },
  {
   "cell_type": "code",
   "execution_count": 18,
   "id": "cb33ca13",
   "metadata": {},
   "outputs": [
    {
     "data": {
      "text/plain": [
       "0.11461448260098572"
      ]
     },
     "execution_count": 18,
     "metadata": {},
     "output_type": "execute_result"
    }
   ],
   "source": [
    "np.linalg.norm(np.tensordot(np.kron(eigvecs2,eigvecs2),eigvecs4))"
   ]
  },
  {
   "cell_type": "code",
   "execution_count": 19,
   "id": "965fa00f",
   "metadata": {},
   "outputs": [
    {
     "name": "stdout",
     "output_type": "stream",
     "text": [
      "(4, 1) (16, 1)\n",
      "8.108391908423875e-17\n"
     ]
    }
   ],
   "source": [
    "# overlap H  vs H-H \n",
    "print(eigvecs1.shape, eigvecs2.shape)\n",
    "print(np.linalg.norm(np.tensordot(np.kron(eigvecs1,eigvecs1),eigvecs2)))\n"
   ]
  },
  {
   "cell_type": "code",
   "execution_count": 20,
   "id": "95cf08d5",
   "metadata": {},
   "outputs": [
    {
     "name": "stdout",
     "output_type": "stream",
     "text": [
      "(4, 1) (16, 1) (64, 1)\n",
      "1.703163940883014e-17\n",
      "\n",
      "\n",
      "(4, 1) (16, 1) (64, 1)\n",
      "4.70614409755432e-16\n"
     ]
    }
   ],
   "source": [
    "# overlap H  vs H-H-H\n",
    "print(eigvecs1.shape, eigvecs2.shape ,eigvecs3.shape)\n",
    "print(np.linalg.norm(np.tensordot(np.kron(eigvecs1,np.kron(eigvecs1,eigvecs1)),eigvecs3)))\n",
    "\n",
    "\n",
    "print(\"\\n\")\n",
    "# overlap H  vs H-H \n",
    "print(eigvecs1.shape, eigvecs2.shape, eigvecs3.shape)\n",
    "print(np.linalg.norm(np.tensordot(np.kron(eigvecs2,eigvecs1),eigvecs3)))"
   ]
  },
  {
   "cell_type": "code",
   "execution_count": 21,
   "id": "b1a77098",
   "metadata": {},
   "outputs": [
    {
     "name": "stdout",
     "output_type": "stream",
     "text": [
      "(4, 1) (16, 1) (64, 1) (256, 1)\n",
      "3.290458810983451e-17\n",
      "\n",
      "\n",
      "0.007363463080197376\n",
      "\n",
      "\n",
      "0.11461448260098583\n"
     ]
    }
   ],
   "source": [
    "# overlap H  vs H-H-H-H\n",
    "print(eigvecs1.shape, eigvecs2.shape ,eigvecs3.shape, eigvecs4.shape)\n",
    "print(np.linalg.norm(np.tensordot(np.kron(eigvecs1,\n",
    "                                          np.kron(eigvecs1,\n",
    "                                          np.kron(eigvecs1,eigvecs1))),eigvecs4)))\n",
    "print(\"\\n\")\n",
    "\n",
    "print(np.linalg.norm(np.tensordot(np.kron(eigvecs1,eigvecs3),eigvecs4)))\n",
    "\n",
    "print(\"\\n\")\n",
    "\n",
    "print(np.linalg.norm(np.tensordot(np.kron(eigvecs2,eigvecs2),eigvecs4)))"
   ]
  },
  {
   "cell_type": "code",
   "execution_count": 22,
   "id": "134f71be",
   "metadata": {},
   "outputs": [
    {
     "name": "stdout",
     "output_type": "stream",
     "text": [
      "(16, 1) (256, 1) (4096, 1)\n",
      "0.11461448260098583\n",
      "\n",
      "\n",
      "0.026261070820830595\n"
     ]
    }
   ],
   "source": [
    "# even hydrogen overlap \n",
    "# H-H  vs  H-H-H-H \n",
    "print(eigvecs2.shape, eigvecs4.shape, eigvecs6.shape)\n",
    "print(np.linalg.norm(np.tensordot(np.kron(eigvecs2, eigvecs2) , eigvecs4)))\n",
    "print(\"\\n\")\n",
    "print(np.linalg.norm(np.tensordot( np.kron(eigvecs4, eigvecs2), eigvecs6)))"
   ]
  },
  {
   "cell_type": "code",
   "execution_count": null,
   "id": "d3c9988c",
   "metadata": {},
   "outputs": [],
   "source": []
  },
  {
   "cell_type": "code",
   "execution_count": null,
   "id": "7728da02",
   "metadata": {},
   "outputs": [],
   "source": []
  },
  {
   "cell_type": "code",
   "execution_count": null,
   "id": "c1c0a791",
   "metadata": {},
   "outputs": [],
   "source": []
  },
  {
   "cell_type": "code",
   "execution_count": null,
   "id": "fe73ef73",
   "metadata": {},
   "outputs": [],
   "source": []
  }
 ],
 "metadata": {
  "kernelspec": {
   "display_name": "Python 3 (ipykernel)",
   "language": "python",
   "name": "python3"
  },
  "language_info": {
   "codemirror_mode": {
    "name": "ipython",
    "version": 3
   },
   "file_extension": ".py",
   "mimetype": "text/x-python",
   "name": "python",
   "nbconvert_exporter": "python",
   "pygments_lexer": "ipython3",
   "version": "3.9.13"
  }
 },
 "nbformat": 4,
 "nbformat_minor": 5
}
