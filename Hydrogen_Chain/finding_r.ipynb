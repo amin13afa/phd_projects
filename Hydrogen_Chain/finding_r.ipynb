{
 "cells": [
  {
   "cell_type": "code",
   "execution_count": 1,
   "id": "8d22d823",
   "metadata": {},
   "outputs": [],
   "source": [
    "using ITensors\n",
    "using ITensorChemistry\n",
    "# using ITensorParallel "
   ]
  },
  {
   "cell_type": "code",
   "execution_count": 2,
   "id": "dc07dba9",
   "metadata": {},
   "outputs": [
    {
     "data": {
      "text/plain": [
       "create_molecule (generic function with 1 method)"
      ]
     },
     "execution_count": 2,
     "metadata": {},
     "output_type": "execute_result"
    }
   ],
   "source": [
    "function create_molecule(m::String, r::Float64, rep::Int64)\n",
    "    s = []\n",
    "    for j in 1:rep\n",
    "        push!(s,Atom(m, j*r , 0.0, 0.0))\n",
    "    end\n",
    "    return Molecule(s)\n",
    "end"
   ]
  },
  {
   "cell_type": "code",
   "execution_count": 3,
   "id": "21c8d9ea",
   "metadata": {},
   "outputs": [
    {
     "data": {
      "text/plain": [
       "energy_at_bond (generic function with 1 method)"
      ]
     },
     "execution_count": 3,
     "metadata": {},
     "output_type": "execute_result"
    }
   ],
   "source": [
    "function energy_at_bond(r,N)\n",
    "  # define molecule geometry\n",
    "  molecule = create_molecule(\"H\",r,N)\n",
    "  # build electronic hamiltonian and solve HF\n",
    "  hf = molecular_orbital_hamiltonian(molecule; basis=\"sto-3g\")\n",
    "  hamiltonian = hf.hamiltonian\n",
    "  hartree_fock_state = hf.hartree_fock_state\n",
    "  hartree_fock_energy = hf.hartree_fock_energy\n",
    "  # hilbert space\n",
    "  s = siteinds(\"Electron\", N; conserve_qns=true)\n",
    "  H = MPO(hamiltonian, s)\n",
    "  # initialize MPS to HF state\n",
    "  ψhf = MPS(s, hartree_fock_state)\n",
    "  # run dmrg\n",
    "  dmrg_kwargs = (;\n",
    "    nsweeps=2,\n",
    "    maxdim=[10,20,30,40,50,100],\n",
    "    cutoff=1e-8,\n",
    "    noise=[1e-6, 1e-7, 1e-8, 0.0],\n",
    "  )\n",
    "  dmrg_energy, _ = dmrg(H, ψhf; nsweeps=2, outputlevel=0)\n",
    "  return hartree_fock_energy, dmrg_energy\n",
    "end\n",
    "# bond distances\n",
    "# r⃗ = 0.7:0.1:1\n",
    "# energies = []\n",
    "# for r in r⃗\n",
    "#   push!(energies, (r,energy_at_bond(r)))\n",
    "# end"
   ]
  },
  {
   "cell_type": "code",
   "execution_count": 72,
   "id": "c781b127",
   "metadata": {},
   "outputs": [
    {
     "name": "stdout",
     "output_type": "stream",
     "text": [
      "converged SCF energy = 2.71588739329275\n",
      "RHF Energy (Ha): 2.7158873932927525\n"
     ]
    },
    {
     "data": {
      "text/plain": [
       "2.7158873932927525"
      ]
     },
     "execution_count": 72,
     "metadata": {},
     "output_type": "execute_result"
    }
   ],
   "source": [
    "energy_at_bond(0.1,2)[1]"
   ]
  },
  {
   "cell_type": "code",
   "execution_count": 71,
   "id": "afd992d8",
   "metadata": {
    "scrolled": true
   },
   "outputs": [
    {
     "name": "stdout",
     "output_type": "stream",
     "text": [
      "converged SCF energy = 2.71588739329275\n",
      "RHF Energy (Ha): 2.7158873932927525\n"
     ]
    },
    {
     "data": {
      "text/plain": [
       "(2.7158873932927525, 2.709960770867276)"
      ]
     },
     "execution_count": 71,
     "metadata": {},
     "output_type": "execute_result"
    }
   ],
   "source": [
    "energy_at_bond(0.1,2)"
   ]
  },
  {
   "cell_type": "code",
   "execution_count": 73,
   "id": "23367df0",
   "metadata": {},
   "outputs": [
    {
     "name": "stdout",
     "output_type": "stream",
     "text": [
      "converged SCF energy = -2.06919742280387\n",
      "RHF Energy (Ha): -2.069197422803866\n",
      "converged SCF energy = -2.06919742280387\n",
      "RHF Energy (Ha): -2.069197422803866\n",
      "converged SCF energy = -2.12138675587022\n",
      "RHF Energy (Ha): -2.121386755870221\n",
      "converged SCF energy = -2.12138675587022\n",
      "RHF Energy (Ha): -2.121386755870219\n",
      "converged SCF energy = -2.12425973897278\n",
      "RHF Energy (Ha): -2.1242597389727775\n",
      "converged SCF energy = -2.12425973897278\n",
      "RHF Energy (Ha): -2.1242597389727784\n",
      "converged SCF energy = -2.09854593699772\n",
      "RHF Energy (Ha): -2.0985459369977164\n",
      "converged SCF energy = -2.09854593699772\n",
      "RHF Energy (Ha): -2.09854593699772\n"
     ]
    }
   ],
   "source": [
    "# bond distances\n",
    "r⃗ = 0.7:0.1:1\n",
    "# energies = []\n",
    "hartee_energy = []\n",
    "dmrg_energy = []\n",
    "for r in r⃗\n",
    "    push!(hartee_energy, energy_at_bond(r,4)[1])\n",
    "    push!(dmrg_energy, energy_at_bond(r,4)[2])\n",
    "#   push!(energies, (r,energy_at_bond(r,4)))\n",
    "end"
   ]
  },
  {
   "cell_type": "code",
   "execution_count": null,
   "id": "c14b4b56",
   "metadata": {},
   "outputs": [],
   "source": []
  },
  {
   "cell_type": "code",
   "execution_count": null,
   "id": "c0b3a0c1",
   "metadata": {},
   "outputs": [],
   "source": []
  },
  {
   "cell_type": "code",
   "execution_count": 81,
   "id": "624ba93e",
   "metadata": {},
   "outputs": [
    {
     "data": {
      "text/plain": [
       "0.9"
      ]
     },
     "execution_count": 81,
     "metadata": {},
     "output_type": "execute_result"
    }
   ],
   "source": [
    "r⃗[findmin(dmrg_energy)[2]]"
   ]
  },
  {
   "cell_type": "code",
   "execution_count": 62,
   "id": "bb86eb6e",
   "metadata": {},
   "outputs": [
    {
     "data": {
      "text/plain": [
       "min_energy (generic function with 1 method)"
      ]
     },
     "execution_count": 62,
     "metadata": {},
     "output_type": "execute_result"
    }
   ],
   "source": [
    "# function min_energy(energy)\n",
    "#     dm_energy = []\n",
    "#     for j in energy\n",
    "#         push!(dm_energy, j[2][2])\n",
    "#     end\n",
    "#     min = minimum(dm_energy)\n",
    "#     for j in energy\n",
    "#         if j[2][2] == min\n",
    "#             return j\n",
    "#         end\n",
    "#     end\n",
    "# end"
   ]
  },
  {
   "cell_type": "code",
   "execution_count": null,
   "id": "797c7d17",
   "metadata": {},
   "outputs": [],
   "source": [
    "findmin()"
   ]
  },
  {
   "cell_type": "code",
   "execution_count": null,
   "id": "f2099f6b",
   "metadata": {},
   "outputs": [],
   "source": []
  },
  {
   "cell_type": "code",
   "execution_count": 8,
   "id": "31395c23",
   "metadata": {},
   "outputs": [
    {
     "data": {
      "text/plain": [
       "(0.9, (-2.1242597389727775, -2.15548389445542))"
      ]
     },
     "execution_count": 8,
     "metadata": {},
     "output_type": "execute_result"
    }
   ],
   "source": [
    "min_energy(energies)"
   ]
  },
  {
   "cell_type": "code",
   "execution_count": 9,
   "id": "616ba38e",
   "metadata": {},
   "outputs": [
    {
     "data": {
      "text/plain": [
       "4-element Vector{Any}:\n",
       " (0.7, (-2.069197422803868, -2.0929190188048112))\n",
       " (0.8, (-2.1213867558702217, -2.148740118029015))\n",
       " (0.9, (-2.1242597389727775, -2.15548389445542))\n",
       " (1.0, (-2.098545936997718, -2.1339866470704916))"
      ]
     },
     "execution_count": 9,
     "metadata": {},
     "output_type": "execute_result"
    }
   ],
   "source": [
    "for "
   ]
  },
  {
   "cell_type": "code",
   "execution_count": 65,
   "id": "91b8a605",
   "metadata": {},
   "outputs": [
    {
     "data": {
      "text/plain": [
       "((0.7, (-2.0691974228038696, -2.0929190188042393)), 1)"
      ]
     },
     "execution_count": 65,
     "metadata": {},
     "output_type": "execute_result"
    }
   ],
   "source": [
    "findmin(energies[])"
   ]
  },
  {
   "cell_type": "code",
   "execution_count": null,
   "id": "3809922f",
   "metadata": {},
   "outputs": [],
   "source": []
  }
 ],
 "metadata": {
  "kernelspec": {
   "display_name": "Julia 1.8.2",
   "language": "julia",
   "name": "julia-1.8"
  },
  "language_info": {
   "file_extension": ".jl",
   "mimetype": "application/julia",
   "name": "julia",
   "version": "1.8.2"
  }
 },
 "nbformat": 4,
 "nbformat_minor": 5
}
