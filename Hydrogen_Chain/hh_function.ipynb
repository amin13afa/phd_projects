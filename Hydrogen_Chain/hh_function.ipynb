{
 "cells": [
  {
   "cell_type": "code",
   "execution_count": 1,
   "id": "2b12ce00",
   "metadata": {},
   "outputs": [],
   "source": [
    "using ITensors\n",
    "using ITensorChemistry"
   ]
  },
  {
   "cell_type": "code",
   "execution_count": 2,
   "id": "81c176b9",
   "metadata": {},
   "outputs": [
    {
     "data": {
      "text/plain": [
       "create_molecule (generic function with 1 method)"
      ]
     },
     "execution_count": 2,
     "metadata": {},
     "output_type": "execute_result"
    }
   ],
   "source": [
    "function create_molecule(m::String, r::Float64, rep::Int64)\n",
    "    s = []\n",
    "    for j in 0:rep-1\n",
    "        push!(s,Atom(m, j*r , 0.0, 0.0))\n",
    "    end\n",
    "    return Molecule(s)\n",
    "end"
   ]
  },
  {
   "cell_type": "code",
   "execution_count": 3,
   "id": "073c2b25",
   "metadata": {},
   "outputs": [
    {
     "data": {
      "text/plain": [
       "energy_at_bond (generic function with 1 method)"
      ]
     },
     "execution_count": 3,
     "metadata": {},
     "output_type": "execute_result"
    }
   ],
   "source": [
    "function energy_at_bond(r)\n",
    "  # define molecule geometry\n",
    "  molecule = create_molecule(\"H\",r,4)\n",
    "  # build electronic hamiltonian \n",
    "  hf = molecular_orbital_hamiltonian(molecule; basis=\"sto-3g\")\n",
    "  hamiltonian = hf.hamiltonian\n",
    "  hartree_fock_state = hf.hartree_fock_state\n",
    "  hartree_fock_energy = hf.hartree_fock_energy\n",
    "  # hilbert space\n",
    "  s = siteinds(\"Electron\", 4; conserve_qns=true)\n",
    "  H = MPO(hamiltonian, s)\n",
    "  # initialize MPS to HF state\n",
    "  ψhf = MPS(s, hartree_fock_state)\n",
    "  # run dmrg\n",
    "  dmrg_kwargs = (;\n",
    "    nsweeps=10,\n",
    "    maxdim=[10,20,30,40,50,100],\n",
    "    cutoff=1e-8,\n",
    "    noise=[1e-6, 1e-7, 1e-8, 0.0],\n",
    "  )\n",
    "  dmrg_energy, _ = dmrg(H, ψhf; nsweeps=10, outputlevel=0)\n",
    "  return hartree_fock_energy, dmrg_energy\n",
    "end\n"
   ]
  },
  {
   "cell_type": "code",
   "execution_count": 4,
   "id": "74d7b9b4",
   "metadata": {},
   "outputs": [
    {
     "name": "stdout",
     "output_type": "stream",
     "text": [
      "converged SCF energy = -2.06919742280387\n",
      "RHF Energy (Ha): -2.069197422803868\n",
      "converged SCF energy = -2.12138675587022\n",
      "RHF Energy (Ha): -2.121386755870221\n",
      "converged SCF energy = -2.12425973897278\n",
      "RHF Energy (Ha): -2.124259738972777\n",
      "converged SCF energy = -2.09854593699772\n",
      "RHF Energy (Ha): -2.0985459369977173\n"
     ]
    }
   ],
   "source": [
    "# bond distances\n",
    "r⃗ = 0.7:0.1:1\n",
    "energies = []\n",
    "for r in r⃗\n",
    "  push!(energies, (r,energy_at_bond(r)))\n",
    "end"
   ]
  },
  {
   "cell_type": "code",
   "execution_count": 10,
   "id": "9f1d31dc",
   "metadata": {},
   "outputs": [
    {
     "data": {
      "text/plain": [
       "(0.8, (-2.121386755870221, -2.1487401180290164))"
      ]
     },
     "execution_count": 10,
     "metadata": {},
     "output_type": "execute_result"
    }
   ],
   "source": [
    "energies[:][2]"
   ]
  },
  {
   "cell_type": "code",
   "execution_count": null,
   "id": "68f236d8",
   "metadata": {},
   "outputs": [],
   "source": [
    "function min_energy(energy)\n",
    "    dm_energy = []\n",
    "    for j in energy\n",
    "        push!(dm_energy, j[2][2])\n",
    "    end\n",
    "    min = minimum(dm_energy)\n",
    "    for j in energy\n",
    "        if j[2][2] == min\n",
    "            return j\n",
    "        end\n",
    "    end\n",
    "end"
   ]
  }
 ],
 "metadata": {
  "kernelspec": {
   "display_name": "Julia 1.8.2",
   "language": "julia",
   "name": "julia-1.8"
  },
  "language_info": {
   "file_extension": ".jl",
   "mimetype": "application/julia",
   "name": "julia",
   "version": "1.8.2"
  }
 },
 "nbformat": 4,
 "nbformat_minor": 5
}
