{
 "cells": [
  {
   "cell_type": "code",
   "execution_count": 1,
   "id": "6e3dcc05",
   "metadata": {},
   "outputs": [],
   "source": [
    "using ITensors\n",
    "using ITensorChemistry"
   ]
  },
  {
   "cell_type": "markdown",
   "id": "c147b626",
   "metadata": {},
   "source": [
    "# Find r"
   ]
  },
  {
   "cell_type": "code",
   "execution_count": 2,
   "id": "dc7f6875",
   "metadata": {},
   "outputs": [
    {
     "data": {
      "text/plain": [
       "create_molecule (generic function with 1 method)"
      ]
     },
     "execution_count": 2,
     "metadata": {},
     "output_type": "execute_result"
    }
   ],
   "source": [
    "function create_molecule(m::String, r::Float64, rep::Int64)\n",
    "    s = []\n",
    "    for j in 1:rep\n",
    "        push!(s,Atom(m, j*r , 0.0, 0.0))\n",
    "    end\n",
    "    return Molecule(s)\n",
    "end"
   ]
  },
  {
   "cell_type": "code",
   "execution_count": 3,
   "id": "35fdfdf9",
   "metadata": {},
   "outputs": [
    {
     "data": {
      "text/plain": [
       "energy_at_bond (generic function with 1 method)"
      ]
     },
     "execution_count": 3,
     "metadata": {},
     "output_type": "execute_result"
    }
   ],
   "source": [
    "function energy_at_bond(r,N)\n",
    "  # define molecule geometry\n",
    "  molecule = create_molecule(\"H\",r,N)\n",
    "  # build electronic hamiltonian and solve HF\n",
    "  hf = molecular_orbital_hamiltonian(molecule; basis=\"sto-3g\")\n",
    "  hamiltonian = hf.hamiltonian\n",
    "  hartree_fock_state = hf.hartree_fock_state\n",
    "  hartree_fock_energy = hf.hartree_fock_energy\n",
    "  # hilbert space\n",
    "  s = siteinds(\"Electron\", N; conserve_qns=true)\n",
    "  H = MPO(hamiltonian, s)\n",
    "  # initialize MPS to HF state\n",
    "  ψhf = MPS(s, hartree_fock_state)\n",
    "  # run dmrg\n",
    "  dmrg_kwargs = (;\n",
    "    nsweeps=2,\n",
    "    maxdim=[10,20,30,40,50,100],\n",
    "    cutoff=1e-8,\n",
    "    noise=[1e-6, 1e-7, 1e-8, 0.0],\n",
    "  )\n",
    "  dmrg_energy, _ = dmrg(H, ψhf; nsweeps=2, outputlevel=0)\n",
    "  return hartree_fock_energy, dmrg_energy\n",
    "end"
   ]
  },
  {
   "cell_type": "code",
   "execution_count": 4,
   "id": "f9e50d36",
   "metadata": {},
   "outputs": [
    {
     "name": "stdout",
     "output_type": "stream",
     "text": [
      "converged SCF energy = 2.71588739329275\n",
      "RHF Energy (Ha): 2.7158873932927525\n"
     ]
    },
    {
     "data": {
      "text/plain": [
       "2.7158873932927525"
      ]
     },
     "execution_count": 4,
     "metadata": {},
     "output_type": "execute_result"
    }
   ],
   "source": [
    "energy_at_bond(0.1,2)[1]"
   ]
  },
  {
   "cell_type": "code",
   "execution_count": 13,
   "id": "74a7f6a9",
   "metadata": {},
   "outputs": [
    {
     "name": "stdout",
     "output_type": "stream",
     "text": [
      "converged SCF energy = -2.12138675587022\n",
      "RHF Energy (Ha): -2.121386755870221\n",
      "converged SCF energy = -2.12138675587022\n",
      "RHF Energy (Ha): -2.1213867558702226\n",
      "converged SCF energy = -2.12345177439825\n",
      "RHF Energy (Ha): -2.123451774398254\n",
      "converged SCF energy = -2.12345177439825\n",
      "RHF Energy (Ha): -2.1234517743982533\n",
      "converged SCF energy = -2.1250629749356\n",
      "RHF Energy (Ha): -2.1250629749355956\n",
      "converged SCF energy = -2.1250629749356\n",
      "RHF Energy (Ha): -2.1250629749355965\n",
      "converged SCF energy = -2.12624469644404\n",
      "RHF Energy (Ha): -2.1262446964440445\n",
      "converged SCF energy = -2.12624469644405\n",
      "RHF Energy (Ha): -2.126244696444048\n",
      "converged SCF energy = -2.12701986115409\n",
      "RHF Energy (Ha): -2.127019861154087\n",
      "converged SCF energy = -2.12701986115409\n",
      "RHF Energy (Ha): -2.1270198611540887\n",
      "converged SCF energy = -2.12741006395107\n",
      "RHF Energy (Ha): -2.1274100639510727\n",
      "converged SCF energy = -2.12741006395107\n",
      "RHF Energy (Ha): -2.127410063951071\n",
      "converged SCF energy = -2.12743565642466\n",
      "RHF Energy (Ha): -2.127435656424658\n",
      "converged SCF energy = -2.12743565642466\n",
      "RHF Energy (Ha): -2.127435656424659\n",
      "converged SCF energy = -2.12711582594087\n",
      "RHF Energy (Ha): -2.127115825940872\n",
      "converged SCF energy = -2.12711582594087\n",
      "RHF Energy (Ha): -2.127115825940872\n",
      "converged SCF energy = -2.12646867004639\n",
      "RHF Energy (Ha): -2.126468670046387\n",
      "converged SCF energy = -2.12646867004638\n",
      "RHF Energy (Ha): -2.126468670046384\n",
      "converged SCF energy = -2.12551126647223\n",
      "RHF Energy (Ha): -2.125511266472231\n",
      "converged SCF energy = -2.12551126647223\n",
      "RHF Energy (Ha): -2.12551126647223\n",
      "converged SCF energy = -2.12425973897278\n",
      "RHF Energy (Ha): -2.1242597389727784\n",
      "converged SCF energy = -2.12425973897278\n",
      "RHF Energy (Ha): -2.1242597389727784\n",
      "converged SCF energy = -2.12272931920961\n",
      "RHF Energy (Ha): -2.122729319209606\n",
      "converged SCF energy = -2.12272931920961\n",
      "RHF Energy (Ha): -2.122729319209607\n",
      "converged SCF energy = -2.12093440487008\n",
      "RHF Energy (Ha): -2.120934404870084\n",
      "converged SCF energy = -2.12093440487008\n",
      "RHF Energy (Ha): -2.120934404870082\n",
      "converged SCF energy = -2.11888861419525\n",
      "RHF Energy (Ha): -2.1188886141952525\n",
      "converged SCF energy = -2.11888861419525\n",
      "RHF Energy (Ha): -2.1188886141952525\n",
      "converged SCF energy = -2.11660483708146\n",
      "RHF Energy (Ha): -2.1166048370814643\n",
      "converged SCF energy = -2.11660483708146\n",
      "RHF Energy (Ha): -2.1166048370814643\n",
      "converged SCF energy = -2.11409528291053\n",
      "RHF Energy (Ha): -2.114095282910532\n",
      "converged SCF energy = -2.11409528291053\n",
      "RHF Energy (Ha): -2.114095282910533\n",
      "converged SCF energy = -2.11137152525847\n",
      "RHF Energy (Ha): -2.111371525258466\n",
      "converged SCF energy = -2.11137152525846\n",
      "RHF Energy (Ha): -2.1113715252584635\n",
      "converged SCF energy = -2.10844454362847\n",
      "RHF Energy (Ha): -2.1084445436284724\n",
      "converged SCF energy = -2.10844454362847\n",
      "RHF Energy (Ha): -2.1084445436284707\n",
      "converged SCF energy = -2.10532476235079\n",
      "RHF Energy (Ha): -2.105324762350788\n",
      "converged SCF energy = -2.10532476235079\n",
      "RHF Energy (Ha): -2.105324762350787\n",
      "converged SCF energy = -2.10202208678986\n",
      "RHF Energy (Ha): -2.1020220867898645\n",
      "converged SCF energy = -2.10202208678986\n",
      "RHF Energy (Ha): -2.1020220867898636\n",
      "converged SCF energy = -2.09854593699772\n",
      "RHF Energy (Ha): -2.098545936997719\n",
      "converged SCF energy = -2.09854593699772\n",
      "RHF Energy (Ha): -2.098545936997719\n"
     ]
    }
   ],
   "source": [
    "# bond distances\n",
    "r⃗ = 0.8:0.01:1\n",
    "# energies = []\n",
    "hartee_energy = []\n",
    "dmrg_energy = []\n",
    "for r in r⃗\n",
    "    push!(hartee_energy, energy_at_bond(r,4)[1])\n",
    "    push!(dmrg_energy, energy_at_bond(r,4)[2])\n",
    "#   push!(energies, (r,energy_at_bond(r,4)))\n",
    "end"
   ]
  },
  {
   "cell_type": "code",
   "execution_count": 14,
   "id": "8978020f",
   "metadata": {},
   "outputs": [
    {
     "data": {
      "text/plain": [
       "(21, 21)"
      ]
     },
     "execution_count": 14,
     "metadata": {},
     "output_type": "execute_result"
    }
   ],
   "source": [
    "length(dmrg_energy), length(hartee_energy)"
   ]
  },
  {
   "cell_type": "code",
   "execution_count": 15,
   "id": "25617c14",
   "metadata": {},
   "outputs": [
    {
     "data": {
      "text/plain": [
       "(0.87, 0.86)"
      ]
     },
     "execution_count": 15,
     "metadata": {},
     "output_type": "execute_result"
    }
   ],
   "source": [
    "r⃗[findmin(dmrg_energy)[2]], r⃗[findmin(hartee_energy)[2]]"
   ]
  },
  {
   "cell_type": "code",
   "execution_count": 16,
   "id": "9dae909b",
   "metadata": {},
   "outputs": [
    {
     "data": {
      "text/plain": [
       "((-2.15714737214169, 8), (-2.127435656424658, 7))"
      ]
     },
     "execution_count": 16,
     "metadata": {},
     "output_type": "execute_result"
    }
   ],
   "source": [
    "findmin(dmrg_energy) , findmin(hartee_energy)"
   ]
  },
  {
   "cell_type": "code",
   "execution_count": 12,
   "id": "4d43ef05",
   "metadata": {},
   "outputs": [],
   "source": [
    "# function min_energy(energy)\n",
    "#     dm_energy = []\n",
    "#     for j in energy\n",
    "#         push!(dm_energy, j[2][2])\n",
    "#     end\n",
    "#     min = minimum(dm_energy)\n",
    "#     for j in energy\n",
    "#         if j[2][2] == min\n",
    "#             return j\n",
    "#         end\n",
    "#     end\n",
    "# end"
   ]
  },
  {
   "cell_type": "markdown",
   "id": "c5e3e52a",
   "metadata": {},
   "source": [
    "# compute MPS"
   ]
  },
  {
   "cell_type": "markdown",
   "id": "026c7ebf",
   "metadata": {},
   "source": [
    "After finding optimal $r$ we can use it in it the main algorithm"
   ]
  },
  {
   "cell_type": "code",
   "execution_count": 17,
   "id": "f577df17",
   "metadata": {},
   "outputs": [
    {
     "data": {
      "text/plain": [
       "energy_at_bond (generic function with 2 methods)"
      ]
     },
     "execution_count": 17,
     "metadata": {},
     "output_type": "execute_result"
    }
   ],
   "source": [
    "function energy_at_bond(r)\n",
    "  # define molecule geometry\n",
    "  molecule = create_molecule(\"H\",r,4)\n",
    "  # build electronic hamiltonian \n",
    "  hf = molecular_orbital_hamiltonian(molecule; basis=\"sto-3g\")\n",
    "  hamiltonian = hf.hamiltonian\n",
    "  hartree_fock_state = hf.hartree_fock_state\n",
    "  hartree_fock_energy = hf.hartree_fock_energy\n",
    "  # hilbert space\n",
    "  s = siteinds(\"Electron\", 4; conserve_qns=true)\n",
    "  H = MPO(hamiltonian, s)\n",
    "  # initialize MPS to HF state\n",
    "  ψhf = MPS(s, hartree_fock_state)\n",
    "  # run dmrg\n",
    "  dmrg_kwargs = (;\n",
    "    nsweeps=10,\n",
    "    maxdim=[10,20,30,40,50,100],\n",
    "    cutoff=1e-8,\n",
    "    noise=[1e-6, 1e-7, 1e-8, 0.0],\n",
    "  )\n",
    "  dmrg_energy, _ = dmrg(H, ψhf; nsweeps=10, outputlevel=0)\n",
    "  return hartree_fock_energy, dmrg_energy\n",
    "end"
   ]
  },
  {
   "cell_type": "code",
   "execution_count": 18,
   "id": "41b2aa08",
   "metadata": {},
   "outputs": [
    {
     "data": {
      "text/plain": [
       "energy_at_bond (generic function with 2 methods)"
      ]
     },
     "execution_count": 18,
     "metadata": {},
     "output_type": "execute_result"
    }
   ],
   "source": [
    "# some changes to this func on the line 22\n",
    "function energy_at_bond(N,r)\n",
    "  # define molecule geometry\n",
    "  molecule = create_molecule(\"H\",r,N)\n",
    "  # build electronic hamiltonian \n",
    "  hf = molecular_orbital_hamiltonian(molecule; basis=\"sto-3g\")\n",
    "  hamiltonian = hf.hamiltonian\n",
    "  hartree_fock_state = hf.hartree_fock_state\n",
    "  hartree_fock_energy = hf.hartree_fock_energy\n",
    "  # hilbert space\n",
    "  s = siteinds(\"Electron\", N; conserve_qns=true)\n",
    "  H = MPO(hamiltonian, s)\n",
    "  # initialize MPS to HF state\n",
    "  ψhf = MPS(s, hartree_fock_state)\n",
    "  # run dmrg\n",
    "  dmrg_kwargs = (;\n",
    "    nsweeps=10,\n",
    "    maxdim=[10,20,30,40,50,100],\n",
    "    cutoff=1e-8,\n",
    "    noise=[1e-6, 1e-7, 1e-8, 0.0],\n",
    "  )\n",
    "  dm_e, dm_st = dmrg(H, ψhf; nsweeps=10, outputlevel=0)\n",
    "#   return hartree_fock_energy, dmrg_energy\n",
    "    return dm_e, dm_st\n",
    "end"
   ]
  },
  {
   "cell_type": "code",
   "execution_count": 24,
   "id": "91bac42a",
   "metadata": {},
   "outputs": [
    {
     "name": "stdout",
     "output_type": "stream",
     "text": [
      "converged SCF energy = -1.0985065850866\n",
      "RHF Energy (Ha): -1.098506585086596\n",
      "converged SCF energy = -2.12711582594087\n",
      "RHF Energy (Ha): -2.127115825940872\n"
     ]
    }
   ],
   "source": [
    "e2, ψ2 = energy_at_bond(2, 0.87);\n",
    "e4, ψ4 = energy_at_bond(4, 0.87);\n",
    "# e6, ψ6 = energy_at_bond(6, 0.87);\n",
    "# e8, ψ8 = energy_at_bond(8, 0.87);\n",
    "# e10, ψ10 = energy_at_bond(10, 0.87);\n",
    "# e12, ψ12 = energy_at_bond(12, 0.87);"
   ]
  },
  {
   "cell_type": "code",
   "execution_count": 27,
   "id": "47f6a414",
   "metadata": {},
   "outputs": [
    {
     "name": "stdout",
     "output_type": "stream",
     "text": [
      "MPS\t 2\n",
      "MPS\t 4\n"
     ]
    }
   ],
   "source": [
    "println(typeof(ψ2), \"\\t \",length(ψ2))\n",
    "println(typeof(ψ4), \"\\t \",length(ψ4))"
   ]
  },
  {
   "cell_type": "code",
   "execution_count": 23,
   "id": "000e60e2",
   "metadata": {},
   "outputs": [
    {
     "data": {
      "text/plain": [
       "2"
      ]
     },
     "execution_count": 23,
     "metadata": {},
     "output_type": "execute_result"
    }
   ],
   "source": [
    "ψ41 = ψ4[1:2];\n",
    "ψ42 = ψ4[3:4];\n"
   ]
  },
  {
   "cell_type": "code",
   "execution_count": null,
   "id": "96a69fb6",
   "metadata": {},
   "outputs": [],
   "source": []
  },
  {
   "cell_type": "code",
   "execution_count": null,
   "id": "bfef38fb",
   "metadata": {},
   "outputs": [],
   "source": []
  },
  {
   "cell_type": "markdown",
   "id": "c9303875",
   "metadata": {},
   "source": [
    "# Compute overlap"
   ]
  },
  {
   "cell_type": "code",
   "execution_count": 14,
   "id": "eff3383a",
   "metadata": {},
   "outputs": [],
   "source": [
    "v = nothing"
   ]
  },
  {
   "cell_type": "code",
   "execution_count": 28,
   "id": "ed97d312",
   "metadata": {},
   "outputs": [
    {
     "name": "stdout",
     "output_type": "stream",
     "text": [
      "1.0\n"
     ]
    }
   ],
   "source": [
    "v = ITensor(1.0)\n",
    "for j in 1:4\n",
    "    if j <= 2\n",
    "        v = v*dag(ψ4[j])*ψ2[j]\n",
    "#     else\n",
    "#         v = v*dag(dmrg_state4[j])*dmrg_state22[j-2]\n",
    "    end\n",
    "end\n",
    "println(inner(v,v))"
   ]
  },
  {
   "cell_type": "code",
   "execution_count": null,
   "id": "08b7a283",
   "metadata": {},
   "outputs": [],
   "source": []
  },
  {
   "cell_type": "code",
   "execution_count": null,
   "id": "ca879eb3",
   "metadata": {},
   "outputs": [],
   "source": []
  }
 ],
 "metadata": {
  "kernelspec": {
   "display_name": "Julia 1.9.4",
   "language": "julia",
   "name": "julia-1.9"
  },
  "language_info": {
   "file_extension": ".jl",
   "mimetype": "application/julia",
   "name": "julia",
   "version": "1.9.4"
  }
 },
 "nbformat": 4,
 "nbformat_minor": 5
}
