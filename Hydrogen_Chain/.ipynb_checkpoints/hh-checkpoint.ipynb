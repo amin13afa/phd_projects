{
 "cells": [
  {
   "cell_type": "code",
   "execution_count": 67,
   "id": "615157b9",
   "metadata": {},
   "outputs": [],
   "source": [
    "using ITensors\n",
    "using ITensorChemistry \n",
    "using Plots; gr()\n",
    "using DelimitedFiles \n",
    "using LaTeXStrings"
   ]
  },
  {
   "cell_type": "code",
   "execution_count": 252,
   "id": "f5969625",
   "metadata": {},
   "outputs": [
    {
     "name": "stdout",
     "output_type": "stream",
     "text": [
      "0.87\n",
      "1.74\n",
      "2.61\n",
      "3.48\n",
      "4.35\n",
      "5.22\n",
      "6.09\n",
      "6.96\n",
      "7.83\n",
      "8.7\n",
      "9.57\n",
      "10.44\n",
      "11.31\n",
      "12.18\n"
     ]
    }
   ],
   "source": [
    "for j in 1:14\n",
    "    println(j*0.87)\n",
    "end"
   ]
  },
  {
   "cell_type": "code",
   "execution_count": 2,
   "id": "916c1d01",
   "metadata": {},
   "outputs": [
    {
     "data": {
      "text/plain": [
       "Molecule\n",
       "Atom 1: H,   r⃗ = (0.0, 0.0, 0.0)\n",
       "Atom 2: H,   r⃗ = (0.87, 0.0, 0.0)\n",
       "Atom 3: H,   r⃗ = (1.74, 0.0, 0.0)\n",
       "Atom 4: H,   r⃗ = (2.61, 0.0, 0.0)\n",
       "Atom 5: H,   r⃗ = (3.38, 0.0, 0.0)\n",
       "Atom 6: H,   r⃗ = (4.35, 0.0, 0.0)\n",
       "Atom 7: H,   r⃗ = (5.22, 0.0, 0.0)\n",
       "Atom 8: H,   r⃗ = (6.09, 0.0, 0.0)\n",
       "Atom 9: H,   r⃗ = (7.83, 0.0, 0.0)\n",
       "Atom 10: H,   r⃗ = (8.7, 0.0, 0.0)\n",
       "Atom 11: H,   r⃗ = (9.57, 0.0, 0.0)\n",
       "Atom 12: H,   r⃗ = (10.44, 0.0, 0.0)\n",
       "Atom 13: H,   r⃗ = (11.31, 0.0, 0.0)\n",
       "Atom 14: H,   r⃗ = (12.18, 0.0, 0.0)\n"
      ]
     },
     "execution_count": 2,
     "metadata": {},
     "output_type": "execute_result"
    }
   ],
   "source": [
    "molecule2 = Molecule([\n",
    "        (\"H\", 0.0, 0.0, 0.0),\n",
    "        (\"H\", 0.87, 0.0, 0.0)])\n",
    "\n",
    "molecule4 = Molecule([\n",
    "        (\"H\", 0.0, 0.0, 0.0),\n",
    "        (\"H\", 0.87, 0.0, 0.0),\n",
    "        (\"H\", 1.74, 0.0, 0.0),\n",
    "        (\"H\", 2.61, 0.0, 0.0)])\n",
    "\n",
    "molecule6 = Molecule([\n",
    "        (\"H\", 0.0, 0.0, 0.0),\n",
    "        (\"H\", 0.87, 0.0, 0.0),\n",
    "        (\"H\", 1.74, 0.0, 0.0),\n",
    "        (\"H\", 2.61, 0.0, 0.0),\n",
    "        (\"H\", 3.38, 0.0, 0.0),\n",
    "        (\"H\", 4.35, 0.0, 0.0)])\n",
    "\n",
    "molecule8 = Molecule([\n",
    "        (\"H\", 0.0, 0.0, 0.0),\n",
    "        (\"H\", 0.87, 0.0, 0.0),\n",
    "        (\"H\", 1.74, 0.0, 0.0),\n",
    "        (\"H\", 2.61, 0.0, 0.0),\n",
    "        (\"H\", 3.38, 0.0, 0.0),\n",
    "        (\"H\", 4.35, 0.0, 0.0),\n",
    "        (\"H\", 5.22, 0.0, 0.0),\n",
    "        (\"H\", 6.09, 0.0, 0.0)])\n",
    "\n",
    "molecule10 = Molecule([\n",
    "        (\"H\", 0.0, 0.0, 0.0),\n",
    "        (\"H\", 0.87, 0.0, 0.0),\n",
    "        (\"H\", 1.74, 0.0, 0.0),\n",
    "        (\"H\", 2.61, 0.0, 0.0),\n",
    "        (\"H\", 3.38, 0.0, 0.0),\n",
    "        (\"H\", 4.35, 0.0, 0.0),\n",
    "        (\"H\", 5.22, 0.0, 0.0),\n",
    "        (\"H\", 6.09, 0.0, 0.0),\n",
    "        (\"H\", 7.83, 0.0, 0.0), \n",
    "        (\"H\", 8.70, 0.0, 0.0)])\n",
    "\n",
    "molecule12 = Molecule([\n",
    "        (\"H\", 0.0, 0.0, 0.0),\n",
    "        (\"H\", 0.87, 0.0, 0.0),\n",
    "        (\"H\", 1.74, 0.0, 0.0),\n",
    "        (\"H\", 2.61, 0.0, 0.0),\n",
    "        (\"H\", 3.38, 0.0, 0.0),\n",
    "        (\"H\", 4.35, 0.0, 0.0),\n",
    "        (\"H\", 5.22, 0.0, 0.0),\n",
    "        (\"H\", 6.09, 0.0, 0.0),\n",
    "        (\"H\", 7.83, 0.0, 0.0), \n",
    "        (\"H\", 8.70, 0.0, 0.0),\n",
    "        (\"H\", 9.57, 0.0, 0.0),\n",
    "        (\"H\", 10.44, 0.0, 0.0)])\n",
    "\n",
    "\n",
    "molecule14 = Molecule([\n",
    "        (\"H\", 0.0, 0.0, 0.0),\n",
    "        (\"H\", 0.87, 0.0, 0.0),\n",
    "        (\"H\", 1.74, 0.0, 0.0),\n",
    "        (\"H\", 2.61, 0.0, 0.0),\n",
    "        (\"H\", 3.38, 0.0, 0.0),\n",
    "        (\"H\", 4.35, 0.0, 0.0),\n",
    "        (\"H\", 5.22, 0.0, 0.0),\n",
    "        (\"H\", 6.09, 0.0, 0.0),\n",
    "        (\"H\", 7.83, 0.0, 0.0), \n",
    "        (\"H\", 8.70, 0.0, 0.0),\n",
    "        (\"H\", 9.57, 0.0, 0.0),\n",
    "        (\"H\", 10.44, 0.0, 0.0),\n",
    "        (\"H\", 11.31, 0.0, 0.0),\n",
    "        (\"H\", 12.18, 0.0, 0.0)])\n"
   ]
  },
  {
   "cell_type": "code",
   "execution_count": 18,
   "id": "463ee16f",
   "metadata": {},
   "outputs": [
    {
     "data": {
      "text/plain": [
       "178"
      ]
     },
     "execution_count": 18,
     "metadata": {},
     "output_type": "execute_result"
    }
   ],
   "source": [
    "Base.summarysize(molecule2)"
   ]
  },
  {
   "cell_type": "code",
   "execution_count": 3,
   "id": "90889547",
   "metadata": {},
   "outputs": [
    {
     "name": "stdout",
     "output_type": "stream",
     "text": [
      "converged SCF energy = -1.0985065850866\n",
      "RHF Energy (Ha): -1.098506585086596\n",
      "converged SCF energy = -2.12711582594087\n",
      "RHF Energy (Ha): -2.127115825940871\n",
      "converged SCF energy = -3.11542505193597\n",
      "RHF Energy (Ha): -3.1154250519359747\n",
      "converged SCF energy = -4.1578375795519\n",
      "RHF Energy (Ha): -4.157837579551899\n",
      "converged SCF energy = -5.25338761569694\n",
      "RHF Energy (Ha): -5.253387615696942\n",
      "converged SCF energy = -6.28247104985862\n",
      "RHF Energy (Ha): -6.282471049858618\n",
      "converged SCF energy = -7.3152261181667\n",
      "RHF Energy (Ha): -7.315226118166699\n"
     ]
    }
   ],
   "source": [
    "hf2 = molecular_orbital_hamiltonian(molecule2; basis=\"sto-3g\");\n",
    "hf4 = molecular_orbital_hamiltonian(molecule4; basis=\"sto-3g\");\n",
    "hf6 = molecular_orbital_hamiltonian(molecule6; basis=\"sto-3g\");\n",
    "hf8 = molecular_orbital_hamiltonian(molecule8; basis=\"sto-3g\");\n",
    "hf10 = molecular_orbital_hamiltonian(molecule10; basis=\"sto-3g\");\n",
    "hf12 = molecular_orbital_hamiltonian(molecule12; basis=\"sto-3g\");\n",
    "hf14 = molecular_orbital_hamiltonian(molecule14; basis=\"sto-3g\");"
   ]
  },
  {
   "cell_type": "code",
   "execution_count": 7,
   "id": "d4da341a",
   "metadata": {},
   "outputs": [
    {
     "data": {
      "text/plain": [
       "\"147.141 KiB\""
      ]
     },
     "execution_count": 7,
     "metadata": {},
     "output_type": "execute_result"
    }
   ],
   "source": [
    "Base.format_bytes(Base.summarysize(hf4))"
   ]
  },
  {
   "cell_type": "code",
   "execution_count": 4,
   "id": "82bf8040",
   "metadata": {},
   "outputs": [],
   "source": [
    "hamiltonian2 = hf2.hamiltonian;\n",
    "hamiltonian4 = hf4.hamiltonian;\n",
    "hamiltonian6 = hf6.hamiltonian;\n",
    "hamiltonian8 = hf8.hamiltonian;\n",
    "hamiltonian10 = hf10.hamiltonian;\n",
    "hamiltonian12 = hf12.hamiltonian;\n",
    "hamiltonian14 = hf14.hamiltonian;"
   ]
  },
  {
   "cell_type": "code",
   "execution_count": 5,
   "id": "dda2e328",
   "metadata": {},
   "outputs": [],
   "source": [
    "hartee_fock_state2 = hf2.hartree_fock_state;\n",
    "hartee_fock_state4 = hf4.hartree_fock_state;\n",
    "hartee_fock_state6 = hf6.hartree_fock_state;\n",
    "hartee_fock_state8 = hf8.hartree_fock_state;\n",
    "hartee_fock_state10 = hf10.hartree_fock_state;\n",
    "hartee_fock_state12 = hf12.hartree_fock_state;\n",
    "hartee_fock_state14 = hf14.hartree_fock_state;"
   ]
  },
  {
   "cell_type": "code",
   "execution_count": 6,
   "id": "cf9db334",
   "metadata": {},
   "outputs": [],
   "source": [
    "hartee_fock_energy2 = hf2.hartree_fock_energy;\n",
    "hartee_fock_energy4 = hf4.hartree_fock_energy;\n",
    "hartee_fock_energy6 = hf6.hartree_fock_energy;\n",
    "hartee_fock_energy8 = hf8.hartree_fock_energy;\n",
    "hartee_fock_energy10 = hf10.hartree_fock_energy;\n",
    "hartee_fock_energy12 = hf12.hartree_fock_energy;\n",
    "hartee_fock_energy14 = hf14.hartree_fock_energy;"
   ]
  },
  {
   "cell_type": "markdown",
   "id": "68b671c7",
   "metadata": {},
   "source": [
    "## hilbert space"
   ]
  },
  {
   "cell_type": "code",
   "execution_count": 7,
   "id": "bf7ae84e",
   "metadata": {},
   "outputs": [],
   "source": [
    "# s = siteinds(\"Electron\", 4; conserve_qns=true)\n",
    "s = siteinds(\"Electron\", 14);\n",
    "# Base.format_bytes(Base.summarysize(s))"
   ]
  },
  {
   "cell_type": "code",
   "execution_count": 8,
   "id": "9e09f3a3",
   "metadata": {},
   "outputs": [],
   "source": [
    "H21 = MPO(hamiltonian2, s[1:2]);\n",
    "H22 = MPO(hamiltonian2, s[3:4]);\n",
    "H23 = MPO(hamiltonian2, s[5:6]);\n",
    "H24 = MPO(hamiltonian2, s[7:8]);\n",
    "H25 = MPO(hamiltonian2, s[9:10]);\n",
    "H26 = MPO(hamiltonian2, s[11:12]);\n",
    "H27 = MPO(hamiltonian2, s[13:14]);"
   ]
  },
  {
   "cell_type": "code",
   "execution_count": 9,
   "id": "2228818f",
   "metadata": {},
   "outputs": [],
   "source": [
    "H41 = MPO(hamiltonian4, s[1:4]);\n",
    "H42 = MPO(hamiltonian4, s[5:8]);\n",
    "H43 = MPO(hamiltonian4, s[9:12]);"
   ]
  },
  {
   "cell_type": "code",
   "execution_count": 10,
   "id": "1ff48d5e",
   "metadata": {},
   "outputs": [],
   "source": [
    "H61 = MPO(hamiltonian6, s[1:6]);\n",
    "H62 = MPO(hamiltonian6, s[7:12]);"
   ]
  },
  {
   "cell_type": "code",
   "execution_count": 11,
   "id": "8a95d175",
   "metadata": {},
   "outputs": [],
   "source": [
    "H8 = MPO(hamiltonian8, s[1:8]);"
   ]
  },
  {
   "cell_type": "code",
   "execution_count": 12,
   "id": "b7ec27ce",
   "metadata": {},
   "outputs": [],
   "source": [
    "H10 = MPO(hamiltonian10, s[1:10]);"
   ]
  },
  {
   "cell_type": "code",
   "execution_count": 13,
   "id": "a50a0289",
   "metadata": {},
   "outputs": [],
   "source": [
    "H12 = MPO(hamiltonian12, s[1:12]);"
   ]
  },
  {
   "cell_type": "code",
   "execution_count": 14,
   "id": "0d807625",
   "metadata": {},
   "outputs": [],
   "source": [
    "H14 = MPO(hamiltonian14, s[1:14]);"
   ]
  },
  {
   "cell_type": "markdown",
   "id": "20823ccc",
   "metadata": {},
   "source": [
    "##  initialize MPS to HF state"
   ]
  },
  {
   "cell_type": "code",
   "execution_count": 15,
   "id": "d7d567dd",
   "metadata": {},
   "outputs": [],
   "source": [
    "ψhf21 = MPS(s[1:2], hartee_fock_state2);\n",
    "ψhf22 = MPS(s[3:4], hartee_fock_state2);\n",
    "ψhf23 = MPS(s[5:6], hartee_fock_state2);\n",
    "ψhf24 = MPS(s[7:8], hartee_fock_state2);\n",
    "ψhf25 = MPS(s[9:10], hartee_fock_state2);\n",
    "ψhf26 = MPS(s[11:12], hartee_fock_state2);\n",
    "ψhf27 = MPS(s[13:14], hartee_fock_state2);"
   ]
  },
  {
   "cell_type": "code",
   "execution_count": 16,
   "id": "594fffbf",
   "metadata": {},
   "outputs": [],
   "source": [
    "ψhf41 = MPS(s[1:4], hartee_fock_state4);\n",
    "ψhf42 = MPS(s[5:8], hartee_fock_state4);\n",
    "ψhf43 = MPS(s[9:12], hartee_fock_state4);"
   ]
  },
  {
   "cell_type": "code",
   "execution_count": 17,
   "id": "4d7118f2",
   "metadata": {},
   "outputs": [],
   "source": [
    "ψhf61 = MPS(s[1:6], hartee_fock_state6);\n",
    "ψhf62 = MPS(s[7:12], hartee_fock_state6);"
   ]
  },
  {
   "cell_type": "code",
   "execution_count": 18,
   "id": "af70b63d",
   "metadata": {},
   "outputs": [],
   "source": [
    "ψhf8 = MPS(s[1:8], hartee_fock_state8);"
   ]
  },
  {
   "cell_type": "code",
   "execution_count": 19,
   "id": "713a1958",
   "metadata": {},
   "outputs": [],
   "source": [
    "ψhf10 = MPS(s[1:10], hartee_fock_state10);"
   ]
  },
  {
   "cell_type": "code",
   "execution_count": 20,
   "id": "f25f0333",
   "metadata": {},
   "outputs": [],
   "source": [
    "ψhf12 = MPS(s[1:12], hartee_fock_state12);"
   ]
  },
  {
   "cell_type": "code",
   "execution_count": 21,
   "id": "aa873f9c",
   "metadata": {},
   "outputs": [],
   "source": [
    "ψhf14 = MPS(s[1:14], hartee_fock_state14);"
   ]
  },
  {
   "cell_type": "markdown",
   "id": "c2d7ae70",
   "metadata": {},
   "source": [
    "ψhf21 = MPS(s[1:2], hartee_fock_state2);\n",
    "ψhf22 = MPS(s[3:4], hartee_fock_state2);\n",
    "ψhf23 = MPS(s[5:6], hartee_fock_state2);\n",
    "ψhf24 = MPS(s[7:8], hartee_fock_state2);\n",
    "ψhf25 = MPS(s[9:10], hartee_fock_state2);\n",
    "ψhf26 = MPS(s[11:12], hartee_fock_state2);\n",
    "\n",
    "ψhf41 = MPS(s[1:4], hartee_fock_state4);\n",
    "ψhf42 = MPS(s[5:8], hartee_fock_state4);\n",
    "ψhf43 = MPS(s[9:12], hartee_fock_state4);\n",
    "\n",
    "ψhf61 = MPS(s[1:6], hartee_fock_state6);\n",
    "ψhf62 = MPS(s[7:12], hartee_fock_state6);\n",
    "\n",
    "ψhf8 = MPS(s[1:8], hartee_fock_state8);\n",
    "\n",
    "ψhf10 = MPS(s[1:10], hartee_fock_state10);\n",
    "\n",
    "ψhf12 = MPS(s[1:12], hartee_fock_state12);"
   ]
  },
  {
   "cell_type": "code",
   "execution_count": 48,
   "id": "99f01445",
   "metadata": {},
   "outputs": [],
   "source": [
    "# dmrg_kwargs = (\n",
    "#     nsweeps = 5,\n",
    "#     maxdim = [10,20,30,50,100],\n",
    "#     cutoff = 1e-8,\n",
    "# #     noise = [1e-6, 1e-7, 1e-8,1e-8,]\n",
    "# )\n",
    "nsweeps1 = 5;\n",
    "maxdim1 = [10,20,30,50,100];\n",
    "cutoff1 = [1e-8];\n",
    "# noise1 = [1e-6, 1e-7, 1e-8,1e-8,1e-8];"
   ]
  },
  {
   "cell_type": "code",
   "execution_count": 51,
   "id": "fc7b6f2c",
   "metadata": {},
   "outputs": [
    {
     "name": "stdout",
     "output_type": "stream",
     "text": [
      "After sweep 1 energy=-1.12544586344897  maxlinkdim=2 maxerr=0.00E+00 time=0.003\n",
      "After sweep 2 energy=-1.12544586344897  maxlinkdim=2 maxerr=0.00E+00 time=0.002\n",
      "After sweep 3 energy=-1.12544586344897  maxlinkdim=2 maxerr=0.00E+00 time=0.002\n",
      "After sweep 4 energy=-1.12544586344897  maxlinkdim=2 maxerr=0.00E+00 time=0.001\n",
      "After sweep 5 energy=-1.12544586344897  maxlinkdim=2 maxerr=0.00E+00 time=0.001\n"
     ]
    }
   ],
   "source": [
    "dmrg_energy21, dmrg_state21 = dmrg(H21, ψhf21, nsweeps=nsweeps1,\n",
    ",maxdim=maxdim1, cutoff=cutoff1);"
   ]
  },
  {
   "cell_type": "code",
   "execution_count": 52,
   "id": "d7271411",
   "metadata": {},
   "outputs": [
    {
     "name": "stdout",
     "output_type": "stream",
     "text": [
      "After sweep 1 energy=-1.12544586344897  maxlinkdim=2 maxerr=0.00E+00 time=0.002\n",
      "After sweep 2 energy=-1.12544586344897  maxlinkdim=2 maxerr=0.00E+00 time=0.002\n",
      "After sweep 3 energy=-1.12544586344897  maxlinkdim=2 maxerr=0.00E+00 time=0.002\n",
      "After sweep 4 energy=-1.12544586344897  maxlinkdim=2 maxerr=0.00E+00 time=0.002\n",
      "After sweep 5 energy=-1.12544586344897  maxlinkdim=2 maxerr=0.00E+00 time=0.002\n",
      "After sweep 1 energy=-1.12544586344897  maxlinkdim=2 maxerr=0.00E+00 time=0.002\n",
      "After sweep 2 energy=-1.12544586344897  maxlinkdim=2 maxerr=0.00E+00 time=0.001\n",
      "After sweep 3 energy=-1.12544586344897  maxlinkdim=2 maxerr=0.00E+00 time=0.001\n",
      "After sweep 4 energy=-1.12544586344897  maxlinkdim=2 maxerr=0.00E+00 time=0.002\n",
      "After sweep 5 energy=-1.12544586344897  maxlinkdim=2 maxerr=0.00E+00 time=0.002\n",
      "After sweep 1 energy=-1.12544586344897  maxlinkdim=2 maxerr=0.00E+00 time=0.002\n",
      "After sweep 2 energy=-1.12544586344897  maxlinkdim=2 maxerr=0.00E+00 time=0.001\n",
      "After sweep 3 energy=-1.12544586344897  maxlinkdim=2 maxerr=0.00E+00 time=0.001\n",
      "After sweep 4 energy=-1.12544586344897  maxlinkdim=2 maxerr=0.00E+00 time=0.001\n",
      "After sweep 5 energy=-1.12544586344897  maxlinkdim=2 maxerr=0.00E+00 time=0.001\n",
      "After sweep 1 energy=-1.12544586344897  maxlinkdim=2 maxerr=0.00E+00 time=0.001\n",
      "After sweep 2 energy=-1.12544586344897  maxlinkdim=2 maxerr=0.00E+00 time=0.001\n",
      "After sweep 3 energy=-1.12544586344897  maxlinkdim=2 maxerr=0.00E+00 time=0.001\n",
      "After sweep 4 energy=-1.12544586344897  maxlinkdim=2 maxerr=0.00E+00 time=0.001\n",
      "After sweep 5 energy=-1.12544586344897  maxlinkdim=2 maxerr=0.00E+00 time=0.001\n",
      "After sweep 1 energy=-1.12544586344897  maxlinkdim=2 maxerr=0.00E+00 time=0.002\n",
      "After sweep 2 energy=-1.12544586344897  maxlinkdim=2 maxerr=0.00E+00 time=0.002\n",
      "After sweep 3 energy=-1.12544586344897  maxlinkdim=2 maxerr=0.00E+00 time=0.002\n",
      "After sweep 4 energy=-1.12544586344897  maxlinkdim=2 maxerr=0.00E+00 time=0.002\n",
      "After sweep 5 energy=-1.12544586344897  maxlinkdim=2 maxerr=0.00E+00 time=0.002\n",
      "After sweep 1 energy=-1.12544586344897  maxlinkdim=2 maxerr=0.00E+00 time=0.002\n",
      "After sweep 2 energy=-1.12544586344897  maxlinkdim=2 maxerr=0.00E+00 time=0.002\n",
      "After sweep 3 energy=-1.12544586344897  maxlinkdim=2 maxerr=0.00E+00 time=0.002\n",
      "After sweep 4 energy=-1.12544586344897  maxlinkdim=2 maxerr=0.00E+00 time=0.002\n",
      "After sweep 5 energy=-1.12544586344897  maxlinkdim=2 maxerr=0.00E+00 time=0.002\n",
      "After sweep 1 energy=-1.12544586344897  maxlinkdim=2 maxerr=0.00E+00 time=0.002\n",
      "After sweep 2 energy=-1.12544586344897  maxlinkdim=2 maxerr=0.00E+00 time=0.002\n",
      "After sweep 3 energy=-1.12544586344897  maxlinkdim=2 maxerr=0.00E+00 time=0.002\n",
      "After sweep 4 energy=-1.12544586344897  maxlinkdim=2 maxerr=0.00E+00 time=0.002\n",
      "After sweep 5 energy=-1.12544586344897  maxlinkdim=2 maxerr=0.00E+00 time=0.002\n"
     ]
    }
   ],
   "source": [
    "dmrg_energy21, dmrg_state21 = dmrg(H21, ψhf21, nsweeps=5,maxdim=maxdim1, cutoff=cutoff1);\n",
    "dmrg_energy22, dmrg_state22 = dmrg(H22, ψhf22; nsweeps=5,maxdim=maxdim1, cutoff=cutoff1);\n",
    "dmrg_energy23, dmrg_state23 = dmrg(H23, ψhf23; nsweeps=5,maxdim=maxdim1, cutoff=cutoff1);\n",
    "dmrg_energy24, dmrg_state24 = dmrg(H24, ψhf24; nsweeps=5,maxdim=maxdim1, cutoff=cutoff1);\n",
    "dmrg_energy25, dmrg_state25 = dmrg(H25, ψhf25; nsweeps=5,maxdim=maxdim1, cutoff=cutoff1);\n",
    "dmrg_energy26, dmrg_state26 = dmrg(H26, ψhf26; nsweeps=5,maxdim=maxdim1, cutoff=cutoff1);\n",
    "dmrg_energy27, dmrg_state27 = dmrg(H27, ψhf27; nsweeps=5,maxdim=maxdim1, cutoff=cutoff1);"
   ]
  },
  {
   "cell_type": "code",
   "execution_count": 53,
   "id": "b6500b31",
   "metadata": {},
   "outputs": [
    {
     "name": "stdout",
     "output_type": "stream",
     "text": [
      "After sweep 1 energy=-2.1563339983776193  maxlinkdim=2 maxerr=7.77E-16 time=9.286\n",
      "After sweep 2 energy=-2.157147372141689  maxlinkdim=4 maxerr=2.38E-16 time=0.014\n",
      "After sweep 3 energy=-2.1571473721435224  maxlinkdim=4 maxerr=2.22E-16 time=0.015\n",
      "After sweep 4 energy=-2.157147372143521  maxlinkdim=4 maxerr=2.65E-16 time=0.016\n",
      "After sweep 5 energy=-2.157147372143521  maxlinkdim=4 maxerr=2.15E-16 time=0.010\n",
      "After sweep 1 energy=-2.1563339983776193  maxlinkdim=2 maxerr=7.77E-16 time=0.009\n",
      "After sweep 2 energy=-2.157147372141689  maxlinkdim=4 maxerr=2.38E-16 time=0.016\n",
      "After sweep 3 energy=-2.1571473721435224  maxlinkdim=4 maxerr=2.22E-16 time=0.010\n",
      "After sweep 4 energy=-2.157147372143521  maxlinkdim=4 maxerr=2.65E-16 time=0.014\n",
      "After sweep 5 energy=-2.157147372143521  maxlinkdim=4 maxerr=2.15E-16 time=0.010\n",
      "After sweep 1 energy=-2.1563339983776193  maxlinkdim=2 maxerr=7.77E-16 time=0.009\n",
      "After sweep 2 energy=-2.157147372141689  maxlinkdim=4 maxerr=2.38E-16 time=0.010\n",
      "After sweep 3 energy=-2.1571473721435224  maxlinkdim=4 maxerr=2.22E-16 time=0.030\n",
      "After sweep 4 energy=-2.157147372143521  maxlinkdim=4 maxerr=2.65E-16 time=0.008\n",
      "After sweep 5 energy=-2.157147372143521  maxlinkdim=4 maxerr=2.15E-16 time=0.007\n"
     ]
    }
   ],
   "source": [
    "dmrg_energy41, dmrg_state41 = dmrg(H41, ψhf41; nsweeps=5,maxdim=maxdim1, cutoff=cutoff1);\n",
    "dmrg_energy42, dmrg_state42 = dmrg(H42, ψhf42; nsweeps=5,maxdim=maxdim1, cutoff=cutoff1);\n",
    "dmrg_energy43, dmrg_state43 = dmrg(H43, ψhf43; nsweeps=5,maxdim=maxdim1, cutoff=cutoff1);"
   ]
  },
  {
   "cell_type": "code",
   "execution_count": 54,
   "id": "a28f324d",
   "metadata": {},
   "outputs": [
    {
     "name": "stdout",
     "output_type": "stream",
     "text": [
      "After sweep 1 energy=-3.152265785754445  maxlinkdim=6 maxerr=9.07E-17 time=0.019\n",
      "After sweep 2 energy=-3.199062728758602  maxlinkdim=20 maxerr=9.27E-06 time=0.084\n",
      "After sweep 3 energy=-3.2025766131985565  maxlinkdim=30 maxerr=9.47E-05 time=0.162\n",
      "After sweep 4 energy=-3.2028836771928546  maxlinkdim=50 maxerr=2.51E-07 time=0.195\n",
      "After sweep 5 energy=-3.2028847154921185  maxlinkdim=62 maxerr=6.59E-10 time=0.231\n",
      "After sweep 1 energy=-3.152265785754445  maxlinkdim=6 maxerr=9.07E-17 time=0.019\n",
      "After sweep 2 energy=-3.199062728758602  maxlinkdim=20 maxerr=9.27E-06 time=0.079\n",
      "After sweep 3 energy=-3.2025766131985565  maxlinkdim=30 maxerr=9.47E-05 time=0.191\n",
      "After sweep 4 energy=-3.2028836771928546  maxlinkdim=50 maxerr=2.51E-07 time=0.203\n",
      "After sweep 5 energy=-3.2028847154921185  maxlinkdim=62 maxerr=6.59E-10 time=0.233\n"
     ]
    }
   ],
   "source": [
    "dmrg_energy61, dmrg_state61 = dmrg(H61, ψhf61; nsweeps=5,maxdim=maxdim1, cutoff=cutoff1);\n",
    "dmrg_energy62, dmrg_state62 = dmrg(H62, ψhf62; nsweeps=5,maxdim=maxdim1, cutoff=cutoff1);"
   ]
  },
  {
   "cell_type": "code",
   "execution_count": 55,
   "id": "cd2f2a42",
   "metadata": {},
   "outputs": [
    {
     "name": "stdout",
     "output_type": "stream",
     "text": [
      "After sweep 1 energy=-4.195318298266921  maxlinkdim=6 maxerr=1.50E-16 time=0.050\n",
      "After sweep 2 energy=-4.22715869555913  maxlinkdim=20 maxerr=5.21E-06 time=0.255\n",
      "After sweep 3 energy=-4.269439106653268  maxlinkdim=30 maxerr=5.24E-04 time=1.053\n",
      "After sweep 4 energy=-4.271170391105449  maxlinkdim=50 maxerr=2.19E-04 time=2.112\n",
      "After sweep 5 energy=-4.2720992869342584  maxlinkdim=100 maxerr=2.02E-05 time=4.493\n"
     ]
    }
   ],
   "source": [
    "dmrg_energy8, dmrg_state8 = dmrg(H8, ψhf8; nsweeps=5,maxdim=maxdim1, cutoff=cutoff1);"
   ]
  },
  {
   "cell_type": "code",
   "execution_count": 56,
   "id": "c28a0027",
   "metadata": {},
   "outputs": [
    {
     "name": "stdout",
     "output_type": "stream",
     "text": [
      "After sweep 1 energy=-5.289125998353681  maxlinkdim=6 maxerr=2.58E-16 time=0.100\n",
      "After sweep 2 energy=-5.344110032994354  maxlinkdim=20 maxerr=3.07E-05 time=0.661\n",
      "After sweep 3 energy=-5.387600769583745  maxlinkdim=30 maxerr=6.21E-04 time=3.396\n",
      "After sweep 4 energy=-5.390368049711089  maxlinkdim=50 maxerr=2.58E-04 time=7.792\n",
      "After sweep 5 energy=-5.3935541288196625  maxlinkdim=100 maxerr=8.62E-05 time=26.013\n"
     ]
    }
   ],
   "source": [
    "dmrg_energy10, dmrg_state10 = dmrg(H10, ψhf10; nsweeps=5,maxdim=maxdim1, cutoff=cutoff1);"
   ]
  },
  {
   "cell_type": "code",
   "execution_count": 57,
   "id": "d40a47f5",
   "metadata": {},
   "outputs": [
    {
     "name": "stdout",
     "output_type": "stream",
     "text": [
      "After sweep 1 energy=-6.318254878567073  maxlinkdim=6 maxerr=1.11E-15 time=0.184\n",
      "After sweep 2 energy=-6.371891773247151  maxlinkdim=20 maxerr=2.71E-05 time=1.547\n",
      "After sweep 3 energy=-6.420555506124358  maxlinkdim=30 maxerr=6.03E-04 time=7.574\n",
      "After sweep 4 energy=-6.440952258823222  maxlinkdim=50 maxerr=3.94E-04 time=20.392\n",
      "After sweep 5 energy=-6.445600568763879  maxlinkdim=100 maxerr=1.52E-04 time=70.247\n"
     ]
    }
   ],
   "source": [
    "dmrg_energy12, dmrg_state12 = dmrg(H12, ψhf12; nsweeps=5,maxdim=maxdim1, cutoff=cutoff1);"
   ]
  },
  {
   "cell_type": "code",
   "execution_count": null,
   "id": "08282d51",
   "metadata": {},
   "outputs": [],
   "source": [
    "dmrg_energy14, dmrg_state14 = dmrg(H14, ψhf14; nsweeps=5,maxdim=maxdim1, cutoff=cutoff1);"
   ]
  },
  {
   "cell_type": "markdown",
   "id": "c0806c95",
   "metadata": {},
   "source": [
    "# clean ram "
   ]
  },
  {
   "cell_type": "code",
   "execution_count": 81,
   "id": "b8e97872",
   "metadata": {},
   "outputs": [],
   "source": [
    "clear_history([dmrg_state61, dmrg_energy61])"
   ]
  },
  {
   "cell_type": "code",
   "execution_count": 76,
   "id": "e17f9d5a",
   "metadata": {},
   "outputs": [
    {
     "data": {
      "text/plain": [
       "(nothing, nothing, nothing)"
      ]
     },
     "execution_count": 76,
     "metadata": {},
     "output_type": "execute_result"
    }
   ],
   "source": [
    "dmrg_state43, dmrg_state42, dmrg_state41 = nothing, nothing, nothing"
   ]
  },
  {
   "cell_type": "markdown",
   "id": "5596d667",
   "metadata": {},
   "source": [
    "## Overlap"
   ]
  },
  {
   "cell_type": "code",
   "execution_count": 59,
   "id": "b2363361",
   "metadata": {},
   "outputs": [
    {
     "data": {
      "text/plain": [
       "Any[]"
      ]
     },
     "execution_count": 59,
     "metadata": {},
     "output_type": "execute_result"
    }
   ],
   "source": [
    "vrlp = []"
   ]
  },
  {
   "cell_type": "code",
   "execution_count": 60,
   "id": "8f5a4b6a",
   "metadata": {},
   "outputs": [
    {
     "name": "stdout",
     "output_type": "stream",
     "text": [
      "0.11581637536615749\n"
     ]
    }
   ],
   "source": [
    "# overlap between H2-H4\n",
    "v = nothing\n",
    "v = ITensor(1.0)\n",
    "for j in 1:4\n",
    "    if j <= 2\n",
    "        v = v*dag(dmrg_state41[j])*dmrg_state21[j]\n",
    "    else\n",
    "        v = v*dag(dmrg_state41[j])*dmrg_state22[j-2]\n",
    "    end\n",
    "end\n",
    "push!(vrlp, norm(v))\n",
    "println(norm(v))"
   ]
  },
  {
   "cell_type": "code",
   "execution_count": 61,
   "id": "9588335f",
   "metadata": {},
   "outputs": [
    {
     "name": "stdout",
     "output_type": "stream",
     "text": [
      "0.027215499921285524\n"
     ]
    }
   ],
   "source": [
    "# overlap between H4-H6\n",
    "v = nothing\n",
    "v = ITensor(1.0)\n",
    "for j in 1:6\n",
    "    if j <= 4\n",
    "        v = v*dag(dmrg_state61[j])*dmrg_state41[j]\n",
    "    else\n",
    "        v = v*dag(dmrg_state61[j])*dmrg_state23[j-4]\n",
    "    end\n",
    "end\n",
    "push!(vrlp, norm(v))\n",
    "println(norm(v))"
   ]
  },
  {
   "cell_type": "code",
   "execution_count": 62,
   "id": "2742e52f",
   "metadata": {},
   "outputs": [
    {
     "name": "stdout",
     "output_type": "stream",
     "text": [
      "0.01311731378460511\n"
     ]
    }
   ],
   "source": [
    "# overlap between H6-H8\n",
    "v = nothing\n",
    "v = ITensor(1.0)\n",
    "for j in 1:8\n",
    "    if j <= 6\n",
    "        v = v*dag(dmrg_state8[j])*dmrg_state61[j]\n",
    "    else\n",
    "        v = v*dag(dmrg_state8[j])*dmrg_state24[j-6]\n",
    "    end\n",
    "end\n",
    "push!(vrlp, norm(v))\n",
    "println(norm(v))"
   ]
  },
  {
   "cell_type": "code",
   "execution_count": 63,
   "id": "ac13437a",
   "metadata": {},
   "outputs": [
    {
     "name": "stdout",
     "output_type": "stream",
     "text": [
      "0.01313912555228873\n"
     ]
    }
   ],
   "source": [
    "# overlap between H8-H10\n",
    "v = nothing\n",
    "v = ITensor(1.0)\n",
    "for j in 1:10\n",
    "    if j <= 8\n",
    "        v = v*dag(dmrg_state10[j])*dmrg_state8[j]\n",
    "    else\n",
    "        v = v*dag(dmrg_state10[j])*dmrg_state25[j-8]\n",
    "    end\n",
    "end\n",
    "push!(vrlp, norm(v))\n",
    "println(norm(v))"
   ]
  },
  {
   "cell_type": "code",
   "execution_count": 64,
   "id": "a45ba5af",
   "metadata": {},
   "outputs": [
    {
     "name": "stdout",
     "output_type": "stream",
     "text": [
      "0.0027594484904298767\n"
     ]
    }
   ],
   "source": [
    "# overlap between H10-H12\n",
    "v = nothing\n",
    "v = ITensor(1.0)\n",
    "for j in 1:12\n",
    "    if j <= 10\n",
    "        v = v*dag(dmrg_state12[j])*dmrg_state10[j]\n",
    "    else\n",
    "        v = v*dag(dmrg_state12[j])*dmrg_state26[j-10]\n",
    "    end\n",
    "end\n",
    "push!(vrlp, norm(v))\n",
    "println(norm(v))"
   ]
  },
  {
   "cell_type": "code",
   "execution_count": null,
   "id": "ffd8affb",
   "metadata": {},
   "outputs": [],
   "source": [
    "# overlap between H12-H14\n",
    "v = nothing\n",
    "v = ITensor(1.0)\n",
    "for j in 1:14\n",
    "    if j <= 12\n",
    "        v = v*dag(dmrg_state14[j])*dmrg_state12[j]\n",
    "    else\n",
    "        v = v*dag(dmrg_state14[j])*dmrg_state27[j-12]\n",
    "    end\n",
    "end\n",
    "push!(vrlp, norm(v))\n",
    "println(norm(v))"
   ]
  },
  {
   "cell_type": "code",
   "execution_count": 65,
   "id": "7216ca65",
   "metadata": {},
   "outputs": [
    {
     "data": {
      "text/plain": [
       "5-element Vector{Any}:\n",
       " 0.11581637536615749\n",
       " 0.027215499921285524\n",
       " 0.01311731378460511\n",
       " 0.01313912555228873\n",
       " 0.0027594484904298767"
      ]
     },
     "execution_count": 65,
     "metadata": {},
     "output_type": "execute_result"
    }
   ],
   "source": [
    "vrlp"
   ]
  },
  {
   "cell_type": "code",
   "execution_count": 103,
   "id": "e7c96759",
   "metadata": {},
   "outputs": [],
   "source": []
  },
  {
   "cell_type": "code",
   "execution_count": 71,
   "id": "15d9272a",
   "metadata": {
    "scrolled": false
   },
   "outputs": [
    {
     "data": {
      "text/plain": [
       "\"/media/arsen/code/tig/phd_projects/Hydrogen_Chain/H10_overlap.svg\""
      ]
     },
     "execution_count": 71,
     "metadata": {},
     "output_type": "execute_result"
    }
   ],
   "source": [
    "set_theme(:default)\n",
    "# set_theme(:bright)\n",
    "x = [2,4,6,8,10]\n",
    "scatter(x,vrlp, \n",
    "    size = (300,300),\n",
    "    xlim = (0,12),\n",
    "    xticks = ((0:2:12)),\n",
    "    ylim = (-0.005,0.122),\n",
    "#     yscale = :identity,\n",
    "    yticks = ((0.0:0.008:0.120)),\n",
    "    markersize = 3,\n",
    "    xlabel = \"Number of\"*L\"\\ H_2\",\n",
    "#     yguidefontsize=10,\n",
    "#     xguidefontsize=10,\n",
    "    ylabel = \"Overlap\",\n",
    "#     grid = false,\n",
    "    label = \"overlap\",\n",
    "    title = \"Overlap computation \\n in Hydrogen chain\",\n",
    "#     titlefnt=6,\n",
    "#  titlefont = font(8,\"Computer Modern\"),\n",
    "# guidefont = font(9,\"Computer Modern\"),\n",
    "# labelfont = font(20,\"Computer Modern\"),\n",
    "#     xtickfont=font(18,\"Computer Modern\"), \n",
    "#     ytickfont=font(6,\"Computer Modern\"), \n",
    "    guidefont=font(8,\"Computer Modern\"), \n",
    "    legendfont=font(8,\"Computer Modern\"),\n",
    "    titlefont=font(8,\"Computer Modern\"),\n",
    "     yaxis=(formatter=y->string(round(Int, y*10^2))),\n",
    "    left_margin = 0Plots.mm,\n",
    "    right_margin = 2Plots.mm,\n",
    "    top_margin = 1Plots.mm,\n",
    "    bottom_margin = 0Plots.mm,\n",
    ")\n",
    "\n",
    "annotate!(0,0.13,Plots.text(L\"\\times 10^{-2}\",8))\n",
    "savefig(\"H10_overlap.svg\")"
   ]
  },
  {
   "cell_type": "code",
   "execution_count": 69,
   "id": "72ba010e",
   "metadata": {},
   "outputs": [],
   "source": [
    "writedlm(\"H10_overlap.txt\",vrlp)"
   ]
  },
  {
   "cell_type": "code",
   "execution_count": 90,
   "id": "fc256754",
   "metadata": {},
   "outputs": [
    {
     "data": {
      "text/plain": [
       "4×1 Matrix{Float64}:\n",
       " 0.1116203119599405\n",
       " 0.027275105422855456\n",
       " 0.013434960629760065\n",
       " 0.00830547400108322"
      ]
     },
     "execution_count": 90,
     "metadata": {},
     "output_type": "execute_result"
    }
   ],
   "source": [
    "# A = readdlm(\"H10_overlap.txt\");"
   ]
  },
  {
   "cell_type": "code",
   "execution_count": 70,
   "id": "5ac7723d",
   "metadata": {},
   "outputs": [
    {
     "data": {
      "text/plain": [
       "5-element Vector{Any}:\n",
       " 0.11581637536615749\n",
       " 0.027215499921285524\n",
       " 0.01311731378460511\n",
       " 0.01313912555228873\n",
       " 0.0027594484904298767"
      ]
     },
     "execution_count": 70,
     "metadata": {},
     "output_type": "execute_result"
    }
   ],
   "source": [
    "vrlp"
   ]
  },
  {
   "cell_type": "code",
   "execution_count": 72,
   "id": "3b2e1f7e",
   "metadata": {},
   "outputs": [
    {
     "name": "stdout",
     "output_type": "stream",
     "text": [
      "Done"
     ]
    }
   ],
   "source": [
    "print(\"Done\")"
   ]
  },
  {
   "cell_type": "code",
   "execution_count": null,
   "id": "aec8c98e",
   "metadata": {},
   "outputs": [],
   "source": []
  }
 ],
 "metadata": {
  "kernelspec": {
   "display_name": "Julia 1.9.4",
   "language": "julia",
   "name": "julia-1.9"
  },
  "language_info": {
   "file_extension": ".jl",
   "mimetype": "application/julia",
   "name": "julia",
   "version": "1.9.4"
  }
 },
 "nbformat": 4,
 "nbformat_minor": 5
}
