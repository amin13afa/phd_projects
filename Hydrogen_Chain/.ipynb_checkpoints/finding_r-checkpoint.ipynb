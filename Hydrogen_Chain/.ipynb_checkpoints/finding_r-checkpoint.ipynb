{
 "cells": [
  {
   "cell_type": "code",
   "execution_count": 1,
   "id": "8d22d823",
   "metadata": {},
   "outputs": [],
   "source": [
    "using ITensors\n",
    "using ITensorChemistry\n",
    "# using ITensorParallel "
   ]
  },
  {
   "cell_type": "code",
   "execution_count": 2,
   "id": "dc07dba9",
   "metadata": {},
   "outputs": [
    {
     "data": {
      "text/plain": [
       "create_molecule (generic function with 1 method)"
      ]
     },
     "execution_count": 2,
     "metadata": {},
     "output_type": "execute_result"
    }
   ],
   "source": [
    "function create_molecule(m::String, r::Float64, rep::Int64)\n",
    "    s = []\n",
    "    for j in 1:rep\n",
    "        push!(s,Atom(m, j*r , 0.0, 0.0))\n",
    "    end\n",
    "    return Molecule(s)\n",
    "end"
   ]
  },
  {
   "cell_type": "code",
   "execution_count": 5,
   "id": "21c8d9ea",
   "metadata": {},
   "outputs": [
    {
     "name": "stdout",
     "output_type": "stream",
     "text": [
      "converged SCF energy = -2.06919742280387\n",
      "RHF Energy (Ha): -2.069197422803868\n",
      "converged SCF energy = -2.12138675587022\n",
      "RHF Energy (Ha): -2.1213867558702217\n",
      "converged SCF energy = -2.12425973897278\n",
      "RHF Energy (Ha): -2.1242597389727775\n",
      "converged SCF energy = -2.09854593699772\n",
      "RHF Energy (Ha): -2.098545936997718\n"
     ]
    }
   ],
   "source": [
    "function energy_at_bond(r)\n",
    "  # define molecule geometry\n",
    "  molecule = create_molecule(\"H\",r,4)\n",
    "  # build electronic hamiltonian and solve HF\n",
    "  hf = molecular_orbital_hamiltonian(molecule; basis=\"sto-3g\")\n",
    "  hamiltonian = hf.hamiltonian\n",
    "  hartree_fock_state = hf.hartree_fock_state\n",
    "  hartree_fock_energy = hf.hartree_fock_energy\n",
    "  # hilbert space\n",
    "  s = siteinds(\"Electron\", 4; conserve_qns=true)\n",
    "  H = MPO(hamiltonian, s)\n",
    "  # initialize MPS to HF state\n",
    "  ψhf = MPS(s, hartree_fock_state)\n",
    "  # run dmrg\n",
    "  dmrg_kwargs = (;\n",
    "    nsweeps=10,\n",
    "    maxdim=[10,20,30,40,50,100],\n",
    "    cutoff=1e-8,\n",
    "    noise=[1e-6, 1e-7, 1e-8, 0.0],\n",
    "  )\n",
    "  dmrg_energy, _ = dmrg(H, ψhf; nsweeps=10, outputlevel=0)\n",
    "  return hartree_fock_energy, dmrg_energy\n",
    "end\n",
    "# bond distances\n",
    "r⃗ = 0.7:0.1:1\n",
    "energies = []\n",
    "for r in r⃗\n",
    "  push!(energies, (r,energy_at_bond(r)))\n",
    "end"
   ]
  },
  {
   "cell_type": "code",
   "execution_count": 7,
   "id": "bb86eb6e",
   "metadata": {},
   "outputs": [
    {
     "data": {
      "text/plain": [
       "min_energy (generic function with 1 method)"
      ]
     },
     "execution_count": 7,
     "metadata": {},
     "output_type": "execute_result"
    }
   ],
   "source": [
    "function min_energy(energy)\n",
    "    dm_energy = []\n",
    "    for j in energy\n",
    "        push!(dm_energy, j[2][2])\n",
    "    end\n",
    "    min = minimum(dm_energy)\n",
    "    for j in energy\n",
    "        if j[2][2] == min\n",
    "            return j\n",
    "        end\n",
    "    end\n",
    "end"
   ]
  },
  {
   "cell_type": "code",
   "execution_count": 8,
   "id": "31395c23",
   "metadata": {},
   "outputs": [
    {
     "data": {
      "text/plain": [
       "(0.9, (-2.1242597389727775, -2.15548389445542))"
      ]
     },
     "execution_count": 8,
     "metadata": {},
     "output_type": "execute_result"
    }
   ],
   "source": [
    "min_energy(energies)"
   ]
  },
  {
   "cell_type": "code",
   "execution_count": 9,
   "id": "616ba38e",
   "metadata": {},
   "outputs": [
    {
     "data": {
      "text/plain": [
       "4-element Vector{Any}:\n",
       " (0.7, (-2.069197422803868, -2.0929190188048112))\n",
       " (0.8, (-2.1213867558702217, -2.148740118029015))\n",
       " (0.9, (-2.1242597389727775, -2.15548389445542))\n",
       " (1.0, (-2.098545936997718, -2.1339866470704916))"
      ]
     },
     "execution_count": 9,
     "metadata": {},
     "output_type": "execute_result"
    }
   ],
   "source": [
    "energies"
   ]
  },
  {
   "cell_type": "code",
   "execution_count": null,
   "id": "91b8a605",
   "metadata": {},
   "outputs": [],
   "source": []
  },
  {
   "cell_type": "code",
   "execution_count": null,
   "id": "3ab7a2cd",
   "metadata": {},
   "outputs": [],
   "source": []
  }
 ],
 "metadata": {
  "kernelspec": {
   "display_name": "Julia 1.8.2",
   "language": "julia",
   "name": "julia-1.8"
  },
  "language_info": {
   "file_extension": ".jl",
   "mimetype": "application/julia",
   "name": "julia",
   "version": "1.8.2"
  }
 },
 "nbformat": 4,
 "nbformat_minor": 5
}
