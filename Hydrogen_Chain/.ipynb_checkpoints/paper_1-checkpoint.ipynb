{
 "cells": [
  {
   "cell_type": "code",
   "execution_count": 1,
   "id": "6e3dcc05",
   "metadata": {},
   "outputs": [],
   "source": [
    "using ITensors\n",
    "using ITensorChemistry\n",
    "# using ITensorParallel "
   ]
  },
  {
   "cell_type": "code",
   "execution_count": 2,
   "id": "dc7f6875",
   "metadata": {},
   "outputs": [
    {
     "data": {
      "text/plain": [
       "create_molecule (generic function with 1 method)"
      ]
     },
     "execution_count": 2,
     "metadata": {},
     "output_type": "execute_result"
    }
   ],
   "source": [
    "function create_molecule(m::String, r::Float64, rep::Int64)\n",
    "    s = []\n",
    "    for j in 1:rep\n",
    "        push!(s,Atom(m, j*r , 0.0, 0.0))\n",
    "    end\n",
    "    return Molecule(s)\n",
    "end"
   ]
  },
  {
   "cell_type": "code",
   "execution_count": 3,
   "id": "35fdfdf9",
   "metadata": {},
   "outputs": [
    {
     "data": {
      "text/plain": [
       "energy_at_bond (generic function with 1 method)"
      ]
     },
     "execution_count": 3,
     "metadata": {},
     "output_type": "execute_result"
    }
   ],
   "source": [
    "function energy_at_bond(r,N)\n",
    "  # define molecule geometry\n",
    "  molecule = create_molecule(\"H\",r,N)\n",
    "  # build electronic hamiltonian and solve HF\n",
    "  hf = molecular_orbital_hamiltonian(molecule; basis=\"sto-3g\")\n",
    "  hamiltonian = hf.hamiltonian\n",
    "  hartree_fock_state = hf.hartree_fock_state\n",
    "  hartree_fock_energy = hf.hartree_fock_energy\n",
    "  # hilbert space\n",
    "  s = siteinds(\"Electron\", N; conserve_qns=true)\n",
    "  H = MPO(hamiltonian, s)\n",
    "  # initialize MPS to HF state\n",
    "  ψhf = MPS(s, hartree_fock_state)\n",
    "  # run dmrg\n",
    "  dmrg_kwargs = (;\n",
    "    nsweeps=2,\n",
    "    maxdim=[10,20,30,40,50,100],\n",
    "    cutoff=1e-8,\n",
    "    noise=[1e-6, 1e-7, 1e-8, 0.0],\n",
    "  )\n",
    "  dmrg_energy, _ = dmrg(H, ψhf; nsweeps=2, outputlevel=0)\n",
    "  return hartree_fock_energy, dmrg_energy\n",
    "end\n",
    "# bond distances\n",
    "# r⃗ = 0.7:0.1:1\n",
    "# energies = []\n",
    "# for r in r⃗\n",
    "#   push!(energies, (r,energy_at_bond(r)))\n",
    "# end"
   ]
  },
  {
   "cell_type": "code",
   "execution_count": 4,
   "id": "f9e50d36",
   "metadata": {},
   "outputs": [
    {
     "name": "stdout",
     "output_type": "stream",
     "text": [
      "converged SCF energy = 2.71588739329275\n",
      "RHF Energy (Ha): 2.7158873932927525\n"
     ]
    },
    {
     "data": {
      "text/plain": [
       "2.7158873932927525"
      ]
     },
     "execution_count": 4,
     "metadata": {},
     "output_type": "execute_result"
    }
   ],
   "source": [
    "energy_at_bond(0.1,2)[1]"
   ]
  },
  {
   "cell_type": "code",
   "execution_count": 5,
   "id": "055f4b60",
   "metadata": {},
   "outputs": [
    {
     "name": "stdout",
     "output_type": "stream",
     "text": [
      "converged SCF energy = 2.71588739329275\n",
      "RHF Energy (Ha): 2.7158873932927525\n"
     ]
    },
    {
     "data": {
      "text/plain": [
       "(2.7158873932927525, 2.709960770867276)"
      ]
     },
     "execution_count": 5,
     "metadata": {},
     "output_type": "execute_result"
    }
   ],
   "source": [
    "energy_at_bond(0.1,2)"
   ]
  },
  {
   "cell_type": "code",
   "execution_count": 13,
   "id": "74a7f6a9",
   "metadata": {},
   "outputs": [
    {
     "name": "stdout",
     "output_type": "stream",
     "text": [
      "converged SCF energy = 14.5085430672549\n",
      "RHF Energy (Ha): 14.50854306725492\n",
      "converged SCF energy = 14.5085430672549\n",
      "RHF Energy (Ha): 14.50854306725492\n",
      "converged SCF energy = 3.57406279615078\n",
      "RHF Energy (Ha): 3.5740627961507805\n",
      "converged SCF energy = 3.57406279615077\n",
      "RHF Energy (Ha): 3.5740627961507734\n",
      "converged SCF energy = 0.327266188450133\n",
      "RHF Energy (Ha): 0.32726618845013267\n",
      "converged SCF energy = 0.327266188450133\n",
      "RHF Energy (Ha): 0.32726618845013267\n",
      "converged SCF energy = -1.00736425064251\n",
      "RHF Energy (Ha): -1.0073642506425102\n",
      "converged SCF energy = -1.00736425064251\n",
      "RHF Energy (Ha): -1.0073642506425102\n",
      "converged SCF energy = -1.6286097030299\n",
      "RHF Energy (Ha): -1.6286097030298965\n",
      "converged SCF energy = -1.6286097030299\n",
      "RHF Energy (Ha): -1.6286097030298992\n",
      "converged SCF energy = -1.92956424845201\n",
      "RHF Energy (Ha): -1.9295642484520115\n",
      "converged SCF energy = -1.92956424845201\n",
      "RHF Energy (Ha): -1.9295642484520141\n",
      "converged SCF energy = -2.06919742280387\n",
      "RHF Energy (Ha): -2.0691974228038688\n",
      "converged SCF energy = -2.06919742280387\n",
      "RHF Energy (Ha): -2.069197422803867\n",
      "converged SCF energy = -2.12138675587022\n",
      "RHF Energy (Ha): -2.12138675587022\n",
      "converged SCF energy = -2.12138675587022\n",
      "RHF Energy (Ha): -2.1213867558702217\n",
      "converged SCF energy = -2.12425973897278\n",
      "RHF Energy (Ha): -2.1242597389727784\n",
      "converged SCF energy = -2.12425973897278\n",
      "RHF Energy (Ha): -2.1242597389727775\n",
      "converged SCF energy = -2.09854593699772\n",
      "RHF Energy (Ha): -2.098545936997719\n",
      "converged SCF energy = -2.09854593699772\n",
      "RHF Energy (Ha): -2.0985459369977173\n",
      "converged SCF energy = -2.05602490583411\n",
      "RHF Energy (Ha): -2.056024905834112\n",
      "converged SCF energy = -2.05602490583411\n",
      "RHF Energy (Ha): -2.056024905834111\n",
      "converged SCF energy = -2.00386748312059\n",
      "RHF Energy (Ha): -2.003867483120586\n",
      "converged SCF energy = -2.00386748312059\n",
      "RHF Energy (Ha): -2.0038674831205867\n",
      "converged SCF energy = -1.9467416264344\n",
      "RHF Energy (Ha): -1.9467416264344013\n",
      "converged SCF energy = -1.9467416264344\n",
      "RHF Energy (Ha): -1.9467416264344022\n",
      "converged SCF energy = -1.88779030448405\n",
      "RHF Energy (Ha): -1.887790304484054\n",
      "converged SCF energy = -1.88779030448405\n",
      "RHF Energy (Ha): -1.8877903044840527\n",
      "converged SCF energy = -1.82913741235269\n",
      "RHF Energy (Ha): -1.829137412352686\n",
      "converged SCF energy = -1.82913741235269\n",
      "RHF Energy (Ha): -1.8291374123526851\n",
      "converged SCF energy = -1.77220310180491\n",
      "RHF Energy (Ha): -1.7722031018049065\n",
      "converged SCF energy = -1.77220310180491\n",
      "RHF Energy (Ha): -1.772203101804907\n",
      "converged SCF energy = -1.71791801490059\n",
      "RHF Energy (Ha): -1.7179180149005921\n",
      "converged SCF energy = -1.71791801490059\n",
      "RHF Energy (Ha): -1.7179180149005917\n",
      "converged SCF energy = -1.66686716118387\n",
      "RHF Energy (Ha): -1.6668671611838732\n",
      "converged SCF energy = -1.66686716118387\n",
      "RHF Energy (Ha): -1.6668671611838723\n",
      "converged SCF energy = -1.61938446291666\n",
      "RHF Energy (Ha): -1.6193844629166563\n",
      "converged SCF energy = -1.61938446291666\n",
      "RHF Energy (Ha): -1.6193844629166558\n",
      "converged SCF energy = -1.57561647670187\n",
      "RHF Energy (Ha): -1.575616476701866\n",
      "converged SCF energy = -1.57561647670187\n",
      "RHF Energy (Ha): -1.5756164767018657\n",
      "converged SCF energy = -1.53556913069801\n",
      "RHF Energy (Ha): -1.5355691306980055\n",
      "converged SCF energy = -1.53556913069801\n",
      "RHF Energy (Ha): -1.535569130698006\n",
      "converged SCF energy = -1.49914562503486\n",
      "RHF Energy (Ha): -1.4991456250348578\n",
      "converged SCF energy = -1.49914562503486\n",
      "RHF Energy (Ha): -1.499145625034857\n",
      "converged SCF energy = -1.46617882529496\n",
      "RHF Energy (Ha): -1.4661788252949637\n",
      "converged SCF energy = -1.46617882529496\n",
      "RHF Energy (Ha): -1.4661788252949637\n",
      "converged SCF energy = -1.43645853998968\n",
      "RHF Energy (Ha): -1.4364585399896792\n",
      "converged SCF energy = -1.43645853998968\n",
      "RHF Energy (Ha): -1.4364585399896797\n",
      "converged SCF energy = -1.40975299670212\n",
      "RHF Energy (Ha): -1.40975299670212\n",
      "converged SCF energy = -1.40975299670212\n",
      "RHF Energy (Ha): -1.40975299670212\n",
      "converged SCF energy = -1.38582411481152\n",
      "RHF Energy (Ha): -1.3858241148115247\n",
      "converged SCF energy = -1.38582411481152\n",
      "RHF Energy (Ha): -1.3858241148115238\n",
      "converged SCF energy = -1.36443702723518\n",
      "RHF Energy (Ha): -1.3644370272351805\n",
      "converged SCF energy = -1.36443702723518\n",
      "RHF Energy (Ha): -1.3644370272351796\n",
      "converged SCF energy = -1.34536507707148\n",
      "RHF Energy (Ha): -1.3453650770714773\n",
      "converged SCF energy = -1.34536507707148\n",
      "RHF Energy (Ha): -1.345365077071477\n",
      "converged SCF energy = -1.3283918617365\n",
      "RHF Energy (Ha): -1.328391861736497\n",
      "converged SCF energy = -1.3283918617365\n",
      "RHF Energy (Ha): -1.328391861736497\n",
      "converged SCF energy = -1.31331178622149\n",
      "RHF Energy (Ha): -1.313311786221486\n",
      "converged SCF energy = -1.31331178622149\n",
      "RHF Energy (Ha): -1.313311786221487\n"
     ]
    }
   ],
   "source": [
    "# bond distances\n",
    "r⃗ = 0.1:0.1:3\n",
    "# energies = []\n",
    "hartee_energy = []\n",
    "dmrg_energy = []\n",
    "for r in r⃗\n",
    "    push!(hartee_energy, energy_at_bond(r,4)[1])\n",
    "    push!(dmrg_energy, energy_at_bond(r,4)[2])\n",
    "#   push!(energies, (r,energy_at_bond(r,4)))\n",
    "end"
   ]
  },
  {
   "cell_type": "code",
   "execution_count": 17,
   "id": "8978020f",
   "metadata": {},
   "outputs": [
    {
     "data": {
      "text/plain": [
       "(30, 30)"
      ]
     },
     "execution_count": 17,
     "metadata": {},
     "output_type": "execute_result"
    }
   ],
   "source": [
    "length(dmrg_energy), length(hartee_energy)"
   ]
  },
  {
   "cell_type": "code",
   "execution_count": 14,
   "id": "25617c14",
   "metadata": {},
   "outputs": [
    {
     "data": {
      "text/plain": [
       "0.9"
      ]
     },
     "execution_count": 14,
     "metadata": {},
     "output_type": "execute_result"
    }
   ],
   "source": [
    "r⃗[findmin(dmrg_energy)[2]]"
   ]
  },
  {
   "cell_type": "code",
   "execution_count": 15,
   "id": "9dae909b",
   "metadata": {},
   "outputs": [
    {
     "data": {
      "text/plain": [
       "((-2.155483894453153, 9), (-2.1242597389727784, 9))"
      ]
     },
     "execution_count": 15,
     "metadata": {},
     "output_type": "execute_result"
    }
   ],
   "source": [
    "findmin(dmrg_energy) , findmin(hartee_energy)"
   ]
  },
  {
   "cell_type": "code",
   "execution_count": 12,
   "id": "c9580143",
   "metadata": {},
   "outputs": [
    {
     "data": {
      "text/plain": [
       "0.9"
      ]
     },
     "execution_count": 12,
     "metadata": {},
     "output_type": "execute_result"
    }
   ],
   "source": [
    "r⃗[findmin(dmrg_energy)[2]]"
   ]
  },
  {
   "cell_type": "code",
   "execution_count": 12,
   "id": "4d43ef05",
   "metadata": {},
   "outputs": [],
   "source": [
    "# function min_energy(energy)\n",
    "#     dm_energy = []\n",
    "#     for j in energy\n",
    "#         push!(dm_energy, j[2][2])\n",
    "#     end\n",
    "#     min = minimum(dm_energy)\n",
    "#     for j in energy\n",
    "#         if j[2][2] == min\n",
    "#             return j\n",
    "#         end\n",
    "#     end\n",
    "# end"
   ]
  },
  {
   "cell_type": "markdown",
   "id": "026c7ebf",
   "metadata": {},
   "source": [
    "After finding optimal $r$ we can use it in it the main algorithm"
   ]
  },
  {
   "cell_type": "code",
   "execution_count": 18,
   "id": "88e1ed63",
   "metadata": {},
   "outputs": [],
   "source": [
    "using ITensors\n",
    "using ITensorChemistry"
   ]
  },
  {
   "cell_type": "code",
   "execution_count": 19,
   "id": "168eb863",
   "metadata": {},
   "outputs": [
    {
     "data": {
      "text/plain": [
       "create_molecule (generic function with 1 method)"
      ]
     },
     "execution_count": 19,
     "metadata": {},
     "output_type": "execute_result"
    }
   ],
   "source": [
    "function create_molecule(m::String, r::Float64, rep::Int64)\n",
    "    s = []\n",
    "    for j in 0:rep-1\n",
    "        push!(s,Atom(m, j*r , 0.0, 0.0))\n",
    "    end\n",
    "    return Molecule(s)\n",
    "end"
   ]
  },
  {
   "cell_type": "code",
   "execution_count": 20,
   "id": "f577df17",
   "metadata": {},
   "outputs": [
    {
     "data": {
      "text/plain": [
       "energy_at_bond (generic function with 2 methods)"
      ]
     },
     "execution_count": 20,
     "metadata": {},
     "output_type": "execute_result"
    }
   ],
   "source": [
    "function energy_at_bond(r)\n",
    "  # define molecule geometry\n",
    "  molecule = create_molecule(\"H\",r,4)\n",
    "  # build electronic hamiltonian \n",
    "  hf = molecular_orbital_hamiltonian(molecule; basis=\"sto-3g\")\n",
    "  hamiltonian = hf.hamiltonian\n",
    "  hartree_fock_state = hf.hartree_fock_state\n",
    "  hartree_fock_energy = hf.hartree_fock_energy\n",
    "  # hilbert space\n",
    "  s = siteinds(\"Electron\", 4; conserve_qns=true)\n",
    "  H = MPO(hamiltonian, s)\n",
    "  # initialize MPS to HF state\n",
    "  ψhf = MPS(s, hartree_fock_state)\n",
    "  # run dmrg\n",
    "  dmrg_kwargs = (;\n",
    "    nsweeps=10,\n",
    "    maxdim=[10,20,30,40,50,100],\n",
    "    cutoff=1e-8,\n",
    "    noise=[1e-6, 1e-7, 1e-8, 0.0],\n",
    "  )\n",
    "  dmrg_energy, _ = dmrg(H, ψhf; nsweeps=10, outputlevel=0)\n",
    "  return hartree_fock_energy, dmrg_energy\n",
    "end"
   ]
  },
  {
   "cell_type": "code",
   "execution_count": 30,
   "id": "41b2aa08",
   "metadata": {},
   "outputs": [
    {
     "data": {
      "text/plain": [
       "energy_at_bond (generic function with 2 methods)"
      ]
     },
     "execution_count": 30,
     "metadata": {},
     "output_type": "execute_result"
    }
   ],
   "source": [
    "# some changes to this func on the line 22\n",
    "function energy_at_bond(N,r)\n",
    "  # define molecule geometry\n",
    "  molecule = create_molecule(\"H\",r,N)\n",
    "  # build electronic hamiltonian \n",
    "  hf = molecular_orbital_hamiltonian(molecule; basis=\"sto-3g\")\n",
    "  hamiltonian = hf.hamiltonian\n",
    "  hartree_fock_state = hf.hartree_fock_state\n",
    "  hartree_fock_energy = hf.hartree_fock_energy\n",
    "  # hilbert space\n",
    "  s = siteinds(\"Electron\", N; conserve_qns=true)\n",
    "  H = MPO(hamiltonian, s)\n",
    "  # initialize MPS to HF state\n",
    "  ψhf = MPS(s, hartree_fock_state)\n",
    "  # run dmrg\n",
    "  dmrg_kwargs = (;\n",
    "    nsweeps=10,\n",
    "    maxdim=[10,20,30,40,50,100],\n",
    "    cutoff=1e-8,\n",
    "    noise=[1e-6, 1e-7, 1e-8, 0.0],\n",
    "  )\n",
    "  dm_e, dm_st = dmrg(H, ψhf; nsweeps=10, outputlevel=0)\n",
    "#   return hartree_fock_energy, dmrg_energy\n",
    "    return dm_e, dm_st\n",
    "end"
   ]
  },
  {
   "cell_type": "code",
   "execution_count": 31,
   "id": "91bac42a",
   "metadata": {},
   "outputs": [
    {
     "name": "stdout",
     "output_type": "stream",
     "text": [
      "converged SCF energy = -1.09191404102006\n",
      "RHF Energy (Ha): -1.0919140410200572\n"
     ]
    }
   ],
   "source": [
    "e2,ψ2  = energy_at_bond(2,0.9);"
   ]
  },
  {
   "cell_type": "code",
   "execution_count": 33,
   "id": "47f6a414",
   "metadata": {},
   "outputs": [
    {
     "data": {
      "text/plain": [
       "(MPS, 2)"
      ]
     },
     "execution_count": 33,
     "metadata": {},
     "output_type": "execute_result"
    }
   ],
   "source": [
    "typeof(ψ2), length(ψ2)"
   ]
  },
  {
   "cell_type": "code",
   "execution_count": 29,
   "id": "5ae99e31",
   "metadata": {},
   "outputs": [
    {
     "data": {
      "text/plain": [
       "(MPS, 4)"
      ]
     },
     "execution_count": 29,
     "metadata": {},
     "output_type": "execute_result"
    }
   ],
   "source": [
    "typeof(b), length(b)"
   ]
  },
  {
   "cell_type": "code",
   "execution_count": null,
   "id": "eff3383a",
   "metadata": {},
   "outputs": [],
   "source": []
  }
 ],
 "metadata": {
  "kernelspec": {
   "display_name": "Julia 1.9.4",
   "language": "julia",
   "name": "julia-1.9"
  },
  "language_info": {
   "file_extension": ".jl",
   "mimetype": "application/julia",
   "name": "julia",
   "version": "1.9.4"
  }
 },
 "nbformat": 4,
 "nbformat_minor": 5
}
