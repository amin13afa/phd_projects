{
 "cells": [
  {
   "cell_type": "code",
   "execution_count": 1,
   "id": "615157b9",
   "metadata": {},
   "outputs": [],
   "source": [
    "using ITensors\n",
    "using ITensorChemistry \n",
    "using Plots \n",
    "using DelimitedFiles "
   ]
  },
  {
   "cell_type": "code",
   "execution_count": 2,
   "id": "916c1d01",
   "metadata": {},
   "outputs": [
    {
     "data": {
      "text/plain": [
       "Molecule\n",
       "Atom 1: H,   r⃗ = (0.0, 0.0, 0.0)\n",
       "Atom 2: H,   r⃗ = (0.74, 0.0, 0.0)\n",
       "Atom 3: H,   r⃗ = (1.48, 0.0, 0.0)\n",
       "Atom 4: H,   r⃗ = (2.19, 0.0, 0.0)\n",
       "Atom 5: H,   r⃗ = (2.96, 0.0, 0.0)\n",
       "Atom 6: H,   r⃗ = (3.7, 0.0, 0.0)\n",
       "Atom 7: H,   r⃗ = (4.43, 0.0, 0.0)\n",
       "Atom 8: H,   r⃗ = (5.18, 0.0, 0.0)\n",
       "Atom 9: H,   r⃗ = (5.92, 0.0, 0.0)\n",
       "Atom 10: H,   r⃗ = (6.66, 0.0, 0.0)\n",
       "Atom 11: H,   r⃗ = (7.4, 0.0, 0.0)\n",
       "Atom 12: H,   r⃗ = (8.14, 0.0, 0.0)\n"
      ]
     },
     "execution_count": 2,
     "metadata": {},
     "output_type": "execute_result"
    }
   ],
   "source": [
    "molecule2 = Molecule([\n",
    "        (\"H\", 0.0, 0.0, 0.0),\n",
    "        (\"H\", 0.74, 0.0, 0.0)])\n",
    "\n",
    "molecule4 = Molecule([\n",
    "        (\"H\", 0.0, 0.0, 0.0),\n",
    "        (\"H\", 0.74, 0.0, 0.0),\n",
    "        (\"H\", 1.48, 0.0, 0.0),\n",
    "        (\"H\", 2.19, 0.0, 0.0)])\n",
    "\n",
    "molecule6 = Molecule([\n",
    "        (\"H\", 0.0, 0.0, 0.0),\n",
    "        (\"H\", 0.74, 0.0, 0.0),\n",
    "        (\"H\", 1.48, 0.0, 0.0),\n",
    "        (\"H\", 2.19, 0.0, 0.0),\n",
    "        (\"H\", 2.96, 0.0, 0.0),\n",
    "        (\"H\", 3.70, 0.0, 0.0)])\n",
    "\n",
    "molecule8 = Molecule([\n",
    "        (\"H\", 0.0, 0.0, 0.0),\n",
    "        (\"H\", 0.74, 0.0, 0.0),\n",
    "        (\"H\", 1.48, 0.0, 0.0),\n",
    "        (\"H\", 2.19, 0.0, 0.0),\n",
    "        (\"H\", 2.96, 0.0, 0.0),\n",
    "        (\"H\", 3.70, 0.0, 0.0),\n",
    "        (\"H\", 4.43, 0.0, 0.0),\n",
    "        (\"H\", 5.18, 0.0, 0.0)])\n",
    "\n",
    "molecule10 = Molecule([\n",
    "        (\"H\", 0.0, 0.0, 0.0),\n",
    "        (\"H\", 0.74, 0.0, 0.0),\n",
    "        (\"H\", 1.48, 0.0, 0.0),\n",
    "        (\"H\", 2.19, 0.0, 0.0),\n",
    "        (\"H\", 2.96, 0.0, 0.0),\n",
    "        (\"H\", 3.70, 0.0, 0.0),\n",
    "        (\"H\", 4.43, 0.0, 0.0),\n",
    "        (\"H\", 5.18, 0.0, 0.0),\n",
    "        (\"H\", 5.92, 0.0, 0.0), \n",
    "        (\"H\", 6.66, 0.0, 0.0)])\n",
    "\n",
    "# molecule12 = Molecule([\n",
    "#         (\"H\", 0.0, 0.0, 0.0),\n",
    "#         (\"H\", 0.74, 0.0, 0.0),\n",
    "#         (\"H\", 1.48, 0.0, 0.0),\n",
    "#         (\"H\", 2.19, 0.0, 0.0),\n",
    "#         (\"H\", 2.96, 0.0, 0.0),\n",
    "#         (\"H\", 3.70, 0.0, 0.0),\n",
    "#         (\"H\", 4.43, 0.0, 0.0),\n",
    "#         (\"H\", 5.18, 0.0, 0.0),\n",
    "#         (\"H\", 5.92, 0.0, 0.0), \n",
    "#         (\"H\", 6.66, 0.0, 0.0),\n",
    "#         (\"H\", 7.40, 0.0, 0.0),\n",
    "#         (\"H\", 8.14, 0.0, 0.0)])\n",
    "\n"
   ]
  },
  {
   "cell_type": "code",
   "execution_count": 3,
   "id": "90889547",
   "metadata": {},
   "outputs": [
    {
     "name": "stdout",
     "output_type": "stream",
     "text": [
      "converged SCF energy = -1.11675930739643\n",
      "RHF Energy (Ha): -1.1167593073964255\n",
      "converged SCF energy = -2.09597265298259\n",
      "RHF Energy (Ha): -2.0959726529825895\n",
      "converged SCF energy = -3.08967281773618\n",
      "RHF Energy (Ha): -3.0896728177361767\n",
      "converged SCF energy = -4.06767425300869\n",
      "RHF Energy (Ha): -4.067674253008692\n",
      "converged SCF energy = -5.05238701802374\n",
      "RHF Energy (Ha): -5.052387018023742\n",
      "converged SCF energy = -6.03717979232908\n",
      "RHF Energy (Ha): -6.037179792329084\n"
     ]
    }
   ],
   "source": [
    "hf2 = molecular_orbital_hamiltonian(molecule2; basis=\"sto-3g\");\n",
    "hf4 = molecular_orbital_hamiltonian(molecule4; basis=\"sto-3g\");\n",
    "hf6 = molecular_orbital_hamiltonian(molecule6; basis=\"sto-3g\");\n",
    "hf8 = molecular_orbital_hamiltonian(molecule8; basis=\"sto-3g\");\n",
    "hf10 = molecular_orbital_hamiltonian(molecule10; basis=\"sto-3g\");\n",
    "# hf12 = molecular_orbital_hamiltonian(molecule12; basis=\"sto-3g\");"
   ]
  },
  {
   "cell_type": "code",
   "execution_count": 4,
   "id": "82bf8040",
   "metadata": {},
   "outputs": [],
   "source": [
    "hamiltonian2 = hf2.hamiltonian;\n",
    "hamiltonian4 = hf4.hamiltonian;\n",
    "hamiltonian6 = hf6.hamiltonian;\n",
    "hamiltonian8 = hf8.hamiltonian;\n",
    "hamiltonian10 = hf10.hamiltonian;\n",
    "# hamiltonian12 = hf12.hamiltonian;"
   ]
  },
  {
   "cell_type": "code",
   "execution_count": 5,
   "id": "dda2e328",
   "metadata": {},
   "outputs": [],
   "source": [
    "hartee_fock_state2 = hf2.hartree_fock_state;\n",
    "hartee_fock_state4 = hf4.hartree_fock_state;\n",
    "hartee_fock_state6 = hf6.hartree_fock_state;\n",
    "hartee_fock_state8 = hf8.hartree_fock_state;\n",
    "hartee_fock_state10 = hf10.hartree_fock_state;\n",
    "# hartee_fock_state12 = hf12.hartree_fock_state;"
   ]
  },
  {
   "cell_type": "code",
   "execution_count": 6,
   "id": "cf9db334",
   "metadata": {},
   "outputs": [],
   "source": [
    "hartee_fock_energy2 = hf2.hartree_fock_energy;\n",
    "hartee_fock_energy4 = hf4.hartree_fock_energy;\n",
    "hartee_fock_energy6 = hf6.hartree_fock_energy;\n",
    "hartee_fock_energy8 = hf8.hartree_fock_energy;\n",
    "hartee_fock_energy10 = hf10.hartree_fock_energy;\n",
    "# hartee_fock_energy12 = hf12.hartree_fock_energy;"
   ]
  },
  {
   "cell_type": "markdown",
   "id": "68b671c7",
   "metadata": {},
   "source": [
    "## hilbert space"
   ]
  },
  {
   "cell_type": "code",
   "execution_count": 7,
   "id": "bf7ae84e",
   "metadata": {},
   "outputs": [
    {
     "data": {
      "text/plain": [
       "12-element Vector{Index{Int64}}:\n",
       " (dim=4|id=774|\"Electron,Site,n=1\")\n",
       " (dim=4|id=530|\"Electron,Site,n=2\")\n",
       " (dim=4|id=400|\"Electron,Site,n=3\")\n",
       " (dim=4|id=421|\"Electron,Site,n=4\")\n",
       " (dim=4|id=735|\"Electron,Site,n=5\")\n",
       " (dim=4|id=30|\"Electron,Site,n=6\")\n",
       " (dim=4|id=685|\"Electron,Site,n=7\")\n",
       " (dim=4|id=139|\"Electron,Site,n=8\")\n",
       " (dim=4|id=756|\"Electron,Site,n=9\")\n",
       " (dim=4|id=137|\"Electron,Site,n=10\")\n",
       " (dim=4|id=670|\"Electron,Site,n=11\")\n",
       " (dim=4|id=808|\"Electron,Site,n=12\")"
      ]
     },
     "execution_count": 7,
     "metadata": {},
     "output_type": "execute_result"
    }
   ],
   "source": [
    "# s = siteinds(\"Electron\", 4; conserve_qns=true)\n",
    "s = siteinds(\"Electron\", 12)"
   ]
  },
  {
   "cell_type": "code",
   "execution_count": 8,
   "id": "9e09f3a3",
   "metadata": {},
   "outputs": [],
   "source": [
    "H21 = MPO(hamiltonian2, s[1:2]);\n",
    "H22 = MPO(hamiltonian2, s[3:4]);\n",
    "H23 = MPO(hamiltonian2, s[5:6]);\n",
    "H24 = MPO(hamiltonian2, s[7:8]);\n",
    "H25 = MPO(hamiltonian2, s[9:10]);\n",
    "H26 = MPO(hamiltonian2, s[11:12]);"
   ]
  },
  {
   "cell_type": "code",
   "execution_count": 9,
   "id": "2f08563b",
   "metadata": {},
   "outputs": [],
   "source": [
    "H41 = MPO(hamiltonian4, s[1:4]);\n",
    "H42 = MPO(hamiltonian4, s[5:8]);\n",
    "H43 = MPO(hamiltonian4, s[9:12]);"
   ]
  },
  {
   "cell_type": "code",
   "execution_count": 10,
   "id": "1ff48d5e",
   "metadata": {},
   "outputs": [],
   "source": [
    "H61 = MPO(hamiltonian6, s[1:6]);\n",
    "H62 = MPO(hamiltonian6, s[7:12]);"
   ]
  },
  {
   "cell_type": "code",
   "execution_count": 11,
   "id": "8a95d175",
   "metadata": {},
   "outputs": [],
   "source": [
    "H8 = MPO(hamiltonian8, s[1:8]);"
   ]
  },
  {
   "cell_type": "code",
   "execution_count": 12,
   "id": "b7ec27ce",
   "metadata": {},
   "outputs": [],
   "source": [
    "H10 = MPO(hamiltonian10, s[1:10]);"
   ]
  },
  {
   "cell_type": "code",
   "execution_count": null,
   "id": "a50a0289",
   "metadata": {},
   "outputs": [],
   "source": [
    "# H12 = MPO(hamiltonian12, s[1:12]);"
   ]
  },
  {
   "cell_type": "markdown",
   "id": "20823ccc",
   "metadata": {},
   "source": [
    "##  initialize MPS to HF state"
   ]
  },
  {
   "cell_type": "code",
   "execution_count": 13,
   "id": "d7d567dd",
   "metadata": {},
   "outputs": [],
   "source": [
    "ψhf21 = MPS(s[1:2], hartee_fock_state2);\n",
    "ψhf22 = MPS(s[3:4], hartee_fock_state2);\n",
    "ψhf23 = MPS(s[5:6], hartee_fock_state2);\n",
    "ψhf24 = MPS(s[7:8], hartee_fock_state2);\n",
    "ψhf25 = MPS(s[9:10], hartee_fock_state2);\n",
    "# ψhf26 = MPS(s[11:12], hartee_fock_state2);"
   ]
  },
  {
   "cell_type": "code",
   "execution_count": 14,
   "id": "594fffbf",
   "metadata": {},
   "outputs": [],
   "source": [
    "ψhf41 = MPS(s[1:4], hartee_fock_state4);\n",
    "ψhf42 = MPS(s[5:8], hartee_fock_state4);\n",
    "# ψhf43 = MPS(s[9:12], hartee_fock_state4);"
   ]
  },
  {
   "cell_type": "code",
   "execution_count": 15,
   "id": "4d7118f2",
   "metadata": {},
   "outputs": [],
   "source": [
    "ψhf61 = MPS(s[1:6], hartee_fock_state6);\n",
    "# ψhf62 = MPS(s[7:12], hartee_fock_state6);"
   ]
  },
  {
   "cell_type": "code",
   "execution_count": 16,
   "id": "af70b63d",
   "metadata": {},
   "outputs": [],
   "source": [
    "ψhf8 = MPS(s[1:8], hartee_fock_state8);"
   ]
  },
  {
   "cell_type": "code",
   "execution_count": 17,
   "id": "713a1958",
   "metadata": {},
   "outputs": [],
   "source": [
    "ψhf10 = MPS(s[1:10], hartee_fock_state10);"
   ]
  },
  {
   "cell_type": "code",
   "execution_count": null,
   "id": "f25f0333",
   "metadata": {},
   "outputs": [],
   "source": [
    "# ψhf12 = MPS(s[1:12], hartee_fock_state12);"
   ]
  },
  {
   "cell_type": "markdown",
   "id": "fb28ba92",
   "metadata": {},
   "source": [
    "ψhf21 = MPS(s[1:2], hartee_fock_state2);\n",
    "ψhf22 = MPS(s[3:4], hartee_fock_state2);\n",
    "ψhf23 = MPS(s[5:6], hartee_fock_state2);\n",
    "ψhf24 = MPS(s[7:8], hartee_fock_state2);\n",
    "ψhf25 = MPS(s[9:10], hartee_fock_state2);\n",
    "ψhf26 = MPS(s[11:12], hartee_fock_state2);\n",
    "\n",
    "ψhf41 = MPS(s[1:4], hartee_fock_state4);\n",
    "ψhf42 = MPS(s[5:8], hartee_fock_state4);\n",
    "ψhf43 = MPS(s[9:12], hartee_fock_state4);\n",
    "\n",
    "ψhf61 = MPS(s[1:6], hartee_fock_state6);\n",
    "ψhf62 = MPS(s[7:12], hartee_fock_state6);\n",
    "\n",
    "ψhf8 = MPS(s[1:8], hartee_fock_state8);\n",
    "\n",
    "ψhf10 = MPS(s[1:10], hartee_fock_state10);\n",
    "\n",
    "ψhf12 = MPS(s[1:12], hartee_fock_state12);"
   ]
  },
  {
   "cell_type": "code",
   "execution_count": 18,
   "id": "99f01445",
   "metadata": {},
   "outputs": [
    {
     "data": {
      "text/plain": [
       "(nsweeps = 3, maxdim = [10, 20, 30], cutoff = 1.0e-8, noise = [1.0e-6, 1.0e-7, 1.0e-8])"
      ]
     },
     "execution_count": 18,
     "metadata": {},
     "output_type": "execute_result"
    }
   ],
   "source": [
    "dmrg_kwargs = (;\n",
    "    nsweeps = 3,\n",
    "    maxdim = [10,20,30],\n",
    "    cutoff = 1e-8,\n",
    "    noise = [1e-6, 1e-7, 1e-8]\n",
    ")"
   ]
  },
  {
   "cell_type": "code",
   "execution_count": 19,
   "id": "d7271411",
   "metadata": {},
   "outputs": [
    {
     "name": "stdout",
     "output_type": "stream",
     "text": [
      "After sweep 1 energy=-1.1372838344885017  maxlinkdim=2 maxerr=0.00E+00 time=13.791\n",
      "After sweep 2 energy=-1.1372838344885017  maxlinkdim=2 maxerr=0.00E+00 time=0.001\n",
      "After sweep 3 energy=-1.1372838344885017  maxlinkdim=2 maxerr=0.00E+00 time=0.001\n",
      "After sweep 1 energy=-1.1372838344885017  maxlinkdim=2 maxerr=0.00E+00 time=0.001\n",
      "After sweep 2 energy=-1.1372838344885017  maxlinkdim=2 maxerr=0.00E+00 time=0.001\n",
      "After sweep 3 energy=-1.1372838344885017  maxlinkdim=2 maxerr=0.00E+00 time=0.001\n",
      "After sweep 1 energy=-1.1372838344885017  maxlinkdim=2 maxerr=0.00E+00 time=0.001\n",
      "After sweep 2 energy=-1.1372838344885017  maxlinkdim=2 maxerr=0.00E+00 time=0.001\n",
      "After sweep 3 energy=-1.1372838344885017  maxlinkdim=2 maxerr=0.00E+00 time=0.001\n",
      "After sweep 1 energy=-1.1372838344885017  maxlinkdim=2 maxerr=0.00E+00 time=0.001\n",
      "After sweep 2 energy=-1.1372838344885017  maxlinkdim=2 maxerr=0.00E+00 time=0.001\n",
      "After sweep 3 energy=-1.1372838344885017  maxlinkdim=2 maxerr=0.00E+00 time=0.001\n",
      "After sweep 1 energy=-1.1372838344885017  maxlinkdim=2 maxerr=0.00E+00 time=0.001\n",
      "After sweep 2 energy=-1.1372838344885017  maxlinkdim=2 maxerr=0.00E+00 time=0.001\n",
      "After sweep 3 energy=-1.1372838344885017  maxlinkdim=2 maxerr=0.00E+00 time=0.001\n"
     ]
    }
   ],
   "source": [
    "dmrg_energy21, dmrg_state21 = dmrg(H21, ψhf21; nsweeps=3);\n",
    "dmrg_energy22, dmrg_state22 = dmrg(H22, ψhf22; nsweeps=3);\n",
    "dmrg_energy23, dmrg_state23 = dmrg(H23, ψhf23; nsweeps=3);\n",
    "dmrg_energy24, dmrg_state24 = dmrg(H24, ψhf24; nsweeps=3);\n",
    "dmrg_energy25, dmrg_state25 = dmrg(H25, ψhf25; nsweeps=3);\n",
    "# dmrg_energy26, dmrg_state26 = dmrg(H26, ψhf26; nsweeps=3);"
   ]
  },
  {
   "cell_type": "code",
   "execution_count": 20,
   "id": "b6500b31",
   "metadata": {},
   "outputs": [
    {
     "name": "stdout",
     "output_type": "stream",
     "text": [
      "After sweep 1 energy=-2.1198520316030436  maxlinkdim=4 maxerr=0.00E+00 time=17.453\n",
      "After sweep 2 energy=-2.135647105898147  maxlinkdim=14 maxerr=7.75E-09 time=0.015\n",
      "After sweep 3 energy=-2.13564712621875  maxlinkdim=15 maxerr=5.27E-09 time=0.015\n",
      "After sweep 1 energy=-2.1198520316030436  maxlinkdim=4 maxerr=0.00E+00 time=0.012\n",
      "After sweep 2 energy=-2.135647105898147  maxlinkdim=14 maxerr=7.75E-09 time=0.017\n",
      "After sweep 3 energy=-2.13564712621875  maxlinkdim=15 maxerr=5.27E-09 time=0.126\n"
     ]
    }
   ],
   "source": [
    "dmrg_energy41, dmrg_state41 = dmrg(H41, ψhf41; nsweeps=3);\n",
    "dmrg_energy42, dmrg_state42 = dmrg(H42, ψhf42; nsweeps=3);\n",
    "# dmrg_energy43, dmrg_state43 = dmrg(H43, ψhf43; nsweeps=3);"
   ]
  },
  {
   "cell_type": "code",
   "execution_count": 21,
   "id": "a28f324d",
   "metadata": {},
   "outputs": [
    {
     "name": "stdout",
     "output_type": "stream",
     "text": [
      "After sweep 1 energy=-3.1152481151787397  maxlinkdim=6 maxerr=3.68E-17 time=0.019\n",
      "After sweep 2 energy=-3.149076920436917  maxlinkdim=22 maxerr=4.66E-09 time=0.082\n",
      "After sweep 3 energy=-3.1504558214662444  maxlinkdim=55 maxerr=6.72E-09 time=0.365\n"
     ]
    }
   ],
   "source": [
    "dmrg_energy61, dmrg_state61 = dmrg(H61, ψhf61; nsweeps=3);\n",
    "# dmrg_energy62, dmrg_state62 = dmrg(H62, ψhf62; nsweeps=3);"
   ]
  },
  {
   "cell_type": "code",
   "execution_count": 22,
   "id": "cd2f2a42",
   "metadata": {},
   "outputs": [
    {
     "name": "stdout",
     "output_type": "stream",
     "text": [
      "After sweep 1 energy=-4.094655669368318  maxlinkdim=6 maxerr=2.76E-16 time=0.102\n",
      "After sweep 2 energy=-4.138437102916106  maxlinkdim=29 maxerr=9.90E-09 time=0.279\n",
      "After sweep 3 energy=-4.150659788210026  maxlinkdim=118 maxerr=8.95E-09 time=2.715\n"
     ]
    }
   ],
   "source": [
    "dmrg_energy8, dmrg_state8 = dmrg(H8, ψhf8; nsweeps=3);"
   ]
  },
  {
   "cell_type": "code",
   "execution_count": 23,
   "id": "c28a0027",
   "metadata": {},
   "outputs": [
    {
     "name": "stdout",
     "output_type": "stream",
     "text": [
      "After sweep 1 energy=-5.080317739922345  maxlinkdim=6 maxerr=1.76E-16 time=0.236\n",
      "After sweep 2 energy=-5.132329509292935  maxlinkdim=33 maxerr=7.92E-09 time=1.393\n",
      "After sweep 3 energy=-5.157023640521963  maxlinkdim=155 maxerr=9.64E-09 time=21.269\n"
     ]
    }
   ],
   "source": [
    "dmrg_energy10, dmrg_state10 = dmrg(H10, ψhf10; nsweeps=3);"
   ]
  },
  {
   "cell_type": "code",
   "execution_count": null,
   "id": "d40a47f5",
   "metadata": {},
   "outputs": [],
   "source": [
    "# dmrg_energy12, dmrg_state12 = dmrg(H12, ψhf12; nsweeps=3);"
   ]
  },
  {
   "cell_type": "code",
   "execution_count": 262,
   "id": "c651424b",
   "metadata": {},
   "outputs": [],
   "source": [
    "v = nothing"
   ]
  },
  {
   "cell_type": "markdown",
   "id": "b503eb43",
   "metadata": {},
   "source": [
    "u = ITensor(1.0)\n",
    "v = ITensor(1.0)\n",
    "\n",
    "for j in 1:2\n",
    "    v = v*dag(dmrg_state4[j])*dmrg_state21[j]\n",
    "end\n",
    "for j in 1:2\n",
    "    u = u*dag(dmrg_state4[j+2])*dmrg_state22[j]\n",
    "end\n",
    "a = inner(v,v)\n",
    "b = inner(u,u)\n",
    "println(a+b-1)"
   ]
  },
  {
   "cell_type": "code",
   "execution_count": 229,
   "id": "71ffabd9",
   "metadata": {},
   "outputs": [
    {
     "name": "stdout",
     "output_type": "stream",
     "text": [
      "0.012459094042034276\n"
     ]
    }
   ],
   "source": [
    "v = ITensor(1.0)\n",
    "for j in 1:4\n",
    "    if j <= 2\n",
    "        v = v*dag(dmrg_state4[j])*dmrg_state21[j]\n",
    "    else\n",
    "        v = v*dag(dmrg_state4[j])*dmrg_state22[j-2]\n",
    "    end\n",
    "end\n",
    "println(inner(v,v))"
   ]
  },
  {
   "cell_type": "code",
   "execution_count": 236,
   "id": "d3ca53cd",
   "metadata": {},
   "outputs": [
    {
     "name": "stdout",
     "output_type": "stream",
     "text": [
      "0.000743931360914013\n"
     ]
    }
   ],
   "source": [
    "v = ITensor(1.0)\n",
    "for j in 1:length(s)\n",
    "    if j <= 4\n",
    "        v = v*dag(dmrg_state6[j])*dmrg_state4[j]\n",
    "    else\n",
    "        v = v*dag(dmrg_state6[j])*dmrg_state23[j-4]\n",
    "    end\n",
    "end\n",
    "println(inner(v,v))"
   ]
  },
  {
   "cell_type": "code",
   "execution_count": 263,
   "id": "395b9860",
   "metadata": {},
   "outputs": [
    {
     "name": "stdout",
     "output_type": "stream",
     "text": [
      "0.00018049816712040597\n",
      "0.01343496062965597\n"
     ]
    }
   ],
   "source": [
    "v = ITensor(1.0)\n",
    "for j in 1:length(s)\n",
    "    if j <= 6\n",
    "        v = v*dag(dmrg_state8[j])*dmrg_state6[j]\n",
    "    else\n",
    "        v = v*dag(dmrg_state8[j])*dmrg_state24[j-6]\n",
    "    end\n",
    "end\n",
    "println(inner(v,v))\n",
    "println(norm(v))"
   ]
  },
  {
   "cell_type": "code",
   "execution_count": null,
   "id": "f393318c",
   "metadata": {},
   "outputs": [],
   "source": []
  },
  {
   "cell_type": "code",
   "execution_count": null,
   "id": "d6e73721",
   "metadata": {},
   "outputs": [],
   "source": []
  },
  {
   "cell_type": "code",
   "execution_count": 31,
   "id": "1c88ce67",
   "metadata": {},
   "outputs": [
    {
     "name": "stdout",
     "output_type": "stream",
     "text": [
      "0.0024509644605080192\n",
      "0.1116203119599405\n"
     ]
    }
   ],
   "source": [
    "# there is diff when we use   MPS_10  or  MPS_4\n",
    "v1 = ITensor(1.0)\n",
    "for j in 1:4\n",
    "    if j <= 2\n",
    "        v1 = v1*dag(dmrg_state10[j])*dmrg_state21[j]\n",
    "    else\n",
    "        v1 = v1*dag(dmrg_state10[j])*dmrg_state22[j-2]\n",
    "    end\n",
    "end\n",
    "println(norm(v1))\n",
    "\n",
    "    \n",
    "\n",
    "v2 = ITensor(1.0)\n",
    "for j in 1:4\n",
    "    if j <= 2\n",
    "        v2 = v2*dag(dmrg_state41[j])*dmrg_state21[j]\n",
    "    else\n",
    "        v2 = v2*dag(dmrg_state41[j])*dmrg_state22[j-2]\n",
    "    end\n",
    "end\n",
    "println(norm(v2))"
   ]
  },
  {
   "cell_type": "markdown",
   "id": "5596d667",
   "metadata": {},
   "source": [
    "## Overlap"
   ]
  },
  {
   "cell_type": "code",
   "execution_count": 51,
   "id": "b2363361",
   "metadata": {},
   "outputs": [
    {
     "data": {
      "text/plain": [
       "Any[]"
      ]
     },
     "execution_count": 51,
     "metadata": {},
     "output_type": "execute_result"
    }
   ],
   "source": [
    "vrlp = []"
   ]
  },
  {
   "cell_type": "code",
   "execution_count": 53,
   "id": "8f5a4b6a",
   "metadata": {},
   "outputs": [
    {
     "name": "stdout",
     "output_type": "stream",
     "text": [
      "0.1116203119599405\n"
     ]
    }
   ],
   "source": [
    "# overlap between H2-H4\n",
    "v = nothing\n",
    "v = ITensor(1.0)\n",
    "for j in 1:4\n",
    "    if j <= 2\n",
    "        v = v*dag(dmrg_state41[j])*dmrg_state21[j]\n",
    "    else\n",
    "        v = v*dag(dmrg_state41[j])*dmrg_state22[j-2]\n",
    "    end\n",
    "end\n",
    "push!(vrlp, norm(v))\n",
    "println(norm(v))"
   ]
  },
  {
   "cell_type": "code",
   "execution_count": 54,
   "id": "9588335f",
   "metadata": {},
   "outputs": [
    {
     "name": "stdout",
     "output_type": "stream",
     "text": [
      "0.027275105422855456\n"
     ]
    }
   ],
   "source": [
    "# overlap between H4-H6\n",
    "v = nothing\n",
    "v = ITensor(1.0)\n",
    "for j in 1:6\n",
    "    if j <= 4\n",
    "        v = v*dag(dmrg_state61[j])*dmrg_state41[j]\n",
    "    else\n",
    "        v = v*dag(dmrg_state61[j])*dmrg_state23[j-4]\n",
    "    end\n",
    "end\n",
    "push!(vrlp, norm(v))\n",
    "println(norm(v))"
   ]
  },
  {
   "cell_type": "code",
   "execution_count": 55,
   "id": "2742e52f",
   "metadata": {},
   "outputs": [
    {
     "name": "stdout",
     "output_type": "stream",
     "text": [
      "0.013434960629760065\n"
     ]
    }
   ],
   "source": [
    "# overlap between H6-H8\n",
    "v = nothing\n",
    "v = ITensor(1.0)\n",
    "for j in 1:8\n",
    "    if j <= 6\n",
    "        v = v*dag(dmrg_state8[j])*dmrg_state61[j]\n",
    "    else\n",
    "        v = v*dag(dmrg_state8[j])*dmrg_state24[j-6]\n",
    "    end\n",
    "end\n",
    "push!(vrlp, norm(v))\n",
    "println(norm(v))"
   ]
  },
  {
   "cell_type": "code",
   "execution_count": null,
   "id": "ac13437a",
   "metadata": {},
   "outputs": [],
   "source": [
    "# overlap between H8-H10\n",
    "v = nothing\n",
    "v = ITensor(1.0)\n",
    "for j in 1:10\n",
    "    if j <= 8\n",
    "        v = v*dag(dmrg_state10[j])*dmrg_state8[j]\n",
    "    else\n",
    "        v = v*dag(dmrg_state10[j])*dmrg_state25[j-8]\n",
    "    end\n",
    "end\n",
    "push!(vrlp, norm(v))\n",
    "println(norm(v))"
   ]
  },
  {
   "cell_type": "markdown",
   "id": "c116fb53",
   "metadata": {},
   "source": [
    "# overlap between H4-H4\n",
    "v = nothing\n",
    "v = ITensor(1.0)\n",
    "for j in 1:8\n",
    "    if j <= 4\n",
    "        v = v*dag(dmrg_state8[j])*dmrg_state41[j]\n",
    "    else\n",
    "        v = v*dag(dmrg_state8[j])*dmrg_state42[j-4]\n",
    "    end\n",
    "end\n",
    "println(norm(v))"
   ]
  },
  {
   "cell_type": "code",
   "execution_count": null,
   "id": "019ac474",
   "metadata": {},
   "outputs": [],
   "source": [
    "# vrlp = nothing"
   ]
  },
  {
   "cell_type": "code",
   "execution_count": 57,
   "id": "7216ca65",
   "metadata": {},
   "outputs": [
    {
     "data": {
      "text/plain": [
       "4-element Vector{Any}:\n",
       " 0.1116203119599405\n",
       " 0.027275105422855456\n",
       " 0.013434960629760065\n",
       " 0.00830547400108322"
      ]
     },
     "execution_count": 57,
     "metadata": {},
     "output_type": "execute_result"
    }
   ],
   "source": [
    "vrlp"
   ]
  },
  {
   "cell_type": "code",
   "execution_count": 101,
   "id": "15d9272a",
   "metadata": {},
   "outputs": [
    {
     "data": {
      "text/plain": [
       "\"/home/amin/H10_overlap.svg\""
      ]
     },
     "execution_count": 101,
     "metadata": {},
     "output_type": "execute_result"
    }
   ],
   "source": [
    "scatter(x,vrlp, \n",
    "    xlim = (0,12),\n",
    "    xticks = ((0:2:12)),\n",
    "    ylim = (-0.02,0.14),\n",
    "    yticks = ((0.0:0.02:0.2)),\n",
    "    markersize = 3,\n",
    "    xlabel = \"Number of H\",\n",
    "    ylabel = \"Overlap\",\n",
    "    label = \"overlap\",\n",
    "    title = \"Overlap computation \\n in Hydrogen chain\",\n",
    ")\n",
    "\n",
    "savefig(\"H10_overlap.svg\")"
   ]
  },
  {
   "cell_type": "code",
   "execution_count": 88,
   "id": "95df2df3",
   "metadata": {},
   "outputs": [],
   "source": []
  },
  {
   "cell_type": "code",
   "execution_count": 89,
   "id": "72ba010e",
   "metadata": {},
   "outputs": [],
   "source": [
    "writedlm(\"H10_overlap.txt\",vrlp)"
   ]
  },
  {
   "cell_type": "code",
   "execution_count": 90,
   "id": "fc256754",
   "metadata": {},
   "outputs": [
    {
     "data": {
      "text/plain": [
       "4×1 Matrix{Float64}:\n",
       " 0.1116203119599405\n",
       " 0.027275105422855456\n",
       " 0.013434960629760065\n",
       " 0.00830547400108322"
      ]
     },
     "execution_count": 90,
     "metadata": {},
     "output_type": "execute_result"
    }
   ],
   "source": [
    "# A = readdlm(\"H10_overlap.txt\");"
   ]
  },
  {
   "cell_type": "code",
   "execution_count": null,
   "id": "5ac7723d",
   "metadata": {},
   "outputs": [],
   "source": []
  }
 ],
 "metadata": {
  "kernelspec": {
   "display_name": "Julia 1.8.2",
   "language": "julia",
   "name": "julia-1.8"
  },
  "language_info": {
   "file_extension": ".jl",
   "mimetype": "application/julia",
   "name": "julia",
   "version": "1.8.2"
  }
 },
 "nbformat": 4,
 "nbformat_minor": 5
}
