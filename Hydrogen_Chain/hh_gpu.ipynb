{
 "cells": [
  {
   "cell_type": "code",
   "execution_count": 7,
   "id": "54c13ea5",
   "metadata": {},
   "outputs": [],
   "source": [
    "using ITensors\n",
    "using ITensorChemistry"
   ]
  },
  {
   "cell_type": "code",
   "execution_count": 11,
   "id": "9f601091",
   "metadata": {},
   "outputs": [
    {
     "data": {
      "text/plain": [
       "c_create_molecule (generic function with 1 method)"
      ]
     },
     "execution_count": 11,
     "metadata": {},
     "output_type": "execute_result"
    }
   ],
   "source": [
    "function create_molecule(m::String, r::Float64, rep::Int64)\n",
    "    s = []\n",
    "    for j in 0:rep-1\n",
    "        push!(s,Atom(m, j*r , 0.0, 0.0))\n",
    "    end\n",
    "    return Molecule(s)\n",
    "end"
   ]
  },
  {
   "cell_type": "code",
   "execution_count": null,
   "id": "7f859132",
   "metadata": {},
   "outputs": [],
   "source": [
    "function energy_at_bond(r)\n",
    "  # define molecule geometry\n",
    "  molecule = create_molecule(\"H\",r,4)\n",
    "  # build electronic hamiltonian \n",
    "  hf = molecular_orbital_hamiltonian(molecule; basis=\"sto-3g\")\n",
    "  hamiltonian = hf.hamiltonian\n",
    "  hartree_fock_state = hf.hartree_fock_state\n",
    "  hartree_fock_energy = hf.hartree_fock_energy\n",
    "  # hilbert space\n",
    "  s = siteinds(\"Electron\", 4; conserve_qns=true)\n",
    "  H = MPO(hamiltonian, s)\n",
    "  # initialize MPS to HF state\n",
    "  ψhf = MPS(s, hartree_fock_state)\n",
    "  # run dmrg\n",
    "  dmrg_kwargs = (;\n",
    "    nsweeps=10,\n",
    "    maxdim=[10,20,30,40,50,100],\n",
    "    cutoff=1e-8,\n",
    "    noise=[1e-6, 1e-7, 1e-8, 0.0],\n",
    "  )\n",
    "  dmrg_energy, _ = dmrg(H, ψhf; nsweeps=10, outputlevel=0)\n",
    "  return hartree_fock_energy, dmrg_energy\n",
    "end\n"
   ]
  },
  {
   "cell_type": "code",
   "execution_count": 10,
   "id": "7844c2af",
   "metadata": {},
   "outputs": [
    {
     "data": {
      "text/plain": [
       "Molecule\n",
       "Atom 1: H,   r⃗ = (0.0, 0.0, 0.0)\n",
       "Atom 2: H,   r⃗ = (0.3, 0.0, 0.0)\n",
       "Atom 3: H,   r⃗ = (0.6, 0.0, 0.0)\n",
       "Atom 4: H,   r⃗ = (0.8999999999999999, 0.0, 0.0)\n",
       "Atom 5: H,   r⃗ = (1.2, 0.0, 0.0)\n"
      ]
     },
     "execution_count": 10,
     "metadata": {},
     "output_type": "execute_result"
    }
   ],
   "source": [
    "# bond distances\n",
    "r⃗ = 0.7:0.1:1\n",
    "energies = []\n",
    "for r in r⃗\n",
    "  push!(energies, (r,energy_at_bond(r)))\n",
    "end"
   ]
  },
  {
   "cell_type": "code",
   "execution_count": null,
   "id": "36d336bc",
   "metadata": {},
   "outputs": [],
   "source": [
    "function min_energy(energy)\n",
    "    dm_energy = []\n",
    "    for j in energy\n",
    "        push!(dm_energy, j[2][2])\n",
    "    end\n",
    "    min = minimum(dm_energy)\n",
    "    for j in energy\n",
    "        if j[2][2] == min\n",
    "            return j\n",
    "        end\n",
    "    end\n",
    "end"
   ]
  },
  {
   "cell_type": "code",
   "execution_count": null,
   "id": "f736bf3a",
   "metadata": {},
   "outputs": [],
   "source": []
  },
  {
   "cell_type": "code",
   "execution_count": null,
   "id": "5654d9da",
   "metadata": {},
   "outputs": [],
   "source": [
    "# using ITensorsGPU\n",
    "# using CUDA\n",
    "# CUDA.versioninfo()\n",
    "# CUDA.functional()\n",
    "# gpu = cu"
   ]
  }
 ],
 "metadata": {
  "kernelspec": {
   "display_name": "Julia 1.8.2",
   "language": "julia",
   "name": "julia-1.8"
  },
  "language_info": {
   "file_extension": ".jl",
   "mimetype": "application/julia",
   "name": "julia",
   "version": "1.8.2"
  }
 },
 "nbformat": 4,
 "nbformat_minor": 5
}
