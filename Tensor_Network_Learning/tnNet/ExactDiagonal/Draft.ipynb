{
 "cells": [
  {
   "cell_type": "code",
   "execution_count": 13,
   "id": "178c26ed",
   "metadata": {},
   "outputs": [],
   "source": [
    "import numpy as np \n",
    "from timeit import default_timer as timer\n",
    "from scipy.sparse.linalg import LinearOperator, eigsh"
   ]
  },
  {
   "cell_type": "code",
   "execution_count": null,
   "id": "cd327fc1",
   "metadata": {},
   "outputs": [],
   "source": [
    "model = \"XX\";\n",
    "Nsites = 8;\n",
    "usePBC = True;\n",
    "numval = 1;\n",
    "# Define Hamiltonian (quantum XX model)\n",
    "d = 2;\n",
    "X = np.array([[0,1],[1,0]]);\n",
    "Y = np.array([[0,-1j],[1j,0]]);\n",
    "Z = np.array([[1,0],[0,-1]]);\n",
    "Id = np.eye(2);\n",
    "\n",
    "\n",
    "np.kron()"
   ]
  },
  {
   "cell_type": "code",
   "execution_count": null,
   "id": "a110d69f",
   "metadata": {},
   "outputs": [],
   "source": []
  },
  {
   "cell_type": "code",
   "execution_count": null,
   "id": "116ae4f5",
   "metadata": {},
   "outputs": [],
   "source": [
    "def doApplyHam(psiIn: np.array,\n",
    "               hloc: np.array,\n",
    "               N: Int,\n",
    "               usePBC: bool):\n",
    "    \"\"\"\n",
    "    Args:\n",
    "    psiIn: vector of length d**N describing the quantum state.\n",
    "    hloc: array of ndim=4 describing the nearest neighbor coupling.\n",
    "    N: the number of lattice sites.\n",
    "    usePBC: sets whether to include periodic boundary term.\n",
    "    \"\"\"\n",
    "    d = hloc.shape[0]\n",
    "    psiOut = np.zeros(psiIn.size)\n",
    "    for j in range(N-1):\n",
    "        \n",
    "    \n",
    "    \n",
    "    \n",
    "    \n",
    "    \n",
    "    "
   ]
  },
  {
   "cell_type": "code",
   "execution_count": null,
   "id": "2a934ac3",
   "metadata": {},
   "outputs": [],
   "source": [
    "np.tensordot()"
   ]
  },
  {
   "cell_type": "code",
   "execution_count": 3,
   "id": "8fe8871a",
   "metadata": {},
   "outputs": [
    {
     "name": "stdout",
     "output_type": "stream",
     "text": [
      "(5, 2) \t (5, 2)\n"
     ]
    }
   ],
   "source": [
    "a = np.arange(60).reshape(3,4,5)\n",
    "b = np.arange(24).reshape(4,3,2)\n",
    "c = np.tensordot(a,b,[[1,0],[0,1]])\n",
    "d = np.tensordot(a,b,[[0,1],[1,0]])\n",
    "print(c.shape,\"\\t\", d.shape)"
   ]
  },
  {
   "cell_type": "code",
   "execution_count": 7,
   "id": "c9a156d9",
   "metadata": {},
   "outputs": [
    {
     "data": {
      "text/plain": [
       "True"
      ]
     },
     "execution_count": 7,
     "metadata": {},
     "output_type": "execute_result"
    }
   ],
   "source": [
    "np.all(c==d)"
   ]
  },
  {
   "cell_type": "code",
   "execution_count": 15,
   "id": "cfef5494",
   "metadata": {},
   "outputs": [],
   "source": [
    "X = np.array([[0,1],[1,0]]);\n",
    "Y = np.array([[0,-1j],[1j,0]]);\n",
    "Z = np.array([[1,0],[0,-1]]);\n"
   ]
  },
  {
   "cell_type": "code",
   "execution_count": 16,
   "id": "cf2939e7",
   "metadata": {},
   "outputs": [
    {
     "data": {
      "text/plain": [
       "array([[0, 0, 0, 1],\n",
       "       [0, 0, 1, 0],\n",
       "       [0, 1, 0, 0],\n",
       "       [1, 0, 0, 0]])"
      ]
     },
     "execution_count": 16,
     "metadata": {},
     "output_type": "execute_result"
    }
   ],
   "source": [
    "np.kron(X,X)"
   ]
  },
  {
   "cell_type": "code",
   "execution_count": 24,
   "id": "1318a795",
   "metadata": {},
   "outputs": [
    {
     "data": {
      "text/plain": [
       "array([[1, 0],\n",
       "       [0, 1]])"
      ]
     },
     "execution_count": 24,
     "metadata": {},
     "output_type": "execute_result"
    }
   ],
   "source": [
    "np.tensordot(X,X,[0,1])"
   ]
  },
  {
   "cell_type": "code",
   "execution_count": null,
   "id": "87047d00",
   "metadata": {},
   "outputs": [],
   "source": []
  }
 ],
 "metadata": {
  "kernelspec": {
   "display_name": "Python 3 (ipykernel)",
   "language": "python",
   "name": "python3"
  },
  "language_info": {
   "codemirror_mode": {
    "name": "ipython",
    "version": 3
   },
   "file_extension": ".py",
   "mimetype": "text/x-python",
   "name": "python",
   "nbconvert_exporter": "python",
   "pygments_lexer": "ipython3",
   "version": "3.9.13"
  }
 },
 "nbformat": 4,
 "nbformat_minor": 5
}
