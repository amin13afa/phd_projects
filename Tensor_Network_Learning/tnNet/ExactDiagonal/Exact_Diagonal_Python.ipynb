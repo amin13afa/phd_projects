{
 "cells": [
  {
   "cell_type": "markdown",
   "id": "b332b757",
   "metadata": {},
   "source": [
    "- Here we present an implementation of exact diagonalization for a quantum many-body Hamiltonian composed of a sum of local terms. \n",
    "\n",
    "- This code formats the quantum problem in such a way that it can be passed as an input to a standard sparse eigensolver, which then performs the exact diagonalization based on the Lanczos algorithm.\n",
    "\n",
    "- We never form the full Hamiltonian H as a matrix; instead the Hamiltonian is represented as a function that acts on an input state |ψ> in order to output H|ψ>. \n",
    "\n",
    "\n",
    "- If we have a lattice of N sites of local dimension d, then the memory required using this approach scales as O(d^N), i.e. the memory required to represent a state |ψ>, as opposed to scaling as O(d^(2N)), which would otherwise be required to represent H as a matrix.\n",
    "\n",
    "    \n",
    "\n",
    "- Scaling of memory: O(d^N)\n",
    "\n",
    "- Implemented for a finite chain with open or periodic boundaries"
   ]
  },
  {
   "cell_type": "markdown",
   "id": "f9f2e999",
   "metadata": {},
   "source": [
    "- The goal of this code is to find the low-energy eigenstates of a Hamiltonian H, that is composed as a sum of local couplings `h`.\n",
    "\n",
    "\n",
    "- In order to do this efficiently, we first write a function that computes H|Ψ> for an input quantum state |Ψ>, by applying each of the `h` couplings singularly. This function can then be passed to a standard sparse eigensolver such as `eigs`.\n",
    "\n",
    "- applying the local couplings `h` to the state is most easily accomplished by using a tensordot function. "
   ]
  },
  {
   "cell_type": "markdown",
   "id": "ca0965b0",
   "metadata": {},
   "source": [
    "Img.1 - Wavefunction and Hamiltonian \n",
    "\n",
    "\n",
    "<img src=\"ED_1.webp\" width=700>"
   ]
  },
  {
   "cell_type": "markdown",
   "id": "2aec070a",
   "metadata": {},
   "source": [
    "Img.2 - Index ordering conventions\n",
    "<img src=\"ED_2.webp\" width=700> "
   ]
  },
  {
   "cell_type": "code",
   "execution_count": 1,
   "id": "2c073bb7",
   "metadata": {},
   "outputs": [],
   "source": [
    "import numpy as np "
   ]
  },
  {
   "cell_type": "code",
   "execution_count": null,
   "id": "c8da0f7e",
   "metadata": {},
   "outputs": [],
   "source": [
    "def ApplyHam(ψ0, hloc, N, PB):\n",
    "    \"\"\"\n",
    "    Hamiltonina: sum of nearest neighbor terms\n",
    "    ψ0 : initial quantum state,|ψ0>, length of this vector d**N\n",
    "    hloc : nearest neighbor coupling, an array of ndim=4\n",
    "    N : number of lattice sites\n",
    "    PB : sets whether to include periodic boundary term.\n",
    "    Returns: H|ψ>\n",
    "    \"\"\"\n",
    "    \n",
    "    "
   ]
  },
  {
   "cell_type": "markdown",
   "id": "458854ce",
   "metadata": {},
   "source": [
    "# Function for applying the Hamiltonian"
   ]
  },
  {
   "cell_type": "code",
   "execution_count": null,
   "id": "e717f617",
   "metadata": {},
   "outputs": [],
   "source": [
    "def doApplyHam(psiIn: np.ndarray,\n",
    "               hloc: np.ndarray,\n",
    "               N: int,\n",
    "               usePBC: bool):\n",
    "\n",
    "  d = hloc.shape[0]\n",
    "  psiOut = np.zeros(psiIn.size)\n",
    "  for k in range(N - 1):\n",
    "    # apply local Hamiltonian terms to sites [k,k+1]\n",
    "    psiOut += np.tensordot(hloc.reshape(d**2, d**2),\n",
    "                           psiIn.reshape(d**k, d**2, d**(N - 2 - k)),\n",
    "                           axes=[[1], [1]]).transpose(1, 0, 2).reshape(d**N)\n",
    "\n",
    "  if usePBC:\n",
    "    # apply periodic term\n",
    "    psiOut += np.tensordot(hloc.reshape(d, d, d, d),\n",
    "                           psiIn.reshape(d, d**(N - 2), d),\n",
    "                           axes=[[2, 3], [2, 0]]\n",
    "                           ).transpose(1, 2, 0).reshape(d**N)\n",
    "\n",
    "  return psiOut\n",
    "\n"
   ]
  },
  {
   "cell_type": "code",
   "execution_count": null,
   "id": "0ee344d5",
   "metadata": {},
   "outputs": [],
   "source": []
  },
  {
   "cell_type": "code",
   "execution_count": null,
   "id": "0bc31538",
   "metadata": {},
   "outputs": [],
   "source": []
  },
  {
   "cell_type": "markdown",
   "id": "40a068a2",
   "metadata": {},
   "source": [
    "# Initialization script"
   ]
  },
  {
   "cell_type": "code",
   "execution_count": null,
   "id": "166e56e1",
   "metadata": {},
   "outputs": [],
   "source": [
    "  \n",
    "\"\"\"\n",
    "mainExactDiag.py\n",
    "---------------------------------------------------------------------\n",
    "Script file for initializing exact diagonalization using the 'eigsh' routine\n",
    "for a 1D quantum system.\n",
    "\n",
    "by Glen Evenbly (c) for www.tensors.net, (v1.2) - last modified 06/2020\n",
    "\"\"\"\n",
    "\n",
    "import numpy as np\n",
    "from scipy.sparse.linalg import LinearOperator, eigsh\n",
    "from timeit import default_timer as timer\n",
    "\n",
    "from doApplyHam import doApplyHam\n",
    "\n",
    "# Simulation parameters\n",
    "model = 'XX'  # select 'XX' model of 'ising' model\n",
    "Nsites = 18  # number of lattice sites\n",
    "usePBC = True  # use periodic or open boundaries\n",
    "numval = 1  # number of eigenstates to compute\n",
    "\n",
    "# Define Hamiltonian (quantum XX model)\n",
    "d = 2  # local dimension\n",
    "sX = np.array([[0, 1.0], [1.0, 0]])\n",
    "sY = np.array([[0, -1.0j], [1.0j, 0]])\n",
    "sZ = np.array([[1.0, 0], [0, -1.0]])\n",
    "sI = np.array([[1.0, 0], [0, 1.0]])\n",
    "if model == 'XX':\n",
    "  hloc = (np.real(np.kron(sX, sX) + np.kron(sY, sY))).reshape(2, 2, 2, 2)\n",
    "  EnExact = -4 / np.sin(np.pi / Nsites)  # Note: only for PBC\n",
    "elif model == 'ising':\n",
    "  hloc = (-np.kron(sX, sX) + 0.5 * np.kron(sZ, sI) + 0.5 * np.kron(sI, sZ)\n",
    "          ).reshape(2, 2, 2, 2)\n",
    "  EnExact = -2 / np.sin(np.pi / (2 * Nsites))  # Note: only for PBC\n",
    "\n",
    "\n",
    "# cast the Hamiltonian 'H' as a linear operator\n",
    "def doApplyHamClosed(psiIn):\n",
    "  return doApplyHam(psiIn, hloc, Nsites, usePBC)\n",
    "\n",
    "\n",
    "H = LinearOperator((2**Nsites, 2**Nsites), matvec=doApplyHamClosed)\n",
    "\n",
    "# do the exact diag\n",
    "start_time = timer()\n",
    "Energy, psi = eigsh(H, k=numval, which='SA')\n",
    "diag_time = timer() - start_time\n",
    "\n",
    "# check with exact energy\n",
    "EnErr = Energy[0] - EnExact  # should equal to zero\n",
    "\n",
    "print('NumSites: %d, Time: %1.2f, Energy: %e, EnErr: %e' %\n",
    "      (Nsites, diag_time, Energy[0], EnErr))\n",
    "\n"
   ]
  },
  {
   "cell_type": "code",
   "execution_count": null,
   "id": "68c1c66e",
   "metadata": {},
   "outputs": [],
   "source": []
  },
  {
   "cell_type": "code",
   "execution_count": null,
   "id": "31cfcf6e",
   "metadata": {},
   "outputs": [],
   "source": [
    "\n",
    "'mainExactDiag' benchmark:\n",
    "​\n",
    "Method: Exact diagonalization (Lanczos method)\n",
    "\n",
    "Test problem: 1D quantum XX model (on lattice of N = 18 sites with periodic boundaries)\n",
    "\n",
    "Running time: approx 10 secs\n",
    "\n",
    "Quantities computed: ground energy \n",
    "\n",
    "​\n",
    "\n",
    "Typical results:\n",
    "\n",
    "​\n",
    "\n",
    "Ground energy (exact diag): -23.035081932574503\n",
    "\n",
    "Ground energy (analytic):     -23.035081932574535"
   ]
  },
  {
   "cell_type": "code",
   "execution_count": null,
   "id": "4f14b026",
   "metadata": {},
   "outputs": [],
   "source": []
  }
 ],
 "metadata": {
  "kernelspec": {
   "display_name": "Python 3 (ipykernel)",
   "language": "python",
   "name": "python3"
  },
  "language_info": {
   "codemirror_mode": {
    "name": "ipython",
    "version": 3
   },
   "file_extension": ".py",
   "mimetype": "text/x-python",
   "name": "python",
   "nbconvert_exporter": "python",
   "pygments_lexer": "ipython3",
   "version": "3.9.13"
  }
 },
 "nbformat": 4,
 "nbformat_minor": 5
}
