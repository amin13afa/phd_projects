{
 "cells": [
  {
   "cell_type": "code",
   "execution_count": 1,
   "id": "042394a0",
   "metadata": {},
   "outputs": [],
   "source": [
    "import numpy as np \n",
    "from numpy import linalg as LA\n",
    "from ncon import ncon \n",
    "from scipy.linalg import expm\n",
    "from scipy.sparse.linalg import eigs, LinearOperator"
   ]
  },
  {
   "cell_type": "code",
   "execution_count": 2,
   "id": "e798e814",
   "metadata": {},
   "outputs": [],
   "source": [
    "def IsingTF(J,h,δ):\n",
    "    X = np.array([[0,1],[1,0]])\n",
    "    Z = np.array([[1,0],[0,-1]])\n",
    "    Id = np.eye(2)\n",
    "    Hx = 0.5*(ncon([X,Id],[[-1,-3],[-2,-4]]) + ncon([Id,X],[[-1,-3],[-2,-4]]))\n",
    "    Hz = ncon([Z,Z],[[-1,-3],[-2,-4]])\n",
    "    H = -J*Hz -h*Hx\n",
    "    Ug = expm(-δ*np.reshape(H,[4,4]))\n",
    "    return H,Ug"
   ]
  },
  {
   "cell_type": "code",
   "execution_count": 3,
   "id": "0dae738a",
   "metadata": {},
   "outputs": [],
   "source": [
    "def TensorCreation(d,D):\n",
    "    A = np.random.rand(D,d,D);\n",
    "    B = np.random.rand(D,d,D);\n",
    "    sAB = np.ones(D) / np.sqrt(D);\n",
    "    sBA = np.ones(D) / np.sqrt(D);\n",
    "    return A,B,sAB,sBA"
   ]
  },
  {
   "cell_type": "code",
   "execution_count": 4,
   "id": "e7c62ab4",
   "metadata": {},
   "outputs": [],
   "source": []
  },
  {
   "cell_type": "markdown",
   "id": "417b15a7",
   "metadata": {},
   "source": [
    "## left contraction"
   ]
  },
  {
   "cell_type": "code",
   "execution_count": 4,
   "id": "86dea4d1",
   "metadata": {},
   "outputs": [],
   "source": [
    "def left_contract(sigBA,A,B,sAB,sBA):\n",
    "    D_BA = A.shape[0]\n",
    "    if sigBA.shape[0] == D_BA:\n",
    "        v0 = np.reshape(sigBA,(np.prod(sigBA.shape)))\n",
    "    else:\n",
    "        v0 = np.reshape(np.eye(D_BA) / D_BA, D_BA**2)\n",
    "    # define network for transfer operator contract\n",
    "    tensors = [np.diag(sBA), np.diag(sBA),A,A.conj(),np.diag(sAB),np.diag(sAB),B,B.conj()]\n",
    "    connect = [[1,2],[1,3],[2,4],[3,5,6],[4,5,7],[6,8],[7,9],[8,10,-1],[9,10,-2]]\n",
    "    # define function for boundary contraction and pass to eigs\n",
    "    def left_iter(sigBA):\n",
    "        return np.reshape(ncon([np.reshape(sigBA,[D_BA,D_BA]), *tensors],connect),\n",
    "                          [D_BA**2,1])\n",
    "    Dtemp, sigBA = eigs(LinearOperator((D_BA**2,D_BA**2), matvec=left_iter), \n",
    "                       k=1,which=\"LM\",v0=v0,tol=1e-10)\n",
    "    # normalize the environment density matrix sigBA\n",
    "    if np.isrealobj(A):\n",
    "        sigBA = np.real(sigBA)\n",
    "    sigBA = np.reshape(sigBA,(D_BA,D_BA))\n",
    "    sigBA = 0.5*(sigBA + np.conj(sigBA.T))\n",
    "    sigBA = sigBA / np.trace(sigBA)\n",
    "    # compute density matrix sigAB for A-B link\n",
    "    sigAB = ncon([sigBA,np.diag(sBA),np.diag(sBA),A,A.conj()],\n",
    "                 [[1,2],[1,3],[2,4],[3,5,-1],[4,5,-2]])\n",
    "    sigAB = sigAB / np.trace(sigAB)\n",
    "    return sigBA,sigAB"
   ]
  },
  {
   "cell_type": "code",
   "execution_count": 5,
   "id": "fe5f3908",
   "metadata": {},
   "outputs": [],
   "source": [
    "def right_contract(muAB,A,B,sAB,sBA):\n",
    "    D_AB = A.shape[2]\n",
    "    if muAB.shape[0] == D_AB:\n",
    "        v0 = np.reshape(muAB,np.prod(muAB.shape))\n",
    "    else:\n",
    "        v0 = np.reshape(np.eye(D_AB) / D_AB, D_AB**2)\n",
    "     # define network for transfer operator contract\n",
    "    tensors = [np.diag(sAB),np.diag(sAB),A,A.conj(),np.diag(sBA),np.diag(sBA),B,B.conj()]\n",
    "#     connect = [[1,2],[1,3],[2,4],[3,5,6],[4,5,7],[6,8],[7,9],[8,10,-1],[9,10,-2]]\n",
    "    connect = [[1,2],[3,1],[4,2],[6,5,3],[7,5,4],[8,6],[9,7],[-1,10,8],[-2,10,9]]\n",
    "    # define function for boundary contraction and pass to eigs\n",
    "    def right_iter(muAB):\n",
    "        return ncon([np.reshape(muAB,[D_AB,D_AB]), *tensors], connect).reshape([D_AB**2,1])\n",
    "    \n",
    "    Dtemp, muAB = eigs(LinearOperator((D_AB**2, D_AB**2),matvec=right_iter),\n",
    "                       k=1,which=\"LM\",v0=v0,tol=1e-10)\n",
    "    # normalize the environment density matrix muAB\n",
    "    if np.isrealobj(A):\n",
    "        muAB = np.real(muAB)\n",
    "    muAB = np.reshape(muAB,[D_AB,D_AB])\n",
    "    muAB = 0.5*(muAB + np.conj(muAB.T))\n",
    "    muAB = muAB / np.trace(muAB)\n",
    "    # compute density matrix muBA for B-A link\n",
    "    muBA = ncon([muAB, np.diag(sAB),np.diag(sAB),A,A.conj()],\n",
    "                [[1,2],[3,1],[5,2],[-1,4,3],[-2,4,5]])\n",
    "    muBA = muBA / np.trace(muBA)\n",
    "    return muAB, muBA"
   ]
  },
  {
   "cell_type": "code",
   "execution_count": 6,
   "id": "ad3f8354",
   "metadata": {},
   "outputs": [],
   "source": [
    "d = 2;\n",
    "D = 5;\n",
    "J = 1.0;\n",
    "h = 0.3;\n",
    "δ = 0.1;\n",
    "A,B,sAB,sBA = TensorCreation(d,D);\n",
    "H, Ug = IsingTF(J,h,δ);"
   ]
  },
  {
   "cell_type": "code",
   "execution_count": 7,
   "id": "15c90a54",
   "metadata": {},
   "outputs": [],
   "source": [
    "# initialize environment matrices\n",
    "sigBA = np.eye(A.shape[0]) / A.shape[0];\n",
    "muAB = np.eye(A.shape[2]) / A.shape[2];"
   ]
  },
  {
   "cell_type": "code",
   "execution_count": 9,
   "id": "d43f84d1",
   "metadata": {},
   "outputs": [],
   "source": [
    "# left_contract(sigBA, A,B,sAB,sBA)\n",
    "right_contract(muAB,A,B,sAB,sBA);"
   ]
  },
  {
   "cell_type": "markdown",
   "id": "aedaa264",
   "metadata": {},
   "source": [
    "# Section 4: MPS time evolution"
   ]
  },
  {
   "cell_type": "code",
   "execution_count": 10,
   "id": "9f33dcb0",
   "metadata": {},
   "outputs": [],
   "source": [
    "# define a Hamiltonian, here XX model\n",
    "\n",
    "X = np.array([[0,1],[1,0]])\n",
    "Y = np.array([[0, -1j],[1j, 0]])\n",
    "hamAB = 0.5*(np.real(np.kron(X,X) + np.kron(Y,Y))).reshape(2,2,2,2)\n",
    "hamBA = hamAB\n",
    "\n",
    "# exponentiate Hamiltonian\n",
    "tau = 0.1  # set time-step\n",
    "\n",
    "gAB = expm(-tau * hamAB.reshape(d**2,d**2)).reshape(d,d,d,d)\n",
    "gBA = expm(-tau * hamBA.reshape(d**2,d**2)).reshape(d,d,d,d)"
   ]
  },
  {
   "cell_type": "code",
   "execution_count": 11,
   "id": "acdf7c24",
   "metadata": {},
   "outputs": [],
   "source": [
    "def Apply_Gate(gAB,A,B,sAB,sBA,D,tol=1e-7):\n",
    "    # ensure singular values are above tolerance threshold\n",
    "    sBA_trim = sBA*(sBA > tol) + tol*(sBA < tol)\n",
    "    # contract gate into the MPS, then deompose composite tensor with SVD\n",
    "    d = A.shape[1]\n",
    "    D_BA = sBA_trim.shape[0]\n",
    "    tensors = [np.diag(sBA_trim), A, np.diag(sAB),B, np.diag(sBA_trim), gAB]\n",
    "    connect = [[-1,1],[1,5,2],[2,4],[4,6,3],[3,-4],[-2,-3,5,6]]\n",
    "    nshape = [d*D_BA, d*D]\n",
    "    U,S,V = LA.svd(ncon(tensors, connect).reshape(nshape),full_matrices=False)\n",
    "    # truncate to reduced dimension\n",
    "    Dtemp = min(D,len(S))\n",
    "    U = U[:,range(Dtemp)].reshape(sBA_trim.shape[0],d*Dtemp)\n",
    "    V = V[range(Dtemp),:].reshape(d*Dtemp, D_BA)\n",
    "    # remove environment weights to form new MPS tensors A and B\n",
    "    A = (np.diag(1./sBA_trim) @ U).reshape(sBA_trim.shape[0],d,Dtemp)\n",
    "    B = (V @ np.diag(1./sBA_trim)).reshape(Dtemp,d,D_BA)\n",
    "    # new weights\n",
    "    sAB = S[range(Dtemp)] / LA.norm(S[range(Dtemp)])\n",
    "    return A,B,sAB"
   ]
  },
  {
   "cell_type": "code",
   "execution_count": 13,
   "id": "aad3997a",
   "metadata": {},
   "outputs": [],
   "source": [
    "Apply_Gate(gAB,A,B,sAB,sBA,5);"
   ]
  },
  {
   "cell_type": "code",
   "execution_count": null,
   "id": "33dbd564",
   "metadata": {},
   "outputs": [],
   "source": []
  },
  {
   "cell_type": "code",
   "execution_count": null,
   "id": "59257850",
   "metadata": {},
   "outputs": [],
   "source": []
  }
 ],
 "metadata": {
  "kernelspec": {
   "display_name": "Python 3 (ipykernel)",
   "language": "python",
   "name": "python3"
  },
  "language_info": {
   "codemirror_mode": {
    "name": "ipython",
    "version": 3
   },
   "file_extension": ".py",
   "mimetype": "text/x-python",
   "name": "python",
   "nbconvert_exporter": "python",
   "pygments_lexer": "ipython3",
   "version": "3.9.13"
  }
 },
 "nbformat": 4,
 "nbformat_minor": 5
}
