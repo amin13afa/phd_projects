{
 "cells": [
  {
   "cell_type": "markdown",
   "id": "29512d5d",
   "metadata": {},
   "source": [
    "- [ ] Tensor (MPS) creation func\n",
    "- [ ] Hamiltonian creation func\n",
    "- [ ] iTEBD func \n",
    "\n",
    "\n"
   ]
  },
  {
   "cell_type": "code",
   "execution_count": 2,
   "id": "ae693540",
   "metadata": {},
   "outputs": [],
   "source": [
    "import numpy as np \n",
    "from numpy import linalg as LA\n",
    "from ncon import ncon \n",
    "from scipy.linalg import expm\n",
    "from scipy.sparse.linalg import eigs, LinearOperator "
   ]
  },
  {
   "cell_type": "code",
   "execution_count": 5,
   "id": "3bb0a31d",
   "metadata": {},
   "outputs": [],
   "source": [
    "def IsingTF(J,h,delta):\n",
    "    X = np.array([[0,1],[1,0]])\n",
    "    Z = np.array([[1,0],[0,-1]])\n",
    "    Id = np.eye(2)\n",
    "    Hx = 0.5*(ncon([X,Id],[[-1,-3],[-2,-4]]) + ncon([Id,X],[[-1,-3],[-2,-4]]))\n",
    "    Hz = ncon([Z,Z],[[-1,-3],[-2,-4]])\n",
    "    H = J*Hz - h*Hx\n",
    "    Ug = expm(-delta*H.reshape(4,4)).reshape(2,2,2,2)\n",
    "    return H, Ug    "
   ]
  },
  {
   "cell_type": "code",
   "execution_count": 4,
   "id": "137481c7",
   "metadata": {},
   "outputs": [],
   "source": [
    "def Tens(d,D):\n",
    "    A = np.random.rand(D,d,D)\n",
    "    B = np.random.rand(D,d,D)\n",
    "    sAB = np.ones(D) / np.sqrt(D)\n",
    "    sBA = np.ones(D) / np.sqrt(D)\n",
    "    return A,B,sAB,sBA"
   ]
  },
  {
   "cell_type": "code",
   "execution_count": 54,
   "id": "61e5acc1",
   "metadata": {},
   "outputs": [],
   "source": [
    "def doTEBD(A,B,sAB,sBA,n_iter,tol):\n",
    "    D = A.shape[0]\n",
    "    d = A.shape[1]\n",
    "#     sigBA = np.random.rand(D,D)\n",
    "    sigBA = np.eye(D) / D;\n",
    "    muAB = np.eye(D) / D;\n",
    "    tensors1 = [np.diag(sBA),np.diag(sBA),A,A.conj(),np.diag(sAB),np.diag(sAB),B,B.conj()]\n",
    "    connect1 = [[1,2],[1,3],[2,4],[3,5,6],[4,5,7],[6,8],[7,9],[8,10,-1],[9,10,-2]]\n",
    "    for j in range(n_iter):\n",
    "        sigBA_new = ncon([sigBA,*tensors1],connect1)\n",
    "        sigBA_new = sigBA_new / np.trace(sigBA_new)\n",
    "        if LA.norm(sigBA - sigBA_new) < tol:\n",
    "            print(\"sig Success!\")\n",
    "            break\n",
    "        else:\n",
    "            print(\"iter sig: {}, diff: {}\".format(j,LA.norm(sigBA - sigBA_new)))\n",
    "            sigBA = sigBA_new\n",
    "    if np.isrealobj(A):\n",
    "        sigBA = np.real(sigBA)\n",
    "    sigBA = sigBA.reshape(D,D)\n",
    "    sigBA = 0.5*(sigBA+np.conj(sigBA.T))\n",
    "    sigBA = sigBA / np.trace(sigBA)\n",
    "    # sigAB\n",
    "    sigAB = ncon([sigBA,np.diag(sBA),np.diag(sBA),A,A.conj()],\n",
    "                 [[1,2],[1,3],[2,4],[3,5,-1],[4,5,-2]])\n",
    "    sigAB = sigAB / np.trace(sigAB)\n",
    "    \n",
    "    # muAB\n",
    "    tensors2 = [np.diag(sAB),np.diag(sAB),A,A.conj(),np.diag(sBA),np.diag(sBA),\n",
    "               B, B.conj()]\n",
    "    connect2 = [[1,2],[3,1],[5,2],[6,4,3],[7,4,5],[8,6],[10,7],[-1,9,8],[-2,9,10]]\n",
    "    for j in range(n_iter):\n",
    "        muAB_new = ncon([muAB,*tensors2],connect2)\n",
    "        muAB_new = muAB_new / np.trace(muAB_new)\n",
    "        if LA.norm(muAB - muAB_new)<tol:\n",
    "            print(\"mu Success!\")\n",
    "            break\n",
    "        else:\n",
    "            print(\"iter mu: {}, diff: {}\".format(j,LA.norm(muAB - muAB_new)))\n",
    "            muAB = muAB_new\n",
    "    if np.isrealobj(A):\n",
    "        muAB = np.real(muAB)\n",
    "    muAB = muAB.reshape(D,D)\n",
    "    muAB = 0.5*(muAB + np.conj(muAB.T))\n",
    "    muAB = muAB / np.trace(muAB)\n",
    "   # muBA\n",
    "    muBA = ncon([muAB,np.diag(sAB), np.diag(sAB), A,A.conj()],\n",
    "                [[1,2],[3,1],[5,2],[-1,4,3],[-2,4,5]])\n",
    "    muBA = muBA / np.trace(muBA)\n",
    "    \n",
    "    return sigBA,sigAB,muAB,muBA\n",
    "    "
   ]
  },
  {
   "cell_type": "code",
   "execution_count": 61,
   "id": "2bfd8ea9",
   "metadata": {},
   "outputs": [],
   "source": [
    "## test \n",
    "\n",
    "A,B,sAB,sBA = Tens(2,5)"
   ]
  },
  {
   "cell_type": "code",
   "execution_count": 62,
   "id": "933c0d78",
   "metadata": {},
   "outputs": [
    {
     "name": "stdout",
     "output_type": "stream",
     "text": [
      "iter sig: 0, diff: 0.8497764855255682\n",
      "iter sig: 1, diff: 0.012287971308665107\n",
      "iter sig: 2, diff: 0.000192914248789771\n",
      "iter sig: 3, diff: 6.376969862545573e-06\n",
      "iter sig: 4, diff: 2.037374891181432e-07\n",
      "iter sig: 5, diff: 6.409722240523928e-09\n",
      "iter sig: 6, diff: 2.0114645817579789e-10\n",
      "sig Success!\n",
      "iter mu: 0, diff: 0.8702409732881026\n",
      "iter mu: 1, diff: 0.013506239697512468\n",
      "iter mu: 2, diff: 5.873252319907451e-05\n",
      "iter mu: 3, diff: 3.113298503324312e-07\n",
      "iter mu: 4, diff: 5.2141799730757275e-09\n",
      "iter mu: 5, diff: 1.5748708390240937e-10\n",
      "mu Success!\n"
     ]
    }
   ],
   "source": [
    "sigBA,sigAB,muAB,muBA= doTEBD(A,B,sAB,sBA,100,1e-10)"
   ]
  },
  {
   "cell_type": "code",
   "execution_count": 63,
   "id": "e3ff24a9",
   "metadata": {},
   "outputs": [
    {
     "data": {
      "text/plain": [
       "0.9895318671324886"
      ]
     },
     "execution_count": 63,
     "metadata": {},
     "output_type": "execute_result"
    }
   ],
   "source": [
    "LA.norm(muAB)"
   ]
  },
  {
   "cell_type": "code",
   "execution_count": null,
   "id": "444549fd",
   "metadata": {},
   "outputs": [],
   "source": []
  },
  {
   "cell_type": "code",
   "execution_count": null,
   "id": "b1b18ff0",
   "metadata": {},
   "outputs": [],
   "source": []
  },
  {
   "cell_type": "code",
   "execution_count": null,
   "id": "e3968185",
   "metadata": {},
   "outputs": [],
   "source": []
  },
  {
   "cell_type": "code",
   "execution_count": null,
   "id": "41a8f468",
   "metadata": {},
   "outputs": [],
   "source": [
    "def leftCont(sigBA,A,B,sAB,sBA):\n",
    "    D_BA = A.shape[0]\n",
    "    if sigBA.shape[0] == D_BA:\n",
    "        v0 = np.reshape(sigBA,(np.prod(sigBA.shape)))\n",
    "    else:\n",
    "        v0 = np.reshape(np.eye(D_BA) / D_BA, D_BA**2)\n",
    "    tensors = [np.diag(sBA),np.diag(sBA),A,A.conj(),np.diag(sAB),np.diag(sAB),B,B.conj()]\n",
    "    connect = [[1,2],[1,3],[2,4],[3,5,6],[4,5,7],[6,8],[7,9],[8,10,-1],[9,10,-2]]\n",
    "    "
   ]
  },
  {
   "cell_type": "code",
   "execution_count": 19,
   "id": "dfaf4ec6",
   "metadata": {},
   "outputs": [],
   "source": [
    "def left_cont(A,B,sAB,sBA,tol,n_iter):\n",
    "    sigBA = np.random.rand(D,D)\n",
    "    tensors = [np.diag(sBA),np.diag(sBA),A,A.conj(),np.diag(sAB),np.diag(sAB),B,B.conj()]\n",
    "    connect = [[1,2],[1,3],[2,4],[3,5,6],[4,5,7],[6,8],[7,9],[8,10,-1],[9,10,-2]]\n",
    "    for j in range(n_iter):\n",
    "        sigBA_new = ncon([sigBA,*tensors],connect)\n",
    "        sigBA_new = sigBA_new / np.trace(sigBA_new)\n",
    "        if LA.norm(sigBA_new - sigBA)<tol:\n",
    "            print(\"Success!\")\n",
    "            break\n",
    "        else:\n",
    "            print(\"iter: {}, diff: {}\".format(j,LA.norm(sigBA_new-sigBA)))\n",
    "            sigBA = sigBA_new\n",
    "            "
   ]
  },
  {
   "cell_type": "code",
   "execution_count": null,
   "id": "48f46dff",
   "metadata": {},
   "outputs": [],
   "source": []
  },
  {
   "cell_type": "code",
   "execution_count": null,
   "id": "f64cd161",
   "metadata": {},
   "outputs": [],
   "source": []
  }
 ],
 "metadata": {
  "kernelspec": {
   "display_name": "Python 3 (ipykernel)",
   "language": "python",
   "name": "python3"
  },
  "language_info": {
   "codemirror_mode": {
    "name": "ipython",
    "version": 3
   },
   "file_extension": ".py",
   "mimetype": "text/x-python",
   "name": "python",
   "nbconvert_exporter": "python",
   "pygments_lexer": "ipython3",
   "version": "3.9.13"
  }
 },
 "nbformat": 4,
 "nbformat_minor": 5
}
