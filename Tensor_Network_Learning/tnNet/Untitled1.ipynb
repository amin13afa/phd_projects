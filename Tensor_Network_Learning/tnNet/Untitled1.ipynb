{
 "cells": [
  {
   "cell_type": "code",
   "execution_count": 1,
   "id": "357560c9",
   "metadata": {},
   "outputs": [],
   "source": [
    "import numpy as np"
   ]
  },
  {
   "cell_type": "code",
   "execution_count": null,
   "id": "2bec35e5",
   "metadata": {},
   "outputs": [],
   "source": []
  },
  {
   "cell_type": "code",
   "execution_count": null,
   "id": "e5c5eebe",
   "metadata": {},
   "outputs": [],
   "source": []
  },
  {
   "cell_type": "code",
   "execution_count": null,
   "id": "21449951",
   "metadata": {},
   "outputs": [],
   "source": []
  },
  {
   "cell_type": "code",
   "execution_count": null,
   "id": "3a813072",
   "metadata": {},
   "outputs": [],
   "source": [
    "def doApplyHam(psiIn: np.ndarray,\n",
    "               hloc: np.ndarray,\n",
    "               N: int,\n",
    "               usePBC: bool):\n",
    "\n",
    "  d = hloc.shape[0]\n",
    "  psiOut = np.zeros(psiIn.size)\n",
    "  for k in range(N - 1):\n",
    "    # apply local Hamiltonian terms to sites [k,k+1]\n",
    "    psiOut += np.tensordot(hloc.reshape(d**2, d**2),\n",
    "                           psiIn.reshape(d**k, d**2, d**(N - 2 - k)),\n",
    "                           axes=[[1], [1]]).transpose(1, 0, 2).reshape(d**N)\n",
    "\n",
    "  if usePBC:\n",
    "    # apply periodic term\n",
    "    psiOut += np.tensordot(hloc.reshape(d, d, d, d),\n",
    "                           psiIn.reshape(d, d**(N - 2), d),\n",
    "                           axes=[[2, 3], [2, 0]]\n",
    "                           ).transpose(1, 2, 0).reshape(d**N)\n",
    "\n",
    "  return psiOut\n",
    "\n"
   ]
  }
 ],
 "metadata": {
  "kernelspec": {
   "display_name": "Python 3 (ipykernel)",
   "language": "python",
   "name": "python3"
  },
  "language_info": {
   "codemirror_mode": {
    "name": "ipython",
    "version": 3
   },
   "file_extension": ".py",
   "mimetype": "text/x-python",
   "name": "python",
   "nbconvert_exporter": "python",
   "pygments_lexer": "ipython3",
   "version": "3.9.13"
  }
 },
 "nbformat": 4,
 "nbformat_minor": 5
}
