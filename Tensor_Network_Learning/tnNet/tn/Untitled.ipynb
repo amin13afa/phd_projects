{
 "cells": [
  {
   "cell_type": "code",
   "execution_count": 1,
   "id": "2b17c15a",
   "metadata": {},
   "outputs": [],
   "source": [
    "import numpy as np \n",
    "from scipy import integrate"
   ]
  },
  {
   "cell_type": "code",
   "execution_count": 2,
   "id": "6cacd00e",
   "metadata": {},
   "outputs": [],
   "source": [
    "J = 1.0;\n",
    "g = 0.5;\n",
    "d = 2;\n",
    "D = 5;\n",
    "δ = 0.005;\n",
    "N = 100;"
   ]
  },
  {
   "cell_type": "code",
   "execution_count": 3,
   "id": "4e79c8f9",
   "metadata": {},
   "outputs": [],
   "source": [
    "G = np.random.rand(d,d,D,D);\n",
    "l = np.random.rand(d,D);"
   ]
  },
  {
   "cell_type": "code",
   "execution_count": 4,
   "id": "fc03b7e9",
   "metadata": {},
   "outputs": [],
   "source": [
    "H = np.array([[J,-g/2,-g/2,0],\n",
    "             [-g/2,-J,0,-g/2],\n",
    "             [-g/2,0,-J,-g/2],\n",
    "             [0,-g/2,-g/2,J]]);"
   ]
  },
  {
   "cell_type": "code",
   "execution_count": 7,
   "id": "88708b69",
   "metadata": {},
   "outputs": [],
   "source": [
    "eigval, eigvec = np.linalg.eig(H)"
   ]
  },
  {
   "cell_type": "code",
   "execution_count": 34,
   "id": "5b5cb358",
   "metadata": {},
   "outputs": [
    {
     "data": {
      "text/plain": [
       "True"
      ]
     },
     "execution_count": 34,
     "metadata": {},
     "output_type": "execute_result"
    }
   ],
   "source": [
    "np.isclose(np.dot(H,eigvec[:,0]), eigval[0]*eigvec[:,0] ).all() # .any()"
   ]
  },
  {
   "cell_type": "code",
   "execution_count": 31,
   "id": "c32c9d39",
   "metadata": {},
   "outputs": [
    {
     "name": "stdout",
     "output_type": "stream",
     "text": [
      "4\n"
     ]
    }
   ],
   "source": [
    "control = 0\n",
    "for j in range(len(eigvec)):\n",
    "    if np.isclose(np.dot(H,eigvec[:,j]), eigval[j]*eigvec[:,j]).all():\n",
    "        control += 1\n",
    "print(control)"
   ]
  },
  {
   "cell_type": "code",
   "execution_count": 35,
   "id": "2349b47e",
   "metadata": {},
   "outputs": [
    {
     "data": {
      "text/plain": [
       "array([[-6.88190960e-01,  1.62459848e-01,  1.62459848e-01,\n",
       "        -6.88190960e-01],\n",
       "       [ 7.07106781e-01,  7.79139135e-16,  8.23814677e-16,\n",
       "        -7.07106781e-01],\n",
       "       [ 1.62459848e-01,  6.88190960e-01,  6.88190960e-01,\n",
       "         1.62459848e-01],\n",
       "       [ 3.33066907e-16,  7.07106781e-01, -7.07106781e-01,\n",
       "         3.33066907e-16]])"
      ]
     },
     "execution_count": 35,
     "metadata": {},
     "output_type": "execute_result"
    }
   ],
   "source": [
    "np.transpose(eigvec)"
   ]
  },
  {
   "cell_type": "code",
   "execution_count": null,
   "id": "da23beb5",
   "metadata": {},
   "outputs": [],
   "source": [
    "np.dot(v,np.diag(np.exp(-delta*(w)))),np.transpose(v)"
   ]
  },
  {
   "cell_type": "code",
   "execution_count": 42,
   "id": "36485b6b",
   "metadata": {},
   "outputs": [],
   "source": [
    "U = np.reshape(np.dot(np.dot(eigvec,np.diag(np.exp(-δ*(eigval)))),np.transpose(eigvec)),(2,2,2,2))"
   ]
  },
  {
   "cell_type": "code",
   "execution_count": 41,
   "id": "e3726037",
   "metadata": {},
   "outputs": [
    {
     "data": {
      "text/plain": [
       "array([[9.95014039e-01, 1.25000651e-03, 1.25000651e-03, 1.55990315e-06],\n",
       "       [1.25000651e-03, 1.00501409e+00, 1.56511150e-06, 1.25000651e-03],\n",
       "       [1.25000651e-03, 1.56511150e-06, 1.00501409e+00, 1.25000651e-03],\n",
       "       [1.55990315e-06, 1.25000651e-03, 1.25000651e-03, 9.95014039e-01]])"
      ]
     },
     "execution_count": 41,
     "metadata": {},
     "output_type": "execute_result"
    }
   ],
   "source": [
    "np.dot(np.dot(eigvec,np.diag(np.exp(-δ*(eigval)))),np.transpose(eigvec))"
   ]
  },
  {
   "cell_type": "code",
   "execution_count": null,
   "id": "77799af5",
   "metadata": {},
   "outputs": [],
   "source": [
    "for j in range(0,N):\n",
    "    A = np.mod(j,2)\n",
    "    B = np.mod(j+1,2)\n",
    "    "
   ]
  }
 ],
 "metadata": {
  "kernelspec": {
   "display_name": "Python 3 (ipykernel)",
   "language": "python",
   "name": "python3"
  },
  "language_info": {
   "codemirror_mode": {
    "name": "ipython",
    "version": 3
   },
   "file_extension": ".py",
   "mimetype": "text/x-python",
   "name": "python",
   "nbconvert_exporter": "python",
   "pygments_lexer": "ipython3",
   "version": "3.9.13"
  }
 },
 "nbformat": 4,
 "nbformat_minor": 5
}
