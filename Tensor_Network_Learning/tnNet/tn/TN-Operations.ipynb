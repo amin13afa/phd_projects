{
 "cells": [
  {
   "cell_type": "markdown",
   "metadata": {},
   "source": [
    "# Winter School on Tensor Network Methods for Quantum Many-Body Systems: Basic Tensor Operations"
   ]
  },
  {
   "cell_type": "code",
   "execution_count": 1,
   "metadata": {},
   "outputs": [],
   "source": [
    "from ncon import ncon\n",
    "import numpy as np\n",
    "import scipy.linalg as scl"
   ]
  },
  {
   "cell_type": "markdown",
   "metadata": {},
   "source": [
    "# Creating Tensors"
   ]
  },
  {
   "cell_type": "code",
   "execution_count": 22,
   "metadata": {},
   "outputs": [
    {
     "name": "stdout",
     "output_type": "stream",
     "text": [
      "[[[0.45270542 0.69019965 0.87589413]\n",
      "  [0.77392149 0.65383676 0.39688357]\n",
      "  [0.98837235 0.06855717 0.13562082]\n",
      "  [0.98250068 0.33230087 0.14575124]]\n",
      "\n",
      " [[0.65598804 0.18534619 0.99046107]\n",
      "  [0.56149809 0.170675   0.32943442]\n",
      "  [0.29032191 0.67113249 0.36853741]\n",
      "  [0.70839032 0.95075669 0.72354046]]]\n",
      "Rank: 3\n",
      "Shape: (2, 4, 3)\n",
      "N_Elements: 24\n",
      "0.1853461879824302\n"
     ]
    }
   ],
   "source": [
    "# R, a rank-n tensor (matrix) with dimension 3x3\n",
    "# Ranke: Number of dimension of tensor\n",
    "# Shape: number of elements in each dimension\n",
    "\n",
    "R=np.random.rand(2,4,3)\n",
    "# R is a MPS (matrix product state)\n",
    "print(R)\n",
    "print(\"Rank:\",R.ndim)\n",
    "print(\"Shape:\",R.shape)\n",
    "print(\"N_Elements:\",R.size)\n",
    "print(\"Accesing Elements\",R[1,0,1])"
   ]
  },
  {
   "cell_type": "code",
   "execution_count": 31,
   "metadata": {},
   "outputs": [],
   "source": [
    "# R, a rank-2 tensor (matrix) with dimension 3x3\n",
    "# complex: a+ib\n",
    "R=np.random.rand(3,3)+1j*np.random.rand(3,3)\n",
    "\n",
    "# Q, a rank-2 tensor (matrix) with dimension 3x5\n",
    "Q=np.random.rand(3,5)\n",
    "\n",
    "# A, a rank-4 tensor (multi-dimensional array) with dimension [2,4,3,6]\n",
    "A=np.random.rand(2,4,3,6)\n",
    "\n",
    "# B, a rank-3 tensor (multi-dimensional array) with dimension [2,3,4] filled with 1\n",
    "B=np.ones([2,3,4])\n",
    "\n",
    "# C, a rank-3 tensor (multi-dimensional array) with dimension [3,1,4] filled with 0\n",
    "C=np.zeros([3,1,4])"
   ]
  },
  {
   "cell_type": "code",
   "execution_count": 33,
   "metadata": {},
   "outputs": [
    {
     "name": "stdout",
     "output_type": "stream",
     "text": [
      "[[0.4965545 +0.13220413j 0.89010868+0.28548252j 0.39896209+0.4434964j ]\n",
      " [0.8707029 +0.93501795j 0.51423904+0.40166742j 0.00212441+0.27999339j]\n",
      " [0.45620249+0.33582514j 0.6754446 +0.88421663j 0.18765337+0.62867815j]]\n",
      "1j\n"
     ]
    }
   ],
   "source": [
    "print(R)\n",
    "print(1j) #(0+1j)"
   ]
  },
  {
   "cell_type": "code",
   "execution_count": 21,
   "metadata": {},
   "outputs": [
    {
     "name": "stdout",
     "output_type": "stream",
     "text": [
      "Shape Q: (3, 5)\n",
      "Shape A: (2, 4, 3, 6)\n"
     ]
    }
   ],
   "source": [
    "print(\"Shape Q:\",np.shape(Q))\n",
    "print(\"Shape A:\",np.shape(A))"
   ]
  },
  {
   "cell_type": "code",
   "execution_count": 22,
   "metadata": {},
   "outputs": [
    {
     "name": "stdout",
     "output_type": "stream",
     "text": [
      "[[[1. 1. 1. 1.]\n",
      "  [1. 1. 1. 1.]\n",
      "  [1. 1. 1. 1.]]\n",
      "\n",
      " [[1. 1. 1. 1.]\n",
      "  [1. 1. 1. 1.]\n",
      "  [1. 1. 1. 1.]]]\n"
     ]
    }
   ],
   "source": [
    "print(B)"
   ]
  },
  {
   "cell_type": "code",
   "execution_count": 23,
   "metadata": {},
   "outputs": [
    {
     "name": "stdout",
     "output_type": "stream",
     "text": [
      "[[[0. 0. 0. 0.]]\n",
      "\n",
      " [[0. 0. 0. 0.]]\n",
      "\n",
      " [[0. 0. 0. 0.]]]\n"
     ]
    }
   ],
   "source": [
    "print(C)"
   ]
  },
  {
   "cell_type": "markdown",
   "metadata": {},
   "source": [
    "# Contracting Tensors"
   ]
  },
  {
   "cell_type": "markdown",
   "metadata": {},
   "source": [
    "#### We use **<span style=\"color:red\">ncon</span>** function to contract multiple tensors together"
   ]
  },
  {
   "cell_type": "markdown",
   "metadata": {},
   "source": [
    "**<span style=\"color:blue\">ncon(L, v, order=None, forder=None, check_indices=True)</span>**\n",
    "   \n",
    "   > L = [A1, A2, ..., Ap] list of tensors.\n",
    "\n",
    "   > v = [v1, v2, ..., vp] list of lists of indices e.g. v1 = [3, 4, -1] labels the three indices of tensor A1, with -1 indicating an uncontracted index (open leg) and 3 and 4 being the contracted indices.\n",
    "\n",
    "   > order, if present, contains a list of all positive indices - if not\n",
    "    [1, 2, 3, 4, ...] by default. This is the order in which they are\n",
    "    contracted.\n",
    "\n",
    "   > forder, if present, contains the final ordering of the uncontracted indices\n",
    "    - if not, [-1, -2, ..i] by default."
   ]
  },
  {
   "cell_type": "markdown",
   "metadata": {},
   "source": [
    "### Matrix . Matrix\n",
    "<img src=\"images/mxm.png\" width=\"200\"> "
   ]
  },
  {
   "cell_type": "code",
   "execution_count": 3,
   "metadata": {},
   "outputs": [
    {
     "name": "stdout",
     "output_type": "stream",
     "text": [
      "Shape T1: (4, 3)\n",
      "Shape T2: (3, 5)\n",
      "Shape Tn: (4, 5)\n"
     ]
    }
   ],
   "source": [
    "# T1, a rank-2 tensor (matrix) with dimension 4x3\n",
    "T1=np.random.rand(4,3)\n",
    "print(\"Shape T1:\",np.shape(T1))\n",
    "\n",
    "# T1, a rank-2 tensor (matrix) with dimension 3x5\n",
    "T2=np.random.rand(3,5)\n",
    "print(\"Shape T2:\",np.shape(T2))\n",
    "\n",
    "Tn = T1@T2\n",
    "# Tn = np.dot(T1,T2)\n",
    "# Tn = np.matmul(T1,T2)\n",
    "\n",
    "Tn=ncon([T1,T2], [[-1,1],[1,-2]], [1],[-1,-2])\n",
    "print(\"Shape Tn:\",np.shape(Tn))"
   ]
  },
  {
   "cell_type": "markdown",
   "metadata": {},
   "source": [
    "### Vector . Matrix\n",
    "<img src=\"images/vxm.png\" width=\"170\"> "
   ]
  },
  {
   "cell_type": "code",
   "execution_count": 41,
   "metadata": {},
   "outputs": [
    {
     "name": "stdout",
     "output_type": "stream",
     "text": [
      "Shape V1: (4,)\n",
      "Shape T2: (4, 5)\n",
      "Shape V2: (5,)\n",
      "[0.82023106 0.62447171 1.46771422 0.83664479 1.33122857]\n"
     ]
    }
   ],
   "source": [
    "# V1, a rank-1 tensor (vector) with dimension 4\n",
    "V1=np.random.rand(4,)\n",
    "print(\"Shape V1:\",np.shape(V1))\n",
    "\n",
    "# M, a rank-2 tensor (matrix) with dimension 4x5\n",
    "M=np.random.rand(4,5)\n",
    "print(\"Shape T2:\",np.shape(M))\n",
    "\n",
    "V2=ncon([V1,M], [[1],[1,-1]], [1])\n",
    "print(\"Shape V2:\",np.shape(V2))\n",
    "print(V2)"
   ]
  },
  {
   "cell_type": "markdown",
   "metadata": {},
   "source": [
    "### Vector . Matrix . Vector\n",
    "<img src=\"images/vxmxv.png\" width=\"200\"> "
   ]
  },
  {
   "cell_type": "code",
   "execution_count": 26,
   "metadata": {},
   "outputs": [
    {
     "name": "stdout",
     "output_type": "stream",
     "text": [
      "Shape V1: (3,)\n",
      "Shape M: (3, 6)\n",
      "Shape V2: (6,)\n",
      "Shape C1: () , C1= 3.1930697351220214 , C2= 3.1930697351220214 , C3= 3.193069735122022\n"
     ]
    }
   ],
   "source": [
    "# V1, a rank-1 tensor (vector) with dimension 3\n",
    "V1=np.random.rand(3,)\n",
    "print(\"Shape V1:\",np.shape(V1))\n",
    "\n",
    "# M, a rank-2 tensor (matrix) with dimension 3x6\n",
    "M=np.random.rand(3,6)\n",
    "print(\"Shape M:\",np.shape(M))\n",
    "\n",
    "# V2, a rank-1 tensor (vector) with dimension 6\n",
    "V2=np.random.rand(6,)\n",
    "print(\"Shape V2:\",np.shape(V2))\n",
    "\n",
    "C1=ncon([V1,M,V2], [[1],[1,2],[2]], [1,2])\n",
    "\n",
    "C2=V1 @ M @ V2\n",
    "\n",
    "C3=np.dot(V1,np.dot(M,V2))\n",
    "\n",
    "print(\"Shape C1:\", np.shape(C1), \", C1=\",C1 , \", C2=\",C2 , \", C3=\",C3)"
   ]
  },
  {
   "cell_type": "markdown",
   "metadata": {},
   "source": [
    "### Trace\n",
    "<img src=\"images/trace.png\" width=\"300\"> "
   ]
  },
  {
   "cell_type": "code",
   "execution_count": 27,
   "metadata": {},
   "outputs": [
    {
     "name": "stdout",
     "output_type": "stream",
     "text": [
      "Shape M1: (3, 6)\n",
      "Shape M2: (6, 4)\n",
      "Shape M3: (4, 8)\n",
      "Shape M4: (8, 3)\n",
      "Trace[M1,M2,M3,M4]= 43.037180771097965\n"
     ]
    }
   ],
   "source": [
    "# M1, a rank-2 tensor (matrix) with dimension 3x6\n",
    "M1=np.random.rand(3,6)\n",
    "print(\"Shape M1:\",np.shape(M1))\n",
    "\n",
    "# M2, a rank-2 tensor (matrix) with dimension 6x4\n",
    "M2=np.random.rand(6,4)\n",
    "print(\"Shape M2:\",np.shape(M2))\n",
    "\n",
    "# M3, a rank-2 tensor (matrix) with dimension 4x8\n",
    "M3=np.random.rand(4,8)\n",
    "print(\"Shape M3:\",np.shape(M3))\n",
    "\n",
    "# M4, a rank-2 tensor (matrix) with dimension 8x3\n",
    "M4=np.random.rand(8,3)\n",
    "print(\"Shape M4:\",np.shape(M4))\n",
    "\n",
    "Trace=ncon([M1,M2,M3,M4], [[1,2],[2,3],[3,4],[4,1]], [1,2,3,4])\n",
    "print(\"Trace[M1,M2,M3,M4]=\",Trace)"
   ]
  },
  {
   "cell_type": "markdown",
   "metadata": {},
   "source": [
    "### Contraction of rank-n Tensors\n",
    "<img src=\"images/cont4x3.png\" width=\"600\"> "
   ]
  },
  {
   "cell_type": "code",
   "execution_count": 42,
   "metadata": {},
   "outputs": [
    {
     "name": "stdout",
     "output_type": "stream",
     "text": [
      "Shape A: (4, 3, 5, 8)\n",
      "Shape B: (3, 5, 2)\n",
      "Shape C: (8, 2, 4)\n"
     ]
    }
   ],
   "source": [
    "# A, a rank-4 tensor with dimension [4,3,5,8]\n",
    "A=np.random.rand(4,3,5,8)\n",
    "print(\"Shape A:\",np.shape(A))\n",
    "\n",
    "# B, a rank-3 tensor with dimension [3,5,2]\n",
    "B=np.random.rand(3,5,2)\n",
    "print(\"Shape B:\",np.shape(B))\n",
    "\n",
    "C=ncon([A,B], [[-1,1,2,-2],[1,2,-3]], [1,2],[-2,-3,-1])\n",
    "print(\"Shape C:\",np.shape(C))"
   ]
  },
  {
   "cell_type": "markdown",
   "metadata": {},
   "source": [
    "# Reshaping Tensors"
   ]
  },
  {
   "cell_type": "markdown",
   "metadata": {},
   "source": [
    "### Join Tensor Legs\n",
    "<img src=\"images/joinleg.png\" width=\"600\"> "
   ]
  },
  {
   "cell_type": "code",
   "execution_count": 4,
   "metadata": {},
   "outputs": [
    {
     "name": "stdout",
     "output_type": "stream",
     "text": [
      "Shape T: (3, 5, 2)\n",
      "Shape of reshaped tensor Tj: (3, 10)\n",
      "Shape of reshaped tensor Tk: (3, 5, 2)\n"
     ]
    }
   ],
   "source": [
    "# T, a rank-3 tensor with dimension [3,5,2]\n",
    "T=np.random.rand(3,5,2)\n",
    "print(\"Shape T:\",np.shape(T))\n",
    "\n",
    "Tj=np.reshape(T,[3,10])\n",
    "print(\"Shape of reshaped tensor Tj:\",np.shape(Tj))\n",
    "Tk=np.reshape(Tj,[3,5,2])\n",
    "print(\"Shape of reshaped tensor Tk:\",np.shape(Tk))"
   ]
  },
  {
   "cell_type": "markdown",
   "metadata": {},
   "source": [
    "### Join Tensor Legs\n",
    "<img src=\"images/splitleg.png\" width=\"600\"> "
   ]
  },
  {
   "cell_type": "code",
   "execution_count": 47,
   "metadata": {},
   "outputs": [
    {
     "name": "stdout",
     "output_type": "stream",
     "text": [
      "Shape T: (2, 3)\n",
      "Shape of reshaped tensor Ts: (6,) \n",
      "\n",
      "[[0.66556153 0.59287863 0.00106229]\n",
      " [0.64935074 0.61832677 0.20776169]] \n",
      "\n",
      "[0.66556153 0.59287863 0.00106229 0.64935074 0.61832677 0.20776169]\n"
     ]
    }
   ],
   "source": [
    "# T, a rank-2 tensor with dimension [5,6]\n",
    "T=np.random.rand(2,3)\n",
    "print(\"Shape T:\",np.shape(T))\n",
    "\n",
    "Ts=np.reshape(T,[6])\n",
    "print(\"Shape of reshaped tensor Ts:\",np.shape(Ts),\"\\n\")\n",
    "\n",
    "print(T,\"\\n\")\n",
    "print(Ts)\n"
   ]
  },
  {
   "cell_type": "markdown",
   "metadata": {},
   "source": [
    "### Transpose (permute) Tensor Legs\n",
    "<img src=\"images/permuteleg.png\" width=\"600\"> "
   ]
  },
  {
   "cell_type": "code",
   "execution_count": 48,
   "metadata": {},
   "outputs": [
    {
     "name": "stdout",
     "output_type": "stream",
     "text": [
      "Shape T: (3, 5, 2)\n",
      "Shape of transposed tensor Tp: (3, 2, 5)\n"
     ]
    }
   ],
   "source": [
    "# T, a rank-3 tensor with dimension [3,5,2]\n",
    "T=np.random.rand(3,5,2)\n",
    "print(\"Shape T:\",np.shape(T))\n",
    "\n",
    "Tp=np.transpose(T,[0,2,1])\n",
    "print(\"Shape of transposed tensor Tp:\",np.shape(Tp))"
   ]
  },
  {
   "cell_type": "markdown",
   "metadata": {},
   "source": [
    "# Tensor Decomposition"
   ]
  },
  {
   "cell_type": "markdown",
   "metadata": {},
   "source": [
    "### Singular-Value Decomposition\n",
    "<img src=\"images/svd.png\" width=\"800\"> "
   ]
  },
  {
   "cell_type": "code",
   "execution_count": 32,
   "metadata": {},
   "outputs": [
    {
     "name": "stdout",
     "output_type": "stream",
     "text": [
      "Shape A: (5, 5, 2) ,  Shape B: (5, 5, 2) \n",
      "\n",
      "Shape theta: (5, 2, 5, 2)\n",
      "Shape theta after reshape: (10, 10)\n",
      "Shape U: (10, 10) ,  Shape S: (10,) ,  Shape Vd: (10, 10)\n",
      "theta==theta2: True\n",
      "\n",
      "Shape U: (10, 3) ,  Shape S: (3,) ,  Shape V: (3, 10)\n",
      "\n",
      "Shape A: (5, 3, 2) ,  Shape B: (3, 5, 2)\n"
     ]
    }
   ],
   "source": [
    "# Virtual Bond Dimension D\n",
    "D=5\n",
    "\n",
    "# Physical Bond Dimension p\n",
    "p=2\n",
    "\n",
    "# Truncation Dimension chi (sometimes chi is called boundary dimension)\n",
    "chi=3\n",
    "\n",
    "# A, a rank-3 MPS with dimension [D,D,p]\n",
    "A=np.random.rand(D,D,p)\n",
    "\n",
    "# B, a rank-3 MPS with dimension [D,D,p]\n",
    "B=np.random.rand(D,D,p)\n",
    "\n",
    "print(\"Shape A:\",np.shape(A), \",  Shape B:\",np.shape(B),\"\\n\")\n",
    "\n",
    "# Contract A,B to Build theta\n",
    "theta=ncon([A,B], [[-1,1,-2],[1,-3,-4]], [1])\n",
    "print(\"Shape theta:\",np.shape(theta))\n",
    "\n",
    "theta=np.reshape(theta, [D*p,D*p])\n",
    "print(\"Shape theta after reshape:\",np.shape(theta))\n",
    "\n",
    "# SVD theta:  theta=U.S.Vd   ---> Note that np.svd returns V^\\dagger automatically\n",
    "U,S,Vd=np.linalg.svd(theta)\n",
    "print(\"Shape U:\",np.shape(U), \",  Shape S:\",np.shape(S), \",  Shape Vd:\",np.shape(Vd))\n",
    "\n",
    "# theta2=U.S.Vd   ---> Note that np.svd returns V^\\dagger automatically\n",
    "theta2=U@np.diag(S)@Vd\n",
    "print(\"theta==theta2:\", np.allclose(theta,theta2))\n",
    "\n",
    "# Truncate the shared dimension of U,S,Vd back to D\n",
    "U=U[ : , 0:chi ]\n",
    "\n",
    "S=S[ 0:chi ]\n",
    "\n",
    "Vd=Vd[ 0:chi , : ]\n",
    "\n",
    "print()\n",
    "print(\"Shape U:\",np.shape(U), \",  Shape S:\",np.shape(S), \",  Shape V:\",np.shape(Vd))\n",
    "\n",
    "# Reshape back the tensor to original shape\n",
    "A=U@np.diag(np.sqrt(S))\n",
    "A=np.reshape(A, [D,p,chi])\n",
    "A=np.transpose(A,[0,2,1])\n",
    "\n",
    "B=np.diag(np.sqrt(S))@Vd\n",
    "B=np.reshape(B, [chi,D,p])\n",
    "\n",
    "print()\n",
    "print(\"Shape A:\",np.shape(A), \",  Shape B:\",np.shape(B))"
   ]
  },
  {
   "cell_type": "markdown",
   "metadata": {},
   "source": [
    "### Eigenvalue Decomposition"
   ]
  },
  {
   "cell_type": "code",
   "execution_count": 33,
   "metadata": {},
   "outputs": [
    {
     "name": "stdout",
     "output_type": "stream",
     "text": [
      "1d array of eigenvalues:  [ 3.8281759 +0.j         -1.02770789+0.j          0.41839579+0.j\n",
      " -0.03352116+0.40243406j -0.03352116-0.40243406j -0.12468863+0.j        ] \n",
      "\n",
      "1d array of eigenvalues:  [-1.03868581 -0.27435953 -0.10840892  0.17649549  0.41321058  3.85888104]\n"
     ]
    }
   ],
   "source": [
    "# Virtual Bond Dimension D\n",
    "D=6\n",
    "\n",
    "# M, a rank-2 matrix with dimension [D,D] --> M is Hermitian\n",
    "M=np.random.rand(D,D)\n",
    "\n",
    "# Full Diagonalization of a square matrix\n",
    "E,W=np.linalg.eig(M)\n",
    "\n",
    "print(\"1d array of eigenvalues: \",E,\"\\n\")\n",
    "\n",
    "# Make M Hermitian\n",
    "M=(M+M.conj().T)/2.0\n",
    "\n",
    "# Full Diagonalization of a symmetric Hermitianmatrix\n",
    "E,W=np.linalg.eigh(M)\n",
    "\n",
    "print(\"1d array of eigenvalues: \",E)"
   ]
  },
  {
   "cell_type": "markdown",
   "metadata": {},
   "source": [
    "$$M=W.E.W^\\dagger$$"
   ]
  },
  {
   "cell_type": "code",
   "execution_count": null,
   "metadata": {},
   "outputs": [],
   "source": []
  }
 ],
 "metadata": {
  "kernelspec": {
   "display_name": "Python 3 (ipykernel)",
   "language": "python",
   "name": "python3"
  },
  "language_info": {
   "codemirror_mode": {
    "name": "ipython",
    "version": 3
   },
   "file_extension": ".py",
   "mimetype": "text/x-python",
   "name": "python",
   "nbconvert_exporter": "python",
   "pygments_lexer": "ipython3",
   "version": "3.9.13"
  }
 },
 "nbformat": 4,
 "nbformat_minor": 4
}
