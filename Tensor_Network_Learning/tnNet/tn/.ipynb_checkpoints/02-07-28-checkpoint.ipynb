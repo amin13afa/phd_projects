{
 "cells": [
  {
   "cell_type": "code",
   "execution_count": 1,
   "id": "55dad151",
   "metadata": {},
   "outputs": [],
   "source": [
    "import numpy as np \n",
    "import scipy.linalg as spl\n",
    "from ncon import ncon\n",
    "from scipy import integrate\n",
    "import matplotlib.pyplot as plt"
   ]
  },
  {
   "cell_type": "code",
   "execution_count": 3,
   "id": "939457ea",
   "metadata": {},
   "outputs": [],
   "source": [
    "def Tensors(d,D):\n",
    "    Ga = np.random.rand(D,d,D)\n",
    "#     Ga = Ga / np.max(np.abs(Ga))\n",
    "    Gb = np.random.rand(D,d,D)\n",
    "#     Gb = Gb / np.max(np.abs(Gb))\n",
    "    G = [Ga,Gb]\n",
    "#     La = np.random.rand(D)\n",
    "#     La = La / np.linalg.norm(La)\n",
    "#     Lb = np.random.rand(D)\n",
    "#     Lb = Lb / np.linalg.norm(Lb)\n",
    "    La = np.ones(D) / np.sqrt(D)\n",
    "    Lb = np.ones(D) / np.sqrt(D)\n",
    "    L = [La,Lb]    \n",
    "    return G,L"
   ]
  },
  {
   "cell_type": "code",
   "execution_count": 4,
   "id": "befa7c9d",
   "metadata": {},
   "outputs": [],
   "source": [
    "def Hamiltonian(J,h,δ):\n",
    "    X = np.array([[0,1],[1,0]])\n",
    "    Z = np.array([[1,0],[0,-1]])\n",
    "    Id = np.eye(2,2)\n",
    "    Hz = ncon([Z,Z],[[-1,-3],[-2,-4]])\n",
    "    Hx = 0.5*(ncon([X,Id],[[-1,-3],[-2,-4]]) + ncon([Id,X],[[-1,-3],[-2,-4]]))\n",
    "    H = J*Hz + h*Hx\n",
    "    Hexp = np.reshape(H,[4,4])\n",
    "    Ug = spl.expm(-δ*Hexp)\n",
    "    Ug = np.reshape(Ug,[2,2,2,2])\n",
    "    return H,Ug  "
   ]
  },
  {
   "cell_type": "code",
   "execution_count": 8,
   "id": "639df986",
   "metadata": {},
   "outputs": [],
   "source": [
    "def itebd(J,h,δ,d,D,n_iter):\n",
    "    H, Ug = Hamiltonian(J,h,δ);\n",
    "    G,L = Tensors(d,D);\n",
    "#     tensors = [np.diag(L[B]), G[A], np.diag(L[A]), G[B], np.diag(L[B])]\n",
    "#     connect = [[-1,1],[1,-2,2],[2,3],[3,-4,4],[4,-3]]\n",
    "#     order = [1,4,3,2]\n",
    "#     θ = ncon(tensors, connect, order)\n",
    "    \n",
    "    for step in range(n_iter):\n",
    "        if step % 2 == 0:\n",
    "            A = 0; B = 1;\n",
    "        else:\n",
    "            A = 1; B = 0;\n",
    "    \n",
    "        tensors = [np.diag(L[B]), G[A], np.diag(L[A]), G[B], np.diag(L[B]),Ug]\n",
    "        connect = [[-1,1],[1,2,3],[3,4],[4,5,6],[6,-3],[2,5,-2,-4]]\n",
    "        order = [1,4,6,3,2,5]\n",
    "        θ = ncon(tensors, connect, order)\n",
    "#         if \n",
    "        # SVD\n",
    "        θ = np.reshape(θ,[D*d,D*d])\n",
    "        U,S,V = np.linalg.svd(θ)\n",
    "        G[A] = U[:,0:D]\n",
    "        L[A] = S[0:D]\n",
    "        L[A] = L[A] / np.trace(np.diag(L[A]))\n",
    "        G[B] = V[0:D,:]\n",
    "        G[A] = np.reshape(G[A],[D,d,D])\n",
    "        G[B] = np.reshape(G[B], [D,d,D])\n",
    "        G[A] = ncon([np.diag(1./L[B]), G[A]],[[-1,1],[1,-2,-3]])\n",
    "        G[B] = ncon([G[B], np.diag(1./L[B])], [[-1,-2,1],[1,-3]])\n",
    "#         G[A] = G[A] / np.max(np.abs(G[A]))\n",
    "#         G[B] = G[B] / np.max(np.abs(G[B]))\n",
    "\n",
    "    E = []\n",
    "    for j in range(len(G)):\n",
    "        if j % 2 == 0:\n",
    "            A = 0; B = 1;\n",
    "        else:\n",
    "            A = 1; B = 0;\n",
    "        tensors = [np.diag(L[B]), G[A], np.diag(L[A]), G[B], np.diag(L[B])]\n",
    "        connect = [[-1,1],[1,-2,2],[2,3],[3,-4,4],[4,-3]]\n",
    "        order = [1,4,3,2]\n",
    "        θ = ncon(tensors, connect, order)\n",
    "        Eb = ncon([θ,H,θ.conj()],[[1,2,3,4],[2,4,5,6],[1,5,3,6]], [5,6,1,2,3,4])\n",
    "        E.append(Eb)\n",
    "    E_total = np.sum(E)\n",
    "    E_0 = E_total / 2.0\n",
    "#     print(\"E_total = \", E_total)\n",
    "#     print(\"E_0 = \",E_0 )\n",
    "#     f = lambda k,h : -2*np.sqrt(1+h**2-2*h*np.cos(k))/np.pi/2.\n",
    "#     E0_exact = integrate.quad(f, 0, np.pi, args=(h,))[0]\n",
    "#     print(\"E_exact =\", E0_exact)\n",
    "    return E_0"
   ]
  },
  {
   "cell_type": "code",
   "execution_count": 13,
   "id": "ef68e168",
   "metadata": {},
   "outputs": [
    {
     "data": {
      "text/plain": [
       "-0.9877239663364232"
      ]
     },
     "execution_count": 13,
     "metadata": {},
     "output_type": "execute_result"
    }
   ],
   "source": [
    "# itebd(J,h,δ,d,D,n_iter)\n",
    "itebd(-1,0.2,0.01,2,10,100)"
   ]
  },
  {
   "cell_type": "code",
   "execution_count": null,
   "id": "08700cb2",
   "metadata": {},
   "outputs": [],
   "source": [
    "E = []\n",
    "x = np.arange(-4,4,0.1)\n",
    "for j in x:\n",
    "    e = itebd(-1,j,0.1,2,5,400)\n",
    "    E.append(e)"
   ]
  },
  {
   "cell_type": "code",
   "execution_count": 21,
   "id": "77689725",
   "metadata": {},
   "outputs": [
    {
     "data": {
      "image/png": "[encoded data removed]",
      "text/plain": [
       "<Figure size 640x480 with 1 Axes>"
      ]
     },
     "metadata": {},
     "output_type": "display_data"
    }
   ],
   "source": [
    "plt.scatter(x,E)\n",
    "plt.show()"
   ]
  },
  {
   "cell_type": "code",
   "execution_count": 2,
   "id": "0364f9b7",
   "metadata": {},
   "outputs": [],
   "source": []
  },
  {
   "cell_type": "code",
   "execution_count": 3,
   "id": "a9cb07d0",
   "metadata": {},
   "outputs": [],
   "source": []
  },
  {
   "cell_type": "code",
   "execution_count": 44,
   "id": "f433dd07",
   "metadata": {},
   "outputs": [],
   "source": []
  },
  {
   "cell_type": "code",
   "execution_count": null,
   "id": "87869d0f",
   "metadata": {},
   "outputs": [],
   "source": []
  },
  {
   "cell_type": "code",
   "execution_count": 4,
   "id": "99ff014d",
   "metadata": {},
   "outputs": [],
   "source": []
  },
  {
   "cell_type": "code",
   "execution_count": 38,
   "id": "4ad6e2bf",
   "metadata": {},
   "outputs": [
    {
     "data": {
      "image/png": "[encoded data removed]",
      "text/plain": [
       "<Figure size 640x480 with 1 Axes>"
      ]
     },
     "metadata": {},
     "output_type": "display_data"
    }
   ],
   "source": []
  },
  {
   "cell_type": "code",
   "execution_count": null,
   "id": "74aec4b4",
   "metadata": {},
   "outputs": [],
   "source": []
  }
 ],
 "metadata": {
  "kernelspec": {
   "display_name": "Python 3 (ipykernel)",
   "language": "python",
   "name": "python3"
  },
  "language_info": {
   "codemirror_mode": {
    "name": "ipython",
    "version": 3
   },
   "file_extension": ".py",
   "mimetype": "text/x-python",
   "name": "python",
   "nbconvert_exporter": "python",
   "pygments_lexer": "ipython3",
   "version": "3.9.13"
  }
 },
 "nbformat": 4,
 "nbformat_minor": 5
}
