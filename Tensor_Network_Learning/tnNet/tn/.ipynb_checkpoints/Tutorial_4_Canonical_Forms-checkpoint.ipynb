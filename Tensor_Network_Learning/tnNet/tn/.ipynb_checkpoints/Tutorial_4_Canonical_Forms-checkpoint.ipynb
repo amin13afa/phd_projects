{
 "cells": [
  {
   "cell_type": "code",
   "execution_count": 1,
   "id": "82bfd2a9",
   "metadata": {},
   "outputs": [],
   "source": [
    "import numpy as np\n",
    "from numpy import linalg as LA\n",
    "from ncon import ncon "
   ]
  },
  {
   "cell_type": "code",
   "execution_count": 36,
   "id": "4bed296a",
   "metadata": {},
   "outputs": [
    {
     "name": "stdout",
     "output_type": "stream",
     "text": [
      "H0 shape:  (5, 5, 5, 5, 5, 5, 5)\n",
      "U0 shape:  (5, 5, 3)\n",
      "U1 shape:  (5, 5, 3)\n",
      "U2 shape:  (3, 3, 3)\n",
      "V3 shape:  (5, 5, 3)\n",
      "H4 shape:  (3, 5, 3)\n",
      "H0_recover shape:  (5, 5, 5, 5, 5, 5, 5)\n",
      "6.381973359135297e-05\n"
     ]
    }
   ],
   "source": [
    "d = 5;\n",
    "D = 3;\n",
    "H0 = np.sqrt(1+np.arange(d**7)).reshape(d,d,d,d,d,d,d).transpose(6,5,4,3,2,1,0)\n",
    "print(\"H0 shape: \",H0.shape)\n",
    "# first decomposition \n",
    "utemp, stemp, vtemp = LA.svd(H0.reshape(d**2,d**5), full_matrices=False)\n",
    "U0 = utemp[:,0:D].reshape(d,d,D)\n",
    "H1 = (np.diag(stemp[0:D])@vtemp[0:D,:]).reshape(D,d,d,d,d,d)\n",
    "print(\"U0 shape: \",U0.shape)\n",
    "# second decomposition\n",
    "utemp, stemp, vtemp = LA.svd(np.reshape(np.transpose(H1,[1,2,0,3,4,5]),[d**2,D*d**3]), \n",
    "                             full_matrices=False)\n",
    "U1 = np.reshape(utemp[:,0:D],[d,d,D])\n",
    "H2 = np.transpose(np.reshape(np.diag(stemp[0:D])@vtemp[0:D,:], [D,D,d,d,d]),[1,0,2,3,4])\n",
    "print(\"U1 shape: \",U1.shape)\n",
    "# third decomposition\n",
    "utemp, stemp, vtemp = LA.svd(np.reshape(H2,[D**2,d**3]), full_matrices=False)\n",
    "U2 = np.reshape(utemp[:,0:D],[D,D,D])\n",
    "H3 = np.reshape(np.diag(stemp[:D])@vtemp[0:D,:],[D,d,d,d])\n",
    "print(\"U2 shape: \",U2.shape)\n",
    "# fourth decomposition\n",
    "utemp, stemp, vtemp = LA.svd(np.reshape(H3,[D*d,d*d]), full_matrices=False)\n",
    "V3 = np.transpose(np.reshape(vtemp[0:D,:],[D,d,d]),[1,2,0])\n",
    "H4 = np.reshape(utemp[:,:D]@np.diag(stemp[:D]),[D,d,D])\n",
    "print(\"V3 shape: \",V3.shape)\n",
    "print(\"H4 shape: \",H4.shape)\n",
    "# check result\n",
    "H0_recover = ncon([U0,U1,U2,V3,H4],[[-1,-2,1],[-3,-4,2],[1,2,3],[-6,-7,4],[3,-5,4]])\n",
    "print(\"H0_recover shape: \",H0_recover.shape)\n",
    "totErr = LA.norm(H0 - H0_recover)/LA.norm(H0)\n",
    "print(totErr)\n"
   ]
  },
  {
   "cell_type": "markdown",
   "id": "f74c2659",
   "metadata": {},
   "source": [
    "<img src=\"T4_1.webp\" width=500  > </img>"
   ]
  },
  {
   "cell_type": "code",
   "execution_count": null,
   "id": "a02cab63",
   "metadata": {},
   "outputs": [],
   "source": []
  },
  {
   "cell_type": "code",
   "execution_count": null,
   "id": "8d9a5273",
   "metadata": {},
   "outputs": [],
   "source": []
  },
  {
   "cell_type": "code",
   "execution_count": null,
   "id": "9f984341",
   "metadata": {},
   "outputs": [],
   "source": []
  },
  {
   "cell_type": "code",
   "execution_count": null,
   "id": "c75209f5",
   "metadata": {},
   "outputs": [],
   "source": []
  },
  {
   "cell_type": "code",
   "execution_count": null,
   "id": "18d478c5",
   "metadata": {},
   "outputs": [],
   "source": []
  }
 ],
 "metadata": {
  "kernelspec": {
   "display_name": "Python 3 (ipykernel)",
   "language": "python",
   "name": "python3"
  },
  "language_info": {
   "codemirror_mode": {
    "name": "ipython",
    "version": 3
   },
   "file_extension": ".py",
   "mimetype": "text/x-python",
   "name": "python",
   "nbconvert_exporter": "python",
   "pygments_lexer": "ipython3",
   "version": "3.9.13"
  }
 },
 "nbformat": 4,
 "nbformat_minor": 5
}
