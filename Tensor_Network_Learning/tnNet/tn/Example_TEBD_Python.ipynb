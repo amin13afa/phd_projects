{
 "cells": [
  {
   "cell_type": "code",
   "execution_count": 14,
   "id": "662a5a13",
   "metadata": {},
   "outputs": [],
   "source": [
    "import numpy as np \n",
    "from numpy import linalg as LA\n",
    "from ncon import ncon\n",
    "from scipy.sparse.linalg import LinearOperator, eigs"
   ]
  },
  {
   "cell_type": "code",
   "execution_count": 16,
   "id": "15a70c3b",
   "metadata": {},
   "outputs": [],
   "source": [
    "d = 2; \n",
    "chi = 5; \n",
    "A = np.random.rand(chi, d, chi)\n",
    "B = np.random.rand(chi, d, chi)\n",
    "sAB = np.ones(chi) / np.sqrt(chi) \n",
    "sBA = np.ones(chi) / np.sqrt(chi)"
   ]
  },
  {
   "cell_type": "code",
   "execution_count": 17,
   "id": "655d7c62",
   "metadata": {},
   "outputs": [
    {
     "name": "stdout",
     "output_type": "stream",
     "text": [
      "iter: 0, diff: 2.058206855790333\n",
      "iter: 1, diff: 0.005526188983734901\n",
      "Success\n"
     ]
    }
   ],
   "source": [
    "\"\"\" Contract infinite MPS from the left for environment tensor sigBA \"\"\"\n",
    "sigBA = np.random.rand(chi, chi)  \n",
    "tol = 1e-3\n",
    "# define the tensor network\n",
    "tensors = [np.diag(sBA), np.diag(sBA), A, A.conj(), np.diag(sAB),\n",
    "           np.diag(sAB), B, B.conj()]\n",
    "labels = [[1,2],[1,3],[2,4],[3,5,6],[4,5,7],[6,8],[7,9],[8,10,-1],[9,10,-2]]\n",
    "for j in range(100):\n",
    "    sigBA_new = ncon([sigBA, *tensors],labels)\n",
    "    sigBA_new = sigBA_new / np.trace(sigBA_new)\n",
    "    if LA.norm(sigBA - sigBA_new) < tol:\n",
    "        print(\"Success\")\n",
    "        break\n",
    "    else:\n",
    "        print(\"iter: {}, diff: {}\".format(j, LA.norm(sigBA - sigBA_new)))\n",
    "        sigBA = sigBA_new"
   ]
  },
  {
   "cell_type": "code",
   "execution_count": 18,
   "id": "0e66ee61",
   "metadata": {},
   "outputs": [],
   "source": [
    "def left_contract_MPS(sigBA, sBA, A, sAB,B):\n",
    "    D_BA = A.shape[0]\n",
    "    if sigBA.shape[0] == D_BA:\n",
    "        v0 = sigBA.reshape(np.prod(sigBA.shape))\n",
    "    else:\n",
    "        v0 = (np.eye(D_BA) / D_BA).reshape(D_BA**2)\n",
    "    tensors = [np.diag(sBA), np.diag(sBA), A, A.conj(), np.diag(sAB),\n",
    "             np.diag(sAB), B, B.conj()]\n",
    "    labels = [[1, 2], [1, 3], [2, 4], [3, 5, 6], [4, 5, 7], [6, 8], [7, 9],\n",
    "              [8, 10, -1], [9, 10, -2]]\n",
    "      # define function for boundary contraction and pass to eigs\n",
    "    def left_iter(sigBA):\n",
    "        return ncon([sigBA.reshape([D_BA,D_BA]), *tensors],\n",
    "                   labels).reshape([D_BA**2,1])\n",
    "    \n",
    "        \n",
    "    Dtemp, sigBA = eigs(LinearOperator((D_BA**2,D_BA**2), matvec=left_iter),\n",
    "                       k=1,which='LM',v0=v0,tol=1e-10)\n",
    "    \n",
    "    if np.isrealobj(A):\n",
    "        sigBA = np.real(sigBA)\n",
    "    sigBA = sigBA.reshape(D_BA,D_BA)\n",
    "    sigBA = 0.5*(sigBA + np.conj(sigBA.T))\n",
    "    sigBA = sigBA / np.trace(sigBA)\n",
    "    \n",
    "    sigAB = ncon([sigBA, np.diag(sBA), np.diag(sBA), A, np.conj(A)],\n",
    "                 [[1, 2], [1, 3], [2, 4], [3, 5, -1], [4, 5, -2]])\n",
    "    sigAB = sigAB / np.trace(sigAB)\n",
    "    return sigBA, sigAB"
   ]
  },
  {
   "cell_type": "code",
   "execution_count": null,
   "id": "f4dcf5ae",
   "metadata": {},
   "outputs": [],
   "source": []
  },
  {
   "cell_type": "code",
   "execution_count": null,
   "id": "57be5c3e",
   "metadata": {},
   "outputs": [],
   "source": []
  },
  {
   "cell_type": "code",
   "execution_count": null,
   "id": "1a89fae6",
   "metadata": {},
   "outputs": [],
   "source": []
  }
 ],
 "metadata": {
  "kernelspec": {
   "display_name": "Python 3 (ipykernel)",
   "language": "python",
   "name": "python3"
  },
  "language_info": {
   "codemirror_mode": {
    "name": "ipython",
    "version": 3
   },
   "file_extension": ".py",
   "mimetype": "text/x-python",
   "name": "python",
   "nbconvert_exporter": "python",
   "pygments_lexer": "ipython3",
   "version": "3.9.13"
  }
 },
 "nbformat": 4,
 "nbformat_minor": 5
}
