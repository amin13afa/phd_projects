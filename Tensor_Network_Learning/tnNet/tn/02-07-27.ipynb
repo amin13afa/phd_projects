{
 "cells": [
  {
   "cell_type": "code",
   "execution_count": 1,
   "id": "5456f87e",
   "metadata": {},
   "outputs": [],
   "source": [
    "import numpy as np \n",
    "from ncon import ncon "
   ]
  },
  {
   "cell_type": "code",
   "execution_count": 27,
   "id": "7145a6cb",
   "metadata": {},
   "outputs": [
    {
     "name": "stdout",
     "output_type": "stream",
     "text": [
      "m       =  0.9646523684425516\n",
      "E_itebd =  -1.0635572696004076\n",
      "E_exact =  -1.063544409973372\n"
     ]
    }
   ],
   "source": [
    "import numpy as np\n",
    "from scipy.linalg import expm\n",
    "from scipy import integrate\n",
    "\n",
    "def itebd(G_list,l_list,U,chi_max):\n",
    "\t\" Updates the G and s matrices using U and the TEBD protocol \"\n",
    "\td = G_list[0].shape[0]\n",
    "\t\n",
    "\tfor ibond in [0,1]:\n",
    "\t\tia = np.mod(ibond,2); ib = np.mod(ibond+1,2)\n",
    "\t\t\n",
    "\t\tchi1 = G_list[ia].shape[1]\n",
    "\t\tchi3 = G_list[ib].shape[2]\n",
    "\t\t\n",
    "\t\t# Construct theta\n",
    "\t\ttheta = np.tensordot(np.diag(l_list[ib]),G_list[ia],axes=(1,1))\n",
    "\t\ttheta = np.tensordot(theta,np.diag(l_list[ia],0),axes=(2,0))\n",
    "\t\ttheta = np.tensordot(theta,G_list[ib],axes=(2,1))\n",
    "\t\ttheta = np.tensordot(theta,np.diag(l_list[ib],0),axes=(3,0))\n",
    "\t\t\n",
    "\t\t# Apply U\n",
    "\t\ttheta = np.tensordot(theta,np.reshape(U,(d,d,d,d)),axes=([1,2],[0,1]))\n",
    "\t\t\n",
    "\t\t# SVD\n",
    "\t\ttheta = np.reshape(np.transpose(theta,(2,0,3,1)),(d*chi1,d*chi3)) # ip a jp b\n",
    "\t\tX, Y, Z = np.linalg.svd(theta); Z = Z.T\n",
    "\t\tchi2 = np.min([np.sum(Y>10.**(-10)), chi_max])\n",
    "\t\t\n",
    "\t\t# Truncate\n",
    "\t\tl_list[ia]=Y[0:chi2]/np.sqrt(sum(Y[0:chi2]**2))\n",
    "\t\t\n",
    "\t\tX=np.reshape(X[:,0:chi2],(d,chi1,chi2))\n",
    "\t\tG_list[ia]=np.transpose(np.tensordot(np.diag(l_list[ib]**(-1)),X,axes=(1,1)),(1,0,2))\n",
    "\t\t\n",
    "\t\tZ=np.transpose(np.reshape(Z[:,0:chi2],(d,chi3,chi2)),(0,2,1))\n",
    "\t\tG_list[ib]=np.tensordot(Z,np.diag(l_list[ib]**(-1)),axes=(2,0))\n",
    "\n",
    "def site_expectation_value(G_list,l_list,O):\n",
    "\t\" Expectation value for a site operator \"\n",
    "\tE=[]\n",
    "\tfor isite in range(0,2):\n",
    "\t\ttheta = np.tensordot(np.diag(l_list[np.mod(isite-1,2)]),G_list[isite],axes=(1,1))\n",
    "\t\ttheta = np.tensordot(theta, np.diag(l_list[isite]),axes=(2,0))\n",
    "\t\ttheta_O = np.tensordot(theta,O,axes=(1,0)).conj()\n",
    "\t\tE.append(np.squeeze(np.tensordot(theta_O,theta,axes=([0,1,2],[0,2,1]))).item())\n",
    "\treturn(E)\n",
    "\n",
    "def bond_expectation_value(G_list,l_list,O):\n",
    "\t\" Expectation value for a site operator \"\n",
    "\tE=[]\n",
    "\tfor ibond in range(0,2):\n",
    "\t\tia = np.mod(ibond,2); ib = np.mod(ibond+1,2)\n",
    "\t\ttheta = np.tensordot(np.diag(l_list[ib]),G_list[ia],axes=(1,1))\n",
    "\t\ttheta = np.tensordot(theta,np.diag(l_list[ia],0),axes=(2,0))\n",
    "\t\ttheta = np.tensordot(theta,G_list[ib],axes=(2,1))\n",
    "\t\ttheta = np.tensordot(theta,np.diag(l_list[ib],0),axes=(3,0))\n",
    "\t\ttheta_O = np.tensordot(theta,np.reshape(O,(d,d,d,d)),axes=([1,2],[0,1])).conj()\n",
    "\t\tE.append(np.squeeze(np.tensordot(theta_O,theta,axes=([0,1,2,3],[0,3,1,2]))).item())\n",
    "\t\n",
    "\treturn(E)\n",
    "\n",
    "######## Define the simulation parameter ######################\n",
    "chi_max=10; delta=0.01; N=1000;d=2; g=0.5\n",
    "\n",
    "########### Define Ising Hamiltonian and get U ################\n",
    "sx = np.array([[0.,1.],[1.,0.]])\n",
    "sz = np.array([[1.,0.],[0.,-1.]])\n",
    "\n",
    "H = -np.kron(sz,sz) +  g*np.kron(sx,np.eye(2,2))\n",
    "U = expm(-delta*H)\n",
    "\n",
    "############### Initial state : |0000> ########################\n",
    "Ga = np.zeros((d,1,1),dtype=float);Ga[0,0,0] = 1.\n",
    "Gb = np.zeros((d,1,1),dtype=float);Gb[0,0,0] = 1.\n",
    "G_list = [Ga,Gb]\n",
    "\n",
    "la = np.zeros(1);la[0] = 1.\n",
    "lb = np.zeros(1);lb[0] = 1.\n",
    "l_list = [la,lb]\n",
    "\n",
    "for step in range(1, N):\n",
    "\titebd(G_list,l_list,U,chi_max)\n",
    "print(\"m       = \", np.mean(site_expectation_value(G_list,l_list,sz)))\n",
    "print(\"E_itebd = \", np.mean(bond_expectation_value(G_list,l_list,H)))\n",
    "\n",
    "############### Get the exact energy #########################\n",
    "f = lambda k,g : -2*np.sqrt(1+g**2-2*g*np.cos(k))/np.pi/2.\n",
    "E0_exact = integrate.quad(f, 0, np.pi, args=(g,))[0]\n",
    "print(\"E_exact = \", E0_exact)\n",
    "\n"
   ]
  },
  {
   "cell_type": "code",
   "execution_count": null,
   "id": "8234506b",
   "metadata": {},
   "outputs": [],
   "source": []
  },
  {
   "cell_type": "code",
   "execution_count": 54,
   "id": "25227f02",
   "metadata": {},
   "outputs": [],
   "source": []
  },
  {
   "cell_type": "code",
   "execution_count": 57,
   "id": "782d4506",
   "metadata": {},
   "outputs": [
    {
     "data": {
      "text/plain": [
       "(1.0, 0.6673755220732452)"
      ]
     },
     "execution_count": 57,
     "metadata": {},
     "output_type": "execute_result"
    }
   ],
   "source": [
    "ITEBD()"
   ]
  },
  {
   "cell_type": "code",
   "execution_count": null,
   "id": "b20fd33f",
   "metadata": {},
   "outputs": [],
   "source": []
  },
  {
   "cell_type": "code",
   "execution_count": null,
   "id": "9e4061a2",
   "metadata": {},
   "outputs": [],
   "source": []
  },
  {
   "cell_type": "code",
   "execution_count": null,
   "id": "44bc6e4f",
   "metadata": {},
   "outputs": [],
   "source": []
  },
  {
   "cell_type": "code",
   "execution_count": null,
   "id": "3548ff7d",
   "metadata": {},
   "outputs": [],
   "source": []
  },
  {
   "cell_type": "code",
   "execution_count": null,
   "id": "003d9d80",
   "metadata": {},
   "outputs": [],
   "source": []
  }
 ],
 "metadata": {
  "kernelspec": {
   "display_name": "Python 3 (ipykernel)",
   "language": "python",
   "name": "python3"
  },
  "language_info": {
   "codemirror_mode": {
    "name": "ipython",
    "version": 3
   },
   "file_extension": ".py",
   "mimetype": "text/x-python",
   "name": "python",
   "nbconvert_exporter": "python",
   "pygments_lexer": "ipython3",
   "version": "3.9.13"
  }
 },
 "nbformat": 4,
 "nbformat_minor": 5
}
