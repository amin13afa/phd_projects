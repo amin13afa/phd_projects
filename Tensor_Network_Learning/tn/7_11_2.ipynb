{
 "cells": [
  {
   "cell_type": "code",
   "execution_count": 5,
   "id": "75c6aa65",
   "metadata": {},
   "outputs": [],
   "source": [
    "import numpy as np \n",
    "import matplotlib.pyplot as plt\n",
    "from ncon import ncon\n",
    "import scipy.linalg as sla \n",
    "from numpy import linalg as LA"
   ]
  },
  {
   "cell_type": "code",
   "execution_count": 264,
   "id": "35416907",
   "metadata": {},
   "outputs": [],
   "source": [
    "def TFI_itebd(J:float,h:float,δ:float,n_iter:int):\n",
    "    # Hamiltonian definition\n",
    "    d = 2;\n",
    "    D = 10;\n",
    "    X = np.array([[0,1],[1,0]])\n",
    "    Z = np.array([[1,0],[0,-1]])\n",
    "    Id = np.array([[1,0],[0,1]])\n",
    "    \n",
    "    Hzz = ncon([Z,Z],[[-1,-3],[-2,-4]])\n",
    "    Hx = 0.5*(ncon([Id,X],[[-1,-3],[-2,-4]]) + ncon([X,Id],[[-1,-3],[-2,-4]]))\n",
    "    H = -J*Hzz - h*Hx\n",
    "    Hexp = np.reshape(H,[d*d,d*d])\n",
    "    Ug = sla.expm(-δ*Hexp)\n",
    "    Ug = np.reshape(Ug,[d,d,d,d])\n",
    "    M = 0.5*(ncon([Z,Z],[[-1,-3],[-2,-4]]))\n",
    "    \n",
    "    # creation of tensors\n",
    "    ΓA = np.random.rand(D,D,d)\n",
    "    ΓA = ΓA/LA.norm(ΓA)\n",
    "    ΓB = np.random.rand(D,D,d)\n",
    "    ΓB = ΓB/LA.norm(ΓB)  \n",
    "    Γ = [ΓA,ΓB]\n",
    "    λA = np.random.rand(D)\n",
    "    λA = λA/np.linalg.norm(λA)\n",
    "    λB = np.random.rand(D)\n",
    "    λB = λB/np.linalg.norm(λB)\n",
    "    λ = [λA, λB]\n",
    "    θ = np.random.rand(D,d,d,D)\n",
    "    tol = 1e-10\n",
    "    for stp in range(n_iter+1):\n",
    "        A = np.mod(stp,2)\n",
    "        B = np.mod(stp+1,2)\n",
    "        tensors = [np.diag(λ[B]), Γ[A], np.diag(λ[A]), Γ[B], np.diag(λ[B]), Ug]\n",
    "#         connect = [[-1,1],[1,2,3],[2,4],[4,5,6],[5,-3],[3,6,-2,-4]] ##\n",
    "        connect = [[-1,1],[1,2,3],[2,4],[4,5,6],[5,-3],[3,-2,6,-4]]\n",
    "#         connect = [[-1,1],[1,2,3],[2,4],[4,5,6],[5,-3],[3,-2,-4,6]]\n",
    "        order = [1,4,5,2,3,6]\n",
    "        θ_new = ncon(tensors,connect,order)\n",
    "        \n",
    "#         tensors = [np.diag(λ[B]), Γ[A], np.diag(λ[A]), Γ[B], np.diag(λ[B])]\n",
    "#         connect = [[-1,1],[1,2,-2],[2,3],[3,4,-4],[4,-3]]\n",
    "#         order = [4,2,1,3]\n",
    "#         θ_new = ncon(tensors, connect, order)\n",
    "#         θ_new = ncon([θ_new, Ug], [[-1,1,-3,2],[1,-2,2,-4]])\n",
    "        θ_new = np.reshape(θ_new,[D*d,D*d])\n",
    "        θ = np.reshape(θ,[D*d,D*d])\n",
    "        if LA.norm(θ_new - θ) < tol:\n",
    "#             print(\"iter: {}, Success!\".format(stp))\n",
    "            break\n",
    "        else:\n",
    "#             print(\"iter: {}, diff: {}\".format(stp, LA.norm(θ_new - θ)))\n",
    "            θ = θ_new\n",
    "            U,S,Vd = LA.svd(θ)\n",
    "            Γ[A] = U[:,0:D]\n",
    "            Γ[A] = np.reshape(Γ[A],[D,d,D])\n",
    "            Γ[A] = np.transpose(Γ[A],[0,2,1])\n",
    "            Γ[B] = Vd[0:D,:]\n",
    "            Γ[B] = np.reshape(Γ[B], [D,D,d])\n",
    "            # \n",
    "            λ[A] = S[0:D] / LA.norm(S[0:D])\n",
    "            Γ[A] = ncon([np.diag(1./λ[B]),Γ[A]],[[-1,1],[1,-2,-3]])\n",
    "            Γ[B] = ncon([Γ[B], np.diag(1./λ[B])],[[-1,1,-3],[1,-2]])\n",
    "            Γ[A] = Γ[A] / LA.norm(Γ[A])\n",
    "            Γ[B] = Γ[B] / LA.norm(Γ[B])   \n",
    "    \n",
    "    E = []\n",
    "    Mag = []\n",
    "    for j in range(len(Γ)):\n",
    "        A = np.mod(j,2)\n",
    "        B = np.mod(j+1,2)\n",
    "        tensors = [np.diag(λ[B]), Γ[A], np.diag(λ[A]), Γ[B], np.diag(λ[B])]\n",
    "        connect = [[-1,1],[1,2,-2],[2,3],[3,4,-4],[4,-3]]\n",
    "        order = [1,4,3,2]\n",
    "        θ = ncon(tensors,connect,order)\n",
    "        θ = θ / LA.norm(θ)\n",
    "#         θ = θ / np.max(np.abs(θ))\n",
    "#         print(LA.norm(θ))\n",
    "        Eb = ncon([θ, H, np.conj(θ)],[[1,2,3,4],[2,4,5,6],[1,5,3,6]],[5,6,1,2,3,4])\n",
    "        E.append(Eb)\n",
    "        Mb = ncon([θ, M, np.conj(θ)],[[1,2,3,4],[2,4,5,6],[1,5,3,6]],[5,6,1,2,3,4])\n",
    "        Mag.append(Mb)\n",
    "    E_total = np.sum(E)\n",
    "    M_total = np.sum(Mag)\n",
    "    E0 = E_total/2 \n",
    "    Magetization = M_total/2\n",
    "    return E0, Magetization"
   ]
  },
  {
   "cell_type": "code",
   "execution_count": 137,
   "id": "83776f77",
   "metadata": {},
   "outputs": [
    {
     "data": {
      "text/plain": [
       "(-0.5242762495086526, 0.49937979568335733)"
      ]
     },
     "execution_count": 137,
     "metadata": {},
     "output_type": "execute_result"
    }
   ],
   "source": [
    "TFI_itebd(1.0,0.5,0.1,10)  "
   ]
  },
  {
   "cell_type": "code",
   "execution_count": 262,
   "id": "6c6ddb9d",
   "metadata": {},
   "outputs": [],
   "source": [
    "steps = np.linspace(0.0,3.7,num=20)\n",
    "E_Ising = []\n",
    "M_Ising = []\n",
    "for h in steps:\n",
    "    E_0, M_0 = TFI_itebd(1.0,h,0.01,50)   \n",
    "    E_Ising.append(E_0)   \n",
    "    M_Ising.append(M_0)\n",
    "    "
   ]
  },
  {
   "cell_type": "code",
   "execution_count": 263,
   "id": "f3142bdf",
   "metadata": {},
   "outputs": [
    {
     "data": {
      "image/png": "[encoded data removed]",
      "text/plain": [
       "<Figure size 640x480 with 2 Axes>"
      ]
     },
     "metadata": {},
     "output_type": "display_data"
    }
   ],
   "source": [
    "\n",
    "# plt.figure(figsize=(8,10), dpi=1000)\n",
    "# plt.figure(figsize=(8,10))\n",
    "plt.subplot(211)\n",
    "plt.scatter(steps,M_Ising,c='r',label='M')\n",
    "plt.xlabel(\"h\")\n",
    "plt.ylabel(\"Magnetization\")\n",
    "plt.title(\"M-h\")\n",
    "plt.legend([\"Magnetization\"],loc=\"upper right\")\n",
    "plt.margins()\n",
    "plt.subplot(212)\n",
    "plt.margins()\n",
    "plt.scatter(steps,E_Ising,c='g',label='E')\n",
    "plt.xlabel(\"h\")\n",
    "plt.ylabel(\"Energy\")\n",
    "plt.title(\"E-h\")\n",
    "plt.legend([\"Energy\"],loc=\"upper right\")\n",
    "# plt.savefig(\"Ising_phase_1\")\n",
    "plt.show()"
   ]
  },
  {
   "cell_type": "code",
   "execution_count": null,
   "id": "6c9a429c",
   "metadata": {},
   "outputs": [],
   "source": []
  },
  {
   "cell_type": "markdown",
   "id": "a5db6d9e",
   "metadata": {},
   "source": [
    "## test"
   ]
  },
  {
   "cell_type": "code",
   "execution_count": 29,
   "id": "83d6659b",
   "metadata": {},
   "outputs": [],
   "source": [
    "d = 2;\n",
    "D = 10;\n",
    "X = np.array([[0,1],[1,0]])\n",
    "Z = np.array([[1,0],[0,-1]])\n",
    "Id = np.array([[1,0],[0,1]])\n"
   ]
  },
  {
   "cell_type": "code",
   "execution_count": 55,
   "id": "d8898ab0",
   "metadata": {},
   "outputs": [
    {
     "data": {
      "text/plain": [
       "array([[[ 0,  0,  0,  0],\n",
       "        [-1,  0,  0,  0],\n",
       "        [ 0,  0,  0,  0],\n",
       "        [ 0,  0,  0,  0]],\n",
       "\n",
       "       [[ 0,  0,  0,  0],\n",
       "        [ 0,  1,  0,  0],\n",
       "        [ 0,  0,  0,  0],\n",
       "        [ 0,  0,  0,  0]],\n",
       "\n",
       "       [[ 0,  0,  0,  0],\n",
       "        [ 0,  0,  1,  0],\n",
       "        [ 0,  0,  0,  0],\n",
       "        [ 0,  0,  0,  0]],\n",
       "\n",
       "       [[ 0,  0,  0,  0],\n",
       "        [ 0,  0,  0, -1],\n",
       "        [ 0,  0,  0,  0],\n",
       "        [ 0,  0,  0,  0]]])"
      ]
     },
     "execution_count": 55,
     "metadata": {},
     "output_type": "execute_result"
    }
   ],
   "source": [
    "Hzz = ncon([Z,Z],[[-1,-3],[-2,-4]])\n",
    "np.kron(Hzz[0],Hzz[1])"
   ]
  },
  {
   "cell_type": "code",
   "execution_count": 39,
   "id": "1250095f",
   "metadata": {},
   "outputs": [
    {
     "data": {
      "text/plain": [
       "array([[ 1,  0,  0,  0],\n",
       "       [ 0,  0, -1,  0],\n",
       "       [ 0, -1,  0,  0],\n",
       "       [ 0,  0,  0,  1]])"
      ]
     },
     "execution_count": 39,
     "metadata": {},
     "output_type": "execute_result"
    }
   ],
   "source": [
    "np.reshape(Hzz,[d*d,d*d])"
   ]
  },
  {
   "cell_type": "code",
   "execution_count": null,
   "id": "f77e78ad",
   "metadata": {},
   "outputs": [],
   "source": [
    "Hzz = ncon([Z,Z],[[-1,-3],[-2,-4]])\n",
    "Hx = 0.5*(ncon([Id,X],[[-1,-3],[-2,-4]]) + ncon([X,Id],[[-1,-3],[-2,-4]]))\n",
    "H = -J*Hzz - h*Hx\n",
    "Hexp = np.reshape(H,[d*d,d*d])\n",
    "Ug = sla.expm(-δ*Hexp)\n",
    "Ug = np.reshape(Ug,[d,d,d,d])\n",
    "M = 0.5*(ncon([Z,Z],[[-1,-3],[-2,-4]]))"
   ]
  }
 ],
 "metadata": {
  "kernelspec": {
   "display_name": "Python 3 (ipykernel)",
   "language": "python",
   "name": "python3"
  },
  "language_info": {
   "codemirror_mode": {
    "name": "ipython",
    "version": 3
   },
   "file_extension": ".py",
   "mimetype": "text/x-python",
   "name": "python",
   "nbconvert_exporter": "python",
   "pygments_lexer": "ipython3",
   "version": "3.9.13"
  }
 },
 "nbformat": 4,
 "nbformat_minor": 5
}
