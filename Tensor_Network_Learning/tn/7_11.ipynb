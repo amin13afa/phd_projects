{
 "cells": [
  {
   "cell_type": "code",
   "execution_count": 1,
   "id": "3fac3979",
   "metadata": {},
   "outputs": [],
   "source": [
    "import numpy as np \n",
    "from numpy import linalg as LA\n",
    "from ncon import ncon"
   ]
  },
  {
   "cell_type": "code",
   "execution_count": 2,
   "id": "58a5ddc0",
   "metadata": {},
   "outputs": [],
   "source": [
    "d = 2;\n",
    "D = 10;\n",
    "A = np.random.rand(D,d,D);\n",
    "B = np.random.rand(D,d,D);\n",
    "sAB = np.ones(D) / np.sqrt(D);\n",
    "sBA = np.ones(D) / np.sqrt(D);"
   ]
  },
  {
   "cell_type": "code",
   "execution_count": 3,
   "id": "0ed9d92f",
   "metadata": {},
   "outputs": [],
   "source": [
    "\"\"\" Contract infinite MPS from the left for environment tensor sigBA \"\"\"\n",
    "\n",
    "# initialize random starting point\n",
    "sigBA = np.random.rand(D,D);\n",
    "# set convergence tolerance\n",
    "tol = 1e-10;\n",
    "# define the tensor network\n",
    "tensors = [np.diag(sBA),np.diag(sBA),A,A.conj(),np.diag(sAB),np.diag(sAB),B,B.conj()];\n",
    "connect = [[1,2],[1,3],[2,4],[3,5,6],[4,5,7],[6,8],[7,9],[8,10,-1],[9,10,-2]];"
   ]
  },
  {
   "cell_type": "code",
   "execution_count": 4,
   "id": "83c2b407",
   "metadata": {},
   "outputs": [
    {
     "name": "stdout",
     "output_type": "stream",
     "text": [
      "iter: 0, diff: 5.054569856405995\n",
      "iter: 1, diff: 0.004511500982232067\n",
      "iter: 2, diff: 5.4411465336629985e-05\n",
      "iter: 3, diff: 8.909997896556162e-07\n",
      "iter: 4, diff: 9.584596897260063e-09\n",
      "success!\n"
     ]
    }
   ],
   "source": [
    "for k in range(1000):\n",
    "    # contract transfer operator\n",
    "    sigBA_new = ncon([sigBA, *tensors], connect)\n",
    "    # normalize\n",
    "    sigBA_new = sigBA_new / np.trace(sigBA_new)\n",
    "    # check convergence\n",
    "    if LA.norm(sigBA - sigBA_new) < tol:\n",
    "        print(\"success!\")\n",
    "        break\n",
    "    else:\n",
    "        print(\"iter: {}, diff: {}\".format(k,LA.norm(sigBA - sigBA_new)))\n",
    "        sigBA = sigBA_new\n",
    "    "
   ]
  },
  {
   "cell_type": "code",
   "execution_count": 14,
   "id": "c98efe23",
   "metadata": {},
   "outputs": [],
   "source": [
    "\"\"\" \n",
    "Contract an infinite 2-site unit cell from the left\n",
    "for the environment density matrices\n",
    "sigBA (B-A link) and sigAB (A-B link)\"\"\";"
   ]
  },
  {
   "cell_type": "code",
   "execution_count": 15,
   "id": "25b5dba6",
   "metadata": {},
   "outputs": [],
   "source": [
    "def left_contract_MPS(sigBA,sBA,A,sAB,B):\n",
    "    # initialize the starting vector\n",
    "    DBA = A.shape[0]\n",
    "    if sigBA.shape[0] == DBA:\n",
    "        v0 = np.reshape(sigBA,[])"
   ]
  },
  {
   "cell_type": "code",
   "execution_count": null,
   "id": "909729f9",
   "metadata": {},
   "outputs": [],
   "source": []
  }
 ],
 "metadata": {
  "kernelspec": {
   "display_name": "Python 3 (ipykernel)",
   "language": "python",
   "name": "python3"
  },
  "language_info": {
   "codemirror_mode": {
    "name": "ipython",
    "version": 3
   },
   "file_extension": ".py",
   "mimetype": "text/x-python",
   "name": "python",
   "nbconvert_exporter": "python",
   "pygments_lexer": "ipython3",
   "version": "3.9.13"
  }
 },
 "nbformat": 4,
 "nbformat_minor": 5
}
