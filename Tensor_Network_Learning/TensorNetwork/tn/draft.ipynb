{
 "cells": [
  {
   "cell_type": "code",
   "execution_count": 2,
   "id": "22607df9",
   "metadata": {},
   "outputs": [],
   "source": [
    "import numpy as np \n",
    "from ncon import ncon \n",
    "from scipy.linalg import expm\n",
    "import matplotlib.pyplot as plt "
   ]
  },
  {
   "cell_type": "markdown",
   "id": "46559eb7",
   "metadata": {},
   "source": [
    "$$H=-J\\sum_{ij} \\sigma_i^z \\sigma_j^z-h\\sum_i \\sigma_i^x$$"
   ]
  },
  {
   "cell_type": "code",
   "execution_count": 3,
   "id": "91af3446",
   "metadata": {},
   "outputs": [],
   "source": [
    "def IsingModel(J:int,h:int,δ:float):\n",
    "    Id = np.identity(2)\n",
    "    X = np.array([[0,1],[1,0]])\n",
    "    Y = np.array([[0, -1j],[1j, 0]])\n",
    "    Z = np.array([[1,0],[0,-1]])\n",
    "    # H = Hz + Hx\n",
    "    Hz = ncon([Z,Z],[[-1,-3],[-2,-4]])\n",
    "    Hx = ncon([X,Id],[[-1,-3],[-2,-4]]) + ncon([Id, X],[[-1,-3],[-2,-4]])\n",
    "    H = J*Hz -h*Hx\n",
    "    H_reshaped = np.reshape(H,[4,4])\n",
    "    Ug = expm(δ*H_reshaped)\n",
    "    Ug = np.reshape(Ug,[2,2,2,2])\n",
    "    M = ncon([Z,Z],[[-1,-3],[-2,-4]])\n",
    "    return H, Ug, M\n",
    "    "
   ]
  },
  {
   "cell_type": "code",
   "execution_count": 4,
   "id": "1204c6bb",
   "metadata": {},
   "outputs": [],
   "source": [
    "def TensorCreation(d:int, D:int):\n",
    "#     np.random.seed(42)\n",
    "    ΓA = np.random.rand(D,D,d)\n",
    "    ΓB = np.random.rand(D,D,d)\n",
    "    ΓA = ΓA / np.linalg.norm(ΓA)\n",
    "    ΓB = ΓB / np.linalg.norm(ΓB)\n",
    "    Γ = [ΓA, ΓB]\n",
    "    \n",
    "    λA = np.random.rand(D)\n",
    "    λB = np.random.rand(D)\n",
    "    λA = λA/np.sum(λA)\n",
    "    λB = λB/np.sum(λB)\n",
    "    λ = [λA, λB]\n",
    "    return λ , Γ"
   ]
  },
  {
   "cell_type": "code",
   "execution_count": null,
   "id": "b3007c48",
   "metadata": {},
   "outputs": [],
   "source": []
  },
  {
   "cell_type": "code",
   "execution_count": 5,
   "id": "57b33d4e",
   "metadata": {},
   "outputs": [],
   "source": [
    "def ITEBD(d,D,J,h,δ,n_iter):\n",
    "    # create tensors\n",
    "    λ , Γ = TensorCreation(d,D)\n",
    "    # define H and U\n",
    "    H, Ug, M = IsingModel(J,h,δ)\n",
    "    # start iteration\n",
    "    for step in range(n_iter):\n",
    "        if np.mod(step, 2) == 0:\n",
    "            A = 0; B = 1;\n",
    "        else:\n",
    "            A = 1; B = 0;\n",
    "            \n",
    "        tensors = [np.diag(λ[B]), Γ[A], np.diag(λ[A]), Γ[B], np.diag(λ[B]), Ug]\n",
    "        connect = [[-1,1],[1,2,3],[2,4],[4,5,6],[5,-3],[3,6,-2,-4]]\n",
    "        order = [1,4,5,2,3,6]\n",
    "        θ = ncon(tensors, connect, order)\n",
    "        θ = np.reshape(θ, [D*d, D*d])\n",
    "        U, S, Vd = np.linalg.svd(θ)\n",
    "        Γ[A] = U[:,0:D]\n",
    "        Γ[A] = np.reshape(Γ[A], [D,d,D])\n",
    "        Γ[A] = np.transpose(Γ[A], [0,2,1])\n",
    "        Γ[B] = Vd[0:D,:]\n",
    "        Γ[B] = np.reshape(Γ[B],[D,D,d])\n",
    "        \n",
    "#         Γ[A] = Γ[A] / np.linalg.norm(Γ[A])\n",
    "#         Γ[B] = Γ[B] / np.linalg.norm(Γ[B])\n",
    "        \n",
    "        λ[A] = S[0:D]\n",
    "        Γ[A] = ncon([np.diag(1./λ[B]), Γ[A]],[[-1,1],[1,-2,-3]])\n",
    "        Γ[B] = ncon([Γ[B], np.diag(1./λ[B])],[[-1,1,-3],[1,-2]])\n",
    "        Γ[A] = Γ[A] / np.linalg.norm(Γ[A])\n",
    "        Γ[B] = Γ[B] / np.linalg.norm(Γ[B])\n",
    "        λ[A] = λ[A] / np.sum(λ[A])\n",
    "        \n",
    "        \n",
    "        \n",
    "#         print(np.linalg.norm(Γ[A]))\n",
    "#         print(np.linalg.norm(Γ[B]))\n",
    "#         print(np.trace(np.diag(λ[A])))\n",
    "#         print(np.trace(np.diag(λ[B])))\n",
    "#         print()\n",
    "    E = []\n",
    "    Mag = []\n",
    "    for j in range(len(Γ)):\n",
    "        A = np.mod(j,2)\n",
    "        B = np.mod(j+1,2)\n",
    "        tensors = [np.diag(λ[B]), Γ[A], np.diag(λ[A]), Γ[B], np.diag(λ[B])]\n",
    "        connect = [[-1,1],[1,2,-2],[2,3],[3,4,-4],[4,-3]]\n",
    "        order = [1,4,2,3]\n",
    "        θ = ncon(tensors, connect, order)\n",
    "        Eb = ncon([θ, H, np.conj(θ)], [[1,2,3,4],[2,4,5,6],[1,5,3,6]], [5,6,1,2,3,4])\n",
    "        Mb = ncon([θ, M, np.conj(θ)], [[1,2,3,4],[2,4,5,6],[1,5,3,6]], [5,6,1,2,3,4])\n",
    "        E.append(Eb)\n",
    "        Mag.append(Mb)\n",
    "    E_total = np.sum(E);\n",
    "    E0 = E_total/2.0;\n",
    "#     Mag2 = np.sum\n",
    "    return E_total, E0, Mag\n",
    "#     print(\"E_total = \", E_total)\n",
    "#     print(\"E_0 = \", E0)\n",
    "\n",
    "    \n",
    "        \n",
    "        \n",
    "        \n",
    "        \n",
    "        "
   ]
  },
  {
   "cell_type": "code",
   "execution_count": null,
   "id": "de3aca51",
   "metadata": {},
   "outputs": [],
   "source": []
  },
  {
   "cell_type": "code",
   "execution_count": 7,
   "id": "3c871c2a",
   "metadata": {},
   "outputs": [
    {
     "name": "stdout",
     "output_type": "stream",
     "text": [
      "60\n",
      "60\n"
     ]
    },
    {
     "data": {
      "image/png": "[encoded data removed]",
      "text/plain": [
       "<Figure size 640x480 with 1 Axes>"
      ]
     },
     "metadata": {},
     "output_type": "display_data"
    }
   ],
   "source": [
    "E = []\n",
    "Mag = []\n",
    "for j in np.arange(0,6,0.1):\n",
    "    et, e0, m0 = ITEBD(2,20,1.0,j,0.01,10)\n",
    "    E.append(et)\n",
    "    Mag.append(m0)\n",
    "\n",
    "h = np.arange(0,6,0.1)\n",
    "\n",
    "print(len(h))\n",
    "print(len(E))\n",
    "plt.plot(h,E,'-o',c='b')\n",
    "plt.plot(h,Mag,'*',c='r')\n",
    "plt.show()"
   ]
  },
  {
   "cell_type": "code",
   "execution_count": 7,
   "id": "364c98a0",
   "metadata": {},
   "outputs": [],
   "source": []
  },
  {
   "cell_type": "code",
   "execution_count": null,
   "id": "8d92f996",
   "metadata": {},
   "outputs": [],
   "source": []
  },
  {
   "cell_type": "code",
   "execution_count": null,
   "id": "4dee0610",
   "metadata": {},
   "outputs": [],
   "source": []
  }
 ],
 "metadata": {
  "kernelspec": {
   "display_name": "Python 3 (ipykernel)",
   "language": "python",
   "name": "python3"
  },
  "language_info": {
   "codemirror_mode": {
    "name": "ipython",
    "version": 3
   },
   "file_extension": ".py",
   "mimetype": "text/x-python",
   "name": "python",
   "nbconvert_exporter": "python",
   "pygments_lexer": "ipython3",
   "version": "3.9.13"
  }
 },
 "nbformat": 4,
 "nbformat_minor": 5
}
