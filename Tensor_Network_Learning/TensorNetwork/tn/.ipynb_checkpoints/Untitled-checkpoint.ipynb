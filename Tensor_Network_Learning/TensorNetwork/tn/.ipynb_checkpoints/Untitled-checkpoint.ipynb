{
 "cells": [
  {
   "cell_type": "code",
   "execution_count": 1,
   "id": "7bf5f538",
   "metadata": {},
   "outputs": [],
   "source": [
    "import numpy as np \n",
    "from ncon import ncon \n",
    "from scipy.linalg import expm"
   ]
  },
  {
   "cell_type": "markdown",
   "id": "0255cd77",
   "metadata": {},
   "source": [
    "$$H=-J\\sum_{ij} \\sigma_i^z \\sigma_j^z-h\\sum_i \\sigma_i^x$$"
   ]
  },
  {
   "cell_type": "code",
   "execution_count": 2,
   "id": "9cdfc3fa",
   "metadata": {},
   "outputs": [],
   "source": [
    "J = 1.0;\n",
    "h = 0.5;\n",
    "δ = 0.1;\n",
    "d = 2;  # physical dimension\n",
    "D = 10;  # bond dimension\n",
    "n_iter = 5;"
   ]
  },
  {
   "cell_type": "code",
   "execution_count": 3,
   "id": "2b0e67bf",
   "metadata": {},
   "outputs": [],
   "source": [
    "Id = np.identity(2)\n",
    "X = np.array([[0,1],[1,0]])\n",
    "Y = np.array([[0, -1j],[1j, 0]])\n",
    "Z = np.array([[1,0],[0,-1]])"
   ]
  },
  {
   "cell_type": "code",
   "execution_count": 4,
   "id": "27505ca2",
   "metadata": {},
   "outputs": [],
   "source": [
    "Hz = ncon([Z,Z],[[-1,-3],[-2,-4]])\n",
    "Hx = ncon([X,Id],[[-1,-3],[-2,-4]]) + ncon([Id, X],[[-1,-3],[-2,-4]])\n",
    "H = J*Hz -h*Hx\n",
    "H_reshaped = np.reshape(H,[4,4])\n",
    "Ug = expm(δ*H_reshaped)\n",
    "Ug = np.reshape(Ug,[2,2,2,2])\n",
    "\n",
    "M = 0.5*(ncon([Z,Z],[[-1,-3],[-2,-4]]))"
   ]
  },
  {
   "cell_type": "code",
   "execution_count": null,
   "id": "db97b26e",
   "metadata": {},
   "outputs": [],
   "source": []
  },
  {
   "cell_type": "code",
   "execution_count": 11,
   "id": "1e27dc31",
   "metadata": {},
   "outputs": [
    {
     "name": "stdout",
     "output_type": "stream",
     "text": [
      "1.0\n",
      "1.0\n",
      "1.0\n",
      "0.9999999999999999\n"
     ]
    }
   ],
   "source": [
    "# np.random.seed(42)\n",
    "ΓA = np.random.rand(D,D,d)\n",
    "ΓB = np.random.rand(D,D,d)\n",
    "ΓA = ΓA / np.linalg.norm(ΓA)\n",
    "ΓB = ΓB / np.linalg.norm(ΓB)\n",
    "Γ = [ΓA, ΓB]\n",
    "\n",
    "λA = np.random.rand(D)\n",
    "λB = np.random.rand(D)\n",
    "λA = λA/np.sum(λA)\n",
    "λB = λB/np.sum(λB)\n",
    "λ = [λA, λB]\n",
    "\n",
    "\n",
    "print(np.linalg.norm(Γ[0]))\n",
    "print(np.linalg.norm(Γ[1]))\n",
    "print(np.trace(np.diag(λ[0])))\n",
    "print(np.trace(np.diag(λ[1])))"
   ]
  },
  {
   "cell_type": "code",
   "execution_count": null,
   "id": "6fd0169a",
   "metadata": {},
   "outputs": [],
   "source": []
  },
  {
   "cell_type": "code",
   "execution_count": 19,
   "id": "b3905449",
   "metadata": {},
   "outputs": [
    {
     "name": "stdout",
     "output_type": "stream",
     "text": [
      "3.923685208467803e-11\n",
      "\n",
      "1.0\n",
      "1.0\n",
      "1.0000000000000002\n",
      "0.9999999999999999\n",
      "\n",
      "5.44346216822833e-11\n",
      "\n",
      "1.0\n",
      "1.0\n",
      "1.0000000000000002\n",
      "1.0000000000000002\n",
      "\n",
      "1.0957037569766514e-10\n",
      "\n",
      "1.0\n",
      "0.9999999999999999\n",
      "1.0\n",
      "1.0000000000000002\n",
      "\n",
      "1.0788873722368032e-10\n",
      "\n",
      "0.9999999999999999\n",
      "1.0\n",
      "0.9999999999999999\n",
      "1.0\n",
      "\n",
      "1.2143639911637645e-10\n",
      "\n",
      "1.0\n",
      "1.0\n",
      "1.0\n",
      "0.9999999999999999\n",
      "\n"
     ]
    }
   ],
   "source": [
    "for step in range(n_iter):\n",
    "        if np.mod(step, 2) == 0:\n",
    "            A = 0; B = 1;\n",
    "        else:\n",
    "            A = 1; B = 0;\n",
    "\n",
    "        tensors = [np.diag(λ[B]), Γ[A], np.diag(λ[A]), Γ[B], np.diag(λ[B]), Ug]\n",
    "        connect = [[-1,1],[1,2,3],[2,4],[4,5,6],[5,-3],[3,6,-2,-4]]\n",
    "        order = [1,4,5,2,3,6]\n",
    "        θ = ncon(tensors, connect, order)\n",
    "        print(np.linalg.norm(θ))\n",
    "        print()\n",
    "        θ = np.reshape(θ, [D*d, D*d])\n",
    "        U, S, Vd = np.linalg.svd(θ)\n",
    "        Γ[A] = U[:,0:D]\n",
    "        Γ[A] = np.reshape(Γ[A], [D,d,D])\n",
    "        Γ[A] = np.transpose(Γ[A], [0,2,1])\n",
    "        Γ[B] = Vd[0:D,:]\n",
    "        Γ[B] = np.reshape(Γ[B],[D,D,d])\n",
    "        \n",
    "#         Γ[A] = Γ[A] / np.linalg.norm(Γ[A])\n",
    "#         Γ[B] = Γ[B] / np.linalg.norm(Γ[B])\n",
    "        \n",
    "        λ[A] = S[0:D]\n",
    "        Γ[A] = ncon([np.diag(1./λ[B]), Γ[A]],[[-1,1],[1,-2,-3]])\n",
    "        Γ[B] = ncon([Γ[B], np.diag(1./λ[B])],[[-1,1,-3],[1,-2]])\n",
    "        Γ[A] = Γ[A] / np.linalg.norm(Γ[A])\n",
    "        Γ[B] = Γ[B] / np.linalg.norm(Γ[B])\n",
    "#         Γ[A] = Γ[A] / np.max(Γ[A])\n",
    "#         Γ[B] = Γ[B] / np.max(Γ[B])\n",
    "        λ[A] = λ[A] / np.sum(λ[A])\n",
    "        \n",
    "        \n",
    "        \n",
    "        print(np.linalg.norm(Γ[A]))\n",
    "        print(np.linalg.norm(Γ[B]))\n",
    "        print(np.trace(np.diag(λ[A])))\n",
    "        print(np.trace(np.diag(λ[B])))\n",
    "        print()\n",
    "\n",
    "\n",
    "    \n",
    "        "
   ]
  },
  {
   "cell_type": "code",
   "execution_count": 32,
   "id": "c8435f81",
   "metadata": {},
   "outputs": [
    {
     "name": "stdout",
     "output_type": "stream",
     "text": [
      "E_total =  9.067845372701148e-22\n",
      "E_0 =  4.533922686350574e-22\n"
     ]
    }
   ],
   "source": [
    "E = []\n",
    "for j in range(len(Γ)):\n",
    "    A = np.mod(j,2)\n",
    "    B = np.mod(j+1,2)\n",
    "    tensors = [np.diag(λ[B]), Γ[A], np.diag(λ[A]), Γ[B], np.diag(λ[B])]\n",
    "    connect = [[-1,1],[1,2,-2],[2,3],[3,4,-4],[4,-3]]\n",
    "    order = [1,4,2,3]\n",
    "    θ = ncon(tensors, connect, order)\n",
    "    Eb = ncon([θ, H, np.conj(θ)], [[1,2,3,4],[2,4,5,6],[1,5,3,6]], [5,6,1,2,3,4])\n",
    "    E.append(Eb)\n",
    "E_total = np.sum(E);\n",
    "E0 = E_total/2.0;\n",
    "\n",
    "print(\"E_total = \", E_total)\n",
    "print(\"E_0 = \", E0)"
   ]
  },
  {
   "cell_type": "code",
   "execution_count": null,
   "id": "9aad07b3",
   "metadata": {},
   "outputs": [],
   "source": []
  }
 ],
 "metadata": {
  "kernelspec": {
   "display_name": "Python 3 (ipykernel)",
   "language": "python",
   "name": "python3"
  },
  "language_info": {
   "codemirror_mode": {
    "name": "ipython",
    "version": 3
   },
   "file_extension": ".py",
   "mimetype": "text/x-python",
   "name": "python",
   "nbconvert_exporter": "python",
   "pygments_lexer": "ipython3",
   "version": "3.9.13"
  }
 },
 "nbformat": 4,
 "nbformat_minor": 5
}
