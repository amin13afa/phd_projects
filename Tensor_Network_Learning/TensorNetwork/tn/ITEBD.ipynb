{
 "cells": [
  {
   "cell_type": "markdown",
   "metadata": {},
   "source": [
    "# Winter School on Tensor Network Methods for Quantum Many-Body Systems: Simple ITEBD Algorithm "
   ]
  },
  {
   "cell_type": "code",
   "execution_count": 1,
   "metadata": {},
   "outputs": [],
   "source": [
    "from ncon import ncon\n",
    "import numpy as np\n",
    "import scipy.linalg as scl\n",
    "from scipy import integrate"
   ]
  },
  {
   "cell_type": "markdown",
   "metadata": {},
   "source": [
    "## iTEBD Simulation of 1D Ising Model In Transverse Field (ITF)"
   ]
  },
  {
   "cell_type": "markdown",
   "metadata": {},
   "source": [
    "$$H=-J\\sum_{ij} \\sigma_i^z \\sigma_j^z-h\\sum_i \\sigma_i^x$$"
   ]
  },
  {
   "cell_type": "code",
   "execution_count": 9,
   "metadata": {},
   "outputs": [],
   "source": [
    "#--- Pauli Operators ----\n",
    "SigmaX=np.array([[0,1],\n",
    "                 [1,0]])\n",
    "\n",
    "SigmaZ=np.array([[1,0],\n",
    "                 [0,-1]])\n",
    "\n",
    "Identity=np.array([[1,0],\n",
    "                   [0,1]])\n",
    "\n",
    "#####    Problem Parameters   ######\n",
    "#--- Ising ferromagnetic exchange coupling --- \n",
    "J=-1\n",
    "\n",
    "#--- Magnetic field strength --- \n",
    "h=0.2\n",
    "\n",
    "#--- Imaginary-time evolution delta: delta=beta/n ---\n",
    "delta=0.01\n",
    "\n",
    "#--- Imaginary-time evolution Iteration ---\n",
    "niter=4000\n",
    "\n",
    "#--- Virtual Bond dimension ---\n",
    "D=10\n",
    "\n",
    "#--- Physical Bond dimension: For Pauli Spins p=2 for {up, down}  ---\n",
    "p=2"
   ]
  },
  {
   "cell_type": "markdown",
   "metadata": {},
   "source": [
    "### Building Hamiltonian Two-Body Gates\n",
    "<img src=\"images/zzgate.png\" width=\"350\"> "
   ]
  },
  {
   "cell_type": "code",
   "execution_count": 10,
   "metadata": {},
   "outputs": [
    {
     "name": "stdout",
     "output_type": "stream",
     "text": [
      "Shape H_ITF: (2, 2, 2, 2)\n"
     ]
    }
   ],
   "source": [
    "#--- Ising gate ---  \n",
    "Hzz=ncon([SigmaZ,SigmaZ],[[-1,-3],[-2,-4]])\n",
    "\n",
    "#--- Magnetic field gate (we build field one-site gate as a sum of two-body gates) ---\n",
    "Hf=0.5*( ncon([SigmaX,Identity],[[-1,-3],[-2,-4]]) + ncon([Identity,SigmaX],[[-1,-3],[-2,-4]]) )\n",
    "\n",
    "#--- Ising Hamiltonian --- \n",
    "H_ITF=J*Hzz-h*Hf\n",
    "print(\"Shape H_ITF:\",np.shape(H_ITF))\n",
    "\n",
    "#--- ITE Gate ---\n",
    "Hexpm=np.reshape(H_ITF,[p*p,p*p])\n",
    "Ug=scl.expm(-delta*Hexpm)\n",
    "Ug=np.reshape(Ug,[p,p,p,p])"
   ]
  },
  {
   "cell_type": "markdown",
   "metadata": {},
   "source": [
    "### Initializing Tensors\n",
    "<img src=\"images/unitcell.png\" width=\"300\"> "
   ]
  },
  {
   "cell_type": "code",
   "execution_count": 11,
   "metadata": {},
   "outputs": [],
   "source": [
    "#--- Gamma Tensors --- \n",
    "GA=np.random.rand(D,D,p); GB=np.random.rand(D,D,p)\n",
    "\n",
    "#--- Normalizing Gamma Tensors so that their elements remain <1 ---\n",
    "GA=GA/np.max(np.abs(GA));  GB=GB/np.max(np.abs(GB));\n",
    "Gamma=[GA,GB]\n",
    "\n",
    "#--- Lambda Matrices (Since they are diagonal, we only keep diagonal elements as 1D array) --- \n",
    "LA=np.random.rand(D); LB=np.random.rand(D)\n",
    "\n",
    "#--- Normalizing Lambda Matrices so that: tr(LA)=1, tr(LB)=1 --- \n",
    "LA=LA/np.trace(np.diag(LA));  LB=LB/np.trace(np.diag(LB))\n",
    "\n",
    "Lambda=[LA,LB]"
   ]
  },
  {
   "cell_type": "markdown",
   "metadata": {},
   "source": [
    "### Main ITE Loop: Updating theta\n",
    "<img src=\"images/odd_even_bonds.png\" width=\"600\"> \n",
    "<img src=\"images/ite_update.png\" width=\"800\">\n",
    "<img src=\"images/theta.png\" width=\"200\"> "
   ]
  },
  {
   "cell_type": "code",
   "execution_count": 12,
   "metadata": {},
   "outputs": [],
   "source": [
    "#----Main ITE Iterations-----\n",
    "for steps in range(niter):\n",
    "    if steps%2==0:\n",
    "        A=0; B=1\n",
    "    else:\n",
    "        A=1; B=0\n",
    "        \n",
    "    # theta tensor\n",
    "    tensors=[np.diag(Lambda[B]),Gamma[A],np.diag(Lambda[A]),Gamma[B],np.diag(Lambda[B]),Ug]\n",
    "    connect=[[-1,1],[1,2,3],[2,4],[4,5,6],[5,-3],[3,6,-2,-4]]\n",
    "    order=[1,4,5,2,3,6]\n",
    "    theta=ncon(tensors,connect,order)\n",
    "    \n",
    "    # SVD theta \n",
    "    theta=np.reshape(theta, [D*p,D*p])\n",
    "    U,S,Vd=np.linalg.svd(theta)\n",
    "\n",
    "    # Truncate the shared dimension of U,S,Vd back to D\n",
    "    Gamma[A]=U[:,0:D]\n",
    "    Lambda[A]=S[0:D]/np.trace(np.diag(S[0:D]))\n",
    "    Gamma[B]=Vd[0:D,:]\n",
    "\n",
    "    # Reshape back the Gamma tensor to original shape\n",
    "    Gamma[A]=np.reshape(Gamma[A], [D,p,D])\n",
    "    Gamma[A]=np.transpose(Gamma[A],[0,2,1])\n",
    "    Gamma[B]=np.reshape(Gamma[B], [D,D,p])\n",
    "    \n",
    "    # Removing lambdas from updated Gammas\n",
    "    Gamma[A]=ncon([np.diag(1./Lambda[B]),Gamma[A]],[[-1,1],[1,-2,-3]],[1])\n",
    "    Gamma[B]=ncon([Gamma[B],np.diag(1./Lambda[B])],[[-1,1,-3],[1,-2]],[1])\n",
    "    \n",
    "# Gamma[A]=Gamma[A]/np.max(np.abs(Gamma[A]));  Gamma[B]=Gamma[B]/np.max(np.abs(Gamma[B]));\n",
    "     "
   ]
  },
  {
   "cell_type": "markdown",
   "metadata": {},
   "source": [
    "### Expectation Values\n",
    "<img src=\"images/expectval.png\" width=\"600\"> "
   ]
  },
  {
   "cell_type": "code",
   "execution_count": 13,
   "metadata": {},
   "outputs": [
    {
     "name": "stdout",
     "output_type": "stream",
     "text": [
      "E_total= -2.009563588991422\n",
      "E0= -1.004781794495711\n",
      "E_exact = -1.0100252539845789\n"
     ]
    }
   ],
   "source": [
    "#--- Calculating Bond Energies ---\n",
    "E=[]\n",
    "for i in range(len(Gamma)):\n",
    "    if i%2==0:\n",
    "        A=0; B=1\n",
    "    else:\n",
    "        A=1; B=0\n",
    "        \n",
    "    tensors=[np.diag(Lambda[B]),Gamma[A],np.diag(Lambda[A]),Gamma[B],np.diag(Lambda[B])]\n",
    "    connect=[[-1,1],[1,2,-2],[2,3],[3,4,-4],[4,-3]]\n",
    "    order=[1,4,3,2]\n",
    "    theta=ncon(tensors,connect,order)\n",
    "    \n",
    "    Eb=ncon([theta,H_ITF,np.conj(theta)],[[1,2,3,4],[2,4,5,6],[1,5,3,6]],[5,6,1,2,3,4])\n",
    "    E.append(Eb)\n",
    "E_total=np.sum(E)\n",
    "E0=E_total/2.0\n",
    "\n",
    "print(\"E_total=\", E_total)\n",
    "print(\"E0=\", E0)\n",
    "\n",
    "f = lambda k,h : -2*np.sqrt(1+h**2-2*h*np.cos(k))/np.pi/2.\n",
    "E0_exact = integrate.quad(f, 0, np.pi, args=(h,))[0]\n",
    "print(\"E_exact =\", E0_exact)"
   ]
  },
  {
   "cell_type": "code",
   "execution_count": null,
   "metadata": {},
   "outputs": [],
   "source": []
  }
 ],
 "metadata": {
  "kernelspec": {
   "display_name": "Python 3 (ipykernel)",
   "language": "python",
   "name": "python3"
  },
  "language_info": {
   "codemirror_mode": {
    "name": "ipython",
    "version": 3
   },
   "file_extension": ".py",
   "mimetype": "text/x-python",
   "name": "python",
   "nbconvert_exporter": "python",
   "pygments_lexer": "ipython3",
   "version": "3.9.13"
  }
 },
 "nbformat": 4,
 "nbformat_minor": 4
}
