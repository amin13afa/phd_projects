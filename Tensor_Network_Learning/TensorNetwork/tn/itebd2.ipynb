{
 "cells": [
  {
   "cell_type": "code",
   "execution_count": 1,
   "id": "726c9fd7",
   "metadata": {},
   "outputs": [],
   "source": [
    "import numpy as np \n",
    "import matplotlib.pyplot as plt\n",
    "from ncon import ncon\n",
    "import scipy.linalg as sla "
   ]
  },
  {
   "cell_type": "code",
   "execution_count": 2,
   "id": "5e16aa05",
   "metadata": {},
   "outputs": [],
   "source": [
    "def TFI_itebd(J:float,h:float,δ:float,d:int,D:int,nᵢ:int) -> float:\n",
    "    # Hamiltonian definition\n",
    "    X = np.array([[0,1],[1,0]])\n",
    "    Z = np.array([[1,0],[0,-1]])\n",
    "    Id = np.array([[1,0],[0,1]])\n",
    "    Hzz = ncon([Z,Z],[[-1,-3],[-2,-4]])\n",
    "    Hx = 0.5*(ncon([Id,X],[[-1,-3],[-2,-4]]) + ncon([X,Id],[[-1,-3],[-2,-4]]))\n",
    "    H = -J*Hzz - h*Hx\n",
    "    Hexp = np.reshape(H,[d*d,d*d])\n",
    "    Ug = sla.expm(-δ*Hexp)\n",
    "    Ug = np.reshape(Ug,[d,d,d,d])\n",
    "    M = 0.5*(ncon([Z,Z],[[-1,-3],[-2,-4]]))\n",
    "    # creation of tensors\n",
    "    ΓA = np.random.rand(D,D,d)\n",
    "    ΓA = ΓA/np.linalg.norm(ΓA)\n",
    "    ΓB = np.random.rand(D,D,d)\n",
    "    ΓB = ΓB/np.linalg.norm(ΓB)\n",
    "    Γ = [ΓA,ΓB]\n",
    "    λA = np.random.rand(D)\n",
    "    λA = λA/np.linalg.norm(λA)\n",
    "    λB = np.random.rand(D)\n",
    "    λB = λB/np.linalg.norm(λB)\n",
    "    λ = [λA, λB]\n",
    "    \n",
    "    for stp in range(nᵢ):\n",
    "        A = np.mod(stp,2)\n",
    "        B = np.mod(stp+1,2)\n",
    "        tensors = [np.diag(λ[B]), Γ[A], np.diag(λ[A]), Γ[B], np.diag(λ[B]), Ug]\n",
    "        connect = [[-1,1],[1,2,3],[2,4],[4,5,6],[5,-3],[3,6,-2,-4]]\n",
    "        order = [1,4,5,2,3,6]\n",
    "        θ = ncon(tensors,connect,order)\n",
    "        θ = np.reshape(θ,[d*D,d*D])\n",
    "        U,S,Vd = np.linalg.svd(θ)\n",
    "        Γ[A] = U[:,0:D]\n",
    "        Γ[A] = np.reshape(Γ[A],[D,d,D])\n",
    "        Γ[A] = np.transpose(Γ[A],[0,2,1])\n",
    "        Γ[B] = Vd[0:D,:]\n",
    "        Γ[B] = np.reshape(Γ[B], [D,D,d])\n",
    "        λ[A] = S[0:D]/np.linalg.norm(S[0:D])\n",
    "        Γ[A] = ncon([np.diag(1./λ[B]),Γ[A]],[[-1,1],[1,-2,-3]])\n",
    "        Γ[B] = ncon([Γ[B], np.diag(1./λ[B])],[[-1,1,-3],[1,-2]])\n",
    "        Γ[A] = Γ[A] / np.linalg.norm(Γ[A])\n",
    "        Γ[B] = Γ[B] / np.linalg.norm(Γ[B])\n",
    "        E = []\n",
    "        Mag = []\n",
    "        for j in range(len(Γ)):\n",
    "            A = np.mod(j,2)\n",
    "            B = np.mod(j+1,2)\n",
    "            tensors = [np.diag(λ[B]), Γ[A], np.diag(λ[A]), Γ[B], np.diag(λ[B])]\n",
    "            connect = [[-1,1],[1,2,-2],[2,3],[3,4,-4],[4,-3]]\n",
    "            order = [1,4,3,2]\n",
    "            θ = ncon(tensors,connect,order)\n",
    "            θ = θ / np.linalg.norm(θ)\n",
    "#             θ = θ / np.max(np.abs(θ))\n",
    "            Eb = ncon([θ, H, np.conj(θ)],[[1,2,3,4],[2,4,5,6],[1,5,3,6]],[5,6,1,2,3,4])\n",
    "            E.append(Eb)\n",
    "            Mb = ncon([θ, M, np.conj(θ)],[[1,2,3,4],[2,4,5,6],[1,5,3,6]],[5,6,1,2,3,4])\n",
    "            Mag.append(Mb)\n",
    "        E_total = np.sum(E)\n",
    "        M_total = np.sum(Mag)\n",
    "        E0 = E_total/2 \n",
    "        Magetization = M_total/2   #M_total/2\n",
    "    \n",
    "#     Mag = []\n",
    "#     for j in range(len(Γ)):\n",
    "#         A = np.mod(j,2)\n",
    "#         B = np.mod(j+1,2)\n",
    "#         tensors = [np.diag(λ[B]), Γ[A], np.diag(λ[A]), Γ[B], np.diag(λ[B])]\n",
    "#         connect = [[-1,1],[1,2,-2],[2,3],[3,4,-4],[4,-3]]\n",
    "#         order = [1,4,3,2]\n",
    "#         θ = ncon(tensors,connect,order)\n",
    "#         θ = θ / np.linalg.norm(θ)\n",
    "#         Mb = ncon([θ, M, np.conj(θ)],[[1,2,3,4],[2,4,5,6],[1,5,3,6]],[5,6,1,2,3,4])\n",
    "#         Mag.append(Mb)\n",
    "#     M_total = np.sum(Mag)\n",
    "#     Magetization = M_total/2\n",
    "    return E0, Magetization"
   ]
  },
  {
   "cell_type": "code",
   "execution_count": 25,
   "id": "d13cd834",
   "metadata": {},
   "outputs": [
    {
     "data": {
      "text/plain": [
       "(-0.3666280393430343, 0.0879504852850567)"
      ]
     },
     "execution_count": 25,
     "metadata": {},
     "output_type": "execute_result"
    }
   ],
   "source": [
    "TFI_itebd(1,0.2,0.05,2,5,3)"
   ]
  },
  {
   "cell_type": "code",
   "execution_count": 5,
   "id": "95601b0a",
   "metadata": {},
   "outputs": [],
   "source": [
    "steps = np.linspace(0.1,6.1,num=20)\n",
    "E_Ising = []\n",
    "M_Ising = []\n",
    "# TFI_itebd(J:float,h:float,δ:float,d:int,D:int,nᵢ:int) -> float:\n",
    "for h in steps:\n",
    "    E_0, M_0 = TFI_itebd(1,h,0.1,2,10,1000)  # why this is sensitive to δ ? \n",
    "    E_Ising.append(E_0)   \n",
    "    M_Ising.append(M_0)"
   ]
  },
  {
   "cell_type": "code",
   "execution_count": 6,
   "id": "c7bfe469",
   "metadata": {},
   "outputs": [
    {
     "data": {
      "image/png": "[encoded data removed]",
      "text/plain": [
       "<Figure size 640x480 with 2 Axes>"
      ]
     },
     "metadata": {},
     "output_type": "display_data"
    }
   ],
   "source": [
    "# plt.figure(figsize=(8,10), dpi=1000)\n",
    "# plt.figure(figsize=(8,10))\n",
    "plt.subplot(211)\n",
    "plt.scatter(steps,M_Ising,c='r',label='M')\n",
    "plt.xlabel(\"h\")\n",
    "plt.ylabel(\"Magnetization\")\n",
    "plt.title(\"M-h\")\n",
    "plt.legend([\"Magnetization\"],loc=\"upper right\")\n",
    "plt.subplot(212)\n",
    "plt.scatter(steps,E_Ising,c='g',label='E')\n",
    "plt.xlabel(\"h\")\n",
    "plt.ylabel(\"Energy\")\n",
    "plt.title(\"E-h\")\n",
    "plt.legend([\"Energy\"],loc=\"upper right\")\n",
    "# plt.savefig(\"Ising_phase_2\")\n",
    "plt.show()"
   ]
  },
  {
   "cell_type": "code",
   "execution_count": null,
   "id": "3bbe41d9",
   "metadata": {},
   "outputs": [],
   "source": []
  }
 ],
 "metadata": {
  "kernelspec": {
   "display_name": "Python 3 (ipykernel)",
   "language": "python",
   "name": "python3"
  },
  "language_info": {
   "codemirror_mode": {
    "name": "ipython",
    "version": 3
   },
   "file_extension": ".py",
   "mimetype": "text/x-python",
   "name": "python",
   "nbconvert_exporter": "python",
   "pygments_lexer": "ipython3",
   "version": "3.9.13"
  }
 },
 "nbformat": 4,
 "nbformat_minor": 5
}
