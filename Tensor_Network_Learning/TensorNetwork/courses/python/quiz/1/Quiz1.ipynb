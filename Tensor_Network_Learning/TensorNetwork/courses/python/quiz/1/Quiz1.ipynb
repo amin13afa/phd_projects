{
 "cells": [
  {
   "cell_type": "markdown",
   "id": "78d30cbd",
   "metadata": {},
   "source": [
    "# Q1"
   ]
  },
  {
   "cell_type": "code",
   "execution_count": 8,
   "id": "8ce211aa",
   "metadata": {},
   "outputs": [
    {
     "name": "stdout",
     "output_type": "stream",
     "text": [
      "n = 11\n",
      "Not Valid\n"
     ]
    }
   ],
   "source": [
    "n = int(input(\"n = \"))\n",
    "if 1 <= n <= 100 and n%2==0:\n",
    "    print(\"Valid\")\n",
    "else:\n",
    "    print(\"Not Valid\")"
   ]
  },
  {
   "cell_type": "markdown",
   "id": "6fd6f77d",
   "metadata": {},
   "source": [
    "# Q2 "
   ]
  },
  {
   "cell_type": "code",
   "execution_count": 9,
   "id": "1972121a",
   "metadata": {},
   "outputs": [
    {
     "name": "stdout",
     "output_type": "stream",
     "text": [
      "0\n",
      "1\n",
      "2\n",
      "3\n",
      "4\n",
      "12.2\n",
      "<class 'float'>\n",
      "None\n"
     ]
    }
   ],
   "source": [
    "def f(j,k):\n",
    "    for i in range(10):\n",
    "        if i in range(5):\n",
    "            print(i)\n",
    "        elif i == 6:\n",
    "            print(i+j+k)\n",
    "            print(type(i+j+k))\n",
    "            continue \n",
    "        elif i == 8:\n",
    "            break\n",
    "            \n",
    "print(f(1.2,5))"
   ]
  },
  {
   "cell_type": "markdown",
   "id": "b2e4253e",
   "metadata": {},
   "source": [
    "# Q3"
   ]
  },
  {
   "cell_type": "code",
   "execution_count": 27,
   "id": "783c042f",
   "metadata": {},
   "outputs": [
    {
     "name": "stdout",
     "output_type": "stream",
     "text": [
      "n = 4\n",
      "*\n",
      "**\n",
      "***\n",
      "****\n"
     ]
    }
   ],
   "source": [
    "n = int(input(\"n = \"))\n",
    "for j in range(n):\n",
    "    print((j+1)*\"*\")"
   ]
  },
  {
   "cell_type": "markdown",
   "id": "3f8eb13c",
   "metadata": {},
   "source": [
    "# Q4"
   ]
  },
  {
   "cell_type": "code",
   "execution_count": 36,
   "id": "7a7d478e",
   "metadata": {},
   "outputs": [
    {
     "name": "stdout",
     "output_type": "stream",
     "text": [
      "n = 27\n",
      "NO\n"
     ]
    }
   ],
   "source": [
    "n = int(input(\"n = \"))\n",
    "def f(n):\n",
    "    s = 0\n",
    "    for j in range(1,n):\n",
    "        if n % j == 0:\n",
    "            s += j\n",
    "    if s == n:\n",
    "        print(\"YES\")\n",
    "    else:\n",
    "        print(\"NO\")\n",
    "\n",
    "f(n)    "
   ]
  },
  {
   "cell_type": "markdown",
   "id": "f8adc62e",
   "metadata": {},
   "source": [
    "# Q5"
   ]
  },
  {
   "cell_type": "code",
   "execution_count": 38,
   "id": "931a2e18",
   "metadata": {},
   "outputs": [
    {
     "name": "stdout",
     "output_type": "stream",
     "text": [
      "n = 12321\n",
      "YES\n"
     ]
    }
   ],
   "source": [
    "n = input(\"n = \")\n",
    "m = n[::-1]\n",
    "if n == m:\n",
    "    print(\"YES\")\n",
    "else:\n",
    "    print(\"NO\")"
   ]
  },
  {
   "cell_type": "code",
   "execution_count": null,
   "id": "a7b5d0dd",
   "metadata": {},
   "outputs": [],
   "source": []
  }
 ],
 "metadata": {
  "kernelspec": {
   "display_name": "Python 3 (ipykernel)",
   "language": "python",
   "name": "python3"
  },
  "language_info": {
   "codemirror_mode": {
    "name": "ipython",
    "version": 3
   },
   "file_extension": ".py",
   "mimetype": "text/x-python",
   "name": "python",
   "nbconvert_exporter": "python",
   "pygments_lexer": "ipython3",
   "version": "3.9.13"
  }
 },
 "nbformat": 4,
 "nbformat_minor": 5
}
