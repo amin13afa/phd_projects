{
 "cells": [
  {
   "cell_type": "markdown",
   "id": "e4867719",
   "metadata": {},
   "source": [
    "# Numpy"
   ]
  },
  {
   "cell_type": "markdown",
   "id": "80f4f450",
   "metadata": {},
   "source": [
    "### import libraries"
   ]
  },
  {
   "cell_type": "code",
   "execution_count": 2,
   "id": "9c544023",
   "metadata": {},
   "outputs": [],
   "source": [
    "import numpy as np "
   ]
  },
  {
   "cell_type": "code",
   "execution_count": 3,
   "id": "ca612ed9",
   "metadata": {},
   "outputs": [
    {
     "data": {
      "text/plain": [
       "'1.24.4'"
      ]
     },
     "execution_count": 3,
     "metadata": {},
     "output_type": "execute_result"
    }
   ],
   "source": [
    "# برای چک کردن ورژن numpy\n",
    "np.__version__"
   ]
  },
  {
   "cell_type": "markdown",
   "id": "b45c2795",
   "metadata": {},
   "source": [
    "### Array"
   ]
  },
  {
   "cell_type": "code",
   "execution_count": 4,
   "id": "82eaf05d",
   "metadata": {},
   "outputs": [
    {
     "data": {
      "text/plain": [
       "array([[1, 2],\n",
       "       [3, 4]])"
      ]
     },
     "execution_count": 4,
     "metadata": {},
     "output_type": "execute_result"
    }
   ],
   "source": [
    "list_1 = [[1,2],[3,4]]\n",
    "arr1 = np.array(list_1)\n",
    "arr1"
   ]
  },
  {
   "cell_type": "code",
   "execution_count": 5,
   "id": "2a974125",
   "metadata": {},
   "outputs": [
    {
     "data": {
      "text/plain": [
       "matrix([[1, 2],\n",
       "        [3, 4]])"
      ]
     },
     "execution_count": 5,
     "metadata": {},
     "output_type": "execute_result"
    }
   ],
   "source": [
    "mat1 = np.matrix([[1,2],[3,4]])\n",
    "mat1"
   ]
  },
  {
   "cell_type": "code",
   "execution_count": 6,
   "id": "f0522c56",
   "metadata": {},
   "outputs": [
    {
     "data": {
      "text/plain": [
       "matrix([[5, 6],\n",
       "        [7, 8]])"
      ]
     },
     "execution_count": 6,
     "metadata": {},
     "output_type": "execute_result"
    }
   ],
   "source": [
    "mat2 = np.matrix([[5,6],[7,8]])\n",
    "mat2"
   ]
  },
  {
   "cell_type": "markdown",
   "id": "c18a7e7b",
   "metadata": {},
   "source": [
    "### Matrix multiplication"
   ]
  },
  {
   "cell_type": "code",
   "execution_count": 7,
   "id": "cf80c88a",
   "metadata": {},
   "outputs": [
    {
     "data": {
      "text/plain": [
       "matrix([[19, 22],\n",
       "        [43, 50]])"
      ]
     },
     "execution_count": 7,
     "metadata": {},
     "output_type": "execute_result"
    }
   ],
   "source": [
    "np.dot(mat1,mat2)"
   ]
  },
  {
   "cell_type": "code",
   "execution_count": 8,
   "id": "ded7a7ec",
   "metadata": {},
   "outputs": [
    {
     "data": {
      "text/plain": [
       "matrix([[19, 22],\n",
       "        [43, 50]])"
      ]
     },
     "execution_count": 8,
     "metadata": {},
     "output_type": "execute_result"
    }
   ],
   "source": [
    "mat1@mat2"
   ]
  },
  {
   "cell_type": "code",
   "execution_count": 9,
   "id": "79d864d1",
   "metadata": {},
   "outputs": [
    {
     "data": {
      "text/plain": [
       "matrix([[ 5, 12],\n",
       "        [21, 32]])"
      ]
     },
     "execution_count": 9,
     "metadata": {},
     "output_type": "execute_result"
    }
   ],
   "source": [
    "# element by element \n",
    "np.multiply(mat1,mat2)"
   ]
  },
  {
   "cell_type": "code",
   "execution_count": 10,
   "id": "e6adc553",
   "metadata": {},
   "outputs": [
    {
     "data": {
      "text/plain": [
       "matrix([[19, 22],\n",
       "        [43, 50]])"
      ]
     },
     "execution_count": 10,
     "metadata": {},
     "output_type": "execute_result"
    }
   ],
   "source": [
    "mat1 * mat2 "
   ]
  },
  {
   "cell_type": "code",
   "execution_count": 13,
   "id": "2a0603e5",
   "metadata": {},
   "outputs": [
    {
     "data": {
      "text/plain": [
       "24"
      ]
     },
     "execution_count": 13,
     "metadata": {},
     "output_type": "execute_result"
    }
   ],
   "source": [
    "# to multiply all elements in an array\n",
    "np.prod(mat1)"
   ]
  },
  {
   "cell_type": "markdown",
   "id": "fe9134dc",
   "metadata": {},
   "source": [
    "### sumation of elements "
   ]
  },
  {
   "cell_type": "code",
   "execution_count": 14,
   "id": "61924124",
   "metadata": {},
   "outputs": [
    {
     "data": {
      "text/plain": [
       "10"
      ]
     },
     "execution_count": 14,
     "metadata": {},
     "output_type": "execute_result"
    }
   ],
   "source": [
    "# to multiply all elements in an array\n",
    "np.sum(mat1)"
   ]
  },
  {
   "cell_type": "code",
   "execution_count": 17,
   "id": "26cbc858",
   "metadata": {},
   "outputs": [
    {
     "data": {
      "text/plain": [
       "matrix([[1, 2],\n",
       "        [3, 4]])"
      ]
     },
     "execution_count": 17,
     "metadata": {},
     "output_type": "execute_result"
    }
   ],
   "source": [
    "mat1 "
   ]
  },
  {
   "cell_type": "code",
   "execution_count": 15,
   "id": "45a77c29",
   "metadata": {},
   "outputs": [
    {
     "data": {
      "text/plain": [
       "matrix([[1, 2],\n",
       "        [4, 6]])"
      ]
     },
     "execution_count": 15,
     "metadata": {},
     "output_type": "execute_result"
    }
   ],
   "source": [
    "np.cumsum(mat1, axis=0)"
   ]
  },
  {
   "cell_type": "code",
   "execution_count": 16,
   "id": "a862c9b7",
   "metadata": {},
   "outputs": [
    {
     "data": {
      "text/plain": [
       "matrix([[1, 3],\n",
       "        [3, 7]])"
      ]
     },
     "execution_count": 16,
     "metadata": {},
     "output_type": "execute_result"
    }
   ],
   "source": [
    "np.cumsum(mat1, axis=1)"
   ]
  },
  {
   "cell_type": "markdown",
   "id": "5c8a63f9",
   "metadata": {},
   "source": [
    "### subtraction of elements "
   ]
  },
  {
   "cell_type": "code",
   "execution_count": 18,
   "id": "7f24a469",
   "metadata": {},
   "outputs": [
    {
     "data": {
      "text/plain": [
       "matrix([[-4, -4],\n",
       "        [-4, -4]])"
      ]
     },
     "execution_count": 18,
     "metadata": {},
     "output_type": "execute_result"
    }
   ],
   "source": [
    "np.subtract(mat1,mat2)"
   ]
  },
  {
   "cell_type": "markdown",
   "id": "f0986bed",
   "metadata": {},
   "source": [
    "### division "
   ]
  },
  {
   "cell_type": "code",
   "execution_count": 19,
   "id": "f89ef6b8",
   "metadata": {},
   "outputs": [
    {
     "data": {
      "text/plain": [
       "matrix([[0.2       , 0.33333333],\n",
       "        [0.42857143, 0.5       ]])"
      ]
     },
     "execution_count": 19,
     "metadata": {},
     "output_type": "execute_result"
    }
   ],
   "source": [
    "np.divide(mat1,mat2)"
   ]
  },
  {
   "cell_type": "code",
   "execution_count": 20,
   "id": "464460f5",
   "metadata": {},
   "outputs": [
    {
     "data": {
      "text/plain": [
       "matrix([[0, 0],\n",
       "        [0, 0]])"
      ]
     },
     "execution_count": 20,
     "metadata": {},
     "output_type": "execute_result"
    }
   ],
   "source": [
    "np.floor_divide(mat1,mat2)"
   ]
  },
  {
   "cell_type": "code",
   "execution_count": 21,
   "id": "ea784ef1",
   "metadata": {},
   "outputs": [
    {
     "data": {
      "text/plain": [
       "matrix([[5, 3],\n",
       "        [2, 2]])"
      ]
     },
     "execution_count": 21,
     "metadata": {},
     "output_type": "execute_result"
    }
   ],
   "source": [
    "np.floor_divide(mat2,mat1)"
   ]
  },
  {
   "cell_type": "markdown",
   "id": "ca80db36",
   "metadata": {},
   "source": [
    "### np.math"
   ]
  },
  {
   "cell_type": "code",
   "execution_count": 25,
   "id": "48017824",
   "metadata": {},
   "outputs": [
    {
     "data": {
      "text/plain": [
       "2.23606797749979"
      ]
     },
     "execution_count": 25,
     "metadata": {},
     "output_type": "execute_result"
    }
   ],
   "source": [
    "np.math.sqrt(5)"
   ]
  },
  {
   "cell_type": "code",
   "execution_count": 26,
   "id": "de000478",
   "metadata": {},
   "outputs": [
    {
     "data": {
      "text/plain": [
       "inf"
      ]
     },
     "execution_count": 26,
     "metadata": {},
     "output_type": "execute_result"
    }
   ],
   "source": [
    "np.math.inf"
   ]
  },
  {
   "cell_type": "code",
   "execution_count": 27,
   "id": "1ee357ca",
   "metadata": {},
   "outputs": [
    {
     "data": {
      "text/plain": [
       "nan"
      ]
     },
     "execution_count": 27,
     "metadata": {},
     "output_type": "execute_result"
    }
   ],
   "source": [
    "np.math.nan "
   ]
  },
  {
   "cell_type": "markdown",
   "id": "0614bd97",
   "metadata": {},
   "source": [
    "### generate random numbers "
   ]
  },
  {
   "cell_type": "code",
   "execution_count": 28,
   "id": "ea56af1f",
   "metadata": {},
   "outputs": [
    {
     "data": {
      "text/plain": [
       "array([[4.44535792, 4.19507794, 2.51846639],\n",
       "       [1.4556692 , 1.47919492, 2.65763505],\n",
       "       [4.08755007, 2.84490479, 4.35344646]])"
      ]
     },
     "execution_count": 28,
     "metadata": {},
     "output_type": "execute_result"
    }
   ],
   "source": [
    "# uniform distribution \n",
    "np.random.uniform(1,5,(3,3))"
   ]
  },
  {
   "cell_type": "code",
   "execution_count": 30,
   "id": "ce93baed",
   "metadata": {},
   "outputs": [
    {
     "data": {
      "text/plain": [
       "array([[ 0.51675549, -0.91038457],\n",
       "       [ 1.12968961,  0.0935133 ]])"
      ]
     },
     "execution_count": 30,
     "metadata": {},
     "output_type": "execute_result"
    }
   ],
   "source": [
    "np.random.standard_normal((2,2))"
   ]
  },
  {
   "cell_type": "markdown",
   "id": "7678b557",
   "metadata": {},
   "source": [
    "### sequence "
   ]
  },
  {
   "cell_type": "code",
   "execution_count": 31,
   "id": "73cacfe8",
   "metadata": {},
   "outputs": [
    {
     "data": {
      "text/plain": [
       "array([0. , 0.1, 0.2, 0.3, 0.4, 0.5, 0.6, 0.7, 0.8, 0.9])"
      ]
     },
     "execution_count": 31,
     "metadata": {},
     "output_type": "execute_result"
    }
   ],
   "source": [
    "np.arange(0,1,0.1)"
   ]
  },
  {
   "cell_type": "code",
   "execution_count": 32,
   "id": "4448ffb4",
   "metadata": {},
   "outputs": [
    {
     "data": {
      "text/plain": [
       "array([0.        , 0.11111111, 0.22222222, 0.33333333, 0.44444444,\n",
       "       0.55555556, 0.66666667, 0.77777778, 0.88888889, 1.        ])"
      ]
     },
     "execution_count": 32,
     "metadata": {},
     "output_type": "execute_result"
    }
   ],
   "source": [
    "np.linspace(0,1,10)"
   ]
  },
  {
   "cell_type": "markdown",
   "id": "7d8ef5dd",
   "metadata": {},
   "source": [
    "### Mask"
   ]
  },
  {
   "cell_type": "code",
   "execution_count": 33,
   "id": "85fbc7bd",
   "metadata": {},
   "outputs": [
    {
     "data": {
      "text/plain": [
       "matrix([[1, 2],\n",
       "        [3, 4]])"
      ]
     },
     "execution_count": 33,
     "metadata": {},
     "output_type": "execute_result"
    }
   ],
   "source": [
    "mat1"
   ]
  },
  {
   "cell_type": "code",
   "execution_count": 34,
   "id": "aff0c69c",
   "metadata": {},
   "outputs": [
    {
     "data": {
      "text/plain": [
       "matrix([[False, False],\n",
       "        [ True,  True]])"
      ]
     },
     "execution_count": 34,
     "metadata": {},
     "output_type": "execute_result"
    }
   ],
   "source": [
    "mask1 = mat1> 2 \n",
    "mask1"
   ]
  },
  {
   "cell_type": "code",
   "execution_count": 35,
   "id": "9330a97d",
   "metadata": {},
   "outputs": [
    {
     "data": {
      "text/plain": [
       "matrix([[2, 3]])"
      ]
     },
     "execution_count": 35,
     "metadata": {},
     "output_type": "execute_result"
    }
   ],
   "source": [
    "mask2 = np.logical_and(mat1 > 1, mat1<4)\n",
    "mat1[mask2]"
   ]
  },
  {
   "cell_type": "markdown",
   "id": "d41a21cf",
   "metadata": {},
   "source": [
    "### Array creation "
   ]
  },
  {
   "cell_type": "code",
   "execution_count": 37,
   "id": "1e8b8b05",
   "metadata": {},
   "outputs": [
    {
     "data": {
      "text/plain": [
       "array([[1., 1., 1.],\n",
       "       [1., 1., 1.],\n",
       "       [1., 1., 1.]])"
      ]
     },
     "execution_count": 37,
     "metadata": {},
     "output_type": "execute_result"
    }
   ],
   "source": [
    "np.ones((3,3))"
   ]
  },
  {
   "cell_type": "code",
   "execution_count": 38,
   "id": "eadee6bf",
   "metadata": {},
   "outputs": [
    {
     "data": {
      "text/plain": [
       "array([[0., 0., 0.],\n",
       "       [0., 0., 0.],\n",
       "       [0., 0., 0.]])"
      ]
     },
     "execution_count": 38,
     "metadata": {},
     "output_type": "execute_result"
    }
   ],
   "source": [
    "np.zeros((3,3))"
   ]
  },
  {
   "cell_type": "code",
   "execution_count": 39,
   "id": "710f0577",
   "metadata": {},
   "outputs": [
    {
     "data": {
      "text/plain": [
       "(2, 2)"
      ]
     },
     "execution_count": 39,
     "metadata": {},
     "output_type": "execute_result"
    }
   ],
   "source": [
    "np.shape(mat1)"
   ]
  },
  {
   "cell_type": "code",
   "execution_count": 40,
   "id": "17e1d73d",
   "metadata": {},
   "outputs": [
    {
     "data": {
      "text/plain": [
       "4"
      ]
     },
     "execution_count": 40,
     "metadata": {},
     "output_type": "execute_result"
    }
   ],
   "source": [
    "np.size(mat1)"
   ]
  },
  {
   "cell_type": "markdown",
   "id": "5a50cab5",
   "metadata": {},
   "source": [
    "### unique"
   ]
  },
  {
   "cell_type": "code",
   "execution_count": 42,
   "id": "045342ae",
   "metadata": {},
   "outputs": [
    {
     "data": {
      "text/plain": [
       "array([1, 2, 3, 4])"
      ]
     },
     "execution_count": 42,
     "metadata": {},
     "output_type": "execute_result"
    }
   ],
   "source": [
    "u1 = np.array([1,2,3,4,1,3])\n",
    "u2 = np.array([5,9,7,2,1])\n",
    "np.unique(u1)\n",
    "         "
   ]
  },
  {
   "cell_type": "markdown",
   "id": "78928e29",
   "metadata": {},
   "source": [
    "### union"
   ]
  },
  {
   "cell_type": "code",
   "execution_count": 44,
   "id": "8a89b05e",
   "metadata": {},
   "outputs": [
    {
     "data": {
      "text/plain": [
       "array([1, 2, 3, 4, 5, 7, 9])"
      ]
     },
     "execution_count": 44,
     "metadata": {},
     "output_type": "execute_result"
    }
   ],
   "source": [
    "# اجتماع دو آرایه ی یک بعدی\n",
    "np.union1d(u1,u2)"
   ]
  },
  {
   "cell_type": "markdown",
   "id": "1228651e",
   "metadata": {},
   "source": [
    "### intersect "
   ]
  },
  {
   "cell_type": "code",
   "execution_count": 45,
   "id": "6d24e1c4",
   "metadata": {},
   "outputs": [
    {
     "data": {
      "text/plain": [
       "array([1, 2])"
      ]
     },
     "execution_count": 45,
     "metadata": {},
     "output_type": "execute_result"
    }
   ],
   "source": [
    "# اشتراک دو آرایه ی یک بعدی\n",
    "np.intersect1d(u1,u2)"
   ]
  },
  {
   "cell_type": "markdown",
   "id": "56b43cbb",
   "metadata": {},
   "source": [
    "## statistics "
   ]
  },
  {
   "cell_type": "code",
   "execution_count": 46,
   "id": "02b402b8",
   "metadata": {},
   "outputs": [
    {
     "data": {
      "text/plain": [
       "2.3333333333333335"
      ]
     },
     "execution_count": 46,
     "metadata": {},
     "output_type": "execute_result"
    }
   ],
   "source": [
    "np.mean(u1)"
   ]
  },
  {
   "cell_type": "code",
   "execution_count": 47,
   "id": "1c8be346",
   "metadata": {},
   "outputs": [
    {
     "data": {
      "text/plain": [
       "1.1055415967851334"
      ]
     },
     "execution_count": 47,
     "metadata": {},
     "output_type": "execute_result"
    }
   ],
   "source": [
    "np.std(u1)"
   ]
  },
  {
   "cell_type": "code",
   "execution_count": 48,
   "id": "4c34d82d",
   "metadata": {},
   "outputs": [
    {
     "data": {
      "text/plain": [
       "1.2222222222222223"
      ]
     },
     "execution_count": 48,
     "metadata": {},
     "output_type": "execute_result"
    }
   ],
   "source": [
    "np.var(u1)"
   ]
  },
  {
   "cell_type": "markdown",
   "id": "9299393b",
   "metadata": {},
   "source": [
    "### function "
   ]
  },
  {
   "cell_type": "markdown",
   "id": "be888d66",
   "metadata": {},
   "source": [
    "We want to sole the equation below : \n",
    "$$\n",
    "x^2 + x + 2\n",
    "$$"
   ]
  },
  {
   "cell_type": "code",
   "execution_count": 54,
   "id": "3225cb40",
   "metadata": {},
   "outputs": [
    {
     "data": {
      "text/plain": [
       "4"
      ]
     },
     "execution_count": 54,
     "metadata": {},
     "output_type": "execute_result"
    }
   ],
   "source": [
    "# تعریف ضرایب و پس از آن حل معادله ی بالا\n",
    "coef = np.array([1,1,2])\n",
    "np.polyval(coef,1)"
   ]
  },
  {
   "cell_type": "code",
   "execution_count": 55,
   "id": "445c570d",
   "metadata": {},
   "outputs": [
    {
     "data": {
      "text/plain": [
       "array([2, 1])"
      ]
     },
     "execution_count": 55,
     "metadata": {},
     "output_type": "execute_result"
    }
   ],
   "source": [
    "# حاصل مشتق عبارت بالا\n",
    "np.polyder(coef)"
   ]
  },
  {
   "cell_type": "code",
   "execution_count": 56,
   "id": "a1a303a2",
   "metadata": {},
   "outputs": [
    {
     "data": {
      "text/plain": [
       "array([0.33333333, 0.5       , 2.        , 0.        ])"
      ]
     },
     "execution_count": 56,
     "metadata": {},
     "output_type": "execute_result"
    }
   ],
   "source": [
    "# حاصل انتگرال عبارت بالا\n",
    "np.polyint(coef)"
   ]
  },
  {
   "cell_type": "code",
   "execution_count": null,
   "id": "ee347ab4",
   "metadata": {},
   "outputs": [],
   "source": []
  }
 ],
 "metadata": {
  "kernelspec": {
   "display_name": "Python 3 (ipykernel)",
   "language": "python",
   "name": "python3"
  },
  "language_info": {
   "codemirror_mode": {
    "name": "ipython",
    "version": 3
   },
   "file_extension": ".py",
   "mimetype": "text/x-python",
   "name": "python",
   "nbconvert_exporter": "python",
   "pygments_lexer": "ipython3",
   "version": "3.9.13"
  }
 },
 "nbformat": 4,
 "nbformat_minor": 5
}
