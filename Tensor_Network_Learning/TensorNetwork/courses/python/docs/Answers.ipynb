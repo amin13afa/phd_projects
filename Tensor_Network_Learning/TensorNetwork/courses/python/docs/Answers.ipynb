{
 "cells": [
  {
   "cell_type": "markdown",
   "id": "40db8f17",
   "metadata": {},
   "source": [
    "1.\n",
    "لیست زیر داده شده است. این لیست را به صورت معکوس در یک لیست دیگر ذخیره کنید و نتیجه را در صفحه نمایش چاپ کنید.\n",
    "```\n",
    "list1 = [100, 200, 300, 400, 500]\n",
    "```\n",
    "\n",
    "2.\n",
    "برنامه‌ای بنویسید تا با دریافت دو لیست از کاربر، اعضای آنها را به صورت اندیس به اندیس با یکدیگر جمع کند.\n",
    "\n",
    "مثال\n",
    "\n",
    "```\n",
    "list1 = [\"M\", \"na\", \"i\", \"Am\"]\n",
    "list2 = [\"y\", \"me\", \"s\", \"in\"]\n",
    "\n",
    "result = [\"My\", \"name\", \"is\", \"Amin\"]\n",
    "```\n",
    "\n",
    "3.\n",
    "برنامه‌ای بنویسید تا با دریافت یک لیست از اعداد، اعضای آن لیست را به توان دو برساند و نتیجه را در صفحه نمایش چاپ کند.\n",
    "\n",
    "مثال\n",
    "\n",
    "```\n",
    "nums = [1,2,3,4,5]\n",
    "result = [1,4,9,16,25]\n",
    "```\n",
    "\n",
    "4.\n",
    "دو لیست از کاربر دریافت کنید و آنها را به طور همزمان پیمایش کرده و در صفحه نمایش چاپ کنید.\n",
    "\n",
    "مثال\n",
    "\n",
    "```\n",
    "list1 = [10,30,50,70]\n",
    "list2 = [20,40,60,80]\n",
    "\n",
    "output:\n",
    "10 20\n",
    "30 40\n",
    "50 60\n",
    "70 80\n",
    "```\n",
    "\n",
    "5.\n",
    "در لیست زیر یک عضو خالی وجود دارد، این عضو را از لیست حذف کنید.\n",
    "\n",
    "```\n",
    "students = [\"Ali\", \"Amir Hossein\", \"Neda\", \"\", \"Yasaman\", \"Mahdi\"]\n",
    "```\n",
    "\n",
    "6.\n",
    "لیست زیر به شما داده شده است. عدد ۷۰۰۰  را بعد از عدد ۶۰۰۰ وارد کنید.\n",
    "\n",
    "```\n",
    "list1 = [10,20, [300, 400, [5000, 6000],500], 30,40]\n",
    "```\n",
    "\n",
    "7.\n",
    "لیست زیر به شما داده شده است. در لیست پیمایش کنید و چنانچه عددی هم بر۳ و هم بر ۵ بخش‌پذیر بود آن را حذف کرده و بجای آن کلمه‌ی `Hoop` را قرار دهید.\n",
    "\n",
    "```\n",
    "list1 = [5,10,12,15,20,24,25,30]\n",
    "```\n",
    "8.\n",
    "\n",
    "لیست زیر مربوط به نمرات یکی از دانشجویان کلاس است. او در نمرات مربوط به تحویل پروژه و تمرین‌های کلاسی چندین ۲۰ دارد!!! اما به دلیل تقلب در امتحان پایان ترم، استاد درس تصمیم گرفتند تا برای تنبیه ایشان تمام ۲۰ های او را از لیست حذف کند.\n",
    "\n",
    "برنامه‌ای بنویسید تا به استاد کمک کند تا تمام ۲۰ های این دانشجوی متقلب را حذف کند.\n",
    "‍‍\n",
    "\n",
    "```\n",
    "points = [5,20,11,15,20,15,10,20,19]\n",
    "```\n",
    "\n",
    "\n",
    "‍‍‍"
   ]
  },
  {
   "cell_type": "markdown",
   "id": "097d0f36",
   "metadata": {},
   "source": [
    "```\n",
    "این فایل برای پاسخ به سوالات مربوط به مبحث لیست‍‍‍ \n",
    "\n",
    "برای درس کاربرد کامپیوتر در اپتیک آماده شده است.\n",
    "```"
   ]
  },
  {
   "cell_type": "markdown",
   "id": "bf5fa39c",
   "metadata": {},
   "source": [
    "# Q1"
   ]
  },
  {
   "cell_type": "code",
   "execution_count": null,
   "id": "eaab9543",
   "metadata": {},
   "outputs": [],
   "source": [
    "list1_1 = [100,200,300,400,500]\n",
    "list2_1 = list1_1[::-1]\n",
    "print(list2_1)"
   ]
  },
  {
   "cell_type": "markdown",
   "id": "f1e8a8de",
   "metadata": {},
   "source": [
    "# Q2"
   ]
  },
  {
   "cell_type": "code",
   "execution_count": null,
   "id": "7e0a16b7",
   "metadata": {},
   "outputs": [],
   "source": [
    "list1_2 = [\"M\",\"na\", \"i\",\"Am\"]\n",
    "list2_2 = [\"y\", \"me\", \"s\",\"in\"]\n",
    "result_2 = []\n",
    "for j,k in zip(list1_2, list2_2):\n",
    "    result_2.append(j+k)\n",
    "print(result)"
   ]
  },
  {
   "cell_type": "markdown",
   "id": "81804f24",
   "metadata": {},
   "source": [
    "# Q3"
   ]
  },
  {
   "cell_type": "code",
   "execution_count": null,
   "id": "041ef021",
   "metadata": {},
   "outputs": [],
   "source": [
    "list1_3 = [1,2,3,4,5]\n",
    "result_3 = []\n",
    "for j in list1_3:\n",
    "    result_3.append(j**2)\n",
    "print(result_3)"
   ]
  },
  {
   "cell_type": "markdown",
   "id": "6cef3bf3",
   "metadata": {},
   "source": [
    "# Q4"
   ]
  },
  {
   "cell_type": "code",
   "execution_count": null,
   "id": "9dbf8b47",
   "metadata": {},
   "outputs": [],
   "source": [
    "list1_4 = [10,30,50,70]\n",
    "list2_4 = [20,40,60,80]\n",
    "for j,k in zip(list1_4, list2_4):\n",
    "    print(j,k)"
   ]
  },
  {
   "cell_type": "markdown",
   "id": "9e0d781e",
   "metadata": {},
   "source": [
    "# Q5"
   ]
  },
  {
   "cell_type": "code",
   "execution_count": null,
   "id": "e756e195",
   "metadata": {},
   "outputs": [],
   "source": [
    "list1_5 = [\"Ali\",\"Amir Hossein\", \"Neda\", \"\",\"Yasaman\",\"Mahdi\"]\n",
    "list1_5.remove(\"\")\n",
    "list1_5"
   ]
  },
  {
   "cell_type": "markdown",
   "id": "e5f45aa0",
   "metadata": {},
   "source": [
    "# Q6"
   ]
  },
  {
   "cell_type": "code",
   "execution_count": null,
   "id": "9838a833",
   "metadata": {},
   "outputs": [],
   "source": [
    "list1_6 = [10,20,[300,400,[5000,6000],500],30,40]\n",
    "list1_6[2][2].append(7000)\n",
    "list1_6"
   ]
  },
  {
   "cell_type": "markdown",
   "id": "b8f123fb",
   "metadata": {},
   "source": [
    "# Q7"
   ]
  },
  {
   "cell_type": "code",
   "execution_count": null,
   "id": "ce070509",
   "metadata": {},
   "outputs": [],
   "source": [
    "list1_7 = [5,10,12,15,20,24,25,30]\n",
    "for j in range(len(list1_7)):\n",
    "    if list1_7[j] % 3 == 0 and list1_7[j] % 5 == 0:\n",
    "        list1_7[j] = \"Hoop\"\n",
    "print(list1_7)"
   ]
  },
  {
   "cell_type": "markdown",
   "id": "fabd7199",
   "metadata": {},
   "source": [
    "# Q8"
   ]
  },
  {
   "cell_type": "code",
   "execution_count": null,
   "id": "8eb59616",
   "metadata": {},
   "outputs": [],
   "source": [
    "list1_8 = [5,20,11,15,20,15,10,20,19]\n",
    "for j in range(list1_8.count(20)):\n",
    "    list1_8.remove(20)\n",
    "print(list1_8)"
   ]
  }
 ],
 "metadata": {
  "kernelspec": {
   "display_name": "Python 3 (ipykernel)",
   "language": "python",
   "name": "python3"
  },
  "language_info": {
   "codemirror_mode": {
    "name": "ipython",
    "version": 3
   },
   "file_extension": ".py",
   "mimetype": "text/x-python",
   "name": "python",
   "nbconvert_exporter": "python",
   "pygments_lexer": "ipython3",
   "version": "3.9.13"
  }
 },
 "nbformat": 4,
 "nbformat_minor": 5
}
