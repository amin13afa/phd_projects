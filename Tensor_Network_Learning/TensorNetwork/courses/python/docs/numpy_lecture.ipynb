{
 "cells": [
  {
   "cell_type": "markdown",
   "id": "6ba91f18",
   "metadata": {},
   "source": [
    "## Import libraries "
   ]
  },
  {
   "cell_type": "code",
   "execution_count": 1,
   "id": "414727e8",
   "metadata": {},
   "outputs": [],
   "source": [
    "# if it's not is installed it can be installed as follows \n",
    "# ! pip install numpy "
   ]
  },
  {
   "cell_type": "code",
   "execution_count": 5,
   "id": "53ec268a",
   "metadata": {},
   "outputs": [],
   "source": [
    "# import numpy in working file \n",
    "import numpy as np "
   ]
  },
  {
   "cell_type": "markdown",
   "id": "a2820d34",
   "metadata": {},
   "source": [
    "My plan is as follows :\n",
    "- [x] Array creation \n",
    "- [x] Arrange method \n",
    "- [x] Ones and zeros\n",
    "- [x] One-dimensional array \n",
    "- [x] Split an array\n",
    "- [x] Two-dimensional array\n",
    "- [x] Random array \n",
    "- [x] Create a vector \n",
    "- [x] Create a matrix \n",
    "- [x] Vector-Vector multiplication\n",
    "- [x] Matrix-Vector multiplication\n",
    "- [x] Matrix-Matrix multiplication\n"
   ]
  },
  {
   "cell_type": "markdown",
   "id": "e8122900",
   "metadata": {},
   "source": [
    "## Arrary Creation "
   ]
  },
  {
   "cell_type": "code",
   "execution_count": 6,
   "id": "85da21e7",
   "metadata": {},
   "outputs": [
    {
     "name": "stdout",
     "output_type": "stream",
     "text": [
      "[1 2 3 4]\n"
     ]
    }
   ],
   "source": [
    "arr1 = np.array([1,2,3,4])\n",
    "print(arr1)"
   ]
  },
  {
   "cell_type": "markdown",
   "id": "2f429805",
   "metadata": {},
   "source": [
    "## Arange Methods "
   ]
  },
  {
   "cell_type": "code",
   "execution_count": 7,
   "id": "898e6d44",
   "metadata": {},
   "outputs": [
    {
     "name": "stdout",
     "output_type": "stream",
     "text": [
      "[0.  0.1 0.2 0.3 0.4 0.5 0.6 0.7 0.8 0.9]\n"
     ]
    }
   ],
   "source": [
    "arr2 = np.arange(0,1,0.1)\n",
    "print(arr2)"
   ]
  },
  {
   "cell_type": "markdown",
   "id": "a1f23e3d",
   "metadata": {},
   "source": [
    "## Ones and Zeros Array"
   ]
  },
  {
   "cell_type": "code",
   "execution_count": 11,
   "id": "8ce52876",
   "metadata": {},
   "outputs": [
    {
     "name": "stdout",
     "output_type": "stream",
     "text": [
      "[1. 1. 1. 1. 1.]\n"
     ]
    }
   ],
   "source": [
    "arr3 = np.ones(5)\n",
    "print(arr3)"
   ]
  },
  {
   "cell_type": "code",
   "execution_count": 12,
   "id": "9e58ced8",
   "metadata": {},
   "outputs": [
    {
     "name": "stdout",
     "output_type": "stream",
     "text": [
      "[0. 0. 0. 0. 0.]\n"
     ]
    }
   ],
   "source": [
    "arr4 = np.zeros(5)\n",
    "print(arr4)"
   ]
  },
  {
   "cell_type": "markdown",
   "id": "f8529b71",
   "metadata": {},
   "source": [
    "## One dimensional array "
   ]
  },
  {
   "cell_type": "code",
   "execution_count": 13,
   "id": "9b8defdb",
   "metadata": {},
   "outputs": [
    {
     "name": "stdout",
     "output_type": "stream",
     "text": [
      "[ 0  1  2  3  4  5  6  7  8  9 10 11 12 13 14 15]\n"
     ]
    }
   ],
   "source": [
    "arr5 = np.arange(16)\n",
    "print(arr5)"
   ]
  },
  {
   "cell_type": "markdown",
   "id": "10c38ff6",
   "metadata": {},
   "source": [
    "## Split an array "
   ]
  },
  {
   "cell_type": "code",
   "execution_count": 15,
   "id": "31edf623",
   "metadata": {},
   "outputs": [
    {
     "name": "stdout",
     "output_type": "stream",
     "text": [
      "16\n"
     ]
    }
   ],
   "source": [
    "print(len(arr5))"
   ]
  },
  {
   "cell_type": "code",
   "execution_count": 18,
   "id": "a90c5887",
   "metadata": {},
   "outputs": [
    {
     "name": "stdout",
     "output_type": "stream",
     "text": [
      "1\n"
     ]
    }
   ],
   "source": [
    "print(np.ndim(arr5))"
   ]
  },
  {
   "cell_type": "code",
   "execution_count": 16,
   "id": "6392e1ca",
   "metadata": {},
   "outputs": [
    {
     "name": "stdout",
     "output_type": "stream",
     "text": [
      "(16,)\n"
     ]
    }
   ],
   "source": [
    "print(np.shape(arr5))"
   ]
  },
  {
   "cell_type": "code",
   "execution_count": 19,
   "id": "04bede94",
   "metadata": {},
   "outputs": [
    {
     "name": "stdout",
     "output_type": "stream",
     "text": [
      "[0 1 2 3 4]\n"
     ]
    }
   ],
   "source": [
    "arr5_1 = arr5[0:5]\n",
    "print(arr5_1)"
   ]
  },
  {
   "cell_type": "code",
   "execution_count": 21,
   "id": "271832b7",
   "metadata": {},
   "outputs": [
    {
     "name": "stdout",
     "output_type": "stream",
     "text": [
      "[10 11 12 13 14 15]\n"
     ]
    }
   ],
   "source": [
    "arr5_2 = arr5[10:]\n",
    "print(arr5_2)"
   ]
  },
  {
   "cell_type": "markdown",
   "id": "627aca01",
   "metadata": {},
   "source": [
    "## Two Dimensional Array"
   ]
  },
  {
   "cell_type": "code",
   "execution_count": 59,
   "id": "d515c8d6",
   "metadata": {},
   "outputs": [
    {
     "name": "stdout",
     "output_type": "stream",
     "text": [
      "[[1 2 3]\n",
      " [4 5 6]\n",
      " [7 8 9]]\n"
     ]
    }
   ],
   "source": [
    "arr6 = np.array([[1,2,3],[4,5,6],[7,8,9]])\n",
    "print(arr6)"
   ]
  },
  {
   "cell_type": "code",
   "execution_count": 60,
   "id": "f63cb67d",
   "metadata": {},
   "outputs": [
    {
     "name": "stdout",
     "output_type": "stream",
     "text": [
      "[[ 0  1  2  3]\n",
      " [ 4  5  6  7]\n",
      " [ 8  9 10 11]\n",
      " [12 13 14 15]]\n"
     ]
    }
   ],
   "source": [
    "print(np.arange(16).reshape(4,4))"
   ]
  },
  {
   "cell_type": "markdown",
   "id": "aa79364c",
   "metadata": {},
   "source": [
    "## Random Array"
   ]
  },
  {
   "cell_type": "code",
   "execution_count": 61,
   "id": "2c042b68",
   "metadata": {},
   "outputs": [
    {
     "name": "stdout",
     "output_type": "stream",
     "text": [
      "[[0.80086378 0.68689534 0.19669016]\n",
      " [0.92629127 0.61584474 0.59107523]\n",
      " [0.23921117 0.83039132 0.94525639]]\n"
     ]
    }
   ],
   "source": [
    "arr7 = np.random.rand(3,3)\n",
    "print(arr7)"
   ]
  },
  {
   "cell_type": "markdown",
   "id": "4fab939b",
   "metadata": {},
   "source": [
    "## Creat a Vector "
   ]
  },
  {
   "cell_type": "code",
   "execution_count": 62,
   "id": "545fefc9",
   "metadata": {},
   "outputs": [
    {
     "name": "stdout",
     "output_type": "stream",
     "text": [
      "[1 2 3 4 5]\n"
     ]
    }
   ],
   "source": [
    "v1 = np.array([1,2,3,4,5])\n",
    "print(v1)"
   ]
  },
  {
   "cell_type": "code",
   "execution_count": 63,
   "id": "42ba500d",
   "metadata": {},
   "outputs": [
    {
     "name": "stdout",
     "output_type": "stream",
     "text": [
      "[ 6  7  8  9 10]\n"
     ]
    }
   ],
   "source": [
    "v2 = np.array([6,7,8,9,10])\n",
    "print(v2)"
   ]
  },
  {
   "cell_type": "markdown",
   "id": "a065ef12",
   "metadata": {},
   "source": [
    "## Vector Multiplication"
   ]
  },
  {
   "cell_type": "code",
   "execution_count": 66,
   "id": "a7845ce1",
   "metadata": {},
   "outputs": [
    {
     "name": "stdout",
     "output_type": "stream",
     "text": [
      "130\n"
     ]
    }
   ],
   "source": [
    "vm1 = np.dot(v1,v2)\n",
    "print(vm1)"
   ]
  },
  {
   "cell_type": "markdown",
   "id": "c5a92378",
   "metadata": {},
   "source": [
    "## Matrix Creation "
   ]
  },
  {
   "cell_type": "code",
   "execution_count": 67,
   "id": "9bc6a4e5",
   "metadata": {},
   "outputs": [
    {
     "name": "stdout",
     "output_type": "stream",
     "text": [
      "[[1 2 3]\n",
      " [4 5 6]\n",
      " [7 8 9]]\n"
     ]
    }
   ],
   "source": [
    "m1 = np.array([[1,2,3],[4,5,6],[7,8,9]])\n",
    "print(m1)"
   ]
  },
  {
   "cell_type": "code",
   "execution_count": 68,
   "id": "15b6a64a",
   "metadata": {
    "scrolled": true
   },
   "outputs": [
    {
     "name": "stdout",
     "output_type": "stream",
     "text": [
      "[[9 8 7]\n",
      " [6 5 4]\n",
      " [3 2 1]]\n"
     ]
    }
   ],
   "source": [
    "m2 = np.array([[9,8,7],[6,5,4],[3,2,1]])\n",
    "print(m2)"
   ]
  },
  {
   "cell_type": "markdown",
   "id": "8926950b",
   "metadata": {},
   "source": [
    "## Matrix Multiplication "
   ]
  },
  {
   "cell_type": "code",
   "execution_count": 69,
   "id": "79648ca5",
   "metadata": {},
   "outputs": [
    {
     "data": {
      "text/plain": [
       "array([[ 30,  24,  18],\n",
       "       [ 84,  69,  54],\n",
       "       [138, 114,  90]])"
      ]
     },
     "execution_count": 69,
     "metadata": {},
     "output_type": "execute_result"
    }
   ],
   "source": [
    "np.dot(m1,m2)"
   ]
  },
  {
   "cell_type": "markdown",
   "id": "9712173a",
   "metadata": {},
   "source": [
    "## Matrix-Vector Multiplication"
   ]
  },
  {
   "cell_type": "code",
   "execution_count": 73,
   "id": "d5ace208",
   "metadata": {},
   "outputs": [
    {
     "name": "stdout",
     "output_type": "stream",
     "text": [
      "[[ 0  1  2]\n",
      " [ 3  4  5]\n",
      " [ 6  7  8]\n",
      " [ 9 10 11]]\n"
     ]
    }
   ],
   "source": [
    "m3 = np.arange(12).reshape(4,3)\n",
    "print(m3)"
   ]
  },
  {
   "cell_type": "code",
   "execution_count": 74,
   "id": "87f3f22e",
   "metadata": {},
   "outputs": [
    {
     "name": "stdout",
     "output_type": "stream",
     "text": [
      "[1 2 3]\n"
     ]
    }
   ],
   "source": [
    "v3 = np.array([1,2,3])\n",
    "print(v3)"
   ]
  },
  {
   "cell_type": "code",
   "execution_count": 75,
   "id": "ec591673",
   "metadata": {},
   "outputs": [
    {
     "data": {
      "text/plain": [
       "array([ 8, 26, 44, 62])"
      ]
     },
     "execution_count": 75,
     "metadata": {},
     "output_type": "execute_result"
    }
   ],
   "source": [
    "np.dot(m3,v3)"
   ]
  },
  {
   "cell_type": "code",
   "execution_count": null,
   "id": "39d2d334",
   "metadata": {},
   "outputs": [],
   "source": []
  }
 ],
 "metadata": {
  "kernelspec": {
   "display_name": "Python 3 (ipykernel)",
   "language": "python",
   "name": "python3"
  },
  "language_info": {
   "codemirror_mode": {
    "name": "ipython",
    "version": 3
   },
   "file_extension": ".py",
   "mimetype": "text/x-python",
   "name": "python",
   "nbconvert_exporter": "python",
   "pygments_lexer": "ipython3",
   "version": "3.9.13"
  }
 },
 "nbformat": 4,
 "nbformat_minor": 5
}
