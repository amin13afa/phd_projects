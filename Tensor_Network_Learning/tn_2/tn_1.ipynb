{
 "cells": [
  {
   "cell_type": "code",
   "execution_count": 1,
   "id": "05ff313a",
   "metadata": {},
   "outputs": [],
   "source": [
    "import numpy as np \n",
    "from ncon import ncon \n",
    "from scipy.linalg import expm\n",
    "import matplotlib.pyplot as plt "
   ]
  },
  {
   "cell_type": "markdown",
   "id": "d8fdbd26",
   "metadata": {},
   "source": [
    "$$\n",
    "H = J\\sum_{<i,j>} \\sigma_i^z \\sigma_j^z - h \\sum_j \\sigma_j^x\n",
    "$$"
   ]
  },
  {
   "cell_type": "code",
   "execution_count": 8,
   "id": "077b187c",
   "metadata": {},
   "outputs": [],
   "source": [
    "def ITF(J,h):\n",
    "    D = 10;\n",
    "    d = 2;\n",
    "    δ = 0.1;\n",
    "    n_iter = 500;\n",
    "    tol = 1e-4\n",
    "    ΓA = np.random.rand(D,d,D);\n",
    "    ΓA = ΓA / np.linalg.norm(ΓA)\n",
    "    ΓB = np.random.rand(D,d,D);\n",
    "    ΓB = ΓB / np.linalg.norm(ΓB)\n",
    "    λA = np.ones(D) / np.sqrt(D);\n",
    "    λB = np.ones(D) / np.sqrt(D);\n",
    "    Γ = [ΓA, ΓB];\n",
    "    λ = [λA, λB];\n",
    "    X = np.array([[0,1],[1,0]])\n",
    "    Z = np.array([[1,0],[0,-1]])\n",
    "    Id = np.array([[1,0],[0,1]])\n",
    "    Hzz = ncon([Z,Z],[[-1,-3],[-2,-4]])\n",
    "    Hxx = 0.5*(ncon([X,Id],[[-1,-3],[-2,-4]]) + ncon([Id,X],[[-1,-3],[-2,-4]]))\n",
    "    Mag = ncon([Z,Z],[[-1,-3],[-2,-4]])\n",
    "    H = J*Hzz - h*Hxx\n",
    "    Hexp = np.reshape(H,[d*d,d*d])\n",
    "    Ug = expm(-δ*Hexp)\n",
    "    Ug = np.reshape(Ug,[d,d,d,d])\n",
    "    ##############\n",
    "    θ = ncon([np.diag(λ[1]), Γ[1], np.diag(λ[1]), Γ[1], np.diag(λ[1])],\n",
    "          [[-1,1],[1,-2,2],[2,3],[3,-4,4],[4,-3]])\n",
    "    nrm_θ = ncon([θ,θ.conj()],[[1,2,3,4],[1,2,3,4]])\n",
    "    e0 = ncon([θ,H,θ.conj()],[[1,2,3,4],[2,4,5,6],[1,5,3,6]])\n",
    "    ###############\n",
    "    for j in range(n_iter):\n",
    "        A = np.mod(j,2)\n",
    "        B = np.mod(j+1,2)\n",
    "        θ1 = ncon([np.diag(λ[B]), Γ[A], np.diag(λ[A]), Γ[B], np.diag(λ[B])],\n",
    "                  [[-1,1],[1,-2,2],[2,3],[3,-4,4],[4,-3]])\n",
    "        e_numerator = ncon([θ1,H,θ1.conj()],[[1,2,3,4],[2,4,5,6],[1,5,3,6]])\n",
    "        e_denomirator = ncon([θ1,θ1.conj()],[[1,2,3,4],[1,2,3,4]])\n",
    "        e = e_numerator / e_denomirator \n",
    "        # numerator / denominator\n",
    "        if np.abs(e-e0) < tol:\n",
    "#             print(\"j = {}, E-E0 = {}\".format(j,np.abs(E-E0)))\n",
    "#             print(\"Success!\")\n",
    "            break\n",
    "#         print(\"j = {}, Δ = {}\".format(j,np.abs(E-E0)))\n",
    "        e0 = e\n",
    "        θ1 = ncon([θ1,Ug],[[-1,1,-3,2],[1,2,-2,-4]])\n",
    "        θ1 = np.reshape(θ1,[D*d,D*d])\n",
    "        U,S,V = np.linalg.svd(θ1)\n",
    "        Γ[A] = U[:,0:D]\n",
    "        λ[A] = S[0:D]\n",
    "        Γ[B] = V[0:D,:]\n",
    "        Γ[A] = np.reshape(Γ[A],[D,d,D])\n",
    "        Γ[B] = np.reshape(Γ[B], [D,d,D])\n",
    "        λ[A] = λ[A] / np.linalg.norm(λ[A])\n",
    "        Γ[A] = ncon([np.diag(1./λ[B]), Γ[A]],[[-1,1],[1,-2,-3]])\n",
    "        Γ[B] = ncon([Γ[B], np.diag(1./λ[B])],[[-1,-2,1],[1,-3]])\n",
    "        Γ[A] = Γ[A] / np.linalg.norm(Γ[A])\n",
    "        Γ[B] = Γ[B] / np.linalg.norm(Γ[B])\n",
    "    E = []\n",
    "    M = []\n",
    "    for j in range(len(λ)):\n",
    "        A = np.mod(j,2)\n",
    "        B = np.mod(j+1,2)\n",
    "        θ = ncon([np.diag(λ[B]), Γ[A], np.diag(λ[A]), Γ[B], np.diag(λ[B])],\n",
    "                 [[-1,1],[1,-2,2],[2,3],[3,-4,4],[4,-3]])\n",
    "        E_num = ncon([θ,H,θ.conj()],[[1,2,3,4],[2,4,5,6],[1,5,3,6]])\n",
    "        m = ncon([θ,Mag,θ.conj()],[[1,2,3,4],[2,4,5,6],[1,5,3,6]])\n",
    "        norm_θ = ncon([θ,θ.conj()],[[1,2,3,4],[1,2,3,4]])\n",
    "        E_0 = E_num / norm_θ \n",
    "        m = m / norm_θ\n",
    "        E.append(E_0)\n",
    "        M.append(m)\n",
    "    E_total = np.sum(E)\n",
    "    M_total = np.sum(M)\n",
    "    E_zero = E_total/2\n",
    "    M_0 = M_total / 2\n",
    "    return E_zero, M_0\n",
    "\n"
   ]
  },
  {
   "cell_type": "code",
   "execution_count": 9,
   "id": "651e8329",
   "metadata": {},
   "outputs": [],
   "source": [
    "h = np.arange(0,3,0.1)\n",
    "E = []\n",
    "M = []\n",
    "for j in h:\n",
    "    e, m = ITF(1,j)\n",
    "    E.append(e)\n",
    "    M.append(m)"
   ]
  },
  {
   "cell_type": "code",
   "execution_count": 2,
   "id": "3a2bad90",
   "metadata": {},
   "outputs": [
    {
     "ename": "NameError",
     "evalue": "name 'h' is not defined",
     "output_type": "error",
     "traceback": [
      "\u001b[0;31m---------------------------------------------------------------------------\u001b[0m",
      "\u001b[0;31mNameError\u001b[0m                                 Traceback (most recent call last)",
      "\u001b[0;32m/tmp/ipykernel_15089/749895955.py\u001b[0m in \u001b[0;36m<module>\u001b[0;34m\u001b[0m\n\u001b[1;32m      1\u001b[0m \u001b[0mplt\u001b[0m\u001b[0;34m.\u001b[0m\u001b[0mfigure\u001b[0m\u001b[0;34m(\u001b[0m\u001b[0mfigsize\u001b[0m\u001b[0;34m=\u001b[0m\u001b[0;34m(\u001b[0m\u001b[0;36m6\u001b[0m\u001b[0;34m,\u001b[0m\u001b[0;36m6\u001b[0m\u001b[0;34m)\u001b[0m\u001b[0;34m)\u001b[0m\u001b[0;34m\u001b[0m\u001b[0;34m\u001b[0m\u001b[0m\n\u001b[1;32m      2\u001b[0m \u001b[0mplt\u001b[0m\u001b[0;34m.\u001b[0m\u001b[0msubplot\u001b[0m\u001b[0;34m(\u001b[0m\u001b[0;36m121\u001b[0m\u001b[0;34m)\u001b[0m\u001b[0;34m\u001b[0m\u001b[0;34m\u001b[0m\u001b[0m\n\u001b[0;32m----> 3\u001b[0;31m \u001b[0mplt\u001b[0m\u001b[0;34m.\u001b[0m\u001b[0mscatter\u001b[0m\u001b[0;34m(\u001b[0m\u001b[0mh\u001b[0m\u001b[0;34m,\u001b[0m\u001b[0mE\u001b[0m\u001b[0;34m)\u001b[0m\u001b[0;34m\u001b[0m\u001b[0;34m\u001b[0m\u001b[0m\n\u001b[0m\u001b[1;32m      4\u001b[0m \u001b[0mplt\u001b[0m\u001b[0;34m.\u001b[0m\u001b[0msubplot\u001b[0m\u001b[0;34m(\u001b[0m\u001b[0;36m122\u001b[0m\u001b[0;34m)\u001b[0m\u001b[0;34m\u001b[0m\u001b[0;34m\u001b[0m\u001b[0m\n\u001b[1;32m      5\u001b[0m \u001b[0mplt\u001b[0m\u001b[0;34m.\u001b[0m\u001b[0mscatter\u001b[0m\u001b[0;34m(\u001b[0m\u001b[0mh\u001b[0m\u001b[0;34m,\u001b[0m\u001b[0mM\u001b[0m\u001b[0;34m)\u001b[0m\u001b[0;34m\u001b[0m\u001b[0;34m\u001b[0m\u001b[0m\n",
      "\u001b[0;31mNameError\u001b[0m: name 'h' is not defined"
     ]
    },
    {
     "data": {
      "image/png": "[encoded data removed]",
      "text/plain": [
       "<Figure size 600x600 with 1 Axes>"
      ]
     },
     "metadata": {},
     "output_type": "display_data"
    }
   ],
   "source": [
    "plt.figure(figsize=(6,6))\n",
    "plt.subplot(121)\n",
    "plt.scatter(h,E)\n",
    "plt.subplot(122)\n",
    "plt.scatter(h,M)\n",
    "plt.show()"
   ]
  },
  {
   "cell_type": "code",
   "execution_count": 34,
   "id": "733278b9",
   "metadata": {},
   "outputs": [],
   "source": [
    "def ITF_2(J,h):\n",
    "    D = 1;\n",
    "    d = 2;\n",
    "    δ = 0.001;\n",
    "    n_iter = 100;\n",
    "    tol = 1e-2\n",
    "    ΓA = np.random.rand(D,d,D);\n",
    "    ΓB = np.random.rand(D,d,D);\n",
    "    ΓA = ΓA / np.max(ΓA);\n",
    "    ΓB = ΓB / np.max(ΓB);\n",
    "    λA = np.random.rand(D) \n",
    "    λA = λA / np.max(λA)\n",
    "    λB = np.random.rand(D)\n",
    "    λB = λB / np.max(λB)\n",
    "    Γ = [ΓA, ΓB];\n",
    "    λ = [λA, λB];\n",
    "    X = np.array([[0,1],[1,0]])\n",
    "    Z = np.array([[1,0],[0,-1]])\n",
    "    Id = np.array([[1,0],[0,1]])\n",
    "    Hzz = ncon([Z,Z],[[-1,-3],[-2,-4]])\n",
    "    Hxx = 0.5*(ncon([X,Id],[[-1,-3],[-2,-4]]) + ncon([Id,X],[[-1,-3],[-2,-4]]))\n",
    "    Mag = ncon([Z,Z],[[-1,-3],[-2,-4]])\n",
    "    H = J*Hzz# - h*Hxx\n",
    "    Hexp = np.reshape(H,[d*d,d*d])\n",
    "    Ug = expm(-δ*Hexp)\n",
    "    Ug = np.reshape(Ug,[d,d,d,d])\n",
    "    ###############\n",
    "    \n",
    "    for j in range(n_iter):\n",
    "        A = np.mod(j,2)\n",
    "        B = np.mod(j+1,2)\n",
    "        \n",
    "        θ = ncon([np.diag(λ[B]), Γ[A], np.diag(λ[A]), Γ[B], np.diag(λ[B])],\n",
    "                 [[-1,1],[1,-2,2],[2,3],[3,-4,4],[4,-3]])\n",
    "        nrm_θ = ncon([θ, θ.conj()],[[1,2,3,4],[1,2,3,4]])\n",
    "        θ = θ / np.sqrt(nrm_θ)\n",
    "        \n",
    "        θ2 = ncon([np.diag(λ[B]), Γ[A], np.diag(λ[A]), Γ[B], np.diag(λ[B]), Ug],\n",
    "                 [[-1,1],[1,2,3],[3,4],[4,5,6],[6,-3],[2,5,-2,-4]])\n",
    "        nrm_θ2 = ncon([θ2, θ2.conj()],[[1,2,3,4],[1,2,3,4]])\n",
    "        θ2 = θ2 / np.sqrt(nrm_θ2)\n",
    "        \n",
    "#         θ = θ / np.sqrt(nrm_θ)\n",
    "#         θ_new = ncon([θ,Ug],[[-1,1,-3,2],[1,2,-2,-4]])\n",
    "#         nrm_θ_new = ncon([θ_new,θ_new.conj()],[[1,2,3,4],[1,2,3,4]])\n",
    "#         θ_new = θ_new / np.sqrt(nrm_θ_new)\n",
    "        if np.linalg.norm(θ2 - θ) < tol:\n",
    "#             print(\"j = {}, Diff: {}\".format(j,np.linalg.norm(θ2 - θ)))\n",
    "#             θ = θ2\n",
    "            print(\"Success!\")\n",
    "            break\n",
    "#         print(\"j = {}, Diff is: {}\".format(j, np.linalg.norm(θ_new - θ)))\n",
    "        θ = θ2\n",
    "        θ = np.reshape(θ,[D*d,D*d])\n",
    "        U,S,V = np.linalg.svd(θ)\n",
    "        Γ[A] = U[:,0:D]\n",
    "        λ[A] = S[0:D]\n",
    "        Γ[B] = V[0:D,:]\n",
    "        Γ[A] = np.reshape(Γ[A],[D,d,D])\n",
    "        Γ[B] = np.reshape(Γ[B], [D,d,D])\n",
    "        λ[A] = λ[A] / np.linalg.norm(np.diag(λ[A]))\n",
    "        Γ[A] = ncon([np.diag(1./λ[B]), Γ[A]],[[-1,1],[1,-2,-3]])\n",
    "        Γ[B] = ncon([Γ[B], np.diag(1./λ[B])],[[-1,-2,1],[1,-3]])\n",
    "        Γ[A] = Γ[A] / np.linalg.norm(Γ[A])\n",
    "        Γ[B] = Γ[B] / np.linalg.norm(Γ[B])\n",
    "#         Γ[A] = Γ[A] / np.max(Γ[A])\n",
    "#         Γ[B] = Γ[B] / np.max(Γ[B])\n",
    "\n",
    "    θ = θ2    \n",
    "    E = []\n",
    "    M = []\n",
    "#     for j in range(len(λ)):\n",
    "#         A = np.mod(j,2)\n",
    "#         B = np.mod(j+1,2)\n",
    "#         θ = ncon([np.diag(λ[B]), Γ[A], np.diag(λ[A]), Γ[B], np.diag(λ[B])],\n",
    "#                  [[-1,1],[1,-2,2],[2,3],[3,-4,4],[4,-3]])\n",
    "#         nrm_θ = ncon([θ,θ.conj()],[[1,2,3,4],[1,2,3,4]])\n",
    "#         θ = θ / np.sqrt(nrm_θ)\n",
    "#         e = ncon([θ,H,θ.conj()],[[1,2,3,4],[2,4,5,6],[1,5,3,6]])\n",
    "#         m = ncon([θ,Mag,θ.conj()],[[1,2,3,4],[2,4,5,6],[1,5,3,6]])\n",
    "#         E.append(e)\n",
    "#         M.append(m)\n",
    "#     E_total = np.sum(E)\n",
    "#     M_total = np.sum(M)\n",
    "#     E_zero = E_total/2\n",
    "#     M_0 = M_total /2\n",
    "    \n",
    "    e = ncon([θ,H,θ.conj()],[[1,2,3,4],[2,4,5,6],[1,5,3,6]])\n",
    "    m = ncon([θ,Mag,θ.conj()],[[1,2,3,4],[2,4,5,6],[1,5,3,6]])\n",
    "    return e,m\n",
    "#     return E_zero, M_0"
   ]
  },
  {
   "cell_type": "code",
   "execution_count": 35,
   "id": "72893fea",
   "metadata": {},
   "outputs": [
    {
     "name": "stdout",
     "output_type": "stream",
     "text": [
      "Success!\n"
     ]
    },
    {
     "data": {
      "text/plain": [
       "(-0.41070146431079624, -0.14480843684063288)"
      ]
     },
     "execution_count": 35,
     "metadata": {},
     "output_type": "execute_result"
    }
   ],
   "source": [
    "ITF_2(1,0.3)"
   ]
  },
  {
   "cell_type": "code",
   "execution_count": 25,
   "id": "ffe55141",
   "metadata": {},
   "outputs": [
    {
     "name": "stdout",
     "output_type": "stream",
     "text": [
      "Success!\n"
     ]
    },
    {
     "data": {
      "text/plain": [
       "(-0.3155366362079164, -0.04258948271524722)"
      ]
     },
     "execution_count": 25,
     "metadata": {},
     "output_type": "execute_result"
    }
   ],
   "source": [
    "ITF_2(1,0.3)"
   ]
  },
  {
   "cell_type": "code",
   "execution_count": 36,
   "id": "af51034b",
   "metadata": {},
   "outputs": [
    {
     "name": "stdout",
     "output_type": "stream",
     "text": [
      "Success!\n",
      "Success!\n",
      "Success!\n",
      "Success!\n",
      "Success!\n",
      "Success!\n",
      "Success!\n",
      "Success!\n",
      "Success!\n",
      "Success!\n",
      "Success!\n",
      "Success!\n",
      "Success!\n",
      "Success!\n",
      "Success!\n",
      "Success!\n",
      "Success!\n",
      "Success!\n",
      "Success!\n",
      "Success!\n",
      "Success!\n",
      "Success!\n",
      "Success!\n",
      "Success!\n",
      "Success!\n",
      "Success!\n",
      "Success!\n",
      "Success!\n",
      "Success!\n",
      "Success!\n",
      "Success!\n",
      "Success!\n",
      "Success!\n",
      "Success!\n",
      "Success!\n",
      "Success!\n",
      "Success!\n",
      "Success!\n",
      "Success!\n",
      "Success!\n",
      "Done\n"
     ]
    }
   ],
   "source": [
    "h = np.arange(-1,3,0.1)\n",
    "E = []\n",
    "M = []\n",
    "for j in h:\n",
    "#     print(\"j = \", j)\n",
    "    e, m = ITF_2(1,j)\n",
    "    E.append(e)\n",
    "    M.append(m)\n",
    "print(\"Done\")"
   ]
  },
  {
   "cell_type": "code",
   "execution_count": 37,
   "id": "a64eef4a",
   "metadata": {},
   "outputs": [
    {
     "data": {
      "image/png": "[encoded data removed]",
      "text/plain": [
       "<Figure size 600x600 with 2 Axes>"
      ]
     },
     "metadata": {},
     "output_type": "display_data"
    }
   ],
   "source": [
    "plt.figure(figsize=(6,6))\n",
    "plt.subplot(211)\n",
    "plt.scatter(h,E)\n",
    "plt.subplot(212)\n",
    "plt.scatter(h,M)\n",
    "plt.show()"
   ]
  },
  {
   "cell_type": "code",
   "execution_count": null,
   "id": "82a8c683",
   "metadata": {},
   "outputs": [],
   "source": []
  },
  {
   "cell_type": "code",
   "execution_count": null,
   "id": "44e41164",
   "metadata": {},
   "outputs": [],
   "source": []
  },
  {
   "cell_type": "code",
   "execution_count": 1,
   "id": "7cc5e9d4",
   "metadata": {},
   "outputs": [],
   "source": [
    "import numpy as np \n",
    "from ncon import ncon "
   ]
  },
  {
   "cell_type": "code",
   "execution_count": 43,
   "id": "819ff96e",
   "metadata": {},
   "outputs": [],
   "source": [
    "def ITF(J,h):\n",
    "    \"\"\"\n",
    "    h: transverse field strength\n",
    "    J: coupling strength between spins\n",
    "    Returns the Ising Transverse Field Hamiltonian as a tensor network.\n",
    "    \"\"\"\n",
    "    Sz = np.array([[1,0],[0,-1]])\n",
    "    Sx = np.array([[0,1],[1,0]])\n",
    "    id_tensor = np.eye(2)\n",
    "    local_terms = [id_tensor - h*Sx, -J*Sz]\n",
    "#     tn_network = ncon(local_terms, [(-1,1),(1,-2)])\n",
    "    tn_network2 = -J*np.kron(Sz,Sz) -h/2*(np.kron(Sx,Id)+np.kron(Id,Sx))\n",
    "    return tn_network2"
   ]
  },
  {
   "cell_type": "code",
   "execution_count": 45,
   "id": "9a9067f1",
   "metadata": {},
   "outputs": [
    {
     "data": {
      "text/plain": [
       "array([[-1.  , -0.25, -0.25,  0.  ],\n",
       "       [-0.25,  1.  ,  0.  , -0.25],\n",
       "       [-0.25,  0.  ,  1.  , -0.25],\n",
       "       [ 0.  , -0.25, -0.25, -1.  ]])"
      ]
     },
     "execution_count": 45,
     "metadata": {},
     "output_type": "execute_result"
    }
   ],
   "source": [
    "ITF(1,0.5)"
   ]
  },
  {
   "cell_type": "code",
   "execution_count": null,
   "id": "a911ec0a",
   "metadata": {},
   "outputs": [],
   "source": [
    "def ITF_3(J,h):\n",
    "    D = 10;\n",
    "    d = 2;\n",
    "    δ = 0.01;\n",
    "    n_iter = 100;\n",
    "    tol = 1e-2\n",
    "    ΓA = np.random.rand(D,d,D);\n",
    "    ΓB = np.random.rand(D,d,D);\n",
    "    ΓA = ΓA / np.max(ΓA);\n",
    "    ΓB = ΓB / np.max(ΓB);\n",
    "    λA = np.random.rand(D) \n",
    "    λA = λA / np.max(λA)\n",
    "    λB = np.random.rand(D)\n",
    "    λB = λB / np.max(λB)\n",
    "    Γ = [ΓA, ΓB];\n",
    "    λ = [λA, λB];\n",
    "    X = np.array([[0,1],[1,0]])\n",
    "    Z = np.array([[1,0],[0,-1]])\n",
    "    Id = np.array([[1,0],[0,1]])\n",
    "    Hzz = ncon([Z,Z],[[-1,-3],[-2,-4]])\n",
    "    Hxx = 0.5*(ncon([X,Id],[[-1,-3],[-2,-4]]) + ncon([Id,X],[[-1,-3],[-2,-4]]))\n",
    "    Mag = ncon([Z,Z],[[-1,-3],[-2,-4]])\n",
    "    H = J*Hzz - h*Hxx\n",
    "    Hexp = np.reshape(H,[d*d,d*d])\n",
    "    Ug = expm(-δ*Hexp)\n",
    "    Ug = np.reshape(Ug,[d,d,d,d])\n",
    "    ###############\n",
    "    for j in range(n_iter):\n",
    "        A = np.mod(j,2)\n",
    "        B = np.mod(j+1,2)\n",
    "        θ = ncon([np.diag(λ[B]), Γ[A], np.diag(λ[A]), Γ[B], np.diag(λ[B])],\n",
    "                 [[-1,1],[1,-2,2],[2,3],[3,-4,4],[4,-3]])\n",
    "        nrm_θ = ncon([θ, θ.conj()],[[1,2,3,4],[1,2,3,4]])\n",
    "        θ = θ / np.sqrt(nrm_θ)\n",
    "        θ2 = ncon([np.diag(λ[B]), Γ[A], np.diag(λ[A]), Γ[B], np.diag(λ[B]), Ug],\n",
    "                 [[-1,1],[1,2,3],[3,4],[4,5,6],[6,-3],[2,5,-2,-4]])\n",
    "        nrm_θ2 = ncon([θ2, θ2.conj()],[[1,2,3,4],[1,2,3,4]])\n",
    "        θ2 = θ2 / np.sqrt(nrm_θ2)\n",
    "        if np.linalg.norm(θ2 - θ) > tol:\n",
    "            θ = θ2\n",
    "            θ = np.reshape(θ,[D*d,D*d])\n",
    "            U,S,V = np.linalg.svd(θ)\n",
    "            Γ[A] = U[:,0:D]\n",
    "            λ[A] = S[0:D]\n",
    "            Γ[B] = V[0:D,:]\n",
    "            Γ[A] = np.reshape(Γ[A],[D,d,D])\n",
    "            Γ[B] = np.reshape(Γ[B], [D,d,D])\n",
    "            λ[A] = λ[A] / np.linalg.norm(λ[A])\n",
    "            print(np.linalg.norm(λ[A]))\n",
    "            Γ[A] = ncon([np.diag(1./λ[B]), Γ[A]],[[-1,1],[1,-2,-3]])\n",
    "            Γ[B] = ncon([Γ[B], np.diag(1./λ[B])],[[-1,-2,1],[1,-3]])\n",
    "            Γ[A] = Γ[A] / np.linalg.norm(Γ[A])\n",
    "            Γ[B] = Γ[B] / np.linalg.norm(Γ[B])\n",
    "        else:\n",
    "            print(\"Success!\")\n",
    "            break\n",
    "            \n",
    "        \n",
    "            \n",
    "        \n",
    "            \n",
    "            \n",
    "        \n",
    "#             print(\"j = {}, Diff: {}\".format(j,np.linalg.norm(θ2 - θ)))\n",
    "#             θ = θ2\n",
    "            \n",
    "#             break\n",
    "#         print(\"j = {}, Diff is: {}\".format(j, np.linalg.norm(θ_new - θ)))\n",
    "        \n",
    "        \n",
    "        \n",
    "        \n",
    "        \n",
    "        \n",
    "\n",
    "\n",
    "\n",
    "#         Γ[A] = Γ[A] / np.max(Γ[A])\n",
    "#         Γ[B] = Γ[B] / np.max(Γ[B])\n",
    "\n",
    "    θ = θ2    \n",
    "    E = []\n",
    "    M = []\n",
    "#     for j in range(len(λ)):\n",
    "#         A = np.mod(j,2)\n",
    "#         B = np.mod(j+1,2)\n",
    "#         θ = ncon([np.diag(λ[B]), Γ[A], np.diag(λ[A]), Γ[B], np.diag(λ[B])],\n",
    "#                  [[-1,1],[1,-2,2],[2,3],[3,-4,4],[4,-3]])\n",
    "#         nrm_θ = ncon([θ,θ.conj()],[[1,2,3,4],[1,2,3,4]])\n",
    "#         θ = θ / np.sqrt(nrm_θ)\n",
    "#         e = ncon([θ,H,θ.conj()],[[1,2,3,4],[2,4,5,6],[1,5,3,6]])\n",
    "#         m = ncon([θ,Mag,θ.conj()],[[1,2,3,4],[2,4,5,6],[1,5,3,6]])\n",
    "#         E.append(e)\n",
    "#         M.append(m)\n",
    "#     E_total = np.sum(E)\n",
    "#     M_total = np.sum(M)\n",
    "#     E_zero = E_total/2\n",
    "#     M_0 = M_total /2\n",
    "    \n",
    "    e = ncon([θ,H,θ.conj()],[[1,2,3,4],[2,4,5,6],[1,5,3,6]])\n",
    "    m = ncon([θ,Mag,θ.conj()],[[1,2,3,4],[2,4,5,6],[1,5,3,6]])\n",
    "    return e,m\n",
    "#     return E_zero, M_0"
   ]
  },
  {
   "cell_type": "code",
   "execution_count": null,
   "id": "742903d2",
   "metadata": {},
   "outputs": [],
   "source": []
  },
  {
   "cell_type": "code",
   "execution_count": null,
   "id": "4515b64e",
   "metadata": {},
   "outputs": [],
   "source": []
  },
  {
   "cell_type": "code",
   "execution_count": null,
   "id": "aa54883e",
   "metadata": {},
   "outputs": [],
   "source": []
  },
  {
   "cell_type": "code",
   "execution_count": 50,
   "id": "52f5bf61",
   "metadata": {},
   "outputs": [],
   "source": [
    "# Perform one iTEBD step\n",
    "def itebd_step(psi, A, B, tau):\n",
    "    \"\"\"\n",
    "    psi: the initial MPS tensor network\n",
    "    A: tensors used to update the left-canonical form\n",
    "    B: tensors used to update the right-canonical form\n",
    "    tau: imaginary time step\n",
    "    Returns the updated MPS tensor network.\n",
    "    \"\"\"\n",
    "    # Apply imaginary time evolution gates\n",
    "    U_A = ncon.ncon([A, np.diag(np.exp(-tau))], [(1, 2), (-1, -2)])\n",
    "    U_B = ncon.ncon([B, np.diag(np.exp(-tau))], [(-1, 2), (-2, 1)])\n",
    "    \n",
    "    psi = ncon.ncon([U_A, psi, U_B], [(1, -1, 2), (-2, 1, -3), (2, -4, 1)])\n",
    "  \n",
    "    # Perform singular value decomposition (SVD)\n",
    "    psi = psi.reshape((A.shape[2], A.shape[0] * psi.shape[1] * psi.shape[2] * B.shape[0], B.shape[2]))\n",
    "    U, S, V = np.linalg.svd(psi, full_matrices=False)\n",
    "    \n",
    "    # Truncate the bond dimensions\n",
    "    chi = min(A.shape[1], B.shape[1], len(S))\n",
    "    A = U[:, :chi].reshape((A.shape[2], A.shape[0], chi))\n",
    "    B = V[:chi, :].reshape((chi, B.shape[0], B.shape[2]))\n",
    "    return psi, A, B"
   ]
  },
  {
   "cell_type": "code",
   "execution_count": 51,
   "id": "96e2b02c",
   "metadata": {},
   "outputs": [],
   "source": [
    "def itebd_algorithm(psi, A, B, h, J, tau, num_steps):\n",
    "    \"\"\"\n",
    "    psi: the initial MPS tensor network\n",
    "    A: tensors used to update the left-canonical form\n",
    "    B: tensors used to update the right-canonical form\n",
    "    h: transverse field strength\n",
    "    J: coupling strength between spins\n",
    "    tau: imaginary time step\n",
    "    num_steps: number of iTEBD steps to perform\n",
    "    Returns the final MPS tensor network after performing iTEBD.\n",
    "    \"\"\"\n",
    "    for step in range(num_steps):\n",
    "        psi, A, B = itebd_step(psi, A, B, tau)\n",
    "        \n",
    "    return psi"
   ]
  },
  {
   "cell_type": "code",
   "execution_count": 52,
   "id": "92f3e977",
   "metadata": {},
   "outputs": [
    {
     "ename": "NameError",
     "evalue": "name 'ising_transverse_field_hamiltonian' is not defined",
     "output_type": "error",
     "traceback": [
      "\u001b[0;31m---------------------------------------------------------------------------\u001b[0m",
      "\u001b[0;31mNameError\u001b[0m                                 Traceback (most recent call last)",
      "\u001b[0;32m/tmp/ipykernel_13567/854655616.py\u001b[0m in \u001b[0;36m<module>\u001b[0;34m\u001b[0m\n\u001b[1;32m     12\u001b[0m \u001b[0;34m\u001b[0m\u001b[0m\n\u001b[1;32m     13\u001b[0m \u001b[0;31m# Generate the Ising Transverse Field Hamiltonian\u001b[0m\u001b[0;34m\u001b[0m\u001b[0;34m\u001b[0m\u001b[0m\n\u001b[0;32m---> 14\u001b[0;31m \u001b[0mhamiltonian\u001b[0m \u001b[0;34m=\u001b[0m \u001b[0mising_transverse_field_hamiltonian\u001b[0m\u001b[0;34m(\u001b[0m\u001b[0mh\u001b[0m\u001b[0;34m,\u001b[0m \u001b[0mJ\u001b[0m\u001b[0;34m)\u001b[0m\u001b[0;34m\u001b[0m\u001b[0;34m\u001b[0m\u001b[0m\n\u001b[0m\u001b[1;32m     15\u001b[0m \u001b[0;34m\u001b[0m\u001b[0m\n\u001b[1;32m     16\u001b[0m \u001b[0;34m\u001b[0m\u001b[0m\n",
      "\u001b[0;31mNameError\u001b[0m: name 'ising_transverse_field_hamiltonian' is not defined"
     ]
    }
   ],
   "source": [
    "# Example usage\n",
    "# Set the parameters\n",
    "N = 10  # Number of qubits\n",
    "h = 1.0  # Transverse field strength\n",
    "J = 0.5  # Coupling strength between spins\n",
    "tau = 0.1  # Imaginary time step\n",
    "num_steps = 100  # Number of iTEBD steps to perform\n",
    "\n",
    "# Create initial MPS\n",
    "A_init = np.random.rand(2, 1, 2)\n",
    "B_init = np.random.rand(2, 1, 2)\n",
    "\n",
    "# Generate the Ising Transverse Field Hamiltonian\n",
    "hamiltonian = ising_transverse_field_hamiltonian(h, J)\n",
    "\n",
    "\n",
    "# Perform iTEBD algorithm\n",
    "final_state = itebd_algorithm(hamiltonian, A_init, B_init, h, J, tau, num_steps)\n",
    "\n",
    "# Print the final MPS tensor network\n",
    "print(final_state)"
   ]
  },
  {
   "cell_type": "code",
   "execution_count": 33,
   "id": "b0c5e670",
   "metadata": {},
   "outputs": [
    {
     "name": "stdout",
     "output_type": "stream",
     "text": [
      "x = 3\n",
      "Amin\n",
      "Amin\n",
      "Amin\n"
     ]
    }
   ],
   "source": [
    "x = int(input(\"x = \"))\n",
    "j = 0\n",
    "while j < x:\n",
    "    print(\"Amin\")\n",
    "    j += 1"
   ]
  },
  {
   "cell_type": "code",
   "execution_count": null,
   "id": "93d82257",
   "metadata": {},
   "outputs": [],
   "source": []
  }
 ],
 "metadata": {
  "kernelspec": {
   "display_name": "Python 3 (ipykernel)",
   "language": "python",
   "name": "python3"
  },
  "language_info": {
   "codemirror_mode": {
    "name": "ipython",
    "version": 3
   },
   "file_extension": ".py",
   "mimetype": "text/x-python",
   "name": "python",
   "nbconvert_exporter": "python",
   "pygments_lexer": "ipython3",
   "version": "3.9.13"
  }
 },
 "nbformat": 4,
 "nbformat_minor": 5
}
