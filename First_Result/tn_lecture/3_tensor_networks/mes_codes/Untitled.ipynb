{
 "cells": [
  {
   "cell_type": "code",
   "execution_count": 2,
   "id": "d399fb66",
   "metadata": {},
   "outputs": [],
   "source": [
    "import numpy as np \n",
    "import numpy.linalg as LA "
   ]
  },
  {
   "cell_type": "code",
   "execution_count": 8,
   "id": "30a83029",
   "metadata": {},
   "outputs": [],
   "source": [
    "L = 10;\n",
    "d = 2;\n",
    "D = 8;"
   ]
  },
  {
   "cell_type": "code",
   "execution_count": 14,
   "id": "0bfb123b",
   "metadata": {},
   "outputs": [
    {
     "data": {
      "text/plain": [
       "(1024,)"
      ]
     },
     "execution_count": 14,
     "metadata": {},
     "output_type": "execute_result"
    }
   ],
   "source": [
    "ψ = np.random.rand(2**L)\n",
    "ψ.shape"
   ]
  },
  {
   "cell_type": "code",
   "execution_count": 13,
   "id": "046dcdff",
   "metadata": {},
   "outputs": [
    {
     "data": {
      "text/plain": [
       "(32, 32)"
      ]
     },
     "execution_count": 13,
     "metadata": {},
     "output_type": "execute_result"
    }
   ],
   "source": [
    "ψ = np.reshape(ψ,(2**(L//2), 2**(L//2)))\n",
    "ψ.shape"
   ]
  },
  {
   "cell_type": "code",
   "execution_count": null,
   "id": "a25561ff",
   "metadata": {},
   "outputs": [],
   "source": []
  }
 ],
 "metadata": {
  "kernelspec": {
   "display_name": "Python 3 (ipykernel)",
   "language": "python",
   "name": "python3"
  },
  "language_info": {
   "codemirror_mode": {
    "name": "ipython",
    "version": 3
   },
   "file_extension": ".py",
   "mimetype": "text/x-python",
   "name": "python",
   "nbconvert_exporter": "python",
   "pygments_lexer": "ipython3",
   "version": "3.9.13"
  }
 },
 "nbformat": 4,
 "nbformat_minor": 5
}
