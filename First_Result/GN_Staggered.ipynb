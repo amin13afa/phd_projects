{
 "cells": [
  {
   "cell_type": "code",
   "execution_count": 2,
   "id": "a2f545bc",
   "metadata": {},
   "outputs": [],
   "source": [
    "using ITensors"
   ]
  },
  {
   "cell_type": "code",
   "execution_count": 3,
   "id": "72353e5a",
   "metadata": {},
   "outputs": [],
   "source": [
    "m₀ = 1.0;\n",
    "L = 10;\n",
    "a = 1/(L-1);\n",
    "sw = 3;\n",
    "χ = 100;\n",
    "s = siteinds(\"Fermion\", L);\n",
    "ψ₀ = randomMPS(s,L);\n",
    "ampo = OpSum();\n",
    "sweep = Sweeps(sw);\n",
    "setmaxdim!(sweep, repeat([χ],sw)...)\n",
    "setcutoff!(sweep, 1E-8)"
   ]
  },
  {
   "cell_type": "code",
   "execution_count": 4,
   "id": "1f5d44e5",
   "metadata": {},
   "outputs": [],
   "source": [
    "for j in 1:L-1\n",
    "    ampo -= 1im,\"C\",j,\"Cdag\",j+1\n",
    "    ampo += 1im,\"C\",j+1,\"Cdag\",j\n",
    "end"
   ]
  },
  {
   "cell_type": "code",
   "execution_count": 5,
   "id": "ba1775fa",
   "metadata": {},
   "outputs": [],
   "source": [
    "H = MPO(ampo,s);"
   ]
  },
  {
   "cell_type": "code",
   "execution_count": 6,
   "id": "92833041",
   "metadata": {},
   "outputs": [
    {
     "name": "stdout",
     "output_type": "stream",
     "text": [
      "After sweep 1 energy=-6.016820988334691  maxlinkdim=26 maxerr=7.13E-09 time=38.493\n",
      "After sweep 2 energy=-6.026673228962498  maxlinkdim=17 maxerr=9.22E-09 time=0.025\n",
      "After sweep 3 energy=-6.026674047044413  maxlinkdim=15 maxerr=9.31E-09 time=0.045\n"
     ]
    },
    {
     "data": {
      "text/plain": [
       "(-6.026674047044413, MPS\n",
       "[1] ((dim=2|id=560|\"Link,l=1\"), (dim=2|id=389|\"Fermion,Site,n=1\"))\n",
       "[2] ((dim=4|id=778|\"Link,l=2\"), (dim=2|id=982|\"Fermion,Site,n=2\"), (dim=2|id=560|\"Link,l=1\"))\n",
       "[3] ((dim=2|id=405|\"Fermion,Site,n=3\"), (dim=8|id=36|\"Link,l=3\"), (dim=4|id=778|\"Link,l=2\"))\n",
       "[4] ((dim=2|id=650|\"Fermion,Site,n=4\"), (dim=12|id=646|\"Link,l=4\"), (dim=8|id=36|\"Link,l=3\"))\n",
       "[5] ((dim=2|id=676|\"Fermion,Site,n=5\"), (dim=15|id=617|\"Link,l=5\"), (dim=12|id=646|\"Link,l=4\"))\n",
       "[6] ((dim=2|id=233|\"Fermion,Site,n=6\"), (dim=12|id=952|\"Link,l=6\"), (dim=15|id=617|\"Link,l=5\"))\n",
       "[7] ((dim=2|id=195|\"Fermion,Site,n=7\"), (dim=8|id=916|\"Link,l=7\"), (dim=12|id=952|\"Link,l=6\"))\n",
       "[8] ((dim=2|id=443|\"Fermion,Site,n=8\"), (dim=4|id=802|\"Link,l=8\"), (dim=8|id=916|\"Link,l=7\"))\n",
       "[9] ((dim=2|id=206|\"Fermion,Site,n=9\"), (dim=2|id=724|\"Link,l=9\"), (dim=4|id=802|\"Link,l=8\"))\n",
       "[10] ((dim=2|id=18|\"Fermion,Site,n=10\"), (dim=2|id=724|\"Link,l=9\"))\n",
       ")"
      ]
     },
     "execution_count": 6,
     "metadata": {},
     "output_type": "execute_result"
    }
   ],
   "source": [
    "e₀, ψ = dmrg(H, ψ₀, sweep)"
   ]
  },
  {
   "cell_type": "code",
   "execution_count": 7,
   "id": "aa3819be",
   "metadata": {},
   "outputs": [
    {
     "data": {
      "text/plain": [
       "MPS\n",
       "[1] ((dim=2|id=560|\"Link,l=1\"), (dim=2|id=389|\"Fermion,Site,n=1\"))\n",
       "[2] ((dim=4|id=778|\"Link,l=2\"), (dim=2|id=982|\"Fermion,Site,n=2\"), (dim=2|id=560|\"Link,l=1\"))\n",
       "[3] ((dim=2|id=405|\"Fermion,Site,n=3\"), (dim=8|id=36|\"Link,l=3\"), (dim=4|id=778|\"Link,l=2\"))\n",
       "[4] ((dim=2|id=650|\"Fermion,Site,n=4\"), (dim=12|id=646|\"Link,l=4\"), (dim=8|id=36|\"Link,l=3\"))\n",
       "[5] ((dim=2|id=676|\"Fermion,Site,n=5\"), (dim=15|id=617|\"Link,l=5\"), (dim=12|id=646|\"Link,l=4\"))\n",
       "[6] ((dim=2|id=233|\"Fermion,Site,n=6\"), (dim=12|id=952|\"Link,l=6\"), (dim=15|id=617|\"Link,l=5\"))\n",
       "[7] ((dim=2|id=195|\"Fermion,Site,n=7\"), (dim=8|id=916|\"Link,l=7\"), (dim=12|id=952|\"Link,l=6\"))\n",
       "[8] ((dim=2|id=443|\"Fermion,Site,n=8\"), (dim=4|id=802|\"Link,l=8\"), (dim=8|id=916|\"Link,l=7\"))\n",
       "[9] ((dim=2|id=206|\"Fermion,Site,n=9\"), (dim=2|id=724|\"Link,l=9\"), (dim=4|id=802|\"Link,l=8\"))\n",
       "[10] ((dim=2|id=18|\"Fermion,Site,n=10\"), (dim=2|id=724|\"Link,l=9\"))\n"
      ]
     },
     "execution_count": 7,
     "metadata": {},
     "output_type": "execute_result"
    }
   ],
   "source": [
    "ψ"
   ]
  },
  {
   "cell_type": "code",
   "execution_count": 19,
   "id": "697437c4",
   "metadata": {},
   "outputs": [
    {
     "data": {
      "text/plain": [
       "36.32080006931867"
      ]
     },
     "execution_count": 19,
     "metadata": {},
     "output_type": "execute_result"
    }
   ],
   "source": [
    "norm(inner(ψ', H, ψ)^2)"
   ]
  },
  {
   "cell_type": "code",
   "execution_count": 18,
   "id": "23894e0d",
   "metadata": {},
   "outputs": [
    {
     "data": {
      "text/plain": [
       "7.537232207255329e-7 + 3.1145472971881666e-15im"
      ]
     },
     "execution_count": 18,
     "metadata": {},
     "output_type": "execute_result"
    }
   ],
   "source": [
    "inner(H, ψ, H, ψ) - inner(ψ', H, ψ)^2"
   ]
  },
  {
   "cell_type": "code",
   "execution_count": 21,
   "id": "cd538adc",
   "metadata": {},
   "outputs": [
    {
     "data": {
      "text/plain": [
       "7.537232207255329e-7"
      ]
     },
     "execution_count": 21,
     "metadata": {},
     "output_type": "execute_result"
    }
   ],
   "source": [
    "norm(inner(H,ψ,H,ψ) - inner(ψ',H,ψ)^2)"
   ]
  },
  {
   "cell_type": "code",
   "execution_count": 22,
   "id": "e88f8c11",
   "metadata": {},
   "outputs": [
    {
     "data": {
      "text/plain": [
       "1.250645405478951e-7"
      ]
     },
     "execution_count": 22,
     "metadata": {},
     "output_type": "execute_result"
    }
   ],
   "source": [
    "norm(inner(H,ψ,H,ψ) - inner(ψ',H,ψ)^2)/norm(inner(ψ',H,ψ))"
   ]
  },
  {
   "cell_type": "code",
   "execution_count": null,
   "id": "9fb56cab",
   "metadata": {},
   "outputs": [],
   "source": []
  }
 ],
 "metadata": {
  "kernelspec": {
   "display_name": "Julia 1.8.2",
   "language": "julia",
   "name": "julia-1.8"
  },
  "language_info": {
   "file_extension": ".jl",
   "mimetype": "application/julia",
   "name": "julia",
   "version": "1.8.2"
  }
 },
 "nbformat": 4,
 "nbformat_minor": 5
}
