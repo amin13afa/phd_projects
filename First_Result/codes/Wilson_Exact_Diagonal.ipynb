{
 "cells": [
  {
   "cell_type": "code",
   "execution_count": 1,
   "id": "6c97f3c0",
   "metadata": {},
   "outputs": [],
   "source": [
    "using LinearAlgebra "
   ]
  },
  {
   "cell_type": "code",
   "execution_count": 2,
   "id": "065303da",
   "metadata": {},
   "outputs": [],
   "source": [
    "am = [0 1;0 0];\n",
    "ap = [0 0;1 0];\n",
    "z = [1 0;0 -1];\n",
    "id = [1 0;0 1];\n",
    "#=\n",
    "flavor --> f = 1;\n",
    "physical lattice site number --> N = 3;\n",
    "logical lattice site numbre  --> L = 6;\n",
    "lattice spacing              --> a = 1/L;\n",
    "bare mass                    --> m_0 = 0.4;\n",
    "coupling constant            --> g^2 = 1.0;\n",
    "Wilson parameter             --> r = 0.71;\n",
    "=#\n",
    "nothing"
   ]
  },
  {
   "cell_type": "code",
   "execution_count": 3,
   "id": "c61623fb",
   "metadata": {},
   "outputs": [],
   "source": [
    "N = 3;\n",
    "L = 6;\n",
    "a = 1/L;\n",
    "m₀ = 0.4;\n",
    "g² = 1.0;\n",
    "r = 0.71;"
   ]
  },
  {
   "cell_type": "markdown",
   "id": "80286ab2",
   "metadata": {},
   "source": [
    "$$\n",
    "H_{01} = \\left(\\frac{i}{2a}\\right)\\left(a^-_{\\eta,1}\\otimes Z \\otimes a^+_{\\eta+1,1}\\right) + \\left(\\frac{-i}{2a}\\right)\\left(a^-_{\\eta+1,1}\\otimes Z\n",
    "\\otimes a^+_{\\eta,1}\\right)\n",
    "$$\\\n",
    "$$\n",
    "H_{02} = \\left(\\frac{-i}{2a}\\right)\\left(a^-_{\\eta,0}\\otimes Z \\otimes a^+_{\\eta+1,0}\\right) + \\left(\\frac{+i}{2a}\\right)\\left(a^-_{\\eta+1,0}\\otimes Z\n",
    "\\otimes a^+_{\\eta,0}\\right)\n",
    "$$"
   ]
  },
  {
   "cell_type": "code",
   "execution_count": 4,
   "id": "033e0cf3",
   "metadata": {},
   "outputs": [
    {
     "data": {
      "text/plain": [
       "64×64 Matrix{Int64}:\n",
       " 1  0  0  0  0  0  0  0  0  0  0  0  0  …  0  0  0  0  0  0  0  0  0  0  0  0\n",
       " 0  1  0  0  0  0  0  0  0  0  0  0  0     0  0  0  0  0  0  0  0  0  0  0  0\n",
       " 0  0  1  0  0  0  0  0  0  0  0  0  0     0  0  0  0  0  0  0  0  0  0  0  0\n",
       " 0  0  0  1  0  0  0  0  0  0  0  0  0     0  0  0  0  0  0  0  0  0  0  0  0\n",
       " 0  0  0  0  1  0  0  0  0  0  0  0  0     0  0  0  0  0  0  0  0  0  0  0  0\n",
       " 0  0  0  0  0  1  0  0  0  0  0  0  0  …  0  0  0  0  0  0  0  0  0  0  0  0\n",
       " 0  0  0  0  0  0  1  0  0  0  0  0  0     0  0  0  0  0  0  0  0  0  0  0  0\n",
       " 0  0  0  0  0  0  0  1  0  0  0  0  0     0  0  0  0  0  0  0  0  0  0  0  0\n",
       " 0  0  0  0  0  0  0  0  1  0  0  0  0     0  0  0  0  0  0  0  0  0  0  0  0\n",
       " 0  0  0  0  0  0  0  0  0  1  0  0  0     0  0  0  0  0  0  0  0  0  0  0  0\n",
       " 0  0  0  0  0  0  0  0  0  0  1  0  0  …  0  0  0  0  0  0  0  0  0  0  0  0\n",
       " 0  0  0  0  0  0  0  0  0  0  0  1  0     0  0  0  0  0  0  0  0  0  0  0  0\n",
       " 0  0  0  0  0  0  0  0  0  0  0  0  1     0  0  0  0  0  0  0  0  0  0  0  0\n",
       " ⋮              ⋮              ⋮        ⋱           ⋮              ⋮        \n",
       " 0  0  0  0  0  0  0  0  0  0  0  0  0     1  0  0  0  0  0  0  0  0  0  0  0\n",
       " 0  0  0  0  0  0  0  0  0  0  0  0  0     0  1  0  0  0  0  0  0  0  0  0  0\n",
       " 0  0  0  0  0  0  0  0  0  0  0  0  0     0  0  1  0  0  0  0  0  0  0  0  0\n",
       " 0  0  0  0  0  0  0  0  0  0  0  0  0  …  0  0  0  1  0  0  0  0  0  0  0  0\n",
       " 0  0  0  0  0  0  0  0  0  0  0  0  0     0  0  0  0  1  0  0  0  0  0  0  0\n",
       " 0  0  0  0  0  0  0  0  0  0  0  0  0     0  0  0  0  0  1  0  0  0  0  0  0\n",
       " 0  0  0  0  0  0  0  0  0  0  0  0  0     0  0  0  0  0  0  1  0  0  0  0  0\n",
       " 0  0  0  0  0  0  0  0  0  0  0  0  0     0  0  0  0  0  0  0  1  0  0  0  0\n",
       " 0  0  0  0  0  0  0  0  0  0  0  0  0  …  0  0  0  0  0  0  0  0  1  0  0  0\n",
       " 0  0  0  0  0  0  0  0  0  0  0  0  0     0  0  0  0  0  0  0  0  0  1  0  0\n",
       " 0  0  0  0  0  0  0  0  0  0  0  0  0     0  0  0  0  0  0  0  0  0  0  1  0\n",
       " 0  0  0  0  0  0  0  0  0  0  0  0  0     0  0  0  0  0  0  0  0  0  0  0  1"
      ]
     },
     "execution_count": 4,
     "metadata": {},
     "output_type": "execute_result"
    }
   ],
   "source": [
    "kron(id,id,id,id,id,id)"
   ]
  },
  {
   "cell_type": "code",
   "execution_count": 5,
   "id": "e7fe3b90",
   "metadata": {},
   "outputs": [
    {
     "name": "stdout",
     "output_type": "stream",
     "text": [
      "true\n",
      "true\n",
      "true\n"
     ]
    }
   ],
   "source": [
    "# H_0 1\n",
    "H₀₁ = (1im/(2a))*(kron(id,am,z,ap,id,id)-kron(id,ap,z,am,id,id)+\n",
    "                  kron(id,id,id,am,z,ap)-kron(id,id,id,ap,z,am))\n",
    "H₀₂ = (1im/(2a))*(-kron(am,z,ap,id,id,id)+kron(ap,z,am,id,id,id)-\n",
    "kron(id,id,am,z,ap,id)+kron(id,id,ap,z,am,id))\n",
    "H₀ = H₀₁ + H₀₂\n",
    "println(ishermitian(H₀₁))\n",
    "println(ishermitian(H₀₂))\n",
    "println(ishermitian(H₀))"
   ]
  },
  {
   "cell_type": "code",
   "execution_count": 6,
   "id": "e9824ac9",
   "metadata": {},
   "outputs": [
    {
     "data": {
      "text/plain": [
       "64-element Vector{Float64}:\n",
       " -8.48528137423857\n",
       " -8.485281374238568\n",
       " -8.485281374238566\n",
       " -8.485281374238566\n",
       " -4.242640687119289\n",
       " -4.2426406871192865\n",
       " -4.2426406871192865\n",
       " -4.2426406871192865\n",
       " -4.242640687119286\n",
       " -4.242640687119286\n",
       " -4.242640687119285\n",
       " -4.242640687119285\n",
       " -4.242640687119285\n",
       "  ⋮\n",
       "  4.242640687119285\n",
       "  4.242640687119286\n",
       "  4.2426406871192865\n",
       "  4.2426406871192865\n",
       "  4.2426406871192865\n",
       "  4.242640687119287\n",
       "  4.242640687119287\n",
       "  4.242640687119289\n",
       "  8.485281374238566\n",
       "  8.485281374238568\n",
       "  8.48528137423857\n",
       "  8.48528137423857"
      ]
     },
     "execution_count": 6,
     "metadata": {},
     "output_type": "execute_result"
    }
   ],
   "source": [
    "eigvals(H₀)"
   ]
  },
  {
   "cell_type": "code",
   "execution_count": null,
   "id": "f5108d74",
   "metadata": {},
   "outputs": [],
   "source": []
  },
  {
   "cell_type": "markdown",
   "id": "f84a4fc9",
   "metadata": {},
   "source": [
    "$$\n",
    "H_{m} = (-im_0)(a^+_{\\eta,0}\\otimes a^+_{\\eta,1}) \n",
    "+ (+im_0)(a^-_{\\eta,1}\\otimes a^-_{\\eta,0}) \n",
    "$$"
   ]
  },
  {
   "cell_type": "code",
   "execution_count": 14,
   "id": "49fd1304",
   "metadata": {},
   "outputs": [
    {
     "data": {
      "text/plain": [
       "true"
      ]
     },
     "execution_count": 14,
     "metadata": {},
     "output_type": "execute_result"
    }
   ],
   "source": [
    "# H_m\n",
    "Hₘ = (1im*m₀)*(\n",
    "-kron(ap,ap,id,id,id,id)+kron(am,am,id,id,id,id)+\n",
    "-kron(id,id,ap,ap,id,id)+kron(id,id,am,am,id,id)+\n",
    "-kron(id,id,id,id,ap,ap)+kron(id,id,id,id,am,am)\n",
    ")\n",
    "ishermitian(Hₘ)"
   ]
  },
  {
   "cell_type": "code",
   "execution_count": 1,
   "id": "9b305d0c",
   "metadata": {},
   "outputs": [
    {
     "ename": "LoadError",
     "evalue": "UndefVarError: Hₘ not defined",
     "output_type": "error",
     "traceback": [
      "UndefVarError: Hₘ not defined",
      "",
      "Stacktrace:",
      " [1] top-level scope",
      "   @ In[1]:1",
      " [2] eval",
      "   @ ./boot.jl:360 [inlined]",
      " [3] include_string(mapexpr::typeof(REPL.softscope), mod::Module, code::String, filename::String)",
      "   @ Base ./loading.jl:1116"
     ]
    }
   ],
   "source": [
    "eigvals(Hₘ+H₀)"
   ]
  },
  {
   "cell_type": "markdown",
   "id": "685c82eb",
   "metadata": {},
   "source": [
    "$$\n",
    "H_g = -\\frac{g_{0}^{2}}{2a} \\sum_{n=1}^{N} \\left[ \\left(a_{n,0}^- a_{n,0}^+\\right) \\left(a_{n,1}^+ a_{n,1}^-\\right)+ \\left(a_{n,0}^+ a_{n,0}^-\\right) \\left(a_{n,1}^- a_{n,1}^+\\right) \\right]\n",
    "$$"
   ]
  },
  {
   "cell_type": "code",
   "execution_count": 24,
   "id": "f7503eee",
   "metadata": {},
   "outputs": [],
   "source": [
    "amp = am*ap;\n",
    "apm = ap*am;"
   ]
  },
  {
   "cell_type": "code",
   "execution_count": 25,
   "id": "c2e88900",
   "metadata": {},
   "outputs": [
    {
     "data": {
      "text/plain": [
       "true"
      ]
     },
     "execution_count": 25,
     "metadata": {},
     "output_type": "execute_result"
    }
   ],
   "source": [
    "# H_g\n",
    "H_g = ((-g²)/(2a))*(\n",
    "kron(amp,apm,id,id,id,id)+kron(apm,amp,id,id,id,id)+\n",
    "kron(id,id,amp,apm,id,id)+kron(id,id,apm,amp,id,id)+\n",
    "kron(id,id,id,id,amp,apm)+kron(id,id,id,id,apm,amp)\n",
    ")\n",
    "ishermitian(H_g)"
   ]
  },
  {
   "cell_type": "code",
   "execution_count": 26,
   "id": "6b506288",
   "metadata": {},
   "outputs": [
    {
     "data": {
      "text/plain": [
       "64-element Vector{Float64}:\n",
       " -14.479220368976073\n",
       " -14.47922036897606\n",
       " -13.135045566798977\n",
       " -12.592878509300805\n",
       " -11.218768393596902\n",
       " -11.218768393596893\n",
       " -10.261455150532507\n",
       " -10.261455150532505\n",
       " -10.261455150532502\n",
       " -10.261455150532496\n",
       " -10.261455150532491\n",
       " -10.26145515053249\n",
       "  -9.000000000000014\n",
       "   ⋮\n",
       "   0.8614551505325049\n",
       "   0.8614551505325072\n",
       "   1.3660750965551218\n",
       "   1.3660750965551254\n",
       "   1.6614551505325021\n",
       "   1.6614551505325035\n",
       "   1.975942121849891\n",
       "   2.436910887627275\n",
       "   3.892715757103787\n",
       "   3.8927157571037907\n",
       "   5.005978462513964\n",
       "   6.052976279988711"
      ]
     },
     "execution_count": 26,
     "metadata": {},
     "output_type": "execute_result"
    }
   ],
   "source": [
    "eigvals(H₀+Hₘ+H_g)"
   ]
  },
  {
   "cell_type": "markdown",
   "id": "12ed1dba",
   "metadata": {},
   "source": [
    "$$\n",
    "H_W =  H_{W1} + H_{W2} + H_{W3}\\\\\n",
    "H_{W1}= \\left(\\frac{ir}{2a}\\right) \\sum_{\\eta a \\in \\Omega} \n",
    "\\left[ a^-_{\\eta,1} \\otimes a^+_{\\eta+1,0}- a^-_{\\eta+1,0} \\otimes a^+_{\\eta,1}\\right]\n",
    "$$"
   ]
  },
  {
   "cell_type": "code",
   "execution_count": 27,
   "id": "8808a9d7",
   "metadata": {},
   "outputs": [
    {
     "data": {
      "text/plain": [
       "true"
      ]
     },
     "execution_count": 27,
     "metadata": {},
     "output_type": "execute_result"
    }
   ],
   "source": [
    "# H_W1 \n",
    "H_W1 = ((1im*r)/(2a))*(\n",
    "kron(id,am,ap,id,id,id)-kron(id,ap,am,id,id,id)+\n",
    "kron(id,id,id,am,ap,id)-kron(id,id,id,ap,am,id)\n",
    ")\n",
    "ishermitian(H_W1)"
   ]
  },
  {
   "cell_type": "markdown",
   "id": "8c71cff8",
   "metadata": {},
   "source": [
    "$$\n",
    "H_{W2} = \\left(\\frac{ir}{2a}\\right)\\sum_{\\eta a \\in \\Omega} \\left[ \n",
    " a^+_{\\eta,0}\\otimes Z \\otimes Z \\otimes a^-_{\\eta+1,1} \n",
    "-  a^+_{\\eta+1,1}\\otimes Z \\otimes Z \\otimes a^-_{\\eta,0} \n",
    "\\right]\n",
    "$$"
   ]
  },
  {
   "cell_type": "code",
   "execution_count": 29,
   "id": "fc0f92a9",
   "metadata": {},
   "outputs": [
    {
     "data": {
      "text/plain": [
       "true"
      ]
     },
     "execution_count": 29,
     "metadata": {},
     "output_type": "execute_result"
    }
   ],
   "source": [
    "# H_W2\n",
    "H_W2 = ((1im*r)/(2a))*(\n",
    "kron(ap,z,z,am,id,id)-kron(am,z,z,ap,id,id)+\n",
    "kron(id,id,ap,z,z,am)-kron(id,id,am,z,z,ap)\n",
    ")\n",
    "ishermitian(H_W2)"
   ]
  },
  {
   "cell_type": "markdown",
   "id": "a1da937a",
   "metadata": {},
   "source": [
    "$$\n",
    "H_{W3} = \\left(\\frac{ir}{a}\\right)\\sum_{\\eta a \\in \\Omega} \\left[ \n",
    "- a^+_{\\eta,0}\\otimes a^-_{\\eta,1} + a^+_{\\eta,1} a^-_{\\eta,0}\\right]\n",
    "$$"
   ]
  },
  {
   "cell_type": "code",
   "execution_count": 2,
   "id": "361ef9f6",
   "metadata": {},
   "outputs": [
    {
     "ename": "LoadError",
     "evalue": "UndefVarError: r not defined",
     "output_type": "error",
     "traceback": [
      "UndefVarError: r not defined",
      "",
      "Stacktrace:",
      " [1] top-level scope",
      "   @ In[2]:2",
      " [2] eval",
      "   @ ./boot.jl:360 [inlined]",
      " [3] include_string(mapexpr::typeof(REPL.softscope), mod::Module, code::String, filename::String)",
      "   @ Base ./loading.jl:1116"
     ]
    }
   ],
   "source": [
    "# H_W3 \n",
    "H_W3 = ((1im*r)/(a))*(\n",
    "-kron(ap,am,id,id,id,id)+kron(am,ap,id,id,id,id)+\n",
    "-kron(id,id,ap,am,id,id)+kron(id,id,am,ap,id,id)+\n",
    "-kron(id,id,id,id,ap,am)+kron(id,id,id,id,am,ap)\n",
    ")\n",
    "ishermitian(H_W3)"
   ]
  },
  {
   "cell_type": "code",
   "execution_count": 31,
   "id": "ca3ba5a4",
   "metadata": {},
   "outputs": [],
   "source": [
    "H_W = H_W1+H_W2+H_W3;"
   ]
  },
  {
   "cell_type": "code",
   "execution_count": 79,
   "id": "ab3b49d8",
   "metadata": {},
   "outputs": [],
   "source": [
    "H = H₀+Hₘ+H_g+H_W;"
   ]
  },
  {
   "cell_type": "code",
   "execution_count": 33,
   "id": "020a9428",
   "metadata": {},
   "outputs": [
    {
     "data": {
      "text/plain": [
       "64-element Vector{Float64}:\n",
       " -24.243052214563775\n",
       " -20.096362926196008\n",
       " -19.480770888587212\n",
       " -17.5895693535442\n",
       " -16.39500595064459\n",
       " -15.818510658523055\n",
       " -15.448359886292279\n",
       " -14.291946134848123\n",
       " -14.09560776082837\n",
       " -13.671170473258652\n",
       " -12.76177669460762\n",
       " -11.09073210946859\n",
       " -10.931015201939672\n",
       "   ⋮\n",
       "   3.424663851545961\n",
       "   3.4752502034426604\n",
       "   3.588939962769578\n",
       "   4.094466958596906\n",
       "   5.092455247540644\n",
       "   5.1854098277636105\n",
       "   5.316000869508657\n",
       "   5.5217890676188475\n",
       "   7.728252000476013\n",
       "   8.953874644903518\n",
       "   9.616310441163607\n",
       "  10.262329094249244"
      ]
     },
     "execution_count": 33,
     "metadata": {},
     "output_type": "execute_result"
    }
   ],
   "source": [
    "eigvals(H₀+Hₘ+H_g+H_W)"
   ]
  },
  {
   "cell_type": "code",
   "execution_count": 36,
   "id": "affc608d",
   "metadata": {},
   "outputs": [],
   "source": [
    "x = eigvecs(H₀+Hₘ+H_g+H_W);"
   ]
  },
  {
   "cell_type": "code",
   "execution_count": 37,
   "id": "42945400",
   "metadata": {},
   "outputs": [
    {
     "data": {
      "text/plain": [
       "Matrix{ComplexF64} (alias for Array{Complex{Float64}, 2})"
      ]
     },
     "execution_count": 37,
     "metadata": {},
     "output_type": "execute_result"
    }
   ],
   "source": [
    "typeof(x)"
   ]
  },
  {
   "cell_type": "code",
   "execution_count": 44,
   "id": "1f3ecebe",
   "metadata": {},
   "outputs": [
    {
     "data": {
      "text/plain": [
       "(64, 64)"
      ]
     },
     "execution_count": 44,
     "metadata": {},
     "output_type": "execute_result"
    }
   ],
   "source": [
    "size(x)"
   ]
  },
  {
   "cell_type": "code",
   "execution_count": 49,
   "id": "e6f0a0d3",
   "metadata": {},
   "outputs": [
    {
     "data": {
      "text/plain": [
       "64-element Vector{ComplexF64}:\n",
       "   1.106434452104652e-17 - 1.310376654986783e-17im\n",
       "    0.004185711834692071 + 0.005268796910751824im\n",
       "   -0.004701267043976653 + 0.00481440470162701im\n",
       "  -1.549457446742683e-17 + 9.715128535444483e-18im\n",
       "  -0.0024122906376152693 - 0.0026722645020609195im\n",
       " -2.7345475059353625e-17 + 2.6013916984175185e-17im\n",
       "   2.502220623287098e-18 - 8.132040557288144e-18im\n",
       "    0.050044894893901314 - 0.0005057162734538488im\n",
       "    0.002672264502060919 - 0.0024122906376152675im\n",
       " -4.6585032735994115e-17 - 1.634487201386584e-17im\n",
       "   5.054225530200834e-17 + 9.602124381973638e-18im\n",
       "     0.04973233380814196 + 0.005607336969222285im\n",
       " -2.3355040217946736e-17 - 2.530460163583731e-17im\n",
       "                         ⋮\n",
       "    0.005607336969222278 - 0.04973233380814199im\n",
       "  -7.567731163948821e-17 - 3.5887091909270197e-17im\n",
       " -1.1709383462843448e-17 + 3.469446951953614e-18im\n",
       "     0.00241229063761527 + 0.0026722645020609117im\n",
       "   0.0005057162734538668 + 0.050044894893901286im\n",
       "   4.206704429243757e-17 + 8.673617379884035e-19im\n",
       "   3.187554387107383e-17 + 3.469446951953614e-18im\n",
       "  -0.0026722645020610183 + 0.0024122906376152597im\n",
       " -1.3877787807814457e-17 - 3.903127820947816e-18im\n",
       "   -0.004814404701626975 - 0.004701267043976637im\n",
       "    0.005268796910751846 - 0.004185711834692048im\n",
       "   2.257156765942807e-20 - 0.0im"
      ]
     },
     "execution_count": 49,
     "metadata": {},
     "output_type": "execute_result"
    }
   ],
   "source": [
    "x[:,1]"
   ]
  },
  {
   "cell_type": "code",
   "execution_count": 54,
   "id": "80942f2c",
   "metadata": {},
   "outputs": [
    {
     "data": {
      "text/plain": [
       "-3.932680130026794e-19 - 9.08268420560941e-19im"
      ]
     },
     "execution_count": 54,
     "metadata": {},
     "output_type": "execute_result"
    }
   ],
   "source": [
    "dot(x[:,2],x[:,1])"
   ]
  },
  {
   "cell_type": "code",
   "execution_count": 69,
   "id": "fa012b4a",
   "metadata": {},
   "outputs": [],
   "source": [
    "eV = eigvecs(H₀+Hₘ+H_g+H_W);"
   ]
  },
  {
   "cell_type": "code",
   "execution_count": 70,
   "id": "dbcb8b55",
   "metadata": {},
   "outputs": [
    {
     "data": {
      "text/plain": [
       "4096"
      ]
     },
     "execution_count": 70,
     "metadata": {},
     "output_type": "execute_result"
    }
   ],
   "source": [
    "length(eV)"
   ]
  },
  {
   "cell_type": "code",
   "execution_count": 71,
   "id": "a43b0b87",
   "metadata": {},
   "outputs": [
    {
     "data": {
      "text/plain": [
       "(64, 64)"
      ]
     },
     "execution_count": 71,
     "metadata": {},
     "output_type": "execute_result"
    }
   ],
   "source": [
    "size(eV)"
   ]
  },
  {
   "cell_type": "code",
   "execution_count": 72,
   "id": "3add60d6",
   "metadata": {},
   "outputs": [
    {
     "data": {
      "text/plain": [
       "64-element Vector{ComplexF64}:\n",
       "   1.106434452104652e-17 - 1.310376654986783e-17im\n",
       "    0.004185711834692071 + 0.005268796910751824im\n",
       "   -0.004701267043976653 + 0.00481440470162701im\n",
       "  -1.549457446742683e-17 + 9.715128535444483e-18im\n",
       "  -0.0024122906376152693 - 0.0026722645020609195im\n",
       " -2.7345475059353625e-17 + 2.6013916984175185e-17im\n",
       "   2.502220623287098e-18 - 8.132040557288144e-18im\n",
       "    0.050044894893901314 - 0.0005057162734538488im\n",
       "    0.002672264502060919 - 0.0024122906376152675im\n",
       " -4.6585032735994115e-17 - 1.634487201386584e-17im\n",
       "   5.054225530200834e-17 + 9.602124381973638e-18im\n",
       "     0.04973233380814196 + 0.005607336969222285im\n",
       " -2.3355040217946736e-17 - 2.530460163583731e-17im\n",
       "                         ⋮\n",
       "    0.005607336969222278 - 0.04973233380814199im\n",
       "  -7.567731163948821e-17 - 3.5887091909270197e-17im\n",
       " -1.1709383462843448e-17 + 3.469446951953614e-18im\n",
       "     0.00241229063761527 + 0.0026722645020609117im\n",
       "   0.0005057162734538668 + 0.050044894893901286im\n",
       "   4.206704429243757e-17 + 8.673617379884035e-19im\n",
       "   3.187554387107383e-17 + 3.469446951953614e-18im\n",
       "  -0.0026722645020610183 + 0.0024122906376152597im\n",
       " -1.3877787807814457e-17 - 3.903127820947816e-18im\n",
       "   -0.004814404701626975 - 0.004701267043976637im\n",
       "    0.005268796910751846 - 0.004185711834692048im\n",
       "   2.257156765942807e-20 - 0.0im"
      ]
     },
     "execution_count": 72,
     "metadata": {},
     "output_type": "execute_result"
    }
   ],
   "source": [
    "eV[:,1]"
   ]
  },
  {
   "cell_type": "code",
   "execution_count": 75,
   "id": "1e3861fa",
   "metadata": {},
   "outputs": [
    {
     "data": {
      "text/plain": [
       "3.809655757736581e-18 + 3.898347074954355e-18im"
      ]
     },
     "execution_count": 75,
     "metadata": {},
     "output_type": "execute_result"
    }
   ],
   "source": [
    "dot(eV[:,1],eV[:,2])"
   ]
  },
  {
   "cell_type": "code",
   "execution_count": 86,
   "id": "35430444",
   "metadata": {},
   "outputs": [
    {
     "data": {
      "text/plain": [
       "(-24.243052214563775, 10.262329094249244)"
      ]
     },
     "execution_count": 86,
     "metadata": {},
     "output_type": "execute_result"
    }
   ],
   "source": [
    "eigmin(H), eigmax(H)"
   ]
  },
  {
   "cell_type": "code",
   "execution_count": 107,
   "id": "128e9b7f",
   "metadata": {},
   "outputs": [
    {
     "data": {
      "text/plain": [
       "64-element Vector{Float64}:\n",
       " -24.243052214563775\n",
       " -20.096362926196008\n",
       " -19.480770888587212\n",
       " -17.5895693535442\n",
       " -16.39500595064459\n",
       " -15.818510658523055\n",
       " -15.448359886292279\n",
       " -14.291946134848123\n",
       " -14.09560776082837\n",
       " -13.671170473258652\n",
       " -12.76177669460762\n",
       " -11.09073210946859\n",
       " -10.931015201939672\n",
       "   ⋮\n",
       "   3.424663851545961\n",
       "   3.4752502034426604\n",
       "   3.588939962769578\n",
       "   4.094466958596906\n",
       "   5.092455247540644\n",
       "   5.1854098277636105\n",
       "   5.316000869508657\n",
       "   5.5217890676188475\n",
       "   7.728252000476013\n",
       "   8.953874644903518\n",
       "   9.616310441163607\n",
       "  10.262329094249244"
      ]
     },
     "execution_count": 107,
     "metadata": {},
     "output_type": "execute_result"
    }
   ],
   "source": [
    "eigvals(H)"
   ]
  },
  {
   "cell_type": "code",
   "execution_count": null,
   "id": "59b5b178",
   "metadata": {},
   "outputs": [],
   "source": []
  }
 ],
 "metadata": {
  "kernelspec": {
   "display_name": "Julia 1.8.2",
   "language": "julia",
   "name": "julia-1.8"
  },
  "language_info": {
   "file_extension": ".jl",
   "mimetype": "application/julia",
   "name": "julia",
   "version": "1.8.2"
  }
 },
 "nbformat": 4,
 "nbformat_minor": 5
}
