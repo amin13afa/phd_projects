{
 "cells": [
  {
   "cell_type": "markdown",
   "id": "e997289f",
   "metadata": {},
   "source": [
    "# Exact Diagonal"
   ]
  },
  {
   "cell_type": "code",
   "execution_count": 1,
   "id": "1c120e9d",
   "metadata": {},
   "outputs": [],
   "source": [
    "using LinearAlgebra"
   ]
  },
  {
   "cell_type": "markdown",
   "id": "3a932218",
   "metadata": {},
   "source": [
    "# H0"
   ]
  },
  {
   "cell_type": "code",
   "execution_count": 2,
   "id": "e671cc37",
   "metadata": {},
   "outputs": [
    {
     "data": {
      "text/plain": [
       "H0 (generic function with 1 method)"
      ]
     },
     "execution_count": 2,
     "metadata": {},
     "output_type": "execute_result"
    }
   ],
   "source": [
    "function H0(L)\n",
    "    ⊗(x,y)=kron(x,y)\n",
    "    sp = [0 1;0 0];\n",
    "    sm = [0 0;1 0];\n",
    "    id = [1 0;0 1];\n",
    "    z = [1 0;0 -1];\n",
    "    H1 = fill(id,L)\n",
    "    H1[1] = sp\n",
    "    H1[2] = sm\n",
    "    H2 = fill(id,L)\n",
    "    H2[1] = sm\n",
    "    H2[2] = sp \n",
    "    H0 = zeros(Int,2^L,2^L)\n",
    "    for j in 1:L-1\n",
    "        H0 += -1im*(foldl(⊗,H1))+1im*(foldl(⊗,H2))\n",
    "        H1 = circshift(H1,1)\n",
    "        H2 = circshift(H2,1)\n",
    "    end\n",
    "    return H0\n",
    "end"
   ]
  },
  {
   "cell_type": "markdown",
   "id": "6778c5a8",
   "metadata": {},
   "source": [
    "# Hm"
   ]
  },
  {
   "cell_type": "code",
   "execution_count": 3,
   "id": "81b3b312",
   "metadata": {},
   "outputs": [
    {
     "data": {
      "text/plain": [
       "Hm (generic function with 1 method)"
      ]
     },
     "execution_count": 3,
     "metadata": {},
     "output_type": "execute_result"
    }
   ],
   "source": [
    "function Hm(L,m)\n",
    "    ⊗(x,y)=kron(x,y)\n",
    "    sp = [0 1;0 0];\n",
    "    sm = [0 0;1 0];\n",
    "    spm = [1 0;0 0];\n",
    "    smp = [0 0;0 1];\n",
    "    id = [1 0;0 1];\n",
    "    z = [1 0;0 -1];\n",
    "    H1 = fill(id,L)\n",
    "    H1[1] = spm\n",
    "    Hm = zeros(Int,2^L,2^L)\n",
    "    for j in 1:L\n",
    "        Hm += (((-1)^j)*m)*(foldl(⊗,H1))\n",
    "        H1 = circshift(H1,1)\n",
    "    end\n",
    "    return Hm\n",
    "end"
   ]
  },
  {
   "cell_type": "markdown",
   "id": "6d9fc36c",
   "metadata": {},
   "source": [
    "# Hg"
   ]
  },
  {
   "cell_type": "code",
   "execution_count": 4,
   "id": "6a1c3fe0",
   "metadata": {},
   "outputs": [
    {
     "data": {
      "text/plain": [
       "Hg (generic function with 1 method)"
      ]
     },
     "execution_count": 4,
     "metadata": {},
     "output_type": "execute_result"
    }
   ],
   "source": [
    "function Hg(L,G)\n",
    "    ⊗(x,y)=kron(x,y)\n",
    "    sp = [0 1;0 0];\n",
    "    sm = [0 0;1 0];\n",
    "    spm = [1 0;0 0];\n",
    "    smp = [0 0;0 1];\n",
    "    id = [1 0;0 1];\n",
    "    z = [1 0;0 -1]; \n",
    "    H1 = fill(id,L)\n",
    "    H1[1] = spm\n",
    "    Hg = zeros(Int,2^L,2^L)\n",
    "    for j in 1:L-1\n",
    "        Hg += (0.5*G)*(foldl(⊗,H1))\n",
    "        H1 = circshift(H1,1)\n",
    "    end\n",
    "    return Hg\n",
    "end"
   ]
  },
  {
   "cell_type": "code",
   "execution_count": 5,
   "id": "0956a86b",
   "metadata": {},
   "outputs": [
    {
     "data": {
      "text/plain": [
       "H_GN (generic function with 1 method)"
      ]
     },
     "execution_count": 5,
     "metadata": {},
     "output_type": "execute_result"
    }
   ],
   "source": [
    "function H_GN(L,m,G)\n",
    "    H_GN = H0(L) + Hm(L,m) + Hg(L,G)\n",
    "    return H_GN\n",
    "end"
   ]
  },
  {
   "cell_type": "code",
   "execution_count": null,
   "id": "76ca9127",
   "metadata": {},
   "outputs": [],
   "source": []
  },
  {
   "cell_type": "code",
   "execution_count": 6,
   "id": "5c1e0a5a",
   "metadata": {},
   "outputs": [
    {
     "name": "stdout",
     "output_type": "stream",
     "text": [
      "true\n"
     ]
    },
    {
     "data": {
      "text/plain": [
       "64-element Vector{Float64}:\n",
       " -4.753804074982525\n",
       " -3.659243768651647\n",
       " -3.659243768651647\n",
       " -3.155380435240124\n",
       " -3.1553804352401222\n",
       " -2.6929839460732996\n",
       " -2.6929839460732947\n",
       " -2.5646834623207533\n",
       " -2.0608201289092336\n",
       " -2.060820128909233\n",
       " -2.0608201289092327\n",
       " -2.0608201289092327\n",
       " -1.598423639742411\n",
       "  ⋮\n",
       "  2.0608201289092323\n",
       "  2.0608201289092327\n",
       "  2.0608201289092336\n",
       "  2.060820128909235\n",
       "  2.5646834623207546\n",
       "  2.6929839460732947\n",
       "  2.692983946073297\n",
       "  3.1553804352401214\n",
       "  3.1553804352401222\n",
       "  3.6592437686516437\n",
       "  3.659243768651646\n",
       "  4.7538040749825266"
      ]
     },
     "execution_count": 6,
     "metadata": {},
     "output_type": "execute_result"
    }
   ],
   "source": [
    "println(ishermitian(H_GN(6,1,0)));\n",
    "eigvals(H_GN(6,1,0))"
   ]
  },
  {
   "cell_type": "code",
   "execution_count": null,
   "id": "384a7aee",
   "metadata": {},
   "outputs": [],
   "source": []
  },
  {
   "cell_type": "code",
   "execution_count": null,
   "id": "e4d9068c",
   "metadata": {},
   "outputs": [],
   "source": []
  },
  {
   "cell_type": "code",
   "execution_count": null,
   "id": "3c3d67d1",
   "metadata": {},
   "outputs": [],
   "source": []
  },
  {
   "cell_type": "code",
   "execution_count": null,
   "id": "5e3188e5",
   "metadata": {},
   "outputs": [],
   "source": []
  },
  {
   "cell_type": "code",
   "execution_count": null,
   "id": "18089ce4",
   "metadata": {},
   "outputs": [],
   "source": []
  }
 ],
 "metadata": {
  "kernelspec": {
   "display_name": "Julia 1.8.2",
   "language": "julia",
   "name": "julia-1.8"
  },
  "language_info": {
   "file_extension": ".jl",
   "mimetype": "application/julia",
   "name": "julia",
   "version": "1.8.2"
  }
 },
 "nbformat": 4,
 "nbformat_minor": 5
}
