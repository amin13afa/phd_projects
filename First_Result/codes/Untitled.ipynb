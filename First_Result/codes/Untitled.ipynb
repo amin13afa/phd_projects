{
 "cells": [
  {
   "cell_type": "code",
   "execution_count": 1,
   "id": "eaeb822e",
   "metadata": {},
   "outputs": [],
   "source": [
    "using ITensors "
   ]
  },
  {
   "cell_type": "code",
   "execution_count": 20,
   "id": "58225497",
   "metadata": {},
   "outputs": [],
   "source": [
    "L = 6;\n",
    "a = 1/(L-1);\n",
    "m₀ = 1.0;\n",
    "sw = 3;\n",
    "χ = 100;\n",
    "s = siteinds(\"Electron\", L);\n",
    "ψ₀ = randomMPS(s,L);\n",
    "ampo = OpSum();\n",
    "sweep = Sweeps(sw);\n",
    "setmaxdim!(sweep, repeat([χ],sw)...)\n",
    "setcutoff!(sweep, 1E-8)"
   ]
  },
  {
   "cell_type": "code",
   "execution_count": 22,
   "id": "6805a783",
   "metadata": {},
   "outputs": [],
   "source": [
    "for j in 1:L-1\n",
    "    ampo += (1im/2a), \"Cdn\",j,\"Cdagdn\",j+1\n",
    "    ampo += (-1im/2a), \"Cdn\",j+1,\"Cdagdn\",j\n",
    "end\n",
    "for j in 1:L-1\n",
    "    ampo += (-1im/2a), \"Cup\",j,\"Cdagup\",j+1\n",
    "    ampo += (1im/2a), \"Cup\",j+1,\"Cdagup\",j\n",
    "end"
   ]
  },
  {
   "cell_type": "code",
   "execution_count": 23,
   "id": "83081521",
   "metadata": {},
   "outputs": [
    {
     "data": {
      "text/plain": [
       "sum(\n",
       "  0.0 + 2.5im Cdn(1,) Cdagdn(2,)\n",
       "  0.0 - 2.5im Cdn(2,) Cdagdn(1,)\n",
       "  0.0 + 2.5im Cdn(2,) Cdagdn(3,)\n",
       "  0.0 - 2.5im Cdn(3,) Cdagdn(2,)\n",
       "  0.0 + 2.5im Cdn(3,) Cdagdn(4,)\n",
       "  0.0 - 2.5im Cdn(4,) Cdagdn(3,)\n",
       "  0.0 + 2.5im Cdn(4,) Cdagdn(5,)\n",
       "  0.0 - 2.5im Cdn(5,) Cdagdn(4,)\n",
       "  0.0 + 2.5im Cdn(5,) Cdagdn(6,)\n",
       "  0.0 - 2.5im Cdn(6,) Cdagdn(5,)\n",
       "  0.0 - 2.5im Cup(1,) Cdagup(2,)\n",
       "  0.0 + 2.5im Cup(2,) Cdagup(1,)\n",
       "  0.0 - 2.5im Cup(2,) Cdagup(3,)\n",
       "  0.0 + 2.5im Cup(3,) Cdagup(2,)\n",
       "  0.0 - 2.5im Cup(3,) Cdagup(4,)\n",
       "  0.0 + 2.5im Cup(4,) Cdagup(3,)\n",
       "  0.0 - 2.5im Cup(4,) Cdagup(5,)\n",
       "  0.0 + 2.5im Cup(5,) Cdagup(4,)\n",
       "  0.0 - 2.5im Cup(5,) Cdagup(6,)\n",
       "  0.0 + 2.5im Cup(6,) Cdagup(5,)\n",
       ")"
      ]
     },
     "execution_count": 23,
     "metadata": {},
     "output_type": "execute_result"
    }
   ],
   "source": [
    "ampo"
   ]
  },
  {
   "cell_type": "markdown",
   "id": "49c6b425",
   "metadata": {},
   "source": [
    "ampo = nothing"
   ]
  },
  {
   "cell_type": "code",
   "execution_count": 24,
   "id": "4b6a23b1",
   "metadata": {},
   "outputs": [],
   "source": [
    "H₀ = MPO(ampo, s);"
   ]
  },
  {
   "cell_type": "code",
   "execution_count": 25,
   "id": "2f05113d",
   "metadata": {},
   "outputs": [
    {
     "name": "stdout",
     "output_type": "stream",
     "text": [
      "After sweep 1 energy=-17.430099283611586  maxlinkdim=59 maxerr=9.84E-09 time=0.069\n",
      "After sweep 2 energy=-17.46977093586803  maxlinkdim=57 maxerr=9.91E-09 time=0.083\n",
      "After sweep 3 energy=-17.46979580902265  maxlinkdim=54 maxerr=9.59E-09 time=0.106\n"
     ]
    },
    {
     "data": {
      "text/plain": [
       "(-17.46979580902265, MPS\n",
       "[1] ((dim=4|id=339|\"Link,l=1\"), (dim=4|id=947|\"Electron,Site,n=1\"))\n",
       "[2] ((dim=16|id=229|\"Link,l=2\"), (dim=4|id=585|\"Electron,Site,n=2\"), (dim=4|id=339|\"Link,l=1\"))\n",
       "[3] ((dim=4|id=80|\"Electron,Site,n=3\"), (dim=54|id=626|\"Link,l=3\"), (dim=16|id=229|\"Link,l=2\"))\n",
       "[4] ((dim=4|id=882|\"Electron,Site,n=4\"), (dim=16|id=460|\"Link,l=4\"), (dim=54|id=626|\"Link,l=3\"))\n",
       "[5] ((dim=4|id=489|\"Electron,Site,n=5\"), (dim=4|id=967|\"Link,l=5\"), (dim=16|id=460|\"Link,l=4\"))\n",
       "[6] ((dim=4|id=755|\"Electron,Site,n=6\"), (dim=4|id=967|\"Link,l=5\"))\n",
       ")"
      ]
     },
     "execution_count": 25,
     "metadata": {},
     "output_type": "execute_result"
    }
   ],
   "source": [
    "e₀, ψ = dmrg(H₀, ψ₀, sweep)"
   ]
  },
  {
   "cell_type": "code",
   "execution_count": null,
   "id": "a8cb3a2b",
   "metadata": {},
   "outputs": [],
   "source": []
  },
  {
   "cell_type": "code",
   "execution_count": null,
   "id": "4c1613cc",
   "metadata": {},
   "outputs": [],
   "source": []
  },
  {
   "cell_type": "code",
   "execution_count": null,
   "id": "28adf5dd",
   "metadata": {},
   "outputs": [],
   "source": []
  }
 ],
 "metadata": {
  "kernelspec": {
   "display_name": "Julia 1.8.2",
   "language": "julia",
   "name": "julia-1.8"
  },
  "language_info": {
   "file_extension": ".jl",
   "mimetype": "application/julia",
   "name": "julia",
   "version": "1.8.2"
  }
 },
 "nbformat": 4,
 "nbformat_minor": 5
}
