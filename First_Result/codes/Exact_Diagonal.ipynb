{
 "cells": [
  {
   "cell_type": "code",
   "execution_count": 1,
   "id": "c98824bc",
   "metadata": {},
   "outputs": [],
   "source": [
    "using LinearAlgebra\n",
    "c = [0 1;0 0];\n",
    "cd = [0 0;1 0];\n",
    "id = [1 0;0 1];\n",
    "z = [1 0;0 -1];\n",
    "G² = 0;\n",
    "m = 1;"
   ]
  },
  {
   "cell_type": "code",
   "execution_count": 2,
   "id": "c7004121",
   "metadata": {},
   "outputs": [
    {
     "name": "stdout",
     "output_type": "stream",
     "text": [
      "true\n"
     ]
    },
    {
     "data": {
      "text/plain": [
       "64-element Vector{Float64}:\n",
       " -4.753804074982525\n",
       " -3.659243768651647\n",
       " -3.659243768651647\n",
       " -3.155380435240124\n",
       " -3.1553804352401222\n",
       " -2.6929839460732996\n",
       " -2.6929839460732947\n",
       " -2.5646834623207533\n",
       " -2.0608201289092336\n",
       " -2.060820128909233\n",
       " -2.0608201289092327\n",
       " -2.0608201289092327\n",
       " -1.598423639742411\n",
       "  ⋮\n",
       "  2.0608201289092323\n",
       "  2.0608201289092327\n",
       "  2.0608201289092336\n",
       "  2.060820128909235\n",
       "  2.5646834623207546\n",
       "  2.6929839460732947\n",
       "  2.692983946073297\n",
       "  3.1553804352401214\n",
       "  3.1553804352401222\n",
       "  3.6592437686516437\n",
       "  3.659243768651646\n",
       "  4.7538040749825266"
      ]
     },
     "execution_count": 2,
     "metadata": {},
     "output_type": "execute_result"
    }
   ],
   "source": [
    "H0 = 1im*(\n",
    "    -kron(c,cd,id,id,id,id)+kron(cd,c,id,id,id,id)-\n",
    "    kron(id,c,cd,id,id,id)+kron(id,cd,c,id,id,id)-\n",
    "    kron(id,id,c,cd,id,id)+kron(id,id,cd,c,id,id)-\n",
    "    kron(id,id,id,c,cd,id)+kron(id,id,id,cd,c,id)-\n",
    "    kron(id,id,id,id,c,cd)+kron(id,id,id,id,cd,c))\n",
    "\n",
    "# Hg = (G²/2)*(\n",
    "# kron(c*cd,c*cd,id,id,id,id)+\n",
    "# kron(id,c*cd,c*cd,id,id,id)+\n",
    "# kron(id,id,c*cd,c*cd,id,id)+\n",
    "# kron(id,id,id,c*cd,c*cd,id)+\n",
    "# kron(id,id,id,id,c*cd,c*cd))\n",
    "\n",
    "\n",
    "# new Hg\n",
    "Hg = (G²/2)*(\n",
    "kron(c*cd,id,id,id,id,id)+\n",
    "kron(id,c*cd,id,id,id,id)+\n",
    "kron(id,id,c*cd,id,id,id)+\n",
    "kron(id,id,id,c*cd,id,id)+\n",
    "kron(id,id,id,id,c*cd,id))\n",
    "\n",
    "\n",
    "\n",
    "# Hm = m*(\n",
    "#     -kron(c*cd,id,id,id,id,id)-kron(id,c*cd,id,id,id,id)+\n",
    "#     kron(id,id,c*cd,id,id,id)+kron(id,id,id,c*cd,id,id)-\n",
    "#     kron(id,id,id,id,c*cd,id)-kron(id,id,id,id,id,c*cd))\n",
    "\n",
    "# new Hm\n",
    "Hm = m*(\n",
    "    -kron(c*cd,id,id,id,id,id)+kron(id,c*cd,id,id,id,id)-\n",
    "    kron(id,id,c*cd,id,id,id)+kron(id,id,id,c*cd,id,id)-\n",
    "    kron(id,id,id,id,c*cd,id)+kron(id,id,id,id,id,c*cd))\n",
    "H = H0+Hg+Hm;\n",
    "\n",
    "println(ishermitian(H))\n",
    "eigvals(H)\n"
   ]
  },
  {
   "cell_type": "code",
   "execution_count": null,
   "id": "5f0ee3d2",
   "metadata": {},
   "outputs": [],
   "source": []
  },
  {
   "cell_type": "code",
   "execution_count": null,
   "id": "d6096641",
   "metadata": {},
   "outputs": [],
   "source": []
  },
  {
   "cell_type": "code",
   "execution_count": null,
   "id": "8ab7872b",
   "metadata": {},
   "outputs": [],
   "source": []
  }
 ],
 "metadata": {
  "kernelspec": {
   "display_name": "Julia 1.8.2",
   "language": "julia",
   "name": "julia-1.8"
  },
  "language_info": {
   "file_extension": ".jl",
   "mimetype": "application/julia",
   "name": "julia",
   "version": "1.8.2"
  }
 },
 "nbformat": 4,
 "nbformat_minor": 5
}
