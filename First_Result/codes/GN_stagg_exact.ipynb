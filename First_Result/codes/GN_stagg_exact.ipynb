{
 "cells": [
  {
   "cell_type": "code",
   "execution_count": 1,
   "id": "a605628b",
   "metadata": {},
   "outputs": [],
   "source": [
    "using LinearAlgebra"
   ]
  },
  {
   "cell_type": "code",
   "execution_count": 2,
   "id": "4c821853",
   "metadata": {},
   "outputs": [
    {
     "data": {
      "text/plain": [
       "H_GN (generic function with 1 method)"
      ]
     },
     "execution_count": 2,
     "metadata": {},
     "output_type": "execute_result"
    }
   ],
   "source": [
    "function H0(L)\n",
    "    ⊗(x,y)=kron(x,y)\n",
    "    sp = [0 1;0 0];\n",
    "    sm = [0 0;1 0];\n",
    "    id = [1 0;0 1];\n",
    "    z = [1 0;0 -1];\n",
    "    H1 = fill(id,L)\n",
    "    H1[1] = sp\n",
    "    H1[2] = sm\n",
    "    H2 = fill(id,L)\n",
    "    H2[1] = sm\n",
    "    H2[2] = sp \n",
    "    H0 = zeros(Int,2^L,2^L)\n",
    "    for j in 1:L-1\n",
    "        H0 += -1im*(foldl(⊗,H1))+1im*(foldl(⊗,H2))\n",
    "        H1 = circshift(H1,1)\n",
    "        H2 = circshift(H2,1)\n",
    "    end\n",
    "    return H0\n",
    "end\n",
    "\n",
    "function Hm(L,m)\n",
    "    ⊗(x,y)=kron(x,y)\n",
    "    sp = [0 1;0 0];\n",
    "    sm = [0 0;1 0];\n",
    "    spm = [1 0;0 0];\n",
    "    smp = [0 0;0 1];\n",
    "    id = [1 0;0 1];\n",
    "    z = [1 0;0 -1];\n",
    "    H1 = fill(id,L)\n",
    "    H1[1] = spm\n",
    "    Hm = zeros(Int,2^L,2^L)\n",
    "    for j in 1:L\n",
    "        Hm += (((-1)^j)*m)*(foldl(⊗,H1))\n",
    "        H1 = circshift(H1,1)\n",
    "    end\n",
    "    return Hm\n",
    "end\n",
    "\n",
    "function Hg(L,G²)\n",
    "    ⊗(x,y)=kron(x,y)\n",
    "    sp = [0 1;0 0];\n",
    "    sm = [0 0;1 0];\n",
    "    spm = [1 0;0 0];\n",
    "    smp = [0 0;0 1];\n",
    "    id = [1 0;0 1];\n",
    "    z = [1 0;0 -1]; \n",
    "    H1 = fill(id,L)\n",
    "    H1[1] = spm\n",
    "    Hg = zeros(Int,2^L,2^L)\n",
    "    for j in 1:L-1\n",
    "        Hg += (G²/2.0)*(foldl(⊗,H1))\n",
    "        H1 = circshift(H1,1)\n",
    "    end\n",
    "    return Hg\n",
    "end\n",
    "\n",
    "function H_GN(L,m,G²)\n",
    "    H_GN = H0(L) + Hm(L,m) + Hg(L,G)\n",
    "    return H_GN\n",
    "end"
   ]
  },
  {
   "cell_type": "code",
   "execution_count": 10,
   "id": "4003a66c",
   "metadata": {},
   "outputs": [
    {
     "data": {
      "text/plain": [
       "16-element Vector{Float64}:\n",
       " -2.1481316019009062\n",
       " -1.44160103982396\n",
       " -0.833069197027375\n",
       " -0.706530562076945\n",
       " -0.1265386349504306\n",
       "  0.0\n",
       "  0.1849375951264702\n",
       "  0.6085318427965858\n",
       "  0.8914681572034164\n",
       "  1.31506240487353\n",
       "  1.5\n",
       "  1.6265386349504292\n",
       "  2.2065305620769453\n",
       "  2.333069197027375\n",
       "  2.941601039823961\n",
       "  3.648131601900905"
      ]
     },
     "execution_count": 10,
     "metadata": {},
     "output_type": "execute_result"
    }
   ],
   "source": [
    "# H_GN(L,m,G)\n",
    "eigvals(H_GN(4,1,1))"
   ]
  },
  {
   "cell_type": "code",
   "execution_count": 16,
   "id": "e9df9b42",
   "metadata": {},
   "outputs": [
    {
     "data": {
      "text/plain": [
       "16-element Vector{ComplexF64}:\n",
       "                     0.0 + 0.0im\n",
       " -5.4008530518638226e-20 - 1.3074732109947234e-18im\n",
       " -3.4623611286739857e-18 + 1.4302169643863553e-19im\n",
       "   4.336808689942018e-18 - 0.2600945622883989im\n",
       "   5.392642882359456e-19 + 1.3054856404051141e-17im\n",
       "       -0.81881191102269 + 4.046596569785026e-18im\n",
       "    4.85722573273506e-17 + 0.36933427508865396im\n",
       "                     0.0 + 0.0im\n",
       "                     0.0 - 1.734723475976807e-18im\n",
       "                     0.0 + 0.3106749936809706im\n",
       "     0.15923385450473646 + 0.0im\n",
       "                     0.0 + 0.0im\n",
       "   -4.85722573273506e-17 - 0.06013064244633187im\n",
       "                     0.0 + 0.0im\n",
       "                     0.0 + 0.0im\n",
       "                     0.0 + 0.0im"
      ]
     },
     "execution_count": 16,
     "metadata": {},
     "output_type": "execute_result"
    }
   ],
   "source": [
    "v1 = eigvecs(H_GN(4,1,1))[:,1]\n",
    "# v2 = eigvecs(H_GN(5,1,1))[:,1];\n",
    "# println(length(v1), \"\\n\", length(v2))"
   ]
  },
  {
   "cell_type": "code",
   "execution_count": 20,
   "id": "97811afa",
   "metadata": {},
   "outputs": [
    {
     "data": {
      "text/plain": [
       "16-element Vector{ComplexF64}:\n",
       "      0.0 + 0.0im\n",
       " -5.4e-20 - 1.3e-18im\n",
       " -3.5e-18 + 1.4e-19im\n",
       "  4.3e-18 - 0.26im\n",
       "  5.4e-19 + 1.3e-17im\n",
       "    -0.82 + 4.0e-18im\n",
       "  4.9e-17 + 0.37im\n",
       "      0.0 + 0.0im\n",
       "      0.0 - 1.7e-18im\n",
       "      0.0 + 0.31im\n",
       "     0.16 + 0.0im\n",
       "      0.0 + 0.0im\n",
       " -4.9e-17 - 0.06im\n",
       "      0.0 + 0.0im\n",
       "      0.0 + 0.0im\n",
       "      0.0 + 0.0im"
      ]
     },
     "execution_count": 20,
     "metadata": {},
     "output_type": "execute_result"
    }
   ],
   "source": [
    "round.(v1; sigdigits=2)\n",
    "#  trunc(x; digits::Integer= [, base = 10])"
   ]
  },
  {
   "cell_type": "code",
   "execution_count": null,
   "id": "263ca19d",
   "metadata": {
    "scrolled": false
   },
   "outputs": [],
   "source": []
  },
  {
   "cell_type": "code",
   "execution_count": 22,
   "id": "8413a330",
   "metadata": {},
   "outputs": [
    {
     "data": {
      "text/plain": [
       "1-element Vector{String}:\n",
       " \"/home/amin/.local/share/jupyter\" ⋯ 26 bytes ⋯ \"eaa-4067-b9b7-1f492d0c818e.json\""
      ]
     },
     "execution_count": 22,
     "metadata": {},
     "output_type": "execute_result"
    }
   ],
   "source": [
    "ARGS"
   ]
  },
  {
   "cell_type": "code",
   "execution_count": null,
   "id": "6a6b0c8a",
   "metadata": {},
   "outputs": [],
   "source": [
    "parse(In)"
   ]
  }
 ],
 "metadata": {
  "kernelspec": {
   "display_name": "Julia 1.8.2",
   "language": "julia",
   "name": "julia-1.8"
  },
  "language_info": {
   "file_extension": ".jl",
   "mimetype": "application/julia",
   "name": "julia",
   "version": "1.8.2"
  }
 },
 "nbformat": 4,
 "nbformat_minor": 5
}
