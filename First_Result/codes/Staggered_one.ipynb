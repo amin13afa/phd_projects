{
 "cells": [
  {
   "cell_type": "code",
   "execution_count": 1,
   "id": "451fd9a7",
   "metadata": {},
   "outputs": [],
   "source": [
    "using LinearAlgebra"
   ]
  },
  {
   "cell_type": "code",
   "execution_count": 2,
   "id": "a9594aec",
   "metadata": {},
   "outputs": [],
   "source": [
    "c = [0 1;0 0];\n",
    "cd = [0 0;1 0];\n",
    "id = [1 0;0 -1];\n",
    "z = [1 0;0 -1];\n",
    "G = 1.0;\n",
    "m = 1.0;"
   ]
  },
  {
   "cell_type": "code",
   "execution_count": null,
   "id": "77237202",
   "metadata": {},
   "outputs": [],
   "source": [
    "# kron(id,id,id,id,id,id)"
   ]
  },
  {
   "cell_type": "code",
   "execution_count": 5,
   "id": "50e0dfe5",
   "metadata": {},
   "outputs": [
    {
     "data": {
      "text/plain": [
       "true"
      ]
     },
     "execution_count": 5,
     "metadata": {},
     "output_type": "execute_result"
    }
   ],
   "source": [
    "H0 = 1im*(\n",
    "    -kron(c,z,cd,id,id,id)+kron(cd,z,c,id,id,id)-\n",
    "    kron(id,c,z,cd,id,id)+kron(id,cd,z,c,id,id)-\n",
    "    kron(id,id,c,z,cd,id)+kron(id,id,cd,z,c,id)-\n",
    "    kron(id,id,id,c,z,cd)+kron(id,id,id,cd,z,c))\n",
    "ishermitian(H0)"
   ]
  },
  {
   "cell_type": "code",
   "execution_count": 6,
   "id": "64abfb7c",
   "metadata": {},
   "outputs": [
    {
     "data": {
      "text/plain": [
       "64-element Vector{Float64}:\n",
       " -2.828427124746191\n",
       " -2.8284271247461907\n",
       " -2.82842712474619\n",
       " -2.8284271247461867\n",
       " -1.4142135623730958\n",
       " -1.4142135623730956\n",
       " -1.4142135623730956\n",
       " -1.4142135623730954\n",
       " -1.4142135623730954\n",
       " -1.4142135623730951\n",
       " -1.4142135623730951\n",
       " -1.4142135623730951\n",
       " -1.4142135623730951\n",
       "  ⋮\n",
       "  1.4142135623730954\n",
       "  1.4142135623730954\n",
       "  1.4142135623730954\n",
       "  1.4142135623730956\n",
       "  1.4142135623730958\n",
       "  1.414213562373096\n",
       "  1.4142135623730963\n",
       "  1.4142135623730967\n",
       "  2.828427124746186\n",
       "  2.8284271247461903\n",
       "  2.8284271247461903\n",
       "  2.8284271247461925"
      ]
     },
     "execution_count": 6,
     "metadata": {},
     "output_type": "execute_result"
    }
   ],
   "source": [
    "eigvals(H0)"
   ]
  },
  {
   "cell_type": "code",
   "execution_count": 7,
   "id": "443b3eff",
   "metadata": {},
   "outputs": [
    {
     "data": {
      "text/plain": [
       "true"
      ]
     },
     "execution_count": 7,
     "metadata": {},
     "output_type": "execute_result"
    }
   ],
   "source": [
    "Hg = (G/2)*(\n",
    "kron(c*cd,c*cd,id,id,id,id)+\n",
    "kron(id,id,c*cd,c*cd,id,id)+\n",
    "kron(id,id,id,id,c*cd,c*cd))\n",
    "ishermitian(Hg)"
   ]
  },
  {
   "cell_type": "code",
   "execution_count": 8,
   "id": "82d1ffc7",
   "metadata": {},
   "outputs": [
    {
     "data": {
      "text/plain": [
       "64-element Vector{Float64}:\n",
       " -1.0\n",
       " -1.0\n",
       " -1.0\n",
       " -1.0\n",
       " -1.0\n",
       " -1.0\n",
       " -0.5\n",
       " -0.5\n",
       " -0.5\n",
       " -0.5\n",
       " -0.5\n",
       " -0.5\n",
       " -0.5\n",
       "  ⋮\n",
       "  0.5\n",
       "  0.5\n",
       "  0.5\n",
       "  0.5\n",
       "  0.5\n",
       "  0.5\n",
       "  0.5\n",
       "  0.5\n",
       "  1.0\n",
       "  1.0\n",
       "  1.0\n",
       "  1.5"
      ]
     },
     "execution_count": 8,
     "metadata": {},
     "output_type": "execute_result"
    }
   ],
   "source": [
    "eigvals(Hg)"
   ]
  },
  {
   "cell_type": "code",
   "execution_count": 7,
   "id": "7e64022f",
   "metadata": {},
   "outputs": [
    {
     "data": {
      "text/plain": [
       "64-element Vector{Float64}:\n",
       " -3.155020637884242\n",
       " -3.155020637884232\n",
       " -2.655020637884233\n",
       " -2.4142135623730954\n",
       " -2.414213562373095\n",
       " -2.1550206378842383\n",
       " -1.9142135623730947\n",
       " -1.9142135623730945\n",
       " -1.6861406616345065\n",
       " -1.6861406616345058\n",
       " -1.4142135623730967\n",
       " -1.4142135623730958\n",
       " -1.4142135623730951\n",
       "  ⋮\n",
       "  1.4142135623730954\n",
       "  1.4142135623730954\n",
       "  1.5\n",
       "  1.6861406616345098\n",
       "  1.914213562373095\n",
       "  1.9142135623730956\n",
       "  1.9142135623730958\n",
       "  2.186140661634506\n",
       "  2.5307459845640117\n",
       "  2.5307459845640157\n",
       "  3.0307459845640183\n",
       "  3.530745984564015"
      ]
     },
     "execution_count": 7,
     "metadata": {},
     "output_type": "execute_result"
    }
   ],
   "source": [
    "eigvals(H0+Hg)"
   ]
  },
  {
   "cell_type": "code",
   "execution_count": 3,
   "id": "1b844448",
   "metadata": {},
   "outputs": [
    {
     "data": {
      "text/plain": [
       "true"
      ]
     },
     "execution_count": 3,
     "metadata": {},
     "output_type": "execute_result"
    }
   ],
   "source": [
    "Hm = m*(\n",
    "    -kron(c*cd,id,id,id,id,id)-kron(id,c*cd,id,id,id,id)+\n",
    "    kron(id,id,c*cd,id,id,id)+kron(id,id,id,c*cd,id,id)-\n",
    "    kron(id,id,id,id,c*cd,id)-kron(id,id,id,id,id,c*cd))\n",
    "ishermitian(Hm)"
   ]
  },
  {
   "cell_type": "code",
   "execution_count": 4,
   "id": "d7f8e8bd",
   "metadata": {},
   "outputs": [
    {
     "data": {
      "text/plain": [
       "64-element Vector{Float64}:\n",
       " -4.0\n",
       " -2.0\n",
       " -2.0\n",
       " -2.0\n",
       " -2.0\n",
       " -2.0\n",
       " -2.0\n",
       " -2.0\n",
       " -2.0\n",
       " -2.0\n",
       " -2.0\n",
       " -2.0\n",
       " -2.0\n",
       "  ⋮\n",
       "  1.0\n",
       "  1.0\n",
       "  1.0\n",
       "  1.0\n",
       "  1.0\n",
       "  2.0\n",
       "  3.0\n",
       "  3.0\n",
       "  3.0\n",
       "  3.0\n",
       "  3.0\n",
       "  3.0"
      ]
     },
     "execution_count": 4,
     "metadata": {},
     "output_type": "execute_result"
    }
   ],
   "source": [
    "eigvals(Hm)"
   ]
  },
  {
   "cell_type": "code",
   "execution_count": 9,
   "id": "b9ca2235",
   "metadata": {},
   "outputs": [
    {
     "data": {
      "text/plain": [
       "64-element Vector{Float64}:\n",
       " -4.65637107553237\n",
       " -3.3135148632077165\n",
       " -2.849735155791573\n",
       " -2.8497351557915698\n",
       " -2.732050807568878\n",
       " -2.732050807568877\n",
       " -2.7320508075688763\n",
       " -2.3507810593582126\n",
       " -2.2320508075688785\n",
       " -2.2320508075688767\n",
       " -2.2320508075688754\n",
       " -2.1868296379716337\n",
       " -2.1868296379716305\n",
       "  ⋮\n",
       "  1.451561496910596\n",
       "  1.6374586088176895\n",
       "  1.7320508075688774\n",
       "  1.7320508075688774\n",
       "  2.1732209072937336\n",
       "  2.7320508075688767\n",
       "  2.7320508075688776\n",
       "  3.2950227230039477\n",
       "  3.2950227230039535\n",
       "  3.799745325970714\n",
       "  4.101030457986089\n",
       "  4.10103045798609"
      ]
     },
     "execution_count": 9,
     "metadata": {},
     "output_type": "execute_result"
    }
   ],
   "source": [
    "H = H0+Hg+Hm;\n",
    "eigvals(H)"
   ]
  },
  {
   "cell_type": "code",
   "execution_count": 1,
   "id": "f73bb76d",
   "metadata": {},
   "outputs": [],
   "source": [
    "using ITensors "
   ]
  },
  {
   "cell_type": "code",
   "execution_count": 2,
   "id": "42dccae3",
   "metadata": {},
   "outputs": [],
   "source": [
    "L = 11;\n",
    "N = 2;\n",
    "# n = = N*L;\n",
    "m = 1.0;\n",
    "G = 1.0;"
   ]
  },
  {
   "cell_type": "code",
   "execution_count": 4,
   "id": "c15f2cd8",
   "metadata": {},
   "outputs": [],
   "source": [
    "sites = siteinds(\"Fermion\",L)\n",
    "ampo = OpSum();"
   ]
  },
  {
   "cell_type": "code",
   "execution_count": 4,
   "id": "aa4ae1e5",
   "metadata": {},
   "outputs": [],
   "source": [
    "for j in 1:L-N\n",
    "    ampo -= 1im,\"C\",j,\"Cdag\",j+N\n",
    "    ampo += 1im,\"C\",j+N,\"Cdag\",j\n",
    "end\n",
    "for j in 1:N:L-N\n",
    "    ampo += (G/2),\"C*Cdag\",j,\"C*Cdag\",j+1\n",
    "end"
   ]
  },
  {
   "cell_type": "code",
   "execution_count": 5,
   "id": "306c274a",
   "metadata": {},
   "outputs": [
    {
     "data": {
      "text/plain": [
       "MPO\n",
       "[1] ((dim=5|id=560|\"Link,l=1\"), (dim=2|id=906|\"Fermion,Site,n=1\")', (dim=2|id=906|\"Fermion,Site,n=1\"))\n",
       "[2] ((dim=5|id=560|\"Link,l=1\"), (dim=6|id=733|\"Link,l=2\"), (dim=2|id=143|\"Fermion,Site,n=2\")', (dim=2|id=143|\"Fermion,Site,n=2\"))\n",
       "[3] ((dim=6|id=733|\"Link,l=2\"), (dim=7|id=450|\"Link,l=3\"), (dim=2|id=285|\"Fermion,Site,n=3\")', (dim=2|id=285|\"Fermion,Site,n=3\"))\n",
       "[4] ((dim=7|id=450|\"Link,l=3\"), (dim=6|id=311|\"Link,l=4\"), (dim=2|id=771|\"Fermion,Site,n=4\")', (dim=2|id=771|\"Fermion,Site,n=4\"))\n",
       "[5] ((dim=6|id=311|\"Link,l=4\"), (dim=4|id=828|\"Link,l=5\"), (dim=2|id=93|\"Fermion,Site,n=5\")', (dim=2|id=93|\"Fermion,Site,n=5\"))\n",
       "[6] ((dim=4|id=828|\"Link,l=5\"), (dim=2|id=193|\"Fermion,Site,n=6\")', (dim=2|id=193|\"Fermion,Site,n=6\"))\n"
      ]
     },
     "execution_count": 5,
     "metadata": {},
     "output_type": "execute_result"
    }
   ],
   "source": [
    "H0 = MPO(ampo,sites)"
   ]
  },
  {
   "cell_type": "code",
   "execution_count": 6,
   "id": "76a6f2b6",
   "metadata": {},
   "outputs": [
    {
     "data": {
      "text/plain": [
       "MPS\n",
       "[1] ((dim=2|id=906|\"Fermion,Site,n=1\"), (dim=32|id=828|\"Link,l=1\"))\n",
       "[2] ((dim=32|id=828|\"Link,l=1\"), (dim=2|id=143|\"Fermion,Site,n=2\"), (dim=16|id=991|\"Link,l=2\"))\n",
       "[3] ((dim=16|id=991|\"Link,l=2\"), (dim=2|id=285|\"Fermion,Site,n=3\"), (dim=8|id=900|\"Link,l=3\"))\n",
       "[4] ((dim=8|id=900|\"Link,l=3\"), (dim=2|id=771|\"Fermion,Site,n=4\"), (dim=4|id=877|\"Link,l=4\"))\n",
       "[5] ((dim=4|id=877|\"Link,l=4\"), (dim=2|id=93|\"Fermion,Site,n=5\"), (dim=2|id=704|\"Link,l=5\"))\n",
       "[6] ((dim=2|id=704|\"Link,l=5\"), (dim=2|id=193|\"Fermion,Site,n=6\"))\n"
      ]
     },
     "execution_count": 6,
     "metadata": {},
     "output_type": "execute_result"
    }
   ],
   "source": [
    "psi0 = randomMPS(sites,100)"
   ]
  },
  {
   "cell_type": "code",
   "execution_count": 7,
   "id": "e2242c0c",
   "metadata": {},
   "outputs": [
    {
     "name": "stdout",
     "output_type": "stream",
     "text": [
      "After sweep 1 energy=-2.828427124745 maxlinkdim=8 maxerr=1.45E-17 time=26.588\n",
      "After sweep 2 energy=-2.828427124746 maxlinkdim=8 maxerr=7.79E-17 time=0.007\n",
      "After sweep 3 energy=-2.828427124746 maxlinkdim=8 maxerr=1.33E-15 time=0.034\n"
     ]
    },
    {
     "data": {
      "text/plain": [
       "(-2.82842712474619, MPS\n",
       "[1] ((dim=2|id=893|\"Link,l=1\"), (dim=2|id=919|\"Fermion,Site,n=1\"))\n",
       "[2] ((dim=4|id=33|\"Link,l=2\"), (dim=2|id=221|\"Fermion,Site,n=2\"), (dim=2|id=893|\"Link,l=1\"))\n",
       "[3] ((dim=2|id=180|\"Fermion,Site,n=3\"), (dim=8|id=455|\"Link,l=3\"), (dim=4|id=33|\"Link,l=2\"))\n",
       "[4] ((dim=2|id=879|\"Fermion,Site,n=4\"), (dim=4|id=93|\"Link,l=4\"), (dim=8|id=455|\"Link,l=3\"))\n",
       "[5] ((dim=2|id=121|\"Fermion,Site,n=5\"), (dim=2|id=85|\"Link,l=5\"), (dim=4|id=93|\"Link,l=4\"))\n",
       "[6] ((dim=2|id=934|\"Fermion,Site,n=6\"), (dim=2|id=85|\"Link,l=5\"))\n",
       ")"
      ]
     },
     "execution_count": 7,
     "metadata": {},
     "output_type": "execute_result"
    }
   ],
   "source": [
    "sweep = Sweeps(3)\n",
    "setmaxdim!(sweep,repeat([100],3)...)\n",
    "setcutoff!(sweep,1E-8)\n",
    "e0,psi = dmrg(H0,psi0,sweep)"
   ]
  },
  {
   "cell_type": "code",
   "execution_count": 8,
   "id": "df54180c",
   "metadata": {},
   "outputs": [
    {
     "name": "stdout",
     "output_type": "stream",
     "text": [
      "After sweep 1 energy=-2.674769134883 maxlinkdim=8 maxerr=1.81E-16 time=0.015\n",
      "After sweep 2 energy=-2.682875224345 maxlinkdim=8 maxerr=1.08E-15 time=0.012\n",
      "After sweep 3 energy=-2.685651990295 maxlinkdim=8 maxerr=8.44E-17 time=0.012\n"
     ]
    },
    {
     "data": {
      "text/plain": [
       "(-2.6856519902947, MPS\n",
       "[1] ((dim=2|id=557|\"Link,l=1\"), (dim=2|id=906|\"Fermion,Site,n=1\"))\n",
       "[2] ((dim=4|id=445|\"Link,l=2\"), (dim=2|id=143|\"Fermion,Site,n=2\"), (dim=2|id=557|\"Link,l=1\"))\n",
       "[3] ((dim=2|id=285|\"Fermion,Site,n=3\"), (dim=8|id=306|\"Link,l=3\"), (dim=4|id=445|\"Link,l=2\"))\n",
       "[4] ((dim=2|id=771|\"Fermion,Site,n=4\"), (dim=4|id=789|\"Link,l=4\"), (dim=8|id=306|\"Link,l=3\"))\n",
       "[5] ((dim=2|id=93|\"Fermion,Site,n=5\"), (dim=2|id=715|\"Link,l=5\"), (dim=4|id=789|\"Link,l=4\"))\n",
       "[6] ((dim=2|id=193|\"Fermion,Site,n=6\"), (dim=2|id=715|\"Link,l=5\"))\n",
       ")"
      ]
     },
     "execution_count": 8,
     "metadata": {},
     "output_type": "execute_result"
    }
   ],
   "source": [
    "sweep = Sweeps(3)\n",
    "setmaxdim!(sweep,repeat([100],3)...)\n",
    "setcutoff!(sweep,1E-8)\n",
    "e0,psi = dmrg(H0,psi0,sweep)"
   ]
  },
  {
   "cell_type": "code",
   "execution_count": 1,
   "id": "72a6aece",
   "metadata": {},
   "outputs": [
    {
     "data": {
      "text/plain": [
       "OpSum:\n",
       "  -1.0 \"C*Cdag\"(1) \"C*Cdag\"(2) \n",
       "  -1.0 \"C*Cdag\"(5) \"C*Cdag\"(6) \n",
       "  -1.0 \"C*Cdag\"(9) \"C*Cdag\"(10) \n",
       "  1.0 \"C*Cdag\"(3) \"C*Cdag\"(4) \n",
       "  1.0 \"C*Cdag\"(7) \"C*Cdag\"(8) \n",
       "  1.0 \"C*Cdag\"(11) \"C*Cdag\"(12) \n"
      ]
     },
     "execution_count": 1,
     "metadata": {},
     "output_type": "execute_result"
    }
   ],
   "source": [
    "using ITensors \n",
    "L = 12;\n",
    "N = 2;\n",
    "# n = = N*L;\n",
    "m = 1.0;\n",
    "G = 1.0;\n",
    "sites = siteinds(\"Fermion\",L)\n",
    "ampo = OpSum();\n",
    "for j in 1:2N:L-1\n",
    "    ampo += -m,\"C*Cdag\",j,\"C*Cdag\",j+1\n",
    "end\n",
    "for j in N+1:2N:L-1\n",
    "    ampo += m,\"C*Cdag\",j,\"C*Cdag\",j+1\n",
    "end\n",
    "ampo"
   ]
  },
  {
   "cell_type": "code",
   "execution_count": null,
   "id": "3290e4f2",
   "metadata": {},
   "outputs": [],
   "source": []
  }
 ],
 "metadata": {
  "kernelspec": {
   "display_name": "Julia 1.8.2",
   "language": "julia",
   "name": "julia-1.8"
  },
  "language_info": {
   "file_extension": ".jl",
   "mimetype": "application/julia",
   "name": "julia",
   "version": "1.8.2"
  }
 },
 "nbformat": 4,
 "nbformat_minor": 5
}
