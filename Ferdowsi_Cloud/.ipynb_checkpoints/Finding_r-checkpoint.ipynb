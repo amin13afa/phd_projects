{
 "cells": [
  {
   "cell_type": "code",
   "execution_count": 1,
   "id": "538dcb55",
   "metadata": {},
   "outputs": [],
   "source": [
    "using ITensors\n",
    "using ITensorChemistry"
   ]
  },
  {
   "cell_type": "code",
   "execution_count": 2,
   "id": "19d74d74",
   "metadata": {},
   "outputs": [
    {
     "data": {
      "text/plain": [
       "create_molecule (generic function with 1 method)"
      ]
     },
     "execution_count": 2,
     "metadata": {},
     "output_type": "execute_result"
    }
   ],
   "source": [
    "function create_molecule(m::String, r::Float64, rep::Int64)\n",
    "    s = []\n",
    "    for j in 1:rep\n",
    "        push!(s,Atom(m, j*r , 0.0, 0.0))\n",
    "    end\n",
    "    return Molecule(s)\n",
    "end"
   ]
  },
  {
   "cell_type": "code",
   "execution_count": 3,
   "id": "a7dc15ee",
   "metadata": {},
   "outputs": [
    {
     "data": {
      "text/plain": [
       "energy_at_bond (generic function with 1 method)"
      ]
     },
     "execution_count": 3,
     "metadata": {},
     "output_type": "execute_result"
    }
   ],
   "source": [
    "function energy_at_bond(r,N)\n",
    "  # define molecule geometry\n",
    "  molecule = create_molecule(\"H\",r,N)\n",
    "  # build electronic hamiltonian and solve HF\n",
    "  hf = molecular_orbital_hamiltonian(molecule; basis=\"sto-3g\")\n",
    "  hamiltonian = hf.hamiltonian\n",
    "  hartree_fock_state = hf.hartree_fock_state\n",
    "  hartree_fock_energy = hf.hartree_fock_energy\n",
    "  # hilbert space\n",
    "  s = siteinds(\"Electron\", N; conserve_qns=true)\n",
    "  H = MPO(hamiltonian, s)\n",
    "  # initialize MPS to HF state\n",
    "  ψhf = MPS(s, hartree_fock_state)\n",
    "  # run dmrg\n",
    "  dmrg_kwargs = (;\n",
    "    nsweeps=2,\n",
    "    maxdim=[10,20,30,40,50,100],\n",
    "    cutoff=1e-8,\n",
    "    noise=[1e-6, 1e-7, 1e-8, 0.0],\n",
    "  )\n",
    "  dmrg_energy, _ = dmrg(H, ψhf; nsweeps=2, outputlevel=0)\n",
    "  return hartree_fock_energy, dmrg_energy\n",
    "end"
   ]
  },
  {
   "cell_type": "code",
   "execution_count": 4,
   "id": "5685a758",
   "metadata": {},
   "outputs": [
    {
     "name": "stdout",
     "output_type": "stream",
     "text": [
      "converged SCF energy = -2.06919742280387\n",
      "RHF Energy (Ha): -2.069197422803868\n",
      "converged SCF energy = -2.06919742280387\n",
      "RHF Energy (Ha): -2.069197422803868\n",
      "converged SCF energy = -2.12138675587022\n",
      "RHF Energy (Ha): -2.121386755870219\n",
      "converged SCF energy = -2.12138675587022\n",
      "RHF Energy (Ha): -2.121386755870219\n",
      "converged SCF energy = -2.12425973897278\n",
      "RHF Energy (Ha): -2.1242597389727758\n",
      "converged SCF energy = -2.12425973897278\n",
      "RHF Energy (Ha): -2.1242597389727793\n",
      "converged SCF energy = -2.09854593699772\n",
      "RHF Energy (Ha): -2.09854593699772\n",
      "converged SCF energy = -2.09854593699772\n",
      "RHF Energy (Ha): -2.098545936997718\n"
     ]
    }
   ],
   "source": [
    "# bond distances\n",
    "r⃗ = 0.7:0.1:1\n",
    "hartee_energy = []\n",
    "dmrg_energy = []\n",
    "for r in r⃗\n",
    "    push!(hartee_energy, energy_at_bond(r,4)[1])\n",
    "    push!(dmrg_energy, energy_at_bond(r,4)[2])\n",
    "end"
   ]
  },
  {
   "cell_type": "code",
   "execution_count": 5,
   "id": "49f073d2",
   "metadata": {},
   "outputs": [
    {
     "data": {
      "text/plain": [
       "0.9"
      ]
     },
     "execution_count": 5,
     "metadata": {},
     "output_type": "execute_result"
    }
   ],
   "source": [
    "r⃗[findmin(dmrg_energy)[2]]"
   ]
  },
  {
   "cell_type": "code",
   "execution_count": null,
   "id": "e4ba3937",
   "metadata": {},
   "outputs": [],
   "source": []
  }
 ],
 "metadata": {
  "kernelspec": {
   "display_name": "Julia 1.8.2",
   "language": "julia",
   "name": "julia-1.8"
  },
  "language_info": {
   "file_extension": ".jl",
   "mimetype": "application/julia",
   "name": "julia",
   "version": "1.8.2"
  }
 },
 "nbformat": 4,
 "nbformat_minor": 5
}
