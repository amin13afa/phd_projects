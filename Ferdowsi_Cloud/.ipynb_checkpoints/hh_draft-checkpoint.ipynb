{
 "cells": [
  {
   "cell_type": "code",
   "execution_count": 8,
   "id": "dade9263",
   "metadata": {},
   "outputs": [],
   "source": [
    "using ITensors\n",
    "using ITensorChemistry \n",
    "# using Plots \n",
    "# using DelimitedFiles "
   ]
  },
  {
   "cell_type": "markdown",
   "id": "da7957a0",
   "metadata": {},
   "source": [
    "# Find best r"
   ]
  },
  {
   "cell_type": "code",
   "execution_count": null,
   "id": "1f365497",
   "metadata": {},
   "outputs": [],
   "source": []
  },
  {
   "cell_type": "code",
   "execution_count": 9,
   "id": "aa2033c5",
   "metadata": {},
   "outputs": [
    {
     "data": {
      "text/plain": [
       "create_molecule (generic function with 1 method)"
      ]
     },
     "execution_count": 9,
     "metadata": {},
     "output_type": "execute_result"
    }
   ],
   "source": [
    "function create_molecule(m::String, r::Float64, rep::Int64)\n",
    "    s = []\n",
    "    for j in 1:rep\n",
    "        push!(s,Atom(m, j*r , 0.0, 0.0))\n",
    "    end\n",
    "    return Molecule(s)\n",
    "end"
   ]
  },
  {
   "cell_type": "code",
   "execution_count": 10,
   "id": "df1b1770",
   "metadata": {},
   "outputs": [
    {
     "data": {
      "text/plain": [
       "energy_at_bond (generic function with 1 method)"
      ]
     },
     "execution_count": 10,
     "metadata": {},
     "output_type": "execute_result"
    }
   ],
   "source": [
    "function energy_at_bond(r,N)\n",
    "  # define molecule geometry\n",
    "  molecule = create_molecule(\"H\",r,N)\n",
    "  # build electronic hamiltonian and solve HF\n",
    "  hf = molecular_orbital_hamiltonian(molecule; basis=\"sto-3g\")\n",
    "  hamiltonian = hf.hamiltonian\n",
    "  hartree_fock_state = hf.hartree_fock_state\n",
    "  hartree_fock_energy = hf.hartree_fock_energy\n",
    "  # hilbert space\n",
    "  s = siteinds(\"Electron\", N; conserve_qns=true)\n",
    "  H = MPO(hamiltonian, s)\n",
    "  # initialize MPS to HF state\n",
    "  ψhf = MPS(s, hartree_fock_state)\n",
    "  # run dmrg\n",
    "  dmrg_kwargs = (;\n",
    "    nsweeps=2,\n",
    "    maxdim=[10,20,30,40,50,100],\n",
    "    cutoff=1e-8,\n",
    "    noise=[1e-6, 1e-7, 1e-8, 0.0],\n",
    "  )\n",
    "  dmrg_energy, _ = dmrg(H, ψhf; nsweeps=2, outputlevel=0)\n",
    "  return hartree_fock_energy, dmrg_energy\n",
    "end"
   ]
  },
  {
   "cell_type": "code",
   "execution_count": null,
   "id": "a7f30382",
   "metadata": {},
   "outputs": [],
   "source": []
  },
  {
   "cell_type": "code",
   "execution_count": 6,
   "id": "28c84642",
   "metadata": {},
   "outputs": [
    {
     "name": "stdout",
     "output_type": "stream",
     "text": [
      "converged SCF energy = -2.06919742280387\n",
      "RHF Energy (Ha): -2.069197422803868\n",
      "converged SCF energy = -2.06919742280387\n",
      "RHF Energy (Ha): -2.069197422803868\n",
      "converged SCF energy = -2.12138675587022\n",
      "RHF Energy (Ha): -2.121386755870221\n",
      "converged SCF energy = -2.12138675587022\n",
      "RHF Energy (Ha): -2.121386755870221\n",
      "converged SCF energy = -2.12425973897278\n",
      "RHF Energy (Ha): -2.1242597389727775\n",
      "converged SCF energy = -2.12425973897278\n",
      "RHF Energy (Ha): -2.1242597389727766\n",
      "converged SCF energy = -2.09854593699772\n",
      "RHF Energy (Ha): -2.098545936997719\n",
      "converged SCF energy = -2.09854593699772\n",
      "RHF Energy (Ha): -2.098545936997718\n"
     ]
    }
   ],
   "source": [
    "# bond distances\n",
    "r⃗ = 0.1:0.1:2\n",
    "hartee_energy = []\n",
    "dmrg_energy = []\n",
    "for r in r⃗\n",
    "    push!(hartee_energy, energy_at_bond(r,2)[1]);\n",
    "    push!(dmrg_energy, energy_at_bond(r,2)[2]);\n",
    "end;"
   ]
  },
  {
   "cell_type": "code",
   "execution_count": 7,
   "id": "cb441475",
   "metadata": {},
   "outputs": [
    {
     "data": {
      "text/plain": [
       "0.9"
      ]
     },
     "execution_count": 7,
     "metadata": {},
     "output_type": "execute_result"
    }
   ],
   "source": [
    "r = r⃗[findmin(dmrg_energy)[2]]"
   ]
  },
  {
   "cell_type": "markdown",
   "id": "c343780b",
   "metadata": {},
   "source": [
    "# H-chain overlap"
   ]
  },
  {
   "cell_type": "code",
   "execution_count": null,
   "id": "cb8d5236",
   "metadata": {},
   "outputs": [],
   "source": [
    "@time function create_molecule(m::String, r::Float64, rep::Int64)\n",
    "    s = []\n",
    "    for j in 1:rep\n",
    "        push!(s,Atom(m, j*r , 0.0, 0.0))\n",
    "    end\n",
    "    return Molecule(s)\n",
    "end;"
   ]
  },
  {
   "cell_type": "code",
   "execution_count": 106,
   "id": "e43979b7",
   "metadata": {},
   "outputs": [
    {
     "name": "stdout",
     "output_type": "stream",
     "text": [
      "  0.000010 seconds (16 allocations: 688 bytes)\n"
     ]
    }
   ],
   "source": [
    "@time Ms = create_molecule(\"H\",0.9,6);"
   ]
  },
  {
   "cell_type": "markdown",
   "id": "6a17d378",
   "metadata": {},
   "source": [
    "@time function create_Hs(Ms)\n",
    "    mols = []\n",
    "    for j in 1:Int(length(Ms.atoms)/2)\n",
    "        push!(mols,Ms.atoms[1:2j])\n",
    "    end\n",
    "    return mols \n",
    "end;\n",
    "@time mols = create_Hs(Ms);"
   ]
  },
  {
   "cell_type": "code",
   "execution_count": 91,
   "id": "bceb9b4d",
   "metadata": {},
   "outputs": [
    {
     "data": {
      "text/plain": [
       "Hartee_Fock_energy (generic function with 1 method)"
      ]
     },
     "execution_count": 91,
     "metadata": {},
     "output_type": "execute_result"
    }
   ],
   "source": [
    "function Hartee_Fock_energy(Ms)\n",
    "    Hamiltonian = []\n",
    "    states = []\n",
    "    HF_energy = []\n",
    "    mpos = []\n",
    "    s = siteinds(\"Electron\", length(Ms)+2)\n",
    "    for j in 1:Int(length(Ms.atoms)/2)\n",
    "        oh = molecular_orbital_hamiltonian(Molecule(Ms.atoms[1:2j]); basis=\"sto-3g\")\n",
    "        push!(Hamiltonian, oh.hamiltonian)\n",
    "        push!(states, oh.hartree_fock_state)\n",
    "        push!(HF_energy, oh.hartree_fock_energy)\n",
    "        push!(mpos,MPO(oh.hamiltonian,s[1:2j]))\n",
    "        \n",
    "    end\n",
    "    return Hamiltonian, HF_energy, states\n",
    "end"
   ]
  },
  {
   "cell_type": "code",
   "execution_count": 94,
   "id": "b7d3d16b",
   "metadata": {},
   "outputs": [
    {
     "name": "stdout",
     "output_type": "stream",
     "text": [
      "converged SCF energy = -1.09191404102006\n",
      "RHF Energy (Ha): -1.0919140410200572\n",
      "converged SCF energy = -2.12425973897278\n",
      "RHF Energy (Ha): -2.1242597389727784\n",
      "converged SCF energy = -3.16074336356199\n",
      "RHF Energy (Ha): -3.1607433635619895\n"
     ]
    }
   ],
   "source": [
    "h,e,s = Hartee_Fock_energy(Ms);"
   ]
  },
  {
   "cell_type": "code",
   "execution_count": null,
   "id": "b2c6033a",
   "metadata": {},
   "outputs": [],
   "source": [
    "function DMRG_energy()\n",
    "    s = siteinds(\"Electron\", length(Ms)+2)\n",
    "    mpos = []\n",
    "    \n",
    "    \n",
    "end"
   ]
  },
  {
   "cell_type": "code",
   "execution_count": null,
   "id": "d9b4fc8d",
   "metadata": {},
   "outputs": [],
   "source": []
  },
  {
   "cell_type": "code",
   "execution_count": null,
   "id": "fbad7e8f",
   "metadata": {},
   "outputs": [],
   "source": []
  }
 ],
 "metadata": {
  "kernelspec": {
   "display_name": "Julia 1.8.2",
   "language": "julia",
   "name": "julia-1.8"
  },
  "language_info": {
   "file_extension": ".jl",
   "mimetype": "application/julia",
   "name": "julia",
   "version": "1.8.2"
  }
 },
 "nbformat": 4,
 "nbformat_minor": 5
}
