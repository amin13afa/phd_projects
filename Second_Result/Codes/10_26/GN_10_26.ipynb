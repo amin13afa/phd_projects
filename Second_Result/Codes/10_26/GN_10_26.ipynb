{
 "cells": [
  {
   "cell_type": "markdown",
   "metadata": {
    "id": "tQ1r1bbb0yBv"
   },
   "source": [
    "# <img src=\"https://github.com/JuliaLang/julia-logo-graphics/raw/master/images/julia-logo-color.png\" height=\"100\" /> _Colab Notebook Template_\n",
    "\n",
    "## Instructions\n",
    "1. Work on a copy of this notebook: _File_ > _Save a copy in Drive_ (you will need a Google account). Alternatively, you can download the notebook using _File_ > _Download .ipynb_, then upload it to [Colab](https://colab.research.google.com/).\n",
    "2. If you need a GPU: _Runtime_ > _Change runtime type_ > _Harware accelerator_ = _GPU_.\n",
    "3. Execute the following cell (click on it and press Ctrl+Enter) to install Julia, IJulia and other packages (if needed, update `JULIA_VERSION` and the other parameters). This takes a couple of minutes.\n",
    "4. Reload this page (press Ctrl+R, or ⌘+R, or the F5 key) and continue to the next section.\n",
    "\n",
    "_Notes_:\n",
    "* If your Colab Runtime gets reset (e.g., due to inactivity), repeat steps 2, 3 and 4.\n",
    "* After installation, if you want to change the Julia version or activate/deactivate the GPU, you will need to reset the Runtime: _Runtime_ > _Factory reset runtime_ and repeat steps 3 and 4."
   ]
  },
  {
   "cell_type": "code",
   "execution_count": null,
   "metadata": {
    "colab": {
     "base_uri": "https://localhost:8080/"
    },
    "id": "GIeFXS0F0zww",
    "outputId": "e6ba6f23-083a-4b61-8ae1-c0e70569a168"
   },
   "outputs": [
    {
     "name": "stdout",
     "output_type": "stream",
     "text": [
      "Installing Julia 1.8.2 on the current Colab Runtime...\n",
      "2023-01-04 07:31:49 URL:https://storage.googleapis.com/julialang2/bin/linux/x64/1.8/julia-1.8.2-linux-x86_64.tar.gz [135859273/135859273] -> \"/tmp/julia.tar.gz\" [1]\n",
      "Installing Julia package IJulia...\n",
      "Installing Julia package BenchmarkTools...\n",
      "Installing Julia package ITensors...\n",
      "Installing Julia package Plots...\n",
      "Installing Julia package Measurements...\n"
     ]
    }
   ],
   "source": [
    "%%shell\n",
    "set -e\n",
    "\n",
    "#---------------------------------------------------#\n",
    "JULIA_VERSION=\"1.8.2\" # any version ≥ 0.7.0\n",
    "JULIA_PACKAGES=\"IJulia BenchmarkTools ITensors Plots Measurements\"\n",
    "JULIA_PACKAGES_IF_GPU=\"CUDA\" # or CuArrays for older Julia versions\n",
    "JULIA_NUM_THREADS=2\n",
    "#---------------------------------------------------#\n",
    "\n",
    "if [ -z `which julia` ]; then\n",
    "  # Install Julia\n",
    "  JULIA_VER=`cut -d '.' -f -2 <<< \"$JULIA_VERSION\"`\n",
    "  echo \"Installing Julia $JULIA_VERSION on the current Colab Runtime...\"\n",
    "  BASE_URL=\"https://julialang-s3.julialang.org/bin/linux/x64\"\n",
    "  URL=\"$BASE_URL/$JULIA_VER/julia-$JULIA_VERSION-linux-x86_64.tar.gz\"\n",
    "  wget -nv $URL -O /tmp/julia.tar.gz # -nv means \"not verbose\"\n",
    "  tar -x -f /tmp/julia.tar.gz -C /usr/local --strip-components 1\n",
    "  rm /tmp/julia.tar.gz\n",
    "\n",
    "  # Install Packages\n",
    "  nvidia-smi -L &> /dev/null && export GPU=1 || export GPU=0\n",
    "  if [ $GPU -eq 1 ]; then\n",
    "    JULIA_PACKAGES=\"$JULIA_PACKAGES $JULIA_PACKAGES_IF_GPU\"\n",
    "  fi\n",
    "  for PKG in `echo $JULIA_PACKAGES`; do\n",
    "    echo \"Installing Julia package $PKG...\"\n",
    "    julia -e 'using Pkg; pkg\"add '$PKG'; precompile;\"' &> /dev/null\n",
    "  done\n",
    "\n",
    "  # Install kernel and rename it to \"julia\"\n",
    "  echo \"Installing IJulia kernel...\"\n",
    "  julia -e 'using IJulia; IJulia.installkernel(\"julia\", env=Dict(\n",
    "      \"JULIA_NUM_THREADS\"=>\"'\"$JULIA_NUM_THREADS\"'\"))'\n",
    "  KERNEL_DIR=`julia -e \"using IJulia; print(IJulia.kerneldir())\"`\n",
    "  KERNEL_NAME=`ls -d \"$KERNEL_DIR\"/julia*`\n",
    "  mv -f $KERNEL_NAME \"$KERNEL_DIR\"/julia  \n",
    "\n",
    "  echo ''\n",
    "  echo \"Successfully installed `julia -v`!\"\n",
    "  echo \"Please reload this page (press Ctrl+R, ⌘+R, or the F5 key) then\"\n",
    "  echo \"jump to the 'Checking the Installation' section.\"\n",
    "fi"
   ]
  },
  {
   "cell_type": "markdown",
   "metadata": {
    "id": "-OS3Ac017T1i"
   },
   "source": [
    "# Checking the Installation\n",
    "The `versioninfo()` function should print your Julia version and some other info about the system:"
   ]
  },
  {
   "cell_type": "code",
   "execution_count": null,
   "metadata": {
    "colab": {
     "base_uri": "https://localhost:8080/"
    },
    "id": "EEzvvzCl1i0F",
    "outputId": "88652d2e-8abf-4f38-848d-50c03f07e182"
   },
   "outputs": [
    {
     "name": "stdout",
     "output_type": "stream",
     "text": [
      "Julia Version 1.8.2\n",
      "Commit 36034abf260 (2022-09-29 15:21 UTC)\n",
      "Platform Info:\n",
      "  OS: Linux (x86_64-linux-gnu)\n",
      "  CPU: 2 × AMD EPYC 7B12\n",
      "  WORD_SIZE: 64\n",
      "  LIBM: libopenlibm\n",
      "  LLVM: libLLVM-13.0.1 (ORCJIT, znver2)\n",
      "  Threads: 2 on 2 virtual cores\n",
      "Environment:\n",
      "  LD_LIBRARY_PATH = /usr/local/nvidia/lib:/usr/local/nvidia/lib64\n",
      "  LD_PRELOAD = /usr/lib/x86_64-linux-gnu/libtcmalloc.so.4\n",
      "  JULIA_NUM_THREADS = 2\n"
     ]
    }
   ],
   "source": [
    "versioninfo()"
   ]
  },
  {
   "cell_type": "code",
   "execution_count": null,
   "metadata": {
    "colab": {
     "base_uri": "https://localhost:8080/"
    },
    "id": "a4wYizoktaeX",
    "outputId": "9e2b1568-20fa-4963-c72d-ca1773ee0ef0"
   },
   "outputs": [
    {
     "data": {
      "text/plain": [
       "GrossNeveu2 (generic function with 1 method)"
      ]
     },
     "execution_count": 13,
     "metadata": {},
     "output_type": "execute_result"
    }
   ],
   "source": [
    "using ITensors\n",
    "using Plots\n",
    "using Measurements\n",
    "L = 60;\n",
    "N = 1;\n",
    "G² = 1.0;\n",
    "m = 0.5;\n",
    "sites = siteinds(\"Fermion\", L);\n",
    "ITensors.state(::StateName\"Plus\", ::SiteType\"Fermion\") = [1/sqrt(2) 1/sqrt(2)]\n",
    "function GrossNeveu2(l)\n",
    "    ampo = OpSum();\n",
    "    for j in 1:l-N\n",
    "        ampo -= 1im,\"C\",j,\"Cdag\",j+N\n",
    "        ampo += 1im,\"C\",j+N,\"Cdag\",j\n",
    "    end\n",
    "    for j in 1:N:l-N\n",
    "        ampo += (G²/2),\"C * Cdag\",j\n",
    "    end\n",
    "    for j in 1:l\n",
    "        ampo += (m*(-1)^j),\"C * Cdag\",j\n",
    "    end\n",
    "    ψ₀ = randomMPS(sites[1:l],10)\n",
    "    H = MPO(ampo, sites[1:l])\n",
    "    sweep = Sweeps([\n",
    "         \"maxdim\" \"mindim\" \"cutoff\" \n",
    "          100      2       1e-16    \n",
    "          300      10      1e-16    \n",
    "          700      20      1e-18    \n",
    "          1000     30      1e-20    \n",
    "          1024     50      1e-22\n",
    "         ])\n",
    "    e, ψ = dmrg(H, ψ₀, sweep)\n",
    "    return e,ψ,H\n",
    "end"
   ]
  },
  {
   "cell_type": "code",
   "execution_count": null,
   "metadata": {
    "colab": {
     "base_uri": "https://localhost:8080/"
    },
    "id": "2cY4ZRDgtidb",
    "outputId": "f570b62e-d01f-4282-e8a3-3c83e98c9600"
   },
   "outputs": [
    {
     "name": "stdout",
     "output_type": "stream",
     "text": [
      "j = 2\n",
      "After sweep 1 energy=-0.7807190010098665  maxlinkdim=2 maxerr=0.00E+00 time=0.002\n",
      "After sweep 2 energy=-0.7807764057091392  maxlinkdim=2 maxerr=0.00E+00 time=0.001\n",
      "After sweep 3 energy=-0.7807764064044064  maxlinkdim=2 maxerr=0.00E+00 time=0.001\n",
      "After sweep 4 energy=-0.7807764064044146  maxlinkdim=2 maxerr=0.00E+00 time=0.001\n",
      "After sweep 5 energy=-0.780776406404415  maxlinkdim=2 maxerr=0.00E+00 time=0.001\n",
      "j = 3\n",
      "After sweep 1 energy=-1.4287991766825228  maxlinkdim=2 maxerr=0.00E+00 time=0.005\n",
      "After sweep 2 energy=-1.429757056748452  maxlinkdim=2 maxerr=0.00E+00 time=0.003\n",
      "After sweep 3 energy=-1.4297616689770258  maxlinkdim=2 maxerr=0.00E+00 time=0.003\n",
      "After sweep 4 energy=-1.4297616941592417  maxlinkdim=2 maxerr=0.00E+00 time=0.003\n",
      "After sweep 5 energy=-1.4297616943067113  maxlinkdim=2 maxerr=0.00E+00 time=0.003\n",
      "j = 4\n",
      "After sweep 1 energy=-1.6289544399036024  maxlinkdim=4 maxerr=0.00E+00 time=0.005\n",
      "After sweep 2 energy=-1.6293924468340553  maxlinkdim=4 maxerr=0.00E+00 time=0.005\n",
      "After sweep 3 energy=-1.6293928361548171  maxlinkdim=4 maxerr=0.00E+00 time=0.005\n",
      "After sweep 4 energy=-1.6293928365449348  maxlinkdim=4 maxerr=0.00E+00 time=0.004\n",
      "After sweep 5 energy=-1.6293928365453643  maxlinkdim=4 maxerr=0.00E+00 time=0.004\n",
      "j = 5\n",
      "After sweep 1 energy=-2.222412817248053  maxlinkdim=4 maxerr=0.00E+00 time=0.007\n",
      "After sweep 2 energy=-2.306711490752787  maxlinkdim=4 maxerr=0.00E+00 time=0.006\n",
      "After sweep 3 energy=-2.3347137500745716  maxlinkdim=4 maxerr=0.00E+00 time=0.005\n",
      "After sweep 4 energy=-2.3374629917053755  maxlinkdim=4 maxerr=0.00E+00 time=0.007\n",
      "After sweep 5 energy=-2.337655990470286  maxlinkdim=4 maxerr=0.00E+00 time=0.005\n",
      "j = 6\n",
      "After sweep 1 energy=-2.5141736266007073  maxlinkdim=8 maxerr=0.00E+00 time=0.008\n",
      "After sweep 2 energy=-2.515849883008077  maxlinkdim=8 maxerr=0.00E+00 time=0.007\n",
      "After sweep 3 energy=-2.515852224006556  maxlinkdim=8 maxerr=0.00E+00 time=0.007\n",
      "After sweep 4 energy=-2.5158522253257773  maxlinkdim=8 maxerr=0.00E+00 time=0.008\n",
      "After sweep 5 energy=-2.515852225326302  maxlinkdim=8 maxerr=0.00E+00 time=0.007\n",
      "j = 7\n",
      "After sweep 1 energy=-3.2085236953253533  maxlinkdim=8 maxerr=0.00E+00 time=0.012\n",
      "After sweep 2 energy=-3.2361437053874855  maxlinkdim=8 maxerr=0.00E+00 time=0.010\n",
      "After sweep 3 energy=-3.241136582715763  maxlinkdim=8 maxerr=0.00E+00 time=0.010\n",
      "After sweep 4 energy=-3.241761539235915  maxlinkdim=8 maxerr=0.00E+00 time=0.010\n",
      "After sweep 5 energy=-3.241831822628659  maxlinkdim=8 maxerr=0.00E+00 time=0.010\n",
      "j = 8\n",
      "After sweep 1 energy=-3.4116174773006556  maxlinkdim=16 maxerr=0.00E+00 time=0.014\n",
      "After sweep 2 energy=-3.4133192568446766  maxlinkdim=16 maxerr=0.00E+00 time=0.015\n",
      "After sweep 3 energy=-3.4133513031385396  maxlinkdim=16 maxerr=0.00E+00 time=0.012\n",
      "After sweep 4 energy=-3.4133514165505057  maxlinkdim=16 maxerr=0.00E+00 time=0.013\n",
      "After sweep 5 energy=-3.413351416777822  maxlinkdim=16 maxerr=0.00E+00 time=0.013\n",
      "j = 9\n",
      "After sweep 1 energy=-4.094657771219175  maxlinkdim=16 maxerr=0.00E+00 time=0.013\n",
      "After sweep 2 energy=-4.1220909429705666  maxlinkdim=16 maxerr=0.00E+00 time=0.017\n",
      "After sweep 3 energy=-4.1378489870226565  maxlinkdim=16 maxerr=0.00E+00 time=0.013\n",
      "After sweep 4 energy=-4.143317587878932  maxlinkdim=16 maxerr=0.00E+00 time=0.013\n",
      "After sweep 5 energy=-4.144746779987359  maxlinkdim=16 maxerr=0.00E+00 time=0.013\n",
      "j = 10\n",
      "After sweep 1 energy=-4.29517993208062  maxlinkdim=32 maxerr=0.00E+00 time=0.016\n",
      "After sweep 2 energy=-4.312728331006006  maxlinkdim=32 maxerr=0.00E+00 time=0.019\n",
      "After sweep 3 energy=-4.314326242326787  maxlinkdim=32 maxerr=0.00E+00 time=0.020\n",
      "After sweep 4 energy=-4.314404131020316  maxlinkdim=32 maxerr=0.00E+00 time=0.021\n",
      "After sweep 5 energy=-4.314405714668285  maxlinkdim=32 maxerr=0.00E+00 time=0.022\n",
      "j = 11\n",
      "After sweep 1 energy=-5.036499823482761  maxlinkdim=32 maxerr=0.00E+00 time=0.022\n",
      "After sweep 2 energy=-5.045466635505311  maxlinkdim=32 maxerr=0.00E+00 time=0.025\n",
      "After sweep 3 energy=-5.047385885471959  maxlinkdim=32 maxerr=0.00E+00 time=0.024\n",
      "After sweep 4 energy=-5.047902350544196  maxlinkdim=32 maxerr=0.00E+00 time=0.028\n",
      "After sweep 5 energy=-5.048015733995919  maxlinkdim=32 maxerr=0.00E+00 time=0.026\n",
      "j = 12\n",
      "After sweep 1 energy=-5.176819833969406  maxlinkdim=40 maxerr=0.00E+00 time=0.026\n",
      "After sweep 2 energy=-5.208041922971027  maxlinkdim=64 maxerr=0.00E+00 time=0.035\n",
      "After sweep 3 energy=-5.215290054505747  maxlinkdim=64 maxerr=0.00E+00 time=0.072\n",
      "After sweep 4 energy=-5.2164860137432605  maxlinkdim=64 maxerr=0.00E+00 time=0.037\n",
      "After sweep 5 energy=-5.21662601286268  maxlinkdim=64 maxerr=0.00E+00 time=0.069\n",
      "j = 13\n",
      "After sweep 1 energy=-5.9245356206397615  maxlinkdim=40 maxerr=0.00E+00 time=0.029\n",
      "After sweep 2 energy=-5.940375791537266  maxlinkdim=64 maxerr=0.00E+00 time=0.074\n",
      "After sweep 3 energy=-5.946542242261895  maxlinkdim=64 maxerr=0.00E+00 time=0.068\n",
      "After sweep 4 energy=-5.9491120356606615  maxlinkdim=64 maxerr=0.00E+00 time=0.075\n",
      "After sweep 5 energy=-5.950219539833775  maxlinkdim=64 maxerr=0.00E+00 time=0.069\n",
      "j = 14\n",
      "After sweep 1 energy=-6.113316434883211  maxlinkdim=40 maxerr=0.00E+00 time=0.034\n",
      "After sweep 2 energy=-6.117914638674584  maxlinkdim=121 maxerr=6.76E-17 time=0.108\n",
      "After sweep 3 energy=-6.119015332822423  maxlinkdim=124 maxerr=9.06E-17 time=0.145\n",
      "After sweep 4 energy=-6.119222098330237  maxlinkdim=127 maxerr=8.99E-19 time=0.154\n",
      "After sweep 5 energy=-6.119260065718725  maxlinkdim=127 maxerr=3.01E-19 time=0.147\n",
      "j = 15\n",
      "After sweep 1 energy=-6.846830971760179  maxlinkdim=40 maxerr=0.00E+00 time=0.034\n",
      "After sweep 2 energy=-6.853464949812045  maxlinkdim=124 maxerr=9.75E-17 time=0.181\n",
      "After sweep 3 energy=-6.853639007346032  maxlinkdim=127 maxerr=8.84E-17 time=0.280\n",
      "After sweep 4 energy=-6.8537085408912155  maxlinkdim=128 maxerr=0.00E+00 time=0.291\n",
      "After sweep 5 energy=-6.853741709120233  maxlinkdim=128 maxerr=0.00E+00 time=0.293\n",
      "j = 16\n",
      "After sweep 1 energy=-7.00405555328069  maxlinkdim=40 maxerr=0.00E+00 time=0.043\n",
      "After sweep 2 energy=-7.014547791331754  maxlinkdim=159 maxerr=5.40E-17 time=0.265\n",
      "After sweep 3 energy=-7.01887428002753  maxlinkdim=236 maxerr=9.66E-17 time=0.679\n",
      "After sweep 4 energy=-7.02081440634098  maxlinkdim=254 maxerr=6.68E-19 time=0.757\n",
      "After sweep 5 energy=-7.021606908219001  maxlinkdim=253 maxerr=5.13E-19 time=0.739\n",
      "j = 17\n",
      "After sweep 1 energy=-7.740576396627829  maxlinkdim=40 maxerr=0.00E+00 time=0.052\n",
      "After sweep 2 energy=-7.754337677746335  maxlinkdim=159 maxerr=8.00E-17 time=0.736\n",
      "After sweep 3 energy=-7.755366542818902  maxlinkdim=248 maxerr=9.93E-17 time=1.336\n",
      "After sweep 4 energy=-7.755890438969925  maxlinkdim=256 maxerr=0.00E+00 time=1.610\n",
      "After sweep 5 energy=-7.756202879021347  maxlinkdim=256 maxerr=0.00E+00 time=1.629\n",
      "j = 18\n",
      "After sweep 1 energy=-7.9104497133837635  maxlinkdim=40 maxerr=0.00E+00 time=0.050\n",
      "After sweep 2 energy=-7.923840559147929  maxlinkdim=159 maxerr=7.87E-17 time=0.469\n",
      "After sweep 3 energy=-7.9244523361348875  maxlinkdim=305 maxerr=9.79E-17 time=2.205\n",
      "After sweep 4 energy=-7.924691267003753  maxlinkdim=453 maxerr=9.92E-19 time=4.641\n",
      "After sweep 5 energy=-7.924790668958162  maxlinkdim=466 maxerr=9.76E-19 time=4.364\n",
      "j = 19\n",
      "After sweep 1 energy=-8.636148300582418  maxlinkdim=40 maxerr=0.00E+00 time=0.052\n",
      "After sweep 2 energy=-8.654290531634087  maxlinkdim=159 maxerr=9.68E-17 time=0.603\n",
      "After sweep 3 energy=-8.656246239954827  maxlinkdim=358 maxerr=9.91E-17 time=3.774\n",
      "After sweep 4 energy=-8.657413627476279  maxlinkdim=509 maxerr=9.40E-19 time=9.450\n",
      "After sweep 5 energy=-8.658158078380687  maxlinkdim=511 maxerr=9.88E-19 time=11.006\n",
      "j = 20\n",
      "After sweep 1 energy=-8.815297521218879  maxlinkdim=40 maxerr=0.00E+00 time=0.065\n",
      "After sweep 2 energy=-8.824777607245359  maxlinkdim=159 maxerr=9.91E-17 time=0.654\n",
      "After sweep 3 energy=-8.826106074938663  maxlinkdim=399 maxerr=9.97E-17 time=5.572\n",
      "After sweep 4 energy=-8.826839583944057  maxlinkdim=775 maxerr=9.81E-19 time=22.732\n",
      "After sweep 5 energy=-8.827255511569701  maxlinkdim=854 maxerr=9.89E-19 time=27.181\n"
     ]
    }
   ],
   "source": [
    "mps_vector = Vector{MPS}()\n",
    "mpo_vector = Vector{MPO}()\n",
    "ovr_vector = Vector{Float64}()\n",
    "for j in 2:20\n",
    "    println(\"j = \",j)\n",
    "    e₀, ψ₀, H = GrossNeveu2(j)\n",
    "    nrm = norm(inner(H,ψ₀,H,ψ₀) - inner(ψ₀',H,ψ₀)^2)\n",
    "    push!(mps_vector, ψ₀)\n",
    "    push!(mpo_vector, H)\n",
    "    push!(ovr_vector,nrm)\n",
    "end"
   ]
  },
  {
   "cell_type": "code",
   "execution_count": null,
   "metadata": {
    "colab": {
     "base_uri": "https://localhost:8080/"
    },
    "id": "SiRZVmfwtq0P",
    "outputId": "252e5e9e-e513-44e9-ddb9-b390fdebfbdd"
   },
   "outputs": [
    {
     "name": "stdout",
     "output_type": "stream",
     "text": [
      "(dim=2|id=619|\"Fermion,Site,n=2\")\n",
      "(dim=2|id=947|\"Fermion,Site,n=3\")\n",
      "(dim=2|id=287|\"Fermion,Site,n=4\")\n",
      "(dim=2|id=509|\"Fermion,Site,n=5\")\n",
      "(dim=2|id=908|\"Fermion,Site,n=6\")\n",
      "(dim=2|id=513|\"Fermion,Site,n=7\")\n",
      "(dim=2|id=106|\"Fermion,Site,n=8\")\n",
      "(dim=2|id=20|\"Fermion,Site,n=9\")\n",
      "(dim=2|id=57|\"Fermion,Site,n=10\")\n",
      "(dim=2|id=993|\"Fermion,Site,n=11\")\n",
      "(dim=2|id=608|\"Fermion,Site,n=12\")\n",
      "(dim=2|id=517|\"Fermion,Site,n=13\")\n",
      "(dim=2|id=945|\"Fermion,Site,n=14\")\n",
      "(dim=2|id=385|\"Fermion,Site,n=15\")\n",
      "(dim=2|id=628|\"Fermion,Site,n=16\")\n",
      "(dim=2|id=159|\"Fermion,Site,n=17\")\n",
      "(dim=2|id=304|\"Fermion,Site,n=18\")\n",
      "(dim=2|id=255|\"Fermion,Site,n=19\")\n",
      "(dim=2|id=343|\"Fermion,Site,n=20\")\n"
     ]
    }
   ],
   "source": [
    "for j in 1:length(mps_vector)\n",
    "    println(inds(mps_vector[j][end])[1])\n",
    "end"
   ]
  },
  {
   "cell_type": "code",
   "execution_count": null,
   "metadata": {
    "colab": {
     "base_uri": "https://localhost:8080/"
    },
    "id": "qiGsr_Umt4TD",
    "outputId": "18f2d8eb-3c2e-400b-84b7-7a472609de65"
   },
   "outputs": [
    {
     "data": {
      "text/plain": [
       "OverLap (generic function with 1 method)"
      ]
     },
     "execution_count": 16,
     "metadata": {},
     "output_type": "execute_result"
    }
   ],
   "source": [
    "function OverLap(ψ₁::MPS, ψ₂::MPS)\n",
    "    len₁ = length(ψ₁)\n",
    "    len₂ = length(ψ₂)\n",
    "    v = ITensor(1.0)\n",
    "    #v1 = state(inds(ψ₂[len₂-1])[1], \"Plus\")\n",
    "    v2 = state(inds(ψ₂[len₂])[1], \"Plus\")\n",
    "    println(inds(ψ₂[len₂])[1])\n",
    "    for j in 1:len₁\n",
    "        v = v*dag(ψ₁[j])*ψ₂[j]\n",
    "    end\n",
    "    #v = v*dag(v1)*ψ₂[len₂-1]\n",
    "    v = v*dag(v2)*ψ₂[len₂]\n",
    "    return inner(v,v), norm(v)\n",
    "end"
   ]
  },
  {
   "cell_type": "code",
   "execution_count": null,
   "metadata": {
    "colab": {
     "base_uri": "https://localhost:8080/"
    },
    "id": "I7p4OKNYt6Ff",
    "outputId": "21d143ac-412c-4fd7-ba2a-dbcd4b3a9254"
   },
   "outputs": [
    {
     "name": "stdout",
     "output_type": "stream",
     "text": [
      "(dim=2|id=947|\"Fermion,Site,n=3\")\n",
      "(dim=2|id=287|\"Fermion,Site,n=4\")\n",
      "(dim=2|id=509|\"Fermion,Site,n=5\")\n",
      "(dim=2|id=908|\"Fermion,Site,n=6\")\n",
      "(dim=2|id=513|\"Fermion,Site,n=7\")\n",
      "(dim=2|id=106|\"Fermion,Site,n=8\")\n",
      "(dim=2|id=20|\"Fermion,Site,n=9\")\n",
      "(dim=2|id=57|\"Fermion,Site,n=10\")\n",
      "(dim=2|id=993|\"Fermion,Site,n=11\")\n",
      "(dim=2|id=608|\"Fermion,Site,n=12\")\n",
      "(dim=2|id=517|\"Fermion,Site,n=13\")\n",
      "(dim=2|id=945|\"Fermion,Site,n=14\")\n",
      "(dim=2|id=385|\"Fermion,Site,n=15\")\n",
      "(dim=2|id=628|\"Fermion,Site,n=16\")\n",
      "(dim=2|id=159|\"Fermion,Site,n=17\")\n",
      "(dim=2|id=304|\"Fermion,Site,n=18\")\n",
      "(dim=2|id=255|\"Fermion,Site,n=19\")\n",
      "(dim=2|id=343|\"Fermion,Site,n=20\")\n"
     ]
    }
   ],
   "source": [
    "ol_inner = Vector{Float64}()\n",
    "ol_norm = Vector{Float64}()\n",
    "for j in 1:(length(mps_vector)-1)\n",
    "    inn, nrm = OverLap(mps_vector[j],mps_vector[j+1])\n",
    "    push!(ol_inner, inn)\n",
    "    push!(ol_norm, nrm)\n",
    "end"
   ]
  },
  {
   "cell_type": "code",
   "execution_count": null,
   "metadata": {
    "colab": {
     "base_uri": "https://localhost:8080/"
    },
    "id": "d6DfPn27vlq9",
    "outputId": "c20f32d4-1987-4274-e124-5c5311a5e1a4"
   },
   "outputs": [
    {
     "name": "stdout",
     "output_type": "stream",
     "text": [
      "18"
     ]
    },
    {
     "data": {
      "text/plain": [
       "(7.483238206743512e-9, 0.022847048340492695)"
      ]
     },
     "execution_count": 18,
     "metadata": {},
     "output_type": "execute_result"
    }
   ],
   "source": [
    "err = [sqrt(x) for x in ovr_vector[1:end-1]];\n",
    "print(length(err))\n",
    "minimum(err), maximum(err)"
   ]
  },
  {
   "cell_type": "code",
   "execution_count": null,
   "metadata": {
    "colab": {
     "base_uri": "https://localhost:8080/",
     "height": 421
    },
    "id": "Jce93YKAvugd",
    "outputId": "284b53cc-e6ab-455d-d597-99f1ab347cc7"
   },
   "outputs": [
    {
     "data": {
      "image/svg+xml": [
       "<?xml version=\"1.0\" encoding=\"utf-8\"?>\n",
       "<svg xmlns=\"http://www.w3.org/2000/svg\" xmlns:xlink=\"http://www.w3.org/1999/xlink\" width=\"600\" height=\"400\" viewBox=\"0 0 2400 1600\">\n",
       "<defs>\n",
       "  <clipPath id=\"clip950\">\n",
       "    <rect x=\"0\" y=\"0\" width=\"2400\" height=\"1600\"/>\n",
       "  </clipPath>\n",
       "</defs>\n",
       "<path clip-path=\"url(#clip950)\" d=\"\n",
       "M0 1600 L2400 1600 L2400 0 L0 0  Z\n",
       "  \" fill=\"#ffffff\" fill-rule=\"evenodd\" fill-opacity=\"1\"/>\n",
       "<defs>\n",
       "  <clipPath id=\"clip951\">\n",
       "    <rect x=\"480\" y=\"0\" width=\"1681\" height=\"1600\"/>\n",
       "  </clipPath>\n",
       "</defs>\n",
       "<path clip-path=\"url(#clip950)\" d=\"\n",
       "M219.866 1423.18 L2352.76 1423.18 L2352.76 123.472 L219.866 123.472  Z\n",
       "  \" fill=\"#ffffff\" fill-rule=\"evenodd\" fill-opacity=\"1\"/>\n",
       "<defs>\n",
       "  <clipPath id=\"clip952\">\n",
       "    <rect x=\"219\" y=\"123\" width=\"2134\" height=\"1301\"/>\n",
       "  </clipPath>\n",
       "</defs>\n",
       "<polyline clip-path=\"url(#clip952)\" style=\"stroke:#000000; stroke-linecap:round; stroke-linejoin:round; stroke-width:2; stroke-opacity:0.1; fill:none\" points=\"\n",
       "  323.91,1423.18 323.91,123.472 \n",
       "  \"/>\n",
       "<polyline clip-path=\"url(#clip952)\" style=\"stroke:#000000; stroke-linecap:round; stroke-linejoin:round; stroke-width:2; stroke-opacity:0.1; fill:none\" points=\"\n",
       "  427.953,1423.18 427.953,123.472 \n",
       "  \"/>\n",
       "<polyline clip-path=\"url(#clip952)\" style=\"stroke:#000000; stroke-linecap:round; stroke-linejoin:round; stroke-width:2; stroke-opacity:0.1; fill:none\" points=\"\n",
       "  531.996,1423.18 531.996,123.472 \n",
       "  \"/>\n",
       "<polyline clip-path=\"url(#clip952)\" style=\"stroke:#000000; stroke-linecap:round; stroke-linejoin:round; stroke-width:2; stroke-opacity:0.1; fill:none\" points=\"\n",
       "  636.04,1423.18 636.04,123.472 \n",
       "  \"/>\n",
       "<polyline clip-path=\"url(#clip952)\" style=\"stroke:#000000; stroke-linecap:round; stroke-linejoin:round; stroke-width:2; stroke-opacity:0.1; fill:none\" points=\"\n",
       "  740.083,1423.18 740.083,123.472 \n",
       "  \"/>\n",
       "<polyline clip-path=\"url(#clip952)\" style=\"stroke:#000000; stroke-linecap:round; stroke-linejoin:round; stroke-width:2; stroke-opacity:0.1; fill:none\" points=\"\n",
       "  844.127,1423.18 844.127,123.472 \n",
       "  \"/>\n",
       "<polyline clip-path=\"url(#clip952)\" style=\"stroke:#000000; stroke-linecap:round; stroke-linejoin:round; stroke-width:2; stroke-opacity:0.1; fill:none\" points=\"\n",
       "  948.17,1423.18 948.17,123.472 \n",
       "  \"/>\n",
       "<polyline clip-path=\"url(#clip952)\" style=\"stroke:#000000; stroke-linecap:round; stroke-linejoin:round; stroke-width:2; stroke-opacity:0.1; fill:none\" points=\"\n",
       "  1052.21,1423.18 1052.21,123.472 \n",
       "  \"/>\n",
       "<polyline clip-path=\"url(#clip952)\" style=\"stroke:#000000; stroke-linecap:round; stroke-linejoin:round; stroke-width:2; stroke-opacity:0.1; fill:none\" points=\"\n",
       "  1156.26,1423.18 1156.26,123.472 \n",
       "  \"/>\n",
       "<polyline clip-path=\"url(#clip952)\" style=\"stroke:#000000; stroke-linecap:round; stroke-linejoin:round; stroke-width:2; stroke-opacity:0.1; fill:none\" points=\"\n",
       "  1260.3,1423.18 1260.3,123.472 \n",
       "  \"/>\n",
       "<polyline clip-path=\"url(#clip952)\" style=\"stroke:#000000; stroke-linecap:round; stroke-linejoin:round; stroke-width:2; stroke-opacity:0.1; fill:none\" points=\"\n",
       "  1364.34,1423.18 1364.34,123.472 \n",
       "  \"/>\n",
       "<polyline clip-path=\"url(#clip952)\" style=\"stroke:#000000; stroke-linecap:round; stroke-linejoin:round; stroke-width:2; stroke-opacity:0.1; fill:none\" points=\"\n",
       "  1468.39,1423.18 1468.39,123.472 \n",
       "  \"/>\n",
       "<polyline clip-path=\"url(#clip952)\" style=\"stroke:#000000; stroke-linecap:round; stroke-linejoin:round; stroke-width:2; stroke-opacity:0.1; fill:none\" points=\"\n",
       "  1572.43,1423.18 1572.43,123.472 \n",
       "  \"/>\n",
       "<polyline clip-path=\"url(#clip952)\" style=\"stroke:#000000; stroke-linecap:round; stroke-linejoin:round; stroke-width:2; stroke-opacity:0.1; fill:none\" points=\"\n",
       "  1676.47,1423.18 1676.47,123.472 \n",
       "  \"/>\n",
       "<polyline clip-path=\"url(#clip952)\" style=\"stroke:#000000; stroke-linecap:round; stroke-linejoin:round; stroke-width:2; stroke-opacity:0.1; fill:none\" points=\"\n",
       "  1780.52,1423.18 1780.52,123.472 \n",
       "  \"/>\n",
       "<polyline clip-path=\"url(#clip952)\" style=\"stroke:#000000; stroke-linecap:round; stroke-linejoin:round; stroke-width:2; stroke-opacity:0.1; fill:none\" points=\"\n",
       "  1884.56,1423.18 1884.56,123.472 \n",
       "  \"/>\n",
       "<polyline clip-path=\"url(#clip952)\" style=\"stroke:#000000; stroke-linecap:round; stroke-linejoin:round; stroke-width:2; stroke-opacity:0.1; fill:none\" points=\"\n",
       "  1988.6,1423.18 1988.6,123.472 \n",
       "  \"/>\n",
       "<polyline clip-path=\"url(#clip952)\" style=\"stroke:#000000; stroke-linecap:round; stroke-linejoin:round; stroke-width:2; stroke-opacity:0.1; fill:none\" points=\"\n",
       "  2092.65,1423.18 2092.65,123.472 \n",
       "  \"/>\n",
       "<polyline clip-path=\"url(#clip952)\" style=\"stroke:#000000; stroke-linecap:round; stroke-linejoin:round; stroke-width:2; stroke-opacity:0.1; fill:none\" points=\"\n",
       "  2196.69,1423.18 2196.69,123.472 \n",
       "  \"/>\n",
       "<polyline clip-path=\"url(#clip952)\" style=\"stroke:#000000; stroke-linecap:round; stroke-linejoin:round; stroke-width:2; stroke-opacity:0.1; fill:none\" points=\"\n",
       "  2300.73,1423.18 2300.73,123.472 \n",
       "  \"/>\n",
       "<polyline clip-path=\"url(#clip950)\" style=\"stroke:#000000; stroke-linecap:round; stroke-linejoin:round; stroke-width:4; stroke-opacity:1; fill:none\" points=\"\n",
       "  219.866,1423.18 2352.76,1423.18 \n",
       "  \"/>\n",
       "<polyline clip-path=\"url(#clip950)\" style=\"stroke:#000000; stroke-linecap:round; stroke-linejoin:round; stroke-width:4; stroke-opacity:1; fill:none\" points=\"\n",
       "  323.91,1423.18 323.91,1404.28 \n",
       "  \"/>\n",
       "<polyline clip-path=\"url(#clip950)\" style=\"stroke:#000000; stroke-linecap:round; stroke-linejoin:round; stroke-width:4; stroke-opacity:1; fill:none\" points=\"\n",
       "  427.953,1423.18 427.953,1404.28 \n",
       "  \"/>\n",
       "<polyline clip-path=\"url(#clip950)\" style=\"stroke:#000000; stroke-linecap:round; stroke-linejoin:round; stroke-width:4; stroke-opacity:1; fill:none\" points=\"\n",
       "  531.996,1423.18 531.996,1404.28 \n",
       "  \"/>\n",
       "<polyline clip-path=\"url(#clip950)\" style=\"stroke:#000000; stroke-linecap:round; stroke-linejoin:round; stroke-width:4; stroke-opacity:1; fill:none\" points=\"\n",
       "  636.04,1423.18 636.04,1404.28 \n",
       "  \"/>\n",
       "<polyline clip-path=\"url(#clip950)\" style=\"stroke:#000000; stroke-linecap:round; stroke-linejoin:round; stroke-width:4; stroke-opacity:1; fill:none\" points=\"\n",
       "  740.083,1423.18 740.083,1404.28 \n",
       "  \"/>\n",
       "<polyline clip-path=\"url(#clip950)\" style=\"stroke:#000000; stroke-linecap:round; stroke-linejoin:round; stroke-width:4; stroke-opacity:1; fill:none\" points=\"\n",
       "  844.127,1423.18 844.127,1404.28 \n",
       "  \"/>\n",
       "<polyline clip-path=\"url(#clip950)\" style=\"stroke:#000000; stroke-linecap:round; stroke-linejoin:round; stroke-width:4; stroke-opacity:1; fill:none\" points=\"\n",
       "  948.17,1423.18 948.17,1404.28 \n",
       "  \"/>\n",
       "<polyline clip-path=\"url(#clip950)\" style=\"stroke:#000000; stroke-linecap:round; stroke-linejoin:round; stroke-width:4; stroke-opacity:1; fill:none\" points=\"\n",
       "  1052.21,1423.18 1052.21,1404.28 \n",
       "  \"/>\n",
       "<polyline clip-path=\"url(#clip950)\" style=\"stroke:#000000; stroke-linecap:round; stroke-linejoin:round; stroke-width:4; stroke-opacity:1; fill:none\" points=\"\n",
       "  1156.26,1423.18 1156.26,1404.28 \n",
       "  \"/>\n",
       "<polyline clip-path=\"url(#clip950)\" style=\"stroke:#000000; stroke-linecap:round; stroke-linejoin:round; stroke-width:4; stroke-opacity:1; fill:none\" points=\"\n",
       "  1260.3,1423.18 1260.3,1404.28 \n",
       "  \"/>\n",
       "<polyline clip-path=\"url(#clip950)\" style=\"stroke:#000000; stroke-linecap:round; stroke-linejoin:round; stroke-width:4; stroke-opacity:1; fill:none\" points=\"\n",
       "  1364.34,1423.18 1364.34,1404.28 \n",
       "  \"/>\n",
       "<polyline clip-path=\"url(#clip950)\" style=\"stroke:#000000; stroke-linecap:round; stroke-linejoin:round; stroke-width:4; stroke-opacity:1; fill:none\" points=\"\n",
       "  1468.39,1423.18 1468.39,1404.28 \n",
       "  \"/>\n",
       "<polyline clip-path=\"url(#clip950)\" style=\"stroke:#000000; stroke-linecap:round; stroke-linejoin:round; stroke-width:4; stroke-opacity:1; fill:none\" points=\"\n",
       "  1572.43,1423.18 1572.43,1404.28 \n",
       "  \"/>\n",
       "<polyline clip-path=\"url(#clip950)\" style=\"stroke:#000000; stroke-linecap:round; stroke-linejoin:round; stroke-width:4; stroke-opacity:1; fill:none\" points=\"\n",
       "  1676.47,1423.18 1676.47,1404.28 \n",
       "  \"/>\n",
       "<polyline clip-path=\"url(#clip950)\" style=\"stroke:#000000; stroke-linecap:round; stroke-linejoin:round; stroke-width:4; stroke-opacity:1; fill:none\" points=\"\n",
       "  1780.52,1423.18 1780.52,1404.28 \n",
       "  \"/>\n",
       "<polyline clip-path=\"url(#clip950)\" style=\"stroke:#000000; stroke-linecap:round; stroke-linejoin:round; stroke-width:4; stroke-opacity:1; fill:none\" points=\"\n",
       "  1884.56,1423.18 1884.56,1404.28 \n",
       "  \"/>\n",
       "<polyline clip-path=\"url(#clip950)\" style=\"stroke:#000000; stroke-linecap:round; stroke-linejoin:round; stroke-width:4; stroke-opacity:1; fill:none\" points=\"\n",
       "  1988.6,1423.18 1988.6,1404.28 \n",
       "  \"/>\n",
       "<polyline clip-path=\"url(#clip950)\" style=\"stroke:#000000; stroke-linecap:round; stroke-linejoin:round; stroke-width:4; stroke-opacity:1; fill:none\" points=\"\n",
       "  2092.65,1423.18 2092.65,1404.28 \n",
       "  \"/>\n",
       "<polyline clip-path=\"url(#clip950)\" style=\"stroke:#000000; stroke-linecap:round; stroke-linejoin:round; stroke-width:4; stroke-opacity:1; fill:none\" points=\"\n",
       "  2196.69,1423.18 2196.69,1404.28 \n",
       "  \"/>\n",
       "<polyline clip-path=\"url(#clip950)\" style=\"stroke:#000000; stroke-linecap:round; stroke-linejoin:round; stroke-width:4; stroke-opacity:1; fill:none\" points=\"\n",
       "  2300.73,1423.18 2300.73,1404.28 \n",
       "  \"/>\n",
       "<path clip-path=\"url(#clip950)\" d=\"M314.292 1481.64 L321.931 1481.64 L321.931 1455.28 L313.62 1456.95 L313.62 1452.69 L321.884 1451.02 L326.56 1451.02 L326.56 1481.64 L334.199 1481.64 L334.199 1485.58 L314.292 1485.58 L314.292 1481.64 Z\" fill=\"#000000\" fill-rule=\"evenodd\" fill-opacity=\"1\" /><path clip-path=\"url(#clip950)\" d=\"M432.201 1466.95 Q435.557 1467.66 437.432 1469.93 Q439.33 1472.2 439.33 1475.53 Q439.33 1480.65 435.812 1483.45 Q432.293 1486.25 425.812 1486.25 Q423.636 1486.25 421.321 1485.81 Q419.029 1485.39 416.576 1484.54 L416.576 1480.02 Q418.52 1481.16 420.835 1481.74 Q423.15 1482.32 425.673 1482.32 Q430.071 1482.32 432.363 1480.58 Q434.678 1478.84 434.678 1475.53 Q434.678 1472.48 432.525 1470.77 Q430.395 1469.03 426.576 1469.03 L422.548 1469.03 L422.548 1465.19 L426.761 1465.19 Q430.21 1465.19 432.039 1463.82 Q433.867 1462.43 433.867 1459.84 Q433.867 1457.18 431.969 1455.77 Q430.094 1454.33 426.576 1454.33 Q424.654 1454.33 422.455 1454.75 Q420.256 1455.16 417.617 1456.04 L417.617 1451.88 Q420.279 1451.14 422.594 1450.77 Q424.932 1450.39 426.992 1450.39 Q432.316 1450.39 435.418 1452.83 Q438.52 1455.23 438.52 1459.35 Q438.52 1462.22 436.877 1464.21 Q435.233 1466.18 432.201 1466.95 Z\" fill=\"#000000\" fill-rule=\"evenodd\" fill-opacity=\"1\" /><path clip-path=\"url(#clip950)\" d=\"M522.274 1451.02 L540.631 1451.02 L540.631 1454.96 L526.557 1454.96 L526.557 1463.43 Q527.575 1463.08 528.594 1462.92 Q529.612 1462.73 530.631 1462.73 Q536.418 1462.73 539.797 1465.9 Q543.177 1469.08 543.177 1474.49 Q543.177 1480.07 539.705 1483.17 Q536.233 1486.25 529.913 1486.25 Q527.737 1486.25 525.469 1485.88 Q523.223 1485.51 520.816 1484.77 L520.816 1480.07 Q522.899 1481.2 525.121 1481.76 Q527.344 1482.32 529.821 1482.32 Q533.825 1482.32 536.163 1480.21 Q538.501 1478.1 538.501 1474.49 Q538.501 1470.88 536.163 1468.77 Q533.825 1466.67 529.821 1466.67 Q527.946 1466.67 526.071 1467.08 Q524.219 1467.5 522.274 1468.38 L522.274 1451.02 Z\" fill=\"#000000\" fill-rule=\"evenodd\" fill-opacity=\"1\" /><path clip-path=\"url(#clip950)\" d=\"M624.929 1451.02 L647.151 1451.02 L647.151 1453.01 L634.605 1485.58 L629.72 1485.58 L641.526 1454.96 L624.929 1454.96 L624.929 1451.02 Z\" fill=\"#000000\" fill-rule=\"evenodd\" fill-opacity=\"1\" /><path clip-path=\"url(#clip950)\" d=\"M730.384 1484.86 L730.384 1480.6 Q732.143 1481.44 733.949 1481.88 Q735.755 1482.32 737.491 1482.32 Q742.12 1482.32 744.551 1479.21 Q747.005 1476.09 747.352 1469.75 Q746.009 1471.74 743.949 1472.8 Q741.889 1473.87 739.389 1473.87 Q734.204 1473.87 731.171 1470.74 Q728.162 1467.59 728.162 1462.15 Q728.162 1456.83 731.31 1453.61 Q734.458 1450.39 739.69 1450.39 Q745.685 1450.39 748.833 1455 Q752.004 1459.58 752.004 1468.33 Q752.004 1476.51 748.116 1481.39 Q744.25 1486.25 737.699 1486.25 Q735.94 1486.25 734.134 1485.9 Q732.329 1485.56 730.384 1484.86 M739.69 1470.21 Q742.838 1470.21 744.667 1468.06 Q746.518 1465.9 746.518 1462.15 Q746.518 1458.43 744.667 1456.27 Q742.838 1454.1 739.69 1454.1 Q736.542 1454.1 734.69 1456.27 Q732.861 1458.43 732.861 1462.15 Q732.861 1465.9 734.69 1468.06 Q736.542 1470.21 739.69 1470.21 Z\" fill=\"#000000\" fill-rule=\"evenodd\" fill-opacity=\"1\" /><path clip-path=\"url(#clip950)\" d=\"M819.428 1481.64 L827.067 1481.64 L827.067 1455.28 L818.756 1456.95 L818.756 1452.69 L827.02 1451.02 L831.696 1451.02 L831.696 1481.64 L839.335 1481.64 L839.335 1485.58 L819.428 1485.58 L819.428 1481.64 Z\" fill=\"#000000\" fill-rule=\"evenodd\" fill-opacity=\"1\" /><path clip-path=\"url(#clip950)\" d=\"M849.59 1481.64 L857.228 1481.64 L857.228 1455.28 L848.918 1456.95 L848.918 1452.69 L857.182 1451.02 L861.858 1451.02 L861.858 1481.64 L869.497 1481.64 L869.497 1485.58 L849.59 1485.58 L849.59 1481.64 Z\" fill=\"#000000\" fill-rule=\"evenodd\" fill-opacity=\"1\" /><path clip-path=\"url(#clip950)\" d=\"M923.182 1481.64 L930.821 1481.64 L930.821 1455.28 L922.51 1456.95 L922.51 1452.69 L930.774 1451.02 L935.45 1451.02 L935.45 1481.64 L943.089 1481.64 L943.089 1485.58 L923.182 1485.58 L923.182 1481.64 Z\" fill=\"#000000\" fill-rule=\"evenodd\" fill-opacity=\"1\" /><path clip-path=\"url(#clip950)\" d=\"M966.7 1466.95 Q970.057 1467.66 971.931 1469.93 Q973.83 1472.2 973.83 1475.53 Q973.83 1480.65 970.311 1483.45 Q966.793 1486.25 960.311 1486.25 Q958.135 1486.25 955.82 1485.81 Q953.529 1485.39 951.075 1484.54 L951.075 1480.02 Q953.02 1481.16 955.334 1481.74 Q957.649 1482.32 960.172 1482.32 Q964.57 1482.32 966.862 1480.58 Q969.177 1478.84 969.177 1475.53 Q969.177 1472.48 967.024 1470.77 Q964.894 1469.03 961.075 1469.03 L957.047 1469.03 L957.047 1465.19 L961.26 1465.19 Q964.709 1465.19 966.538 1463.82 Q968.367 1462.43 968.367 1459.84 Q968.367 1457.18 966.469 1455.77 Q964.594 1454.33 961.075 1454.33 Q959.154 1454.33 956.955 1454.75 Q954.756 1455.16 952.117 1456.04 L952.117 1451.88 Q954.779 1451.14 957.094 1450.77 Q959.432 1450.39 961.492 1450.39 Q966.816 1450.39 969.918 1452.83 Q973.019 1455.23 973.019 1459.35 Q973.019 1462.22 971.376 1464.21 Q969.732 1466.18 966.7 1466.95 Z\" fill=\"#000000\" fill-rule=\"evenodd\" fill-opacity=\"1\" /><path clip-path=\"url(#clip950)\" d=\"M1027.4 1481.64 L1035.04 1481.64 L1035.04 1455.28 L1026.73 1456.95 L1026.73 1452.69 L1034.99 1451.02 L1039.67 1451.02 L1039.67 1481.64 L1047.31 1481.64 L1047.31 1485.58 L1027.4 1485.58 L1027.4 1481.64 Z\" fill=\"#000000\" fill-rule=\"evenodd\" fill-opacity=\"1\" /><path clip-path=\"url(#clip950)\" d=\"M1056.8 1451.02 L1075.15 1451.02 L1075.15 1454.96 L1061.08 1454.96 L1061.08 1463.43 Q1062.1 1463.08 1063.12 1462.92 Q1064.13 1462.73 1065.15 1462.73 Q1070.94 1462.73 1074.32 1465.9 Q1077.7 1469.08 1077.7 1474.49 Q1077.7 1480.07 1074.23 1483.17 Q1070.76 1486.25 1064.44 1486.25 Q1062.26 1486.25 1059.99 1485.88 Q1057.75 1485.51 1055.34 1484.77 L1055.34 1480.07 Q1057.42 1481.2 1059.64 1481.76 Q1061.87 1482.32 1064.34 1482.32 Q1068.35 1482.32 1070.69 1480.21 Q1073.02 1478.1 1073.02 1474.49 Q1073.02 1470.88 1070.69 1468.77 Q1068.35 1466.67 1064.34 1466.67 Q1062.47 1466.67 1060.59 1467.08 Q1058.74 1467.5 1056.8 1468.38 L1056.8 1451.02 Z\" fill=\"#000000\" fill-rule=\"evenodd\" fill-opacity=\"1\" /><path clip-path=\"url(#clip950)\" d=\"M1131.4 1481.64 L1139.03 1481.64 L1139.03 1455.28 L1130.72 1456.95 L1130.72 1452.69 L1138.99 1451.02 L1143.66 1451.02 L1143.66 1481.64 L1151.3 1481.64 L1151.3 1485.58 L1131.4 1485.58 L1131.4 1481.64 Z\" fill=\"#000000\" fill-rule=\"evenodd\" fill-opacity=\"1\" /><path clip-path=\"url(#clip950)\" d=\"M1159.57 1451.02 L1181.79 1451.02 L1181.79 1453.01 L1169.24 1485.58 L1164.36 1485.58 L1176.16 1454.96 L1159.57 1454.96 L1159.57 1451.02 Z\" fill=\"#000000\" fill-rule=\"evenodd\" fill-opacity=\"1\" /><path clip-path=\"url(#clip950)\" d=\"M1235.08 1481.64 L1242.72 1481.64 L1242.72 1455.28 L1234.41 1456.95 L1234.41 1452.69 L1242.67 1451.02 L1247.35 1451.02 L1247.35 1481.64 L1254.99 1481.64 L1254.99 1485.58 L1235.08 1485.58 L1235.08 1481.64 Z\" fill=\"#000000\" fill-rule=\"evenodd\" fill-opacity=\"1\" /><path clip-path=\"url(#clip950)\" d=\"M1264.57 1484.86 L1264.57 1480.6 Q1266.33 1481.44 1268.14 1481.88 Q1269.94 1482.32 1271.68 1482.32 Q1276.31 1482.32 1278.74 1479.21 Q1281.19 1476.09 1281.54 1469.75 Q1280.2 1471.74 1278.14 1472.8 Q1276.08 1473.87 1273.58 1473.87 Q1268.39 1473.87 1265.36 1470.74 Q1262.35 1467.59 1262.35 1462.15 Q1262.35 1456.83 1265.5 1453.61 Q1268.65 1450.39 1273.88 1450.39 Q1279.87 1450.39 1283.02 1455 Q1286.19 1459.58 1286.19 1468.33 Q1286.19 1476.51 1282.3 1481.39 Q1278.44 1486.25 1271.89 1486.25 Q1270.13 1486.25 1268.32 1485.9 Q1266.52 1485.56 1264.57 1484.86 M1273.88 1470.21 Q1277.02 1470.21 1278.85 1468.06 Q1280.71 1465.9 1280.71 1462.15 Q1280.71 1458.43 1278.85 1456.27 Q1277.02 1454.1 1273.88 1454.1 Q1270.73 1454.1 1268.88 1456.27 Q1267.05 1458.43 1267.05 1462.15 Q1267.05 1465.9 1268.88 1468.06 Q1270.73 1470.21 1273.88 1470.21 Z\" fill=\"#000000\" fill-rule=\"evenodd\" fill-opacity=\"1\" /><path clip-path=\"url(#clip950)\" d=\"M1343.73 1481.64 L1360.05 1481.64 L1360.05 1485.58 L1338.11 1485.58 L1338.11 1481.64 Q1340.77 1478.89 1345.35 1474.26 Q1349.96 1469.61 1351.14 1468.27 Q1353.38 1465.74 1354.26 1464.01 Q1355.17 1462.25 1355.17 1460.56 Q1355.17 1457.8 1353.22 1456.07 Q1351.3 1454.33 1348.2 1454.33 Q1346 1454.33 1343.55 1455.09 Q1341.11 1455.86 1338.34 1457.41 L1338.34 1452.69 Q1341.16 1451.55 1343.61 1450.97 Q1346.07 1450.39 1348.11 1450.39 Q1353.48 1450.39 1356.67 1453.08 Q1359.86 1455.77 1359.86 1460.26 Q1359.86 1462.39 1359.05 1464.31 Q1358.27 1466.2 1356.16 1468.8 Q1355.58 1469.47 1352.48 1472.69 Q1349.38 1475.88 1343.73 1481.64 Z\" fill=\"#000000\" fill-rule=\"evenodd\" fill-opacity=\"1\" /><path clip-path=\"url(#clip950)\" d=\"M1370.67 1481.64 L1378.31 1481.64 L1378.31 1455.28 L1370 1456.95 L1370 1452.69 L1378.27 1451.02 L1382.94 1451.02 L1382.94 1481.64 L1390.58 1481.64 L1390.58 1485.58 L1370.67 1485.58 L1370.67 1481.64 Z\" fill=\"#000000\" fill-rule=\"evenodd\" fill-opacity=\"1\" /><path clip-path=\"url(#clip950)\" d=\"M1447.48 1481.64 L1463.8 1481.64 L1463.8 1485.58 L1441.86 1485.58 L1441.86 1481.64 Q1444.52 1478.89 1449.1 1474.26 Q1453.71 1469.61 1454.89 1468.27 Q1457.14 1465.74 1458.02 1464.01 Q1458.92 1462.25 1458.92 1460.56 Q1458.92 1457.8 1456.98 1456.07 Q1455.05 1454.33 1451.95 1454.33 Q1449.75 1454.33 1447.3 1455.09 Q1444.87 1455.86 1442.09 1457.41 L1442.09 1452.69 Q1444.91 1451.55 1447.37 1450.97 Q1449.82 1450.39 1451.86 1450.39 Q1457.23 1450.39 1460.42 1453.08 Q1463.62 1455.77 1463.62 1460.26 Q1463.62 1462.39 1462.81 1464.31 Q1462.02 1466.2 1459.91 1468.8 Q1459.34 1469.47 1456.23 1472.69 Q1453.13 1475.88 1447.48 1481.64 Z\" fill=\"#000000\" fill-rule=\"evenodd\" fill-opacity=\"1\" /><path clip-path=\"url(#clip950)\" d=\"M1487.79 1466.95 Q1491.14 1467.66 1493.02 1469.93 Q1494.91 1472.2 1494.91 1475.53 Q1494.91 1480.65 1491.4 1483.45 Q1487.88 1486.25 1481.4 1486.25 Q1479.22 1486.25 1476.91 1485.81 Q1474.61 1485.39 1472.16 1484.54 L1472.16 1480.02 Q1474.1 1481.16 1476.42 1481.74 Q1478.73 1482.32 1481.26 1482.32 Q1485.66 1482.32 1487.95 1480.58 Q1490.26 1478.84 1490.26 1475.53 Q1490.26 1472.48 1488.11 1470.77 Q1485.98 1469.03 1482.16 1469.03 L1478.13 1469.03 L1478.13 1465.19 L1482.35 1465.19 Q1485.79 1465.19 1487.62 1463.82 Q1489.45 1462.43 1489.45 1459.84 Q1489.45 1457.18 1487.55 1455.77 Q1485.68 1454.33 1482.16 1454.33 Q1480.24 1454.33 1478.04 1454.75 Q1475.84 1455.16 1473.2 1456.04 L1473.2 1451.88 Q1475.86 1451.14 1478.18 1450.77 Q1480.52 1450.39 1482.58 1450.39 Q1487.9 1450.39 1491 1452.83 Q1494.1 1455.23 1494.1 1459.35 Q1494.1 1462.22 1492.46 1464.21 Q1490.82 1466.18 1487.79 1466.95 Z\" fill=\"#000000\" fill-rule=\"evenodd\" fill-opacity=\"1\" /><path clip-path=\"url(#clip950)\" d=\"M1551.7 1481.64 L1568.02 1481.64 L1568.02 1485.58 L1546.08 1485.58 L1546.08 1481.64 Q1548.74 1478.89 1553.32 1474.26 Q1557.93 1469.61 1559.11 1468.27 Q1561.35 1465.74 1562.23 1464.01 Q1563.14 1462.25 1563.14 1460.56 Q1563.14 1457.8 1561.19 1456.07 Q1559.27 1454.33 1556.17 1454.33 Q1553.97 1454.33 1551.52 1455.09 Q1549.09 1455.86 1546.31 1457.41 L1546.31 1452.69 Q1549.13 1451.55 1551.59 1450.97 Q1554.04 1450.39 1556.08 1450.39 Q1561.45 1450.39 1564.64 1453.08 Q1567.84 1455.77 1567.84 1460.26 Q1567.84 1462.39 1567.03 1464.31 Q1566.24 1466.2 1564.13 1468.8 Q1563.55 1469.47 1560.45 1472.69 Q1557.35 1475.88 1551.7 1481.64 Z\" fill=\"#000000\" fill-rule=\"evenodd\" fill-opacity=\"1\" /><path clip-path=\"url(#clip950)\" d=\"M1577.88 1451.02 L1596.24 1451.02 L1596.24 1454.96 L1582.16 1454.96 L1582.16 1463.43 Q1583.18 1463.08 1584.2 1462.92 Q1585.22 1462.73 1586.24 1462.73 Q1592.03 1462.73 1595.4 1465.9 Q1598.78 1469.08 1598.78 1474.49 Q1598.78 1480.07 1595.31 1483.17 Q1591.84 1486.25 1585.52 1486.25 Q1583.34 1486.25 1581.08 1485.88 Q1578.83 1485.51 1576.42 1484.77 L1576.42 1480.07 Q1578.51 1481.2 1580.73 1481.76 Q1582.95 1482.32 1585.43 1482.32 Q1589.43 1482.32 1591.77 1480.21 Q1594.11 1478.1 1594.11 1474.49 Q1594.11 1470.88 1591.77 1468.77 Q1589.43 1466.67 1585.43 1466.67 Q1583.55 1466.67 1581.68 1467.08 Q1579.83 1467.5 1577.88 1468.38 L1577.88 1451.02 Z\" fill=\"#000000\" fill-rule=\"evenodd\" fill-opacity=\"1\" /><path clip-path=\"url(#clip950)\" d=\"M1655.7 1481.64 L1672.02 1481.64 L1672.02 1485.58 L1650.07 1485.58 L1650.07 1481.64 Q1652.74 1478.89 1657.32 1474.26 Q1661.93 1469.61 1663.11 1468.27 Q1665.35 1465.74 1666.23 1464.01 Q1667.13 1462.25 1667.13 1460.56 Q1667.13 1457.8 1665.19 1456.07 Q1663.27 1454.33 1660.17 1454.33 Q1657.97 1454.33 1655.51 1455.09 Q1653.08 1455.86 1650.3 1457.41 L1650.3 1452.69 Q1653.13 1451.55 1655.58 1450.97 Q1658.04 1450.39 1660.07 1450.39 Q1665.44 1450.39 1668.64 1453.08 Q1671.83 1455.77 1671.83 1460.26 Q1671.83 1462.39 1671.02 1464.31 Q1670.24 1466.2 1668.13 1468.8 Q1667.55 1469.47 1664.45 1472.69 Q1661.35 1475.88 1655.7 1481.64 Z\" fill=\"#000000\" fill-rule=\"evenodd\" fill-opacity=\"1\" /><path clip-path=\"url(#clip950)\" d=\"M1680.65 1451.02 L1702.87 1451.02 L1702.87 1453.01 L1690.33 1485.58 L1685.44 1485.58 L1697.25 1454.96 L1680.65 1454.96 L1680.65 1451.02 Z\" fill=\"#000000\" fill-rule=\"evenodd\" fill-opacity=\"1\" /><path clip-path=\"url(#clip950)\" d=\"M1759.38 1481.64 L1775.7 1481.64 L1775.7 1485.58 L1753.76 1485.58 L1753.76 1481.64 Q1756.42 1478.89 1761 1474.26 Q1765.61 1469.61 1766.79 1468.27 Q1769.04 1465.74 1769.92 1464.01 Q1770.82 1462.25 1770.82 1460.56 Q1770.82 1457.8 1768.87 1456.07 Q1766.95 1454.33 1763.85 1454.33 Q1761.65 1454.33 1759.2 1455.09 Q1756.77 1455.86 1753.99 1457.41 L1753.99 1452.69 Q1756.81 1451.55 1759.27 1450.97 Q1761.72 1450.39 1763.76 1450.39 Q1769.13 1450.39 1772.32 1453.08 Q1775.52 1455.77 1775.52 1460.26 Q1775.52 1462.39 1774.71 1464.31 Q1773.92 1466.2 1771.81 1468.8 Q1771.23 1469.47 1768.13 1472.69 Q1765.03 1475.88 1759.38 1481.64 Z\" fill=\"#000000\" fill-rule=\"evenodd\" fill-opacity=\"1\" /><path clip-path=\"url(#clip950)\" d=\"M1785.66 1484.86 L1785.66 1480.6 Q1787.42 1481.44 1789.22 1481.88 Q1791.03 1482.32 1792.76 1482.32 Q1797.39 1482.32 1799.82 1479.21 Q1802.28 1476.09 1802.62 1469.75 Q1801.28 1471.74 1799.22 1472.8 Q1797.16 1473.87 1794.66 1473.87 Q1789.48 1473.87 1786.44 1470.74 Q1783.43 1467.59 1783.43 1462.15 Q1783.43 1456.83 1786.58 1453.61 Q1789.73 1450.39 1794.96 1450.39 Q1800.96 1450.39 1804.11 1455 Q1807.28 1459.58 1807.28 1468.33 Q1807.28 1476.51 1803.39 1481.39 Q1799.52 1486.25 1792.97 1486.25 Q1791.21 1486.25 1789.41 1485.9 Q1787.6 1485.56 1785.66 1484.86 M1794.96 1470.21 Q1798.11 1470.21 1799.94 1468.06 Q1801.79 1465.9 1801.79 1462.15 Q1801.79 1458.43 1799.94 1456.27 Q1798.11 1454.1 1794.96 1454.1 Q1791.81 1454.1 1789.96 1456.27 Q1788.13 1458.43 1788.13 1462.15 Q1788.13 1465.9 1789.96 1468.06 Q1791.81 1470.21 1794.96 1470.21 Z\" fill=\"#000000\" fill-rule=\"evenodd\" fill-opacity=\"1\" /><path clip-path=\"url(#clip950)\" d=\"M1874.02 1466.95 Q1877.37 1467.66 1879.25 1469.93 Q1881.15 1472.2 1881.15 1475.53 Q1881.15 1480.65 1877.63 1483.45 Q1874.11 1486.25 1867.63 1486.25 Q1865.45 1486.25 1863.14 1485.81 Q1860.85 1485.39 1858.39 1484.54 L1858.39 1480.02 Q1860.34 1481.16 1862.65 1481.74 Q1864.97 1482.32 1867.49 1482.32 Q1871.89 1482.32 1874.18 1480.58 Q1876.49 1478.84 1876.49 1475.53 Q1876.49 1472.48 1874.34 1470.77 Q1872.21 1469.03 1868.39 1469.03 L1864.36 1469.03 L1864.36 1465.19 L1868.58 1465.19 Q1872.03 1465.19 1873.85 1463.82 Q1875.68 1462.43 1875.68 1459.84 Q1875.68 1457.18 1873.79 1455.77 Q1871.91 1454.33 1868.39 1454.33 Q1866.47 1454.33 1864.27 1454.75 Q1862.07 1455.16 1859.43 1456.04 L1859.43 1451.88 Q1862.1 1451.14 1864.41 1450.77 Q1866.75 1450.39 1868.81 1450.39 Q1874.13 1450.39 1877.23 1452.83 Q1880.34 1455.23 1880.34 1459.35 Q1880.34 1462.22 1878.69 1464.21 Q1877.05 1466.18 1874.02 1466.95 Z\" fill=\"#000000\" fill-rule=\"evenodd\" fill-opacity=\"1\" /><path clip-path=\"url(#clip950)\" d=\"M1890.82 1481.64 L1898.46 1481.64 L1898.46 1455.28 L1890.15 1456.95 L1890.15 1452.69 L1898.41 1451.02 L1903.09 1451.02 L1903.09 1481.64 L1910.73 1481.64 L1910.73 1485.58 L1890.82 1485.58 L1890.82 1481.64 Z\" fill=\"#000000\" fill-rule=\"evenodd\" fill-opacity=\"1\" /><path clip-path=\"url(#clip950)\" d=\"M1977.77 1466.95 Q1981.13 1467.66 1983 1469.93 Q1984.9 1472.2 1984.9 1475.53 Q1984.9 1480.65 1981.38 1483.45 Q1977.86 1486.25 1971.38 1486.25 Q1969.21 1486.25 1966.89 1485.81 Q1964.6 1485.39 1962.15 1484.54 L1962.15 1480.02 Q1964.09 1481.16 1966.41 1481.74 Q1968.72 1482.32 1971.24 1482.32 Q1975.64 1482.32 1977.93 1480.58 Q1980.25 1478.84 1980.25 1475.53 Q1980.25 1472.48 1978.09 1470.77 Q1975.97 1469.03 1972.15 1469.03 L1968.12 1469.03 L1968.12 1465.19 L1972.33 1465.19 Q1975.78 1465.19 1977.61 1463.82 Q1979.44 1462.43 1979.44 1459.84 Q1979.44 1457.18 1977.54 1455.77 Q1975.66 1454.33 1972.15 1454.33 Q1970.22 1454.33 1968.03 1454.75 Q1965.83 1455.16 1963.19 1456.04 L1963.19 1451.88 Q1965.85 1451.14 1968.16 1450.77 Q1970.5 1450.39 1972.56 1450.39 Q1977.89 1450.39 1980.99 1452.83 Q1984.09 1455.23 1984.09 1459.35 Q1984.09 1462.22 1982.45 1464.21 Q1980.8 1466.18 1977.77 1466.95 Z\" fill=\"#000000\" fill-rule=\"evenodd\" fill-opacity=\"1\" /><path clip-path=\"url(#clip950)\" d=\"M2007.93 1466.95 Q2011.29 1467.66 2013.16 1469.93 Q2015.06 1472.2 2015.06 1475.53 Q2015.06 1480.65 2011.54 1483.45 Q2008.03 1486.25 2001.54 1486.25 Q1999.37 1486.25 1997.05 1485.81 Q1994.76 1485.39 1992.31 1484.54 L1992.31 1480.02 Q1994.25 1481.16 1996.57 1481.74 Q1998.88 1482.32 2001.4 1482.32 Q2005.8 1482.32 2008.09 1480.58 Q2010.41 1478.84 2010.41 1475.53 Q2010.41 1472.48 2008.26 1470.77 Q2006.13 1469.03 2002.31 1469.03 L1998.28 1469.03 L1998.28 1465.19 L2002.49 1465.19 Q2005.94 1465.19 2007.77 1463.82 Q2009.6 1462.43 2009.6 1459.84 Q2009.6 1457.18 2007.7 1455.77 Q2005.83 1454.33 2002.31 1454.33 Q2000.39 1454.33 1998.19 1454.75 Q1995.99 1455.16 1993.35 1456.04 L1993.35 1451.88 Q1996.01 1451.14 1998.33 1450.77 Q2000.66 1450.39 2002.72 1450.39 Q2008.05 1450.39 2011.15 1452.83 Q2014.25 1455.23 2014.25 1459.35 Q2014.25 1462.22 2012.61 1464.21 Q2010.97 1466.18 2007.93 1466.95 Z\" fill=\"#000000\" fill-rule=\"evenodd\" fill-opacity=\"1\" /><path clip-path=\"url(#clip950)\" d=\"M2081.99 1466.95 Q2085.34 1467.66 2087.22 1469.93 Q2089.12 1472.2 2089.12 1475.53 Q2089.12 1480.65 2085.6 1483.45 Q2082.08 1486.25 2075.6 1486.25 Q2073.42 1486.25 2071.11 1485.81 Q2068.82 1485.39 2066.36 1484.54 L2066.36 1480.02 Q2068.31 1481.16 2070.62 1481.74 Q2072.94 1482.32 2075.46 1482.32 Q2079.86 1482.32 2082.15 1480.58 Q2084.46 1478.84 2084.46 1475.53 Q2084.46 1472.48 2082.31 1470.77 Q2080.18 1469.03 2076.36 1469.03 L2072.34 1469.03 L2072.34 1465.19 L2076.55 1465.19 Q2080 1465.19 2081.83 1463.82 Q2083.65 1462.43 2083.65 1459.84 Q2083.65 1457.18 2081.76 1455.77 Q2079.88 1454.33 2076.36 1454.33 Q2074.44 1454.33 2072.24 1454.75 Q2070.04 1455.16 2067.4 1456.04 L2067.4 1451.88 Q2070.07 1451.14 2072.38 1450.77 Q2074.72 1450.39 2076.78 1450.39 Q2082.1 1450.39 2085.21 1452.83 Q2088.31 1455.23 2088.31 1459.35 Q2088.31 1462.22 2086.66 1464.21 Q2085.02 1466.18 2081.99 1466.95 Z\" fill=\"#000000\" fill-rule=\"evenodd\" fill-opacity=\"1\" /><path clip-path=\"url(#clip950)\" d=\"M2098.03 1451.02 L2116.39 1451.02 L2116.39 1454.96 L2102.31 1454.96 L2102.31 1463.43 Q2103.33 1463.08 2104.35 1462.92 Q2105.37 1462.73 2106.39 1462.73 Q2112.17 1462.73 2115.55 1465.9 Q2118.93 1469.08 2118.93 1474.49 Q2118.93 1480.07 2115.46 1483.17 Q2111.99 1486.25 2105.67 1486.25 Q2103.49 1486.25 2101.22 1485.88 Q2098.98 1485.51 2096.57 1484.77 L2096.57 1480.07 Q2098.65 1481.2 2100.88 1481.76 Q2103.1 1482.32 2105.58 1482.32 Q2109.58 1482.32 2111.92 1480.21 Q2114.26 1478.1 2114.26 1474.49 Q2114.26 1470.88 2111.92 1468.77 Q2109.58 1466.67 2105.58 1466.67 Q2103.7 1466.67 2101.83 1467.08 Q2099.97 1467.5 2098.03 1468.38 L2098.03 1451.02 Z\" fill=\"#000000\" fill-rule=\"evenodd\" fill-opacity=\"1\" /><path clip-path=\"url(#clip950)\" d=\"M2185.98 1466.95 Q2189.34 1467.66 2191.22 1469.93 Q2193.11 1472.2 2193.11 1475.53 Q2193.11 1480.65 2189.6 1483.45 Q2186.08 1486.25 2179.6 1486.25 Q2177.42 1486.25 2175.11 1485.81 Q2172.81 1485.39 2170.36 1484.54 L2170.36 1480.02 Q2172.3 1481.16 2174.62 1481.74 Q2176.93 1482.32 2179.46 1482.32 Q2183.86 1482.32 2186.15 1480.58 Q2188.46 1478.84 2188.46 1475.53 Q2188.46 1472.48 2186.31 1470.77 Q2184.18 1469.03 2180.36 1469.03 L2176.33 1469.03 L2176.33 1465.19 L2180.55 1465.19 Q2183.99 1465.19 2185.82 1463.82 Q2187.65 1462.43 2187.65 1459.84 Q2187.65 1457.18 2185.75 1455.77 Q2183.88 1454.33 2180.36 1454.33 Q2178.44 1454.33 2176.24 1454.75 Q2174.04 1455.16 2171.4 1456.04 L2171.4 1451.88 Q2174.06 1451.14 2176.38 1450.77 Q2178.72 1450.39 2180.78 1450.39 Q2186.1 1450.39 2189.2 1452.83 Q2192.3 1455.23 2192.3 1459.35 Q2192.3 1462.22 2190.66 1464.21 Q2189.02 1466.18 2185.98 1466.95 Z\" fill=\"#000000\" fill-rule=\"evenodd\" fill-opacity=\"1\" /><path clip-path=\"url(#clip950)\" d=\"M2200.8 1451.02 L2223.02 1451.02 L2223.02 1453.01 L2210.48 1485.58 L2205.59 1485.58 L2217.4 1454.96 L2200.8 1454.96 L2200.8 1451.02 Z\" fill=\"#000000\" fill-rule=\"evenodd\" fill-opacity=\"1\" /><path clip-path=\"url(#clip950)\" d=\"M2289.67 1466.95 Q2293.03 1467.66 2294.9 1469.93 Q2296.8 1472.2 2296.8 1475.53 Q2296.8 1480.65 2293.28 1483.45 Q2289.76 1486.25 2283.28 1486.25 Q2281.1 1486.25 2278.79 1485.81 Q2276.5 1485.39 2274.04 1484.54 L2274.04 1480.02 Q2275.99 1481.16 2278.3 1481.74 Q2280.62 1482.32 2283.14 1482.32 Q2287.54 1482.32 2289.83 1480.58 Q2292.15 1478.84 2292.15 1475.53 Q2292.15 1472.48 2289.99 1470.77 Q2287.86 1469.03 2284.04 1469.03 L2280.02 1469.03 L2280.02 1465.19 L2284.23 1465.19 Q2287.68 1465.19 2289.51 1463.82 Q2291.34 1462.43 2291.34 1459.84 Q2291.34 1457.18 2289.44 1455.77 Q2287.56 1454.33 2284.04 1454.33 Q2282.12 1454.33 2279.92 1454.75 Q2277.73 1455.16 2275.09 1456.04 L2275.09 1451.88 Q2277.75 1451.14 2280.06 1450.77 Q2282.4 1450.39 2284.46 1450.39 Q2289.79 1450.39 2292.89 1452.83 Q2295.99 1455.23 2295.99 1459.35 Q2295.99 1462.22 2294.35 1464.21 Q2292.7 1466.18 2289.67 1466.95 Z\" fill=\"#000000\" fill-rule=\"evenodd\" fill-opacity=\"1\" /><path clip-path=\"url(#clip950)\" d=\"M2305.8 1484.86 L2305.8 1480.6 Q2307.56 1481.44 2309.37 1481.88 Q2311.17 1482.32 2312.91 1482.32 Q2317.54 1482.32 2319.97 1479.21 Q2322.42 1476.09 2322.77 1469.75 Q2321.43 1471.74 2319.37 1472.8 Q2317.31 1473.87 2314.81 1473.87 Q2309.62 1473.87 2306.59 1470.74 Q2303.58 1467.59 2303.58 1462.15 Q2303.58 1456.83 2306.73 1453.61 Q2309.88 1450.39 2315.11 1450.39 Q2321.1 1450.39 2324.25 1455 Q2327.42 1459.58 2327.42 1468.33 Q2327.42 1476.51 2323.54 1481.39 Q2319.67 1486.25 2313.12 1486.25 Q2311.36 1486.25 2309.55 1485.9 Q2307.75 1485.56 2305.8 1484.86 M2315.11 1470.21 Q2318.26 1470.21 2320.09 1468.06 Q2321.94 1465.9 2321.94 1462.15 Q2321.94 1458.43 2320.09 1456.27 Q2318.26 1454.1 2315.11 1454.1 Q2311.96 1454.1 2310.11 1456.27 Q2308.28 1458.43 2308.28 1462.15 Q2308.28 1465.9 2310.11 1468.06 Q2311.96 1470.21 2315.11 1470.21 Z\" fill=\"#000000\" fill-rule=\"evenodd\" fill-opacity=\"1\" /><path clip-path=\"url(#clip950)\" d=\"M1115.18 1522.08 L1115.18 1528.35 Q1111.52 1526.6 1108.28 1525.74 Q1105.03 1524.88 1102.01 1524.88 Q1096.76 1524.88 1093.89 1526.92 Q1091.06 1528.96 1091.06 1532.71 Q1091.06 1535.87 1092.94 1537.49 Q1094.85 1539.08 1100.13 1540.07 L1104.01 1540.86 Q1111.21 1542.23 1114.61 1545.7 Q1118.05 1549.14 1118.05 1554.93 Q1118.05 1561.84 1113.4 1565.4 Q1108.79 1568.97 1099.84 1568.97 Q1096.47 1568.97 1092.65 1568.2 Q1088.86 1567.44 1084.79 1565.94 L1084.79 1559.32 Q1088.7 1561.52 1092.46 1562.63 Q1096.22 1563.75 1099.84 1563.75 Q1105.35 1563.75 1108.34 1561.58 Q1111.33 1559.42 1111.33 1555.41 Q1111.33 1551.91 1109.17 1549.93 Q1107.04 1547.96 1102.14 1546.97 L1098.22 1546.21 Q1091.03 1544.78 1087.81 1541.72 Q1084.6 1538.67 1084.6 1533.22 Q1084.6 1526.92 1089.02 1523.29 Q1093.48 1519.66 1101.28 1519.66 Q1104.62 1519.66 1108.09 1520.27 Q1111.56 1520.87 1115.18 1522.08 Z\" fill=\"#000000\" fill-rule=\"evenodd\" fill-opacity=\"1\" /><path clip-path=\"url(#clip950)\" d=\"M1127.82 1532.4 L1133.68 1532.4 L1133.68 1568.04 L1127.82 1568.04 L1127.82 1532.4 M1127.82 1518.52 L1133.68 1518.52 L1133.68 1525.93 L1127.82 1525.93 L1127.82 1518.52 Z\" fill=\"#000000\" fill-rule=\"evenodd\" fill-opacity=\"1\" /><path clip-path=\"url(#clip950)\" d=\"M1151.72 1522.27 L1151.72 1532.4 L1163.79 1532.4 L1163.79 1536.95 L1151.72 1536.95 L1151.72 1556.3 Q1151.72 1560.66 1152.9 1561.9 Q1154.11 1563.14 1157.77 1563.14 L1163.79 1563.14 L1163.79 1568.04 L1157.77 1568.04 Q1150.99 1568.04 1148.41 1565.53 Q1145.84 1562.98 1145.84 1556.3 L1145.84 1536.95 L1141.54 1536.95 L1141.54 1532.4 L1145.84 1532.4 L1145.84 1522.27 L1151.72 1522.27 Z\" fill=\"#000000\" fill-rule=\"evenodd\" fill-opacity=\"1\" /><path clip-path=\"url(#clip950)\" d=\"M1201.98 1548.76 L1201.98 1551.62 L1175.05 1551.62 Q1175.44 1557.67 1178.68 1560.85 Q1181.96 1564 1187.79 1564 Q1191.16 1564 1194.31 1563.17 Q1197.49 1562.35 1200.61 1560.69 L1200.61 1566.23 Q1197.46 1567.57 1194.15 1568.27 Q1190.84 1568.97 1187.44 1568.97 Q1178.91 1568.97 1173.91 1564 Q1168.94 1559.04 1168.94 1550.57 Q1168.94 1541.82 1173.65 1536.69 Q1178.4 1531.54 1186.42 1531.54 Q1193.61 1531.54 1197.78 1536.18 Q1201.98 1540.8 1201.98 1548.76 M1196.12 1547.04 Q1196.06 1542.23 1193.42 1539.37 Q1190.81 1536.5 1186.48 1536.5 Q1181.58 1536.5 1178.62 1539.27 Q1175.69 1542.04 1175.25 1547.07 L1196.12 1547.04 Z\" fill=\"#000000\" fill-rule=\"evenodd\" fill-opacity=\"1\" /><path clip-path=\"url(#clip950)\" d=\"M1232.57 1520.52 L1241.23 1520.52 L1262.3 1560.28 L1262.3 1520.52 L1268.53 1520.52 L1268.53 1568.04 L1259.88 1568.04 L1238.81 1528.29 L1238.81 1568.04 L1232.57 1568.04 L1232.57 1520.52 Z\" fill=\"#000000\" fill-rule=\"evenodd\" fill-opacity=\"1\" /><path clip-path=\"url(#clip950)\" d=\"M1280.47 1553.98 L1280.47 1532.4 L1286.33 1532.4 L1286.33 1553.75 Q1286.33 1558.81 1288.3 1561.36 Q1290.27 1563.87 1294.22 1563.87 Q1298.96 1563.87 1301.7 1560.85 Q1304.47 1557.83 1304.47 1552.61 L1304.47 1532.4 L1310.33 1532.4 L1310.33 1568.04 L1304.47 1568.04 L1304.47 1562.57 Q1302.34 1565.82 1299.5 1567.41 Q1296.7 1568.97 1292.98 1568.97 Q1286.84 1568.97 1283.65 1565.15 Q1280.47 1561.33 1280.47 1553.98 M1295.21 1531.54 L1295.21 1531.54 Z\" fill=\"#000000\" fill-rule=\"evenodd\" fill-opacity=\"1\" /><path clip-path=\"url(#clip950)\" d=\"M1350.14 1539.24 Q1352.34 1535.29 1355.39 1533.41 Q1358.45 1531.54 1362.59 1531.54 Q1368.16 1531.54 1371.18 1535.45 Q1374.21 1539.33 1374.21 1546.53 L1374.21 1568.04 L1368.32 1568.04 L1368.32 1546.72 Q1368.32 1541.59 1366.5 1539.11 Q1364.69 1536.63 1360.96 1536.63 Q1356.41 1536.63 1353.77 1539.65 Q1351.13 1542.68 1351.13 1547.9 L1351.13 1568.04 L1345.24 1568.04 L1345.24 1546.72 Q1345.24 1541.56 1343.43 1539.11 Q1341.61 1536.63 1337.83 1536.63 Q1333.34 1536.63 1330.7 1539.68 Q1328.05 1542.71 1328.05 1547.9 L1328.05 1568.04 L1322.17 1568.04 L1322.17 1532.4 L1328.05 1532.4 L1328.05 1537.93 Q1330.06 1534.66 1332.86 1533.1 Q1335.66 1531.54 1339.51 1531.54 Q1343.4 1531.54 1346.1 1533.51 Q1348.84 1535.48 1350.14 1539.24 Z\" fill=\"#000000\" fill-rule=\"evenodd\" fill-opacity=\"1\" /><path clip-path=\"url(#clip950)\" d=\"M1411.48 1550.25 Q1411.48 1543.79 1408.8 1540.13 Q1406.16 1536.44 1401.51 1536.44 Q1396.87 1536.44 1394.19 1540.13 Q1391.55 1543.79 1391.55 1550.25 Q1391.55 1556.71 1394.19 1560.4 Q1396.87 1564.07 1401.51 1564.07 Q1406.16 1564.07 1408.8 1560.4 Q1411.48 1556.71 1411.48 1550.25 M1391.55 1537.81 Q1393.4 1534.62 1396.2 1533.1 Q1399.03 1531.54 1402.95 1531.54 Q1409.44 1531.54 1413.48 1536.69 Q1417.56 1541.85 1417.56 1550.25 Q1417.56 1558.65 1413.48 1563.81 Q1409.44 1568.97 1402.95 1568.97 Q1399.03 1568.97 1396.2 1567.44 Q1393.4 1565.88 1391.55 1562.7 L1391.55 1568.04 L1385.66 1568.04 L1385.66 1518.52 L1391.55 1518.52 L1391.55 1537.81 Z\" fill=\"#000000\" fill-rule=\"evenodd\" fill-opacity=\"1\" /><path clip-path=\"url(#clip950)\" d=\"M1457.76 1548.76 L1457.76 1551.62 L1430.83 1551.62 Q1431.21 1557.67 1434.46 1560.85 Q1437.74 1564 1443.56 1564 Q1446.93 1564 1450.08 1563.17 Q1453.27 1562.35 1456.39 1560.69 L1456.39 1566.23 Q1453.24 1567.57 1449.93 1568.27 Q1446.62 1568.97 1443.21 1568.97 Q1434.68 1568.97 1429.68 1564 Q1424.72 1559.04 1424.72 1550.57 Q1424.72 1541.82 1429.43 1536.69 Q1434.17 1531.54 1442.19 1531.54 Q1449.38 1531.54 1453.55 1536.18 Q1457.76 1540.8 1457.76 1548.76 M1451.9 1547.04 Q1451.84 1542.23 1449.19 1539.37 Q1446.58 1536.5 1442.25 1536.5 Q1437.35 1536.5 1434.39 1539.27 Q1431.47 1542.04 1431.02 1547.07 L1451.9 1547.04 Z\" fill=\"#000000\" fill-rule=\"evenodd\" fill-opacity=\"1\" /><path clip-path=\"url(#clip950)\" d=\"M1488.02 1537.87 Q1487.04 1537.3 1485.86 1537.04 Q1484.71 1536.76 1483.31 1536.76 Q1478.35 1536.76 1475.67 1540 Q1473.03 1543.22 1473.03 1549.27 L1473.03 1568.04 L1467.14 1568.04 L1467.14 1532.4 L1473.03 1532.4 L1473.03 1537.93 Q1474.88 1534.69 1477.84 1533.13 Q1480.8 1531.54 1485.03 1531.54 Q1485.64 1531.54 1486.37 1531.63 Q1487.1 1531.7 1487.99 1531.85 L1488.02 1537.87 Z\" fill=\"#000000\" fill-rule=\"evenodd\" fill-opacity=\"1\" /><polyline clip-path=\"url(#clip952)\" style=\"stroke:#000000; stroke-linecap:round; stroke-linejoin:round; stroke-width:2; stroke-opacity:0.1; fill:none\" points=\"\n",
       "  219.866,1260.72 2352.76,1260.72 \n",
       "  \"/>\n",
       "<polyline clip-path=\"url(#clip952)\" style=\"stroke:#000000; stroke-linecap:round; stroke-linejoin:round; stroke-width:2; stroke-opacity:0.1; fill:none\" points=\"\n",
       "  219.866,935.789 2352.76,935.789 \n",
       "  \"/>\n",
       "<polyline clip-path=\"url(#clip952)\" style=\"stroke:#000000; stroke-linecap:round; stroke-linejoin:round; stroke-width:2; stroke-opacity:0.1; fill:none\" points=\"\n",
       "  219.866,610.863 2352.76,610.863 \n",
       "  \"/>\n",
       "<polyline clip-path=\"url(#clip952)\" style=\"stroke:#000000; stroke-linecap:round; stroke-linejoin:round; stroke-width:2; stroke-opacity:0.1; fill:none\" points=\"\n",
       "  219.866,285.936 2352.76,285.936 \n",
       "  \"/>\n",
       "<polyline clip-path=\"url(#clip950)\" style=\"stroke:#000000; stroke-linecap:round; stroke-linejoin:round; stroke-width:4; stroke-opacity:1; fill:none\" points=\"\n",
       "  219.866,1423.18 219.866,123.472 \n",
       "  \"/>\n",
       "<polyline clip-path=\"url(#clip950)\" style=\"stroke:#000000; stroke-linecap:round; stroke-linejoin:round; stroke-width:4; stroke-opacity:1; fill:none\" points=\"\n",
       "  219.866,1260.72 238.764,1260.72 \n",
       "  \"/>\n",
       "<polyline clip-path=\"url(#clip950)\" style=\"stroke:#000000; stroke-linecap:round; stroke-linejoin:round; stroke-width:4; stroke-opacity:1; fill:none\" points=\"\n",
       "  219.866,935.789 238.764,935.789 \n",
       "  \"/>\n",
       "<polyline clip-path=\"url(#clip950)\" style=\"stroke:#000000; stroke-linecap:round; stroke-linejoin:round; stroke-width:4; stroke-opacity:1; fill:none\" points=\"\n",
       "  219.866,610.863 238.764,610.863 \n",
       "  \"/>\n",
       "<polyline clip-path=\"url(#clip950)\" style=\"stroke:#000000; stroke-linecap:round; stroke-linejoin:round; stroke-width:4; stroke-opacity:1; fill:none\" points=\"\n",
       "  219.866,285.936 238.764,285.936 \n",
       "  \"/>\n",
       "<path clip-path=\"url(#clip950)\" d=\"M128.288 1246.52 Q124.677 1246.52 122.848 1250.08 Q121.043 1253.62 121.043 1260.75 Q121.043 1267.86 122.848 1271.42 Q124.677 1274.96 128.288 1274.96 Q131.922 1274.96 133.728 1271.42 Q135.556 1267.86 135.556 1260.75 Q135.556 1253.62 133.728 1250.08 Q131.922 1246.52 128.288 1246.52 M128.288 1242.81 Q134.098 1242.81 137.154 1247.42 Q140.232 1252 140.232 1260.75 Q140.232 1269.48 137.154 1274.08 Q134.098 1278.67 128.288 1278.67 Q122.478 1278.67 119.399 1274.08 Q116.343 1269.48 116.343 1260.75 Q116.343 1252 119.399 1247.42 Q122.478 1242.81 128.288 1242.81 Z\" fill=\"#000000\" fill-rule=\"evenodd\" fill-opacity=\"1\" /><path clip-path=\"url(#clip950)\" d=\"M148.45 1272.12 L153.334 1272.12 L153.334 1278 L148.45 1278 L148.45 1272.12 Z\" fill=\"#000000\" fill-rule=\"evenodd\" fill-opacity=\"1\" /><path clip-path=\"url(#clip950)\" d=\"M167.547 1274.06 L183.866 1274.06 L183.866 1278 L161.922 1278 L161.922 1274.06 Q164.584 1271.31 169.167 1266.68 Q173.774 1262.02 174.954 1260.68 Q177.2 1258.16 178.079 1256.42 Q178.982 1254.66 178.982 1252.97 Q178.982 1250.22 177.038 1248.48 Q175.116 1246.75 172.014 1246.75 Q169.815 1246.75 167.362 1247.51 Q164.931 1248.27 162.153 1249.83 L162.153 1245.1 Q164.977 1243.97 167.431 1243.39 Q169.885 1242.81 171.922 1242.81 Q177.292 1242.81 180.487 1245.5 Q183.681 1248.18 183.681 1252.67 Q183.681 1254.8 182.871 1256.72 Q182.084 1258.62 179.977 1261.21 Q179.399 1261.89 176.297 1265.1 Q173.195 1268.3 167.547 1274.06 Z\" fill=\"#000000\" fill-rule=\"evenodd\" fill-opacity=\"1\" /><path clip-path=\"url(#clip950)\" d=\"M126.205 921.588 Q122.593 921.588 120.765 925.153 Q118.959 928.695 118.959 935.824 Q118.959 942.931 120.765 946.495 Q122.593 950.037 126.205 950.037 Q129.839 950.037 131.644 946.495 Q133.473 942.931 133.473 935.824 Q133.473 928.695 131.644 925.153 Q129.839 921.588 126.205 921.588 M126.205 917.884 Q132.015 917.884 135.07 922.491 Q138.149 927.074 138.149 935.824 Q138.149 944.551 135.07 949.157 Q132.015 953.741 126.205 953.741 Q120.394 953.741 117.316 949.157 Q114.26 944.551 114.26 935.824 Q114.26 927.074 117.316 922.491 Q120.394 917.884 126.205 917.884 Z\" fill=\"#000000\" fill-rule=\"evenodd\" fill-opacity=\"1\" /><path clip-path=\"url(#clip950)\" d=\"M146.366 947.19 L151.251 947.19 L151.251 953.069 L146.366 953.069 L146.366 947.19 Z\" fill=\"#000000\" fill-rule=\"evenodd\" fill-opacity=\"1\" /><path clip-path=\"url(#clip950)\" d=\"M174.283 922.584 L162.477 941.032 L174.283 941.032 L174.283 922.584 M173.056 918.509 L178.936 918.509 L178.936 941.032 L183.866 941.032 L183.866 944.921 L178.936 944.921 L178.936 953.069 L174.283 953.069 L174.283 944.921 L158.681 944.921 L158.681 940.407 L173.056 918.509 Z\" fill=\"#000000\" fill-rule=\"evenodd\" fill-opacity=\"1\" /><path clip-path=\"url(#clip950)\" d=\"M126.529 596.661 Q122.918 596.661 121.089 600.226 Q119.283 603.768 119.283 610.897 Q119.283 618.004 121.089 621.568 Q122.918 625.11 126.529 625.11 Q130.163 625.11 131.968 621.568 Q133.797 618.004 133.797 610.897 Q133.797 603.768 131.968 600.226 Q130.163 596.661 126.529 596.661 M126.529 592.958 Q132.339 592.958 135.394 597.564 Q138.473 602.147 138.473 610.897 Q138.473 619.624 135.394 624.231 Q132.339 628.814 126.529 628.814 Q120.718 628.814 117.64 624.231 Q114.584 619.624 114.584 610.897 Q114.584 602.147 117.64 597.564 Q120.718 592.958 126.529 592.958 Z\" fill=\"#000000\" fill-rule=\"evenodd\" fill-opacity=\"1\" /><path clip-path=\"url(#clip950)\" d=\"M146.691 622.263 L151.575 622.263 L151.575 628.143 L146.691 628.143 L146.691 622.263 Z\" fill=\"#000000\" fill-rule=\"evenodd\" fill-opacity=\"1\" /><path clip-path=\"url(#clip950)\" d=\"M172.339 608.999 Q169.19 608.999 167.339 611.152 Q165.51 613.305 165.51 617.055 Q165.51 620.781 167.339 622.957 Q169.19 625.11 172.339 625.11 Q175.487 625.11 177.315 622.957 Q179.167 620.781 179.167 617.055 Q179.167 613.305 177.315 611.152 Q175.487 608.999 172.339 608.999 M181.621 594.346 L181.621 598.606 Q179.862 597.772 178.056 597.332 Q176.274 596.893 174.514 596.893 Q169.885 596.893 167.431 600.018 Q165.001 603.143 164.653 609.462 Q166.019 607.448 168.079 606.383 Q170.139 605.295 172.616 605.295 Q177.825 605.295 180.834 608.467 Q183.866 611.615 183.866 617.055 Q183.866 622.379 180.718 625.596 Q177.57 628.814 172.339 628.814 Q166.343 628.814 163.172 624.231 Q160.001 619.624 160.001 610.897 Q160.001 602.703 163.89 597.842 Q167.778 592.958 174.329 592.958 Q176.089 592.958 177.871 593.305 Q179.676 593.652 181.621 594.346 Z\" fill=\"#000000\" fill-rule=\"evenodd\" fill-opacity=\"1\" /><path clip-path=\"url(#clip950)\" d=\"M126.783 271.734 Q123.172 271.734 121.343 275.299 Q119.538 278.841 119.538 285.97 Q119.538 293.077 121.343 296.642 Q123.172 300.183 126.783 300.183 Q130.417 300.183 132.223 296.642 Q134.052 293.077 134.052 285.97 Q134.052 278.841 132.223 275.299 Q130.417 271.734 126.783 271.734 M126.783 268.031 Q132.593 268.031 135.649 272.637 Q138.728 277.22 138.728 285.97 Q138.728 294.697 135.649 299.304 Q132.593 303.887 126.783 303.887 Q120.973 303.887 117.894 299.304 Q114.839 294.697 114.839 285.97 Q114.839 277.22 117.894 272.637 Q120.973 268.031 126.783 268.031 Z\" fill=\"#000000\" fill-rule=\"evenodd\" fill-opacity=\"1\" /><path clip-path=\"url(#clip950)\" d=\"M146.945 297.336 L151.829 297.336 L151.829 303.216 L146.945 303.216 L146.945 297.336 Z\" fill=\"#000000\" fill-rule=\"evenodd\" fill-opacity=\"1\" /><path clip-path=\"url(#clip950)\" d=\"M172.014 286.804 Q168.681 286.804 166.76 288.586 Q164.862 290.368 164.862 293.493 Q164.862 296.618 166.76 298.401 Q168.681 300.183 172.014 300.183 Q175.348 300.183 177.269 298.401 Q179.19 296.595 179.19 293.493 Q179.19 290.368 177.269 288.586 Q175.371 286.804 172.014 286.804 M167.339 284.813 Q164.329 284.072 162.64 282.012 Q160.973 279.952 160.973 276.989 Q160.973 272.845 163.913 270.438 Q166.876 268.031 172.014 268.031 Q177.176 268.031 180.116 270.438 Q183.056 272.845 183.056 276.989 Q183.056 279.952 181.366 282.012 Q179.7 284.072 176.714 284.813 Q180.093 285.6 181.968 287.892 Q183.866 290.183 183.866 293.493 Q183.866 298.517 180.788 301.202 Q177.732 303.887 172.014 303.887 Q166.297 303.887 163.218 301.202 Q160.163 298.517 160.163 293.493 Q160.163 290.183 162.061 287.892 Q163.959 285.6 167.339 284.813 M165.626 277.429 Q165.626 280.114 167.292 281.618 Q168.982 283.123 172.014 283.123 Q175.024 283.123 176.714 281.618 Q178.426 280.114 178.426 277.429 Q178.426 274.744 176.714 273.239 Q175.024 271.734 172.014 271.734 Q168.982 271.734 167.292 273.239 Q165.626 274.744 165.626 277.429 Z\" fill=\"#000000\" fill-rule=\"evenodd\" fill-opacity=\"1\" /><path clip-path=\"url(#clip950)\" d=\"M16.4842 987.834 L16.4842 981.405 L64.0042 981.405 L64.0042 987.834 L16.4842 987.834 Z\" fill=\"#000000\" fill-rule=\"evenodd\" fill-opacity=\"1\" /><path clip-path=\"url(#clip950)\" d=\"M42.4881 939.232 L64.0042 939.232 L64.0042 945.089 L42.679 945.089 Q37.6183 945.089 35.1038 947.062 Q32.5894 949.035 32.5894 952.982 Q32.5894 957.725 35.6131 960.462 Q38.6368 963.199 43.8567 963.199 L64.0042 963.199 L64.0042 969.087 L28.3562 969.087 L28.3562 963.199 L33.8944 963.199 Q30.6797 961.098 29.0883 958.266 Q27.4968 955.401 27.4968 951.677 Q27.4968 945.534 31.3163 942.383 Q35.1038 939.232 42.4881 939.232 Z\" fill=\"#000000\" fill-rule=\"evenodd\" fill-opacity=\"1\" /><path clip-path=\"url(#clip950)\" d=\"M42.4881 897.919 L64.0042 897.919 L64.0042 903.775 L42.679 903.775 Q37.6183 903.775 35.1038 905.749 Q32.5894 907.722 32.5894 911.669 Q32.5894 916.411 35.6131 919.148 Q38.6368 921.886 43.8567 921.886 L64.0042 921.886 L64.0042 927.774 L28.3562 927.774 L28.3562 921.886 L33.8944 921.886 Q30.6797 919.785 29.0883 916.952 Q27.4968 914.088 27.4968 910.364 Q27.4968 904.221 31.3163 901.07 Q35.1038 897.919 42.4881 897.919 Z\" fill=\"#000000\" fill-rule=\"evenodd\" fill-opacity=\"1\" /><path clip-path=\"url(#clip950)\" d=\"M44.7161 855.746 L47.5806 855.746 L47.5806 882.673 Q53.6281 882.291 56.8109 879.044 Q59.9619 875.766 59.9619 869.941 Q59.9619 866.568 59.1344 863.417 Q58.3069 860.234 56.6518 857.115 L62.1899 857.115 Q63.5267 860.266 64.227 863.576 Q64.9272 866.886 64.9272 870.292 Q64.9272 878.822 59.9619 883.819 Q54.9967 888.784 46.5303 888.784 Q37.7774 888.784 32.6531 884.073 Q27.4968 879.331 27.4968 871.31 Q27.4968 864.117 32.1438 859.947 Q36.7589 855.746 44.7161 855.746 M42.9973 861.602 Q38.1912 861.666 35.3266 864.308 Q32.4621 866.918 32.4621 871.246 Q32.4621 876.148 35.2312 879.108 Q38.0002 882.036 43.0292 882.482 L42.9973 861.602 Z\" fill=\"#000000\" fill-rule=\"evenodd\" fill-opacity=\"1\" /><path clip-path=\"url(#clip950)\" d=\"M33.8307 825.477 Q33.2578 826.464 33.0032 827.641 Q32.7167 828.787 32.7167 830.188 Q32.7167 835.153 35.9632 837.827 Q39.1779 840.468 45.2253 840.468 L64.0042 840.468 L64.0042 846.357 L28.3562 846.357 L28.3562 840.468 L33.8944 840.468 Q30.6479 838.622 29.0883 835.662 Q27.4968 832.702 27.4968 828.469 Q27.4968 827.864 27.5923 827.132 Q27.656 826.4 27.8151 825.509 L33.8307 825.477 Z\" fill=\"#000000\" fill-rule=\"evenodd\" fill-opacity=\"1\" /><path clip-path=\"url(#clip950)\" d=\"M21.7677 791.93 L39.6235 791.93 L39.6235 783.845 Q39.6235 779.357 37.3 776.907 Q34.9765 774.456 30.6797 774.456 Q26.4147 774.456 24.0912 776.907 Q21.7677 779.357 21.7677 783.845 L21.7677 791.93 M16.4842 798.359 L16.4842 783.845 Q16.4842 775.856 20.1126 771.782 Q23.7092 767.676 30.6797 767.676 Q37.7138 767.676 41.3104 771.782 Q44.907 775.856 44.907 783.845 L44.907 791.93 L64.0042 791.93 L64.0042 798.359 L16.4842 798.359 Z\" fill=\"#000000\" fill-rule=\"evenodd\" fill-opacity=\"1\" /><path clip-path=\"url(#clip950)\" d=\"M33.8307 739.795 Q33.2578 740.781 33.0032 741.959 Q32.7167 743.105 32.7167 744.505 Q32.7167 749.47 35.9632 752.144 Q39.1779 754.786 45.2253 754.786 L64.0042 754.786 L64.0042 760.674 L28.3562 760.674 L28.3562 754.786 L33.8944 754.786 Q30.6479 752.94 29.0883 749.98 Q27.4968 747.02 27.4968 742.787 Q27.4968 742.182 27.5923 741.45 Q27.656 740.718 27.8151 739.826 L33.8307 739.795 Z\" fill=\"#000000\" fill-rule=\"evenodd\" fill-opacity=\"1\" /><path clip-path=\"url(#clip950)\" d=\"M32.4621 721.27 Q32.4621 725.981 36.1542 728.718 Q39.8145 731.456 46.212 731.456 Q52.6095 731.456 56.3017 728.75 Q59.9619 726.013 59.9619 721.27 Q59.9619 716.592 56.2698 713.854 Q52.5777 711.117 46.212 711.117 Q39.8781 711.117 36.186 713.854 Q32.4621 716.592 32.4621 721.27 M27.4968 721.27 Q27.4968 713.632 32.4621 709.271 Q37.4273 704.911 46.212 704.911 Q54.9649 704.911 59.9619 709.271 Q64.9272 713.632 64.9272 721.27 Q64.9272 728.941 59.9619 733.302 Q54.9649 737.63 46.212 737.63 Q37.4273 737.63 32.4621 733.302 Q27.4968 728.941 27.4968 721.27 Z\" fill=\"#000000\" fill-rule=\"evenodd\" fill-opacity=\"1\" /><path clip-path=\"url(#clip950)\" d=\"M33.7671 671.745 L14.479 671.745 L14.479 665.889 L64.0042 665.889 L64.0042 671.745 L58.657 671.745 Q61.8398 673.591 63.3994 676.424 Q64.9272 679.225 64.9272 683.172 Q64.9272 689.633 59.771 693.707 Q54.6147 697.749 46.212 697.749 Q37.8093 697.749 32.6531 693.707 Q27.4968 689.633 27.4968 683.172 Q27.4968 679.225 29.0564 676.424 Q30.5842 673.591 33.7671 671.745 M46.212 691.702 Q52.6732 691.702 56.3653 689.06 Q60.0256 686.386 60.0256 681.739 Q60.0256 677.092 56.3653 674.419 Q52.6732 671.745 46.212 671.745 Q39.7508 671.745 36.0905 674.419 Q32.3984 677.092 32.3984 681.739 Q32.3984 686.386 36.0905 689.06 Q39.7508 691.702 46.212 691.702 Z\" fill=\"#000000\" fill-rule=\"evenodd\" fill-opacity=\"1\" /><path clip-path=\"url(#clip950)\" d=\"M49.9359 654.43 L28.3562 654.43 L28.3562 648.574 L49.7131 648.574 Q54.7739 648.574 57.3202 646.601 Q59.8346 644.627 59.8346 640.681 Q59.8346 635.938 56.8109 633.201 Q53.7872 630.432 48.5673 630.432 L28.3562 630.432 L28.3562 624.575 L64.0042 624.575 L64.0042 630.432 L58.5296 630.432 Q61.7762 632.564 63.3676 635.397 Q64.9272 638.198 64.9272 641.922 Q64.9272 648.065 61.1078 651.248 Q57.2883 654.43 49.9359 654.43 M27.4968 639.694 L27.4968 639.694 Z\" fill=\"#000000\" fill-rule=\"evenodd\" fill-opacity=\"1\" /><path clip-path=\"url(#clip950)\" d=\"M29.7248 586.859 L35.1993 586.859 Q33.8307 589.341 33.1623 591.856 Q32.4621 594.338 32.4621 596.885 Q32.4621 602.582 36.0905 605.733 Q39.6872 608.884 46.212 608.884 Q52.7369 608.884 56.3653 605.733 Q59.9619 602.582 59.9619 596.885 Q59.9619 594.338 59.2935 591.856 Q58.5933 589.341 57.2247 586.859 L62.6355 586.859 Q63.7814 589.309 64.3543 591.951 Q64.9272 594.561 64.9272 597.521 Q64.9272 605.574 59.8664 610.316 Q54.8057 615.059 46.212 615.059 Q37.491 615.059 32.4939 610.284 Q27.4968 605.478 27.4968 597.139 Q27.4968 594.434 28.0697 591.856 Q28.6108 589.277 29.7248 586.859 Z\" fill=\"#000000\" fill-rule=\"evenodd\" fill-opacity=\"1\" /><path clip-path=\"url(#clip950)\" d=\"M18.2347 570.881 L28.3562 570.881 L28.3562 558.818 L32.9077 558.818 L32.9077 570.881 L52.2594 570.881 Q56.6199 570.881 57.8613 569.703 Q59.1026 568.493 59.1026 564.833 L59.1026 558.818 L64.0042 558.818 L64.0042 564.833 Q64.0042 571.613 61.4897 574.191 Q58.9434 576.769 52.2594 576.769 L32.9077 576.769 L32.9077 581.066 L28.3562 581.066 L28.3562 576.769 L18.2347 576.769 L18.2347 570.881 Z\" fill=\"#000000\" fill-rule=\"evenodd\" fill-opacity=\"1\" /><path clip-path=\"url(#clip950)\" d=\"M1155.89 17.6457 Q1146.98 17.6457 1141.71 24.2892 Q1136.49 30.9327 1136.49 42.3968 Q1136.49 53.8203 1141.71 60.4638 Q1146.98 67.1073 1155.89 67.1073 Q1164.8 67.1073 1169.99 60.4638 Q1175.22 53.8203 1175.22 42.3968 Q1175.22 30.9327 1169.99 24.2892 Q1164.8 17.6457 1155.89 17.6457 M1155.89 11.0023 Q1168.61 11.0023 1176.23 19.5497 Q1183.84 28.0566 1183.84 42.3968 Q1183.84 56.6965 1176.23 65.2439 Q1168.61 73.7508 1155.89 73.7508 Q1143.13 73.7508 1135.48 65.2439 Q1127.86 56.737 1127.86 42.3968 Q1127.86 28.0566 1135.48 19.5497 Q1143.13 11.0023 1155.89 11.0023 Z\" fill=\"#000000\" fill-rule=\"evenodd\" fill-opacity=\"1\" /><path clip-path=\"url(#clip950)\" d=\"M1190.97 27.2059 L1198.87 27.2059 L1213.05 65.2844 L1227.23 27.2059 L1235.13 27.2059 L1218.11 72.576 L1207.99 72.576 L1190.97 27.2059 Z\" fill=\"#000000\" fill-rule=\"evenodd\" fill-opacity=\"1\" /><path clip-path=\"url(#clip950)\" d=\"M1284.22 48.0275 L1284.22 51.6733 L1249.95 51.6733 Q1250.44 59.3701 1254.57 63.421 Q1258.74 67.4314 1266.16 67.4314 Q1270.45 67.4314 1274.46 66.3781 Q1278.51 65.3249 1282.48 63.2184 L1282.48 70.267 Q1278.47 71.9684 1274.26 72.8596 Q1270.05 73.7508 1265.71 73.7508 Q1254.86 73.7508 1248.5 67.4314 Q1242.18 61.1119 1242.18 50.3365 Q1242.18 39.1965 1248.17 32.6746 Q1254.21 26.1121 1264.42 26.1121 Q1273.57 26.1121 1278.88 32.0264 Q1284.22 37.9003 1284.22 48.0275 M1276.77 45.84 Q1276.69 39.7232 1273.33 36.0774 Q1270.01 32.4315 1264.5 32.4315 Q1258.26 32.4315 1254.49 35.9558 Q1250.76 39.4801 1250.2 45.8805 L1276.77 45.84 Z\" fill=\"#000000\" fill-rule=\"evenodd\" fill-opacity=\"1\" /><path clip-path=\"url(#clip950)\" d=\"M1322.75 34.1734 Q1321.49 33.4443 1319.99 33.1202 Q1318.54 32.7556 1316.75 32.7556 Q1310.43 32.7556 1307.03 36.8875 Q1303.67 40.9789 1303.67 48.6757 L1303.67 72.576 L1296.18 72.576 L1296.18 27.2059 L1303.67 27.2059 L1303.67 34.2544 Q1306.02 30.1225 1309.79 28.1376 Q1313.55 26.1121 1318.94 26.1121 Q1319.71 26.1121 1320.64 26.2337 Q1321.57 26.3147 1322.71 26.5172 L1322.75 34.1734 Z\" fill=\"#000000\" fill-rule=\"evenodd\" fill-opacity=\"1\" /><path clip-path=\"url(#clip950)\" d=\"M1330.57 9.54393 L1338.02 9.54393 L1338.02 72.576 L1330.57 72.576 L1330.57 9.54393 Z\" fill=\"#000000\" fill-rule=\"evenodd\" fill-opacity=\"1\" /><path clip-path=\"url(#clip950)\" d=\"M1374.24 49.7694 Q1365.2 49.7694 1361.72 51.8354 Q1358.23 53.9013 1358.23 58.8839 Q1358.23 62.8538 1360.83 65.2034 Q1363.46 67.5124 1367.96 67.5124 Q1374.15 67.5124 1377.88 63.1374 Q1381.65 58.7219 1381.65 51.4303 L1381.65 49.7694 L1374.24 49.7694 M1389.1 46.6907 L1389.1 72.576 L1381.65 72.576 L1381.65 65.6895 Q1379.1 69.8214 1375.29 71.8063 Q1371.48 73.7508 1365.97 73.7508 Q1359 73.7508 1354.87 69.8619 Q1350.78 65.9325 1350.78 59.3701 Q1350.78 51.7138 1355.89 47.825 Q1361.03 43.9361 1371.2 43.9361 L1381.65 43.9361 L1381.65 43.2069 Q1381.65 38.0623 1378.25 35.2672 Q1374.88 32.4315 1368.77 32.4315 Q1364.88 32.4315 1361.19 33.3632 Q1357.51 34.295 1354.1 36.1584 L1354.1 29.2718 Q1358.19 27.692 1362.04 26.9223 Q1365.89 26.1121 1369.54 26.1121 Q1379.38 26.1121 1384.24 31.2163 Q1389.1 36.3204 1389.1 46.6907 Z\" fill=\"#000000\" fill-rule=\"evenodd\" fill-opacity=\"1\" /><path clip-path=\"url(#clip950)\" d=\"M1411.67 65.7705 L1411.67 89.8329 L1404.17 89.8329 L1404.17 27.2059 L1411.67 27.2059 L1411.67 34.0924 Q1414.02 30.0415 1417.58 28.0971 Q1421.19 26.1121 1426.17 26.1121 Q1434.43 26.1121 1439.58 32.6746 Q1444.76 39.2371 1444.76 49.9314 Q1444.76 60.6258 1439.58 67.1883 Q1434.43 73.7508 1426.17 73.7508 Q1421.19 73.7508 1417.58 71.8063 Q1414.02 69.8214 1411.67 65.7705 M1437.02 49.9314 Q1437.02 41.7081 1433.62 37.0496 Q1430.26 32.3505 1424.35 32.3505 Q1418.43 32.3505 1415.03 37.0496 Q1411.67 41.7081 1411.67 49.9314 Q1411.67 58.1548 1415.03 62.8538 Q1418.43 67.5124 1424.35 67.5124 Q1430.26 67.5124 1433.62 62.8538 Q1437.02 58.1548 1437.02 49.9314 Z\" fill=\"#000000\" fill-rule=\"evenodd\" fill-opacity=\"1\" /><polyline clip-path=\"url(#clip952)\" style=\"stroke:#000000; stroke-linecap:round; stroke-linejoin:round; stroke-width:4; stroke-opacity:1; fill:none\" points=\"\n",
       "  323.91,525.009 323.91,525.008 \n",
       "  \"/>\n",
       "<polyline clip-path=\"url(#clip952)\" style=\"stroke:#000000; stroke-linecap:round; stroke-linejoin:round; stroke-width:4; stroke-opacity:1; fill:none\" points=\"\n",
       "  375.931,652.114 375.931,652.11 \n",
       "  \"/>\n",
       "<polyline clip-path=\"url(#clip952)\" style=\"stroke:#000000; stroke-linecap:round; stroke-linejoin:round; stroke-width:4; stroke-opacity:1; fill:none\" points=\"\n",
       "  427.953,543.395 427.953,543.395 \n",
       "  \"/>\n",
       "<polyline clip-path=\"url(#clip952)\" style=\"stroke:#000000; stroke-linecap:round; stroke-linejoin:round; stroke-width:4; stroke-opacity:1; fill:none\" points=\"\n",
       "  479.975,651.106 479.975,623.309 \n",
       "  \"/>\n",
       "<polyline clip-path=\"url(#clip952)\" style=\"stroke:#000000; stroke-linecap:round; stroke-linejoin:round; stroke-width:4; stroke-opacity:1; fill:none\" points=\"\n",
       "  531.996,549.125 531.996,549.125 \n",
       "  \"/>\n",
       "<polyline clip-path=\"url(#clip952)\" style=\"stroke:#000000; stroke-linecap:round; stroke-linejoin:round; stroke-width:4; stroke-opacity:1; fill:none\" points=\"\n",
       "  584.018,648.192 584.018,622.767 \n",
       "  \"/>\n",
       "<polyline clip-path=\"url(#clip952)\" style=\"stroke:#000000; stroke-linecap:round; stroke-linejoin:round; stroke-width:4; stroke-opacity:1; fill:none\" points=\"\n",
       "  636.04,520.952 636.04,520.944 \n",
       "  \"/>\n",
       "<polyline clip-path=\"url(#clip952)\" style=\"stroke:#000000; stroke-linecap:round; stroke-linejoin:round; stroke-width:4; stroke-opacity:1; fill:none\" points=\"\n",
       "  688.062,709.619 688.062,561.147 \n",
       "  \"/>\n",
       "<polyline clip-path=\"url(#clip952)\" style=\"stroke:#000000; stroke-linecap:round; stroke-linejoin:round; stroke-width:4; stroke-opacity:1; fill:none\" points=\"\n",
       "  740.083,552.825 740.083,551.016 \n",
       "  \"/>\n",
       "<polyline clip-path=\"url(#clip952)\" style=\"stroke:#000000; stroke-linecap:round; stroke-linejoin:round; stroke-width:4; stroke-opacity:1; fill:none\" points=\"\n",
       "  792.105,650.863 792.105,619.185 \n",
       "  \"/>\n",
       "<polyline clip-path=\"url(#clip952)\" style=\"stroke:#000000; stroke-linecap:round; stroke-linejoin:round; stroke-width:4; stroke-opacity:1; fill:none\" points=\"\n",
       "  844.127,561.586 844.127,526.26 \n",
       "  \"/>\n",
       "<polyline clip-path=\"url(#clip952)\" style=\"stroke:#000000; stroke-linecap:round; stroke-linejoin:round; stroke-width:4; stroke-opacity:1; fill:none\" points=\"\n",
       "  896.148,681.131 896.148,545.945 \n",
       "  \"/>\n",
       "<polyline clip-path=\"url(#clip952)\" style=\"stroke:#000000; stroke-linecap:round; stroke-linejoin:round; stroke-width:4; stroke-opacity:1; fill:none\" points=\"\n",
       "  948.17,560.199 948.17,541.858 \n",
       "  \"/>\n",
       "<polyline clip-path=\"url(#clip952)\" style=\"stroke:#000000; stroke-linecap:round; stroke-linejoin:round; stroke-width:4; stroke-opacity:1; fill:none\" points=\"\n",
       "  1000.19,653.726 1000.19,629.582 \n",
       "  \"/>\n",
       "<polyline clip-path=\"url(#clip952)\" style=\"stroke:#000000; stroke-linecap:round; stroke-linejoin:round; stroke-width:4; stroke-opacity:1; fill:none\" points=\"\n",
       "  1052.21,578.244 1052.21,489.661 \n",
       "  \"/>\n",
       "<polyline clip-path=\"url(#clip952)\" style=\"stroke:#000000; stroke-linecap:round; stroke-linejoin:round; stroke-width:4; stroke-opacity:1; fill:none\" points=\"\n",
       "  1104.24,690.417 1104.24,612.841 \n",
       "  \"/>\n",
       "<polyline clip-path=\"url(#clip952)\" style=\"stroke:#000000; stroke-linecap:round; stroke-linejoin:round; stroke-width:4; stroke-opacity:1; fill:none\" points=\"\n",
       "  1156.26,562.444 1156.26,529.554 \n",
       "  \"/>\n",
       "<polyline clip-path=\"url(#clip952)\" style=\"stroke:#000000; stroke-linecap:round; stroke-linejoin:round; stroke-width:4; stroke-opacity:1; fill:none\" points=\"\n",
       "  1208.28,783.485 1208.28,671.123 \n",
       "  \"/>\n",
       "<line clip-path=\"url(#clip952)\" x1=\"331.91\" y1=\"525.009\" x2=\"315.91\" y2=\"525.009\" style=\"stroke:#000000; stroke-width:3.2; stroke-opacity:1\"/>\n",
       "<line clip-path=\"url(#clip952)\" x1=\"331.91\" y1=\"525.008\" x2=\"315.91\" y2=\"525.008\" style=\"stroke:#000000; stroke-width:3.2; stroke-opacity:1\"/>\n",
       "<line clip-path=\"url(#clip952)\" x1=\"383.931\" y1=\"652.114\" x2=\"367.931\" y2=\"652.114\" style=\"stroke:#000000; stroke-width:3.2; stroke-opacity:1\"/>\n",
       "<line clip-path=\"url(#clip952)\" x1=\"383.931\" y1=\"652.11\" x2=\"367.931\" y2=\"652.11\" style=\"stroke:#000000; stroke-width:3.2; stroke-opacity:1\"/>\n",
       "<line clip-path=\"url(#clip952)\" x1=\"435.953\" y1=\"543.395\" x2=\"419.953\" y2=\"543.395\" style=\"stroke:#000000; stroke-width:3.2; stroke-opacity:1\"/>\n",
       "<line clip-path=\"url(#clip952)\" x1=\"435.953\" y1=\"543.395\" x2=\"419.953\" y2=\"543.395\" style=\"stroke:#000000; stroke-width:3.2; stroke-opacity:1\"/>\n",
       "<line clip-path=\"url(#clip952)\" x1=\"487.975\" y1=\"651.106\" x2=\"471.975\" y2=\"651.106\" style=\"stroke:#000000; stroke-width:3.2; stroke-opacity:1\"/>\n",
       "<line clip-path=\"url(#clip952)\" x1=\"487.975\" y1=\"623.309\" x2=\"471.975\" y2=\"623.309\" style=\"stroke:#000000; stroke-width:3.2; stroke-opacity:1\"/>\n",
       "<line clip-path=\"url(#clip952)\" x1=\"539.996\" y1=\"549.125\" x2=\"523.996\" y2=\"549.125\" style=\"stroke:#000000; stroke-width:3.2; stroke-opacity:1\"/>\n",
       "<line clip-path=\"url(#clip952)\" x1=\"539.996\" y1=\"549.125\" x2=\"523.996\" y2=\"549.125\" style=\"stroke:#000000; stroke-width:3.2; stroke-opacity:1\"/>\n",
       "<line clip-path=\"url(#clip952)\" x1=\"592.018\" y1=\"648.192\" x2=\"576.018\" y2=\"648.192\" style=\"stroke:#000000; stroke-width:3.2; stroke-opacity:1\"/>\n",
       "<line clip-path=\"url(#clip952)\" x1=\"592.018\" y1=\"622.767\" x2=\"576.018\" y2=\"622.767\" style=\"stroke:#000000; stroke-width:3.2; stroke-opacity:1\"/>\n",
       "<line clip-path=\"url(#clip952)\" x1=\"644.04\" y1=\"520.952\" x2=\"628.04\" y2=\"520.952\" style=\"stroke:#000000; stroke-width:3.2; stroke-opacity:1\"/>\n",
       "<line clip-path=\"url(#clip952)\" x1=\"644.04\" y1=\"520.944\" x2=\"628.04\" y2=\"520.944\" style=\"stroke:#000000; stroke-width:3.2; stroke-opacity:1\"/>\n",
       "<line clip-path=\"url(#clip952)\" x1=\"696.062\" y1=\"709.619\" x2=\"680.062\" y2=\"709.619\" style=\"stroke:#000000; stroke-width:3.2; stroke-opacity:1\"/>\n",
       "<line clip-path=\"url(#clip952)\" x1=\"696.062\" y1=\"561.147\" x2=\"680.062\" y2=\"561.147\" style=\"stroke:#000000; stroke-width:3.2; stroke-opacity:1\"/>\n",
       "<line clip-path=\"url(#clip952)\" x1=\"748.083\" y1=\"552.825\" x2=\"732.083\" y2=\"552.825\" style=\"stroke:#000000; stroke-width:3.2; stroke-opacity:1\"/>\n",
       "<line clip-path=\"url(#clip952)\" x1=\"748.083\" y1=\"551.016\" x2=\"732.083\" y2=\"551.016\" style=\"stroke:#000000; stroke-width:3.2; stroke-opacity:1\"/>\n",
       "<line clip-path=\"url(#clip952)\" x1=\"800.105\" y1=\"650.863\" x2=\"784.105\" y2=\"650.863\" style=\"stroke:#000000; stroke-width:3.2; stroke-opacity:1\"/>\n",
       "<line clip-path=\"url(#clip952)\" x1=\"800.105\" y1=\"619.185\" x2=\"784.105\" y2=\"619.185\" style=\"stroke:#000000; stroke-width:3.2; stroke-opacity:1\"/>\n",
       "<line clip-path=\"url(#clip952)\" x1=\"852.127\" y1=\"561.586\" x2=\"836.127\" y2=\"561.586\" style=\"stroke:#000000; stroke-width:3.2; stroke-opacity:1\"/>\n",
       "<line clip-path=\"url(#clip952)\" x1=\"852.127\" y1=\"526.26\" x2=\"836.127\" y2=\"526.26\" style=\"stroke:#000000; stroke-width:3.2; stroke-opacity:1\"/>\n",
       "<line clip-path=\"url(#clip952)\" x1=\"904.148\" y1=\"681.131\" x2=\"888.148\" y2=\"681.131\" style=\"stroke:#000000; stroke-width:3.2; stroke-opacity:1\"/>\n",
       "<line clip-path=\"url(#clip952)\" x1=\"904.148\" y1=\"545.945\" x2=\"888.148\" y2=\"545.945\" style=\"stroke:#000000; stroke-width:3.2; stroke-opacity:1\"/>\n",
       "<line clip-path=\"url(#clip952)\" x1=\"956.17\" y1=\"560.199\" x2=\"940.17\" y2=\"560.199\" style=\"stroke:#000000; stroke-width:3.2; stroke-opacity:1\"/>\n",
       "<line clip-path=\"url(#clip952)\" x1=\"956.17\" y1=\"541.858\" x2=\"940.17\" y2=\"541.858\" style=\"stroke:#000000; stroke-width:3.2; stroke-opacity:1\"/>\n",
       "<line clip-path=\"url(#clip952)\" x1=\"1008.19\" y1=\"653.726\" x2=\"992.192\" y2=\"653.726\" style=\"stroke:#000000; stroke-width:3.2; stroke-opacity:1\"/>\n",
       "<line clip-path=\"url(#clip952)\" x1=\"1008.19\" y1=\"629.582\" x2=\"992.192\" y2=\"629.582\" style=\"stroke:#000000; stroke-width:3.2; stroke-opacity:1\"/>\n",
       "<line clip-path=\"url(#clip952)\" x1=\"1060.21\" y1=\"578.244\" x2=\"1044.21\" y2=\"578.244\" style=\"stroke:#000000; stroke-width:3.2; stroke-opacity:1\"/>\n",
       "<line clip-path=\"url(#clip952)\" x1=\"1060.21\" y1=\"489.661\" x2=\"1044.21\" y2=\"489.661\" style=\"stroke:#000000; stroke-width:3.2; stroke-opacity:1\"/>\n",
       "<line clip-path=\"url(#clip952)\" x1=\"1112.24\" y1=\"690.417\" x2=\"1096.24\" y2=\"690.417\" style=\"stroke:#000000; stroke-width:3.2; stroke-opacity:1\"/>\n",
       "<line clip-path=\"url(#clip952)\" x1=\"1112.24\" y1=\"612.841\" x2=\"1096.24\" y2=\"612.841\" style=\"stroke:#000000; stroke-width:3.2; stroke-opacity:1\"/>\n",
       "<line clip-path=\"url(#clip952)\" x1=\"1164.26\" y1=\"562.444\" x2=\"1148.26\" y2=\"562.444\" style=\"stroke:#000000; stroke-width:3.2; stroke-opacity:1\"/>\n",
       "<line clip-path=\"url(#clip952)\" x1=\"1164.26\" y1=\"529.554\" x2=\"1148.26\" y2=\"529.554\" style=\"stroke:#000000; stroke-width:3.2; stroke-opacity:1\"/>\n",
       "<line clip-path=\"url(#clip952)\" x1=\"1216.28\" y1=\"783.485\" x2=\"1200.28\" y2=\"783.485\" style=\"stroke:#000000; stroke-width:3.2; stroke-opacity:1\"/>\n",
       "<line clip-path=\"url(#clip952)\" x1=\"1216.28\" y1=\"671.123\" x2=\"1200.28\" y2=\"671.123\" style=\"stroke:#000000; stroke-width:3.2; stroke-opacity:1\"/>\n",
       "<circle clip-path=\"url(#clip952)\" cx=\"323.91\" cy=\"525.008\" r=\"7.2\" fill=\"#009af9\" fill-rule=\"evenodd\" fill-opacity=\"1\" stroke=\"#000000\" stroke-opacity=\"1\" stroke-width=\"3.2\"/>\n",
       "<circle clip-path=\"url(#clip952)\" cx=\"375.931\" cy=\"652.112\" r=\"7.2\" fill=\"#009af9\" fill-rule=\"evenodd\" fill-opacity=\"1\" stroke=\"#000000\" stroke-opacity=\"1\" stroke-width=\"3.2\"/>\n",
       "<circle clip-path=\"url(#clip952)\" cx=\"427.953\" cy=\"543.395\" r=\"7.2\" fill=\"#009af9\" fill-rule=\"evenodd\" fill-opacity=\"1\" stroke=\"#000000\" stroke-opacity=\"1\" stroke-width=\"3.2\"/>\n",
       "<circle clip-path=\"url(#clip952)\" cx=\"479.975\" cy=\"637.208\" r=\"7.2\" fill=\"#009af9\" fill-rule=\"evenodd\" fill-opacity=\"1\" stroke=\"#000000\" stroke-opacity=\"1\" stroke-width=\"3.2\"/>\n",
       "<circle clip-path=\"url(#clip952)\" cx=\"531.996\" cy=\"549.125\" r=\"7.2\" fill=\"#009af9\" fill-rule=\"evenodd\" fill-opacity=\"1\" stroke=\"#000000\" stroke-opacity=\"1\" stroke-width=\"3.2\"/>\n",
       "<circle clip-path=\"url(#clip952)\" cx=\"584.018\" cy=\"635.48\" r=\"7.2\" fill=\"#009af9\" fill-rule=\"evenodd\" fill-opacity=\"1\" stroke=\"#000000\" stroke-opacity=\"1\" stroke-width=\"3.2\"/>\n",
       "<circle clip-path=\"url(#clip952)\" cx=\"636.04\" cy=\"520.948\" r=\"7.2\" fill=\"#009af9\" fill-rule=\"evenodd\" fill-opacity=\"1\" stroke=\"#000000\" stroke-opacity=\"1\" stroke-width=\"3.2\"/>\n",
       "<circle clip-path=\"url(#clip952)\" cx=\"688.062\" cy=\"635.383\" r=\"7.2\" fill=\"#009af9\" fill-rule=\"evenodd\" fill-opacity=\"1\" stroke=\"#000000\" stroke-opacity=\"1\" stroke-width=\"3.2\"/>\n",
       "<circle clip-path=\"url(#clip952)\" cx=\"740.083\" cy=\"551.921\" r=\"7.2\" fill=\"#009af9\" fill-rule=\"evenodd\" fill-opacity=\"1\" stroke=\"#000000\" stroke-opacity=\"1\" stroke-width=\"3.2\"/>\n",
       "<circle clip-path=\"url(#clip952)\" cx=\"792.105\" cy=\"635.024\" r=\"7.2\" fill=\"#009af9\" fill-rule=\"evenodd\" fill-opacity=\"1\" stroke=\"#000000\" stroke-opacity=\"1\" stroke-width=\"3.2\"/>\n",
       "<circle clip-path=\"url(#clip952)\" cx=\"844.127\" cy=\"543.923\" r=\"7.2\" fill=\"#009af9\" fill-rule=\"evenodd\" fill-opacity=\"1\" stroke=\"#000000\" stroke-opacity=\"1\" stroke-width=\"3.2\"/>\n",
       "<circle clip-path=\"url(#clip952)\" cx=\"896.148\" cy=\"613.538\" r=\"7.2\" fill=\"#009af9\" fill-rule=\"evenodd\" fill-opacity=\"1\" stroke=\"#000000\" stroke-opacity=\"1\" stroke-width=\"3.2\"/>\n",
       "<circle clip-path=\"url(#clip952)\" cx=\"948.17\" cy=\"551.028\" r=\"7.2\" fill=\"#009af9\" fill-rule=\"evenodd\" fill-opacity=\"1\" stroke=\"#000000\" stroke-opacity=\"1\" stroke-width=\"3.2\"/>\n",
       "<circle clip-path=\"url(#clip952)\" cx=\"1000.19\" cy=\"641.654\" r=\"7.2\" fill=\"#009af9\" fill-rule=\"evenodd\" fill-opacity=\"1\" stroke=\"#000000\" stroke-opacity=\"1\" stroke-width=\"3.2\"/>\n",
       "<circle clip-path=\"url(#clip952)\" cx=\"1052.21\" cy=\"533.953\" r=\"7.2\" fill=\"#009af9\" fill-rule=\"evenodd\" fill-opacity=\"1\" stroke=\"#000000\" stroke-opacity=\"1\" stroke-width=\"3.2\"/>\n",
       "<circle clip-path=\"url(#clip952)\" cx=\"1104.24\" cy=\"651.629\" r=\"7.2\" fill=\"#009af9\" fill-rule=\"evenodd\" fill-opacity=\"1\" stroke=\"#000000\" stroke-opacity=\"1\" stroke-width=\"3.2\"/>\n",
       "<circle clip-path=\"url(#clip952)\" cx=\"1156.26\" cy=\"545.999\" r=\"7.2\" fill=\"#009af9\" fill-rule=\"evenodd\" fill-opacity=\"1\" stroke=\"#000000\" stroke-opacity=\"1\" stroke-width=\"3.2\"/>\n",
       "<circle clip-path=\"url(#clip952)\" cx=\"1208.28\" cy=\"727.304\" r=\"7.2\" fill=\"#009af9\" fill-rule=\"evenodd\" fill-opacity=\"1\" stroke=\"#000000\" stroke-opacity=\"1\" stroke-width=\"3.2\"/>\n",
       "<path clip-path=\"url(#clip950)\" d=\"\n",
       "M2015.94 270.476 L2281.66 270.476 L2281.66 166.796 L2015.94 166.796  Z\n",
       "  \" fill=\"#ffffff\" fill-rule=\"evenodd\" fill-opacity=\"1\"/>\n",
       "<polyline clip-path=\"url(#clip950)\" style=\"stroke:#000000; stroke-linecap:round; stroke-linejoin:round; stroke-width:4; stroke-opacity:1; fill:none\" points=\"\n",
       "  2015.94,270.476 2281.66,270.476 2281.66,166.796 2015.94,166.796 2015.94,270.476 \n",
       "  \"/>\n",
       "<circle clip-path=\"url(#clip950)\" cx=\"2110.74\" cy=\"218.636\" r=\"23.04\" fill=\"#009af9\" fill-rule=\"evenodd\" fill-opacity=\"1\" stroke=\"#000000\" stroke-opacity=\"1\" stroke-width=\"10.24\"/>\n",
       "<path clip-path=\"url(#clip950)\" d=\"M2219.37 238.323 Q2217.57 242.953 2215.85 244.365 Q2214.14 245.777 2211.27 245.777 L2207.87 245.777 L2207.87 242.212 L2210.37 242.212 Q2212.13 242.212 2213.1 241.379 Q2214.07 240.545 2215.25 237.443 L2216.02 235.499 L2205.53 209.99 L2210.04 209.99 L2218.15 230.268 L2226.25 209.99 L2230.76 209.99 L2219.37 238.323 Z\" fill=\"#000000\" fill-rule=\"evenodd\" fill-opacity=\"1\" /><path clip-path=\"url(#clip950)\" d=\"M2238.05 231.981 L2245.69 231.981 L2245.69 205.615 L2237.38 207.282 L2237.38 203.022 L2245.65 201.356 L2250.32 201.356 L2250.32 231.981 L2257.96 231.981 L2257.96 235.916 L2238.05 235.916 L2238.05 231.981 Z\" fill=\"#000000\" fill-rule=\"evenodd\" fill-opacity=\"1\" /></svg>\n"
      ]
     },
     "execution_count": 21,
     "metadata": {},
     "output_type": "execute_result"
    }
   ],
   "source": [
    "x = [x for x in 1:length(ol_norm)]\n",
    "scatter(x,ol_norm .±err*2,\n",
    "    xlim=(-1,40),xticks=((1:2:40)), \n",
    "    ylim=(0.1,0.9), \n",
    "    #yticks=((0.4:0.01:0.5)),   \n",
    "    markersize=2,\n",
    "    xlabel=\"Site Number\",\n",
    "    ylabel=\"Inner Product\",\n",
    "    title=\"Overlap\")\n",
    "#savefig(\"one_norm_err.svg\")"
   ]
  },
  {
   "cell_type": "code",
   "execution_count": null,
   "metadata": {
    "id": "XfdPRn4rvw-0"
   },
   "outputs": [],
   "source": []
  },
  {
   "cell_type": "code",
   "execution_count": null,
   "metadata": {
    "id": "YM8KLvOYvx4n"
   },
   "outputs": [],
   "source": []
  },
  {
   "cell_type": "code",
   "execution_count": null,
   "metadata": {
    "colab": {
     "base_uri": "https://localhost:8080/"
    },
    "id": "YjM_qq54lCcs",
    "outputId": "93bd073d-8853-46be-d54f-65c7f1bf4d30"
   },
   "outputs": [
    {
     "name": "stdout",
     "output_type": "stream",
     "text": [
      "  465.359 ms (2 allocations: 32.00 MiB)\n"
     ]
    }
   ],
   "source": [
    "using BenchmarkTools\n",
    "\n",
    "M = rand(2^11, 2^11)\n",
    "\n",
    "@btime $M * $M;"
   ]
  },
  {
   "cell_type": "code",
   "execution_count": null,
   "metadata": {
    "colab": {
     "base_uri": "https://localhost:8080/"
    },
    "id": "XciCcMAJOT3_",
    "outputId": "56f8a755-0799-4243-9277-7dea10fad14a"
   },
   "outputs": [
    {
     "name": "stdout",
     "output_type": "stream",
     "text": [
      "No GPU found.\n"
     ]
    }
   ],
   "source": [
    "try\n",
    "    using CUDA\n",
    "catch\n",
    "    println(\"No GPU found.\")\n",
    "else\n",
    "    run(`nvidia-smi`)\n",
    "    # Create a new random matrix directly on the GPU:\n",
    "    M_on_gpu = CUDA.CURAND.rand(2^11, 2^11)\n",
    "    @btime $M_on_gpu * $M_on_gpu; nothing\n",
    "end"
   ]
  },
  {
   "cell_type": "markdown",
   "metadata": {
    "id": "8RC1QNNqk6h1"
   },
   "source": [
    "# Need Help?\n",
    "\n",
    "* Learning: https://julialang.org/learning/\n",
    "* Documentation: https://docs.julialang.org/\n",
    "* Questions & Discussions:\n",
    "  * https://discourse.julialang.org/\n",
    "  * http://julialang.slack.com/\n",
    "  * https://stackoverflow.com/questions/tagged/julia\n",
    "\n",
    "If you ever ask for help or file an issue about Julia, you should generally provide the output of `versioninfo()`."
   ]
  },
  {
   "cell_type": "markdown",
   "metadata": {
    "id": "2UMidUQB03vJ"
   },
   "source": [
    "Add new code cells by clicking the `+ Code` button (or _Insert_ > _Code cell_).\n",
    "\n",
    "Have fun!\n",
    "\n",
    "<img src=\"https://raw.githubusercontent.com/JuliaLang/julia-logo-graphics/master/images/julia-logo-mask.png\" height=\"100\" />"
   ]
  }
 ],
 "metadata": {
  "colab": {
   "provenance": []
  },
  "gpuClass": "standard",
  "kernelspec": {
   "display_name": "Julia 1.8.2",
   "language": "julia",
   "name": "julia-1.8"
  },
  "language_info": {
   "file_extension": ".jl",
   "mimetype": "application/julia",
   "name": "julia",
   "version": "1.8.2"
  }
 },
 "nbformat": 4,
 "nbformat_minor": 1
}
