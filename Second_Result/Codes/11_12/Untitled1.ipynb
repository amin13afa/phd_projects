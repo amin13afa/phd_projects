{
 "cells": [
  {
   "cell_type": "code",
   "execution_count": 1,
   "id": "b542fe68",
   "metadata": {},
   "outputs": [],
   "source": [
    "using ITensors \n",
    "using Plots\n",
    "using Measurements   \n",
    "using DelimitedFiles "
   ]
  },
  {
   "cell_type": "code",
   "execution_count": 2,
   "id": "c1636e0d",
   "metadata": {},
   "outputs": [],
   "source": [
    "L = 10;\n",
    "N = 1;\n",
    "l = L-2;\n",
    "m = 0.4;\n",
    "G² = 1.0;\n",
    "sw = 3;"
   ]
  },
  {
   "cell_type": "code",
   "execution_count": 3,
   "id": "ed3ace33",
   "metadata": {},
   "outputs": [
    {
     "data": {
      "text/plain": [
       "OpSum:\n"
      ]
     },
     "execution_count": 3,
     "metadata": {},
     "output_type": "execute_result"
    }
   ],
   "source": [
    "sites = siteinds(\"Fermion\",L)\n",
    "ampoₗ = OpSum()\n",
    "ampoₛ = OpSum()"
   ]
  },
  {
   "cell_type": "code",
   "execution_count": 4,
   "id": "d4d44f40",
   "metadata": {},
   "outputs": [
    {
     "data": {
      "text/plain": [
       "(-4.121132429224502, MPS\n",
       "[1] ((dim=2|id=549|\"Link,l=1\"), (dim=2|id=62|\"Fermion,Site,n=1\"))\n",
       "[2] ((dim=4|id=893|\"Link,l=2\"), (dim=2|id=25|\"Fermion,Site,n=2\"), (dim=2|id=549|\"Link,l=1\"))\n",
       "[3] ((dim=2|id=905|\"Fermion,Site,n=3\"), (dim=8|id=869|\"Link,l=3\"), (dim=4|id=893|\"Link,l=2\"))\n",
       "[4] ((dim=2|id=949|\"Fermion,Site,n=4\"), (dim=14|id=526|\"Link,l=4\"), (dim=8|id=869|\"Link,l=3\"))\n",
       "[5] ((dim=2|id=807|\"Fermion,Site,n=5\"), (dim=14|id=281|\"Link,l=5\"), (dim=14|id=526|\"Link,l=4\"))\n",
       "[6] ((dim=2|id=242|\"Fermion,Site,n=6\"), (dim=13|id=997|\"Link,l=6\"), (dim=14|id=281|\"Link,l=5\"))\n",
       "[7] ((dim=2|id=900|\"Fermion,Site,n=7\"), (dim=8|id=202|\"Link,l=7\"), (dim=13|id=997|\"Link,l=6\"))\n",
       "[8] ((dim=2|id=192|\"Fermion,Site,n=8\"), (dim=4|id=184|\"Link,l=8\"), (dim=8|id=202|\"Link,l=7\"))\n",
       "[9] ((dim=2|id=846|\"Fermion,Site,n=9\"), (dim=2|id=182|\"Link,l=9\"), (dim=4|id=184|\"Link,l=8\"))\n",
       "[10] ((dim=2|id=643|\"Fermion,Site,n=10\"), (dim=2|id=182|\"Link,l=9\"))\n",
       ")"
      ]
     },
     "execution_count": 4,
     "metadata": {},
     "output_type": "execute_result"
    }
   ],
   "source": [
    "for j in 1:L-N\n",
    "    ampoₗ -= 1im,\"C\",j,\"Cdag\",j+N\n",
    "    ampoₗ += 1im,\"C\",j+N,\"Cdag\",j\n",
    "end\n",
    "for j in 1:N:L-N\n",
    "    ampoₗ += (G²/2),\"C * Cdag\",j\n",
    "end\n",
    "for j in 1:L\n",
    "    ampoₗ += (m*(-1)^j),\"C * Cdag\",j\n",
    "end\n",
    "Hₗ = MPO(ampoₗ, sites)\n",
    "ψₗ₀ = randomMPS(sites,100)\n",
    "sweep = Sweeps(sw)\n",
    "setmaxdim!(sweep,repeat([1024],sw)...)\n",
    "setcutoff!(sweep,1E-8)\n",
    "eₗ₀,ψₗ = dmrg(Hₗ,ψₗ₀,sweep,outputlevel=0)"
   ]
  },
  {
   "cell_type": "code",
   "execution_count": 5,
   "id": "148e68de",
   "metadata": {},
   "outputs": [
    {
     "data": {
      "text/plain": [
       "(-3.263183252416383, MPS\n",
       "[1] ((dim=2|id=446|\"Link,l=1\"), (dim=2|id=62|\"Fermion,Site,n=1\"))\n",
       "[2] ((dim=4|id=264|\"Link,l=2\"), (dim=2|id=25|\"Fermion,Site,n=2\"), (dim=2|id=446|\"Link,l=1\"))\n",
       "[3] ((dim=2|id=905|\"Fermion,Site,n=3\"), (dim=8|id=886|\"Link,l=3\"), (dim=4|id=264|\"Link,l=2\"))\n",
       "[4] ((dim=2|id=949|\"Fermion,Site,n=4\"), (dim=13|id=921|\"Link,l=4\"), (dim=8|id=886|\"Link,l=3\"))\n",
       "[5] ((dim=2|id=807|\"Fermion,Site,n=5\"), (dim=8|id=278|\"Link,l=5\"), (dim=13|id=921|\"Link,l=4\"))\n",
       "[6] ((dim=2|id=242|\"Fermion,Site,n=6\"), (dim=4|id=681|\"Link,l=6\"), (dim=8|id=278|\"Link,l=5\"))\n",
       "[7] ((dim=2|id=900|\"Fermion,Site,n=7\"), (dim=2|id=513|\"Link,l=7\"), (dim=4|id=681|\"Link,l=6\"))\n",
       "[8] ((dim=2|id=192|\"Fermion,Site,n=8\"), (dim=2|id=513|\"Link,l=7\"))\n",
       ")"
      ]
     },
     "execution_count": 5,
     "metadata": {},
     "output_type": "execute_result"
    }
   ],
   "source": [
    "for j in 1:l-N\n",
    "    ampoₛ -= 1im,\"C\",j,\"Cdag\",j+N\n",
    "    ampoₛ += 1im,\"C\",j+N,\"Cdag\",j\n",
    "end\n",
    "for j in 1:N:l-N\n",
    "    ampoₛ += (G²/2),\"C * Cdag\",j\n",
    "end\n",
    "for j in 1:l\n",
    "    ampoₛ += (m*(-1)^j),\"C * Cdag\",j \n",
    "end\n",
    "Hₛ = MPO(ampoₛ,sites[1:l])\n",
    "ψₛ₀ = randomMPS(sites[1:l],100)\n",
    "sweep = Sweeps(sw)\n",
    "setmaxdim!(sweep,repeat([1024],sw)...)\n",
    "setcutoff!(sweep,1E-8)\n",
    "eₛ₀,ψₛ = dmrg(Hₛ,ψₛ₀,sweep,outputlevel=0)"
   ]
  },
  {
   "cell_type": "code",
   "execution_count": 28,
   "id": "107c7863",
   "metadata": {},
   "outputs": [
    {
     "data": {
      "text/plain": [
       "(nothing, nothing)"
      ]
     },
     "execution_count": 28,
     "metadata": {},
     "output_type": "execute_result"
    }
   ],
   "source": [
    "a,b = nothing, nothing"
   ]
  },
  {
   "cell_type": "code",
   "execution_count": 29,
   "id": "60ac85d1",
   "metadata": {},
   "outputs": [
    {
     "name": "stdout",
     "output_type": "stream",
     "text": [
      "v1 = ITensor ord=1\n",
      "Dim 1: (dim=2|id=846|\"Fermion,Site,n=9\")\n",
      "NDTensors.Dense{Float64, Vector{Float64}}\n",
      " 2-element\n",
      " 0.7071067811865475\n",
      " 0.7071067811865475\n"
     ]
    }
   ],
   "source": [
    "v1 = ITensor(sites[l+1])\n",
    "for j in 1:size(v1)[1]\n",
    "    v1[j]=1/sqrt(2)\n",
    "end\n",
    "@show v1;"
   ]
  },
  {
   "cell_type": "code",
   "execution_count": 30,
   "id": "2755b934",
   "metadata": {},
   "outputs": [
    {
     "name": "stdout",
     "output_type": "stream",
     "text": [
      "v2 = ITensor ord=1\n",
      "Dim 1: (dim=2|id=643|\"Fermion,Site,n=10\")\n",
      "NDTensors.Dense{Float64, Vector{Float64}}\n",
      " 2-element\n",
      " 0.7071067811865475\n",
      " 0.7071067811865475\n"
     ]
    }
   ],
   "source": [
    "v2 = ITensor(sites[L])\n",
    "for j in 1:size(v2)[1]\n",
    "    v2[j] = 1/sqrt(2)\n",
    "end\n",
    "@show v2;"
   ]
  },
  {
   "cell_type": "code",
   "execution_count": 31,
   "id": "f66e1003",
   "metadata": {},
   "outputs": [
    {
     "name": "stdout",
     "output_type": "stream",
     "text": [
      "v = ITensor ord=0\n",
      "NDTensors.Dense{ComplexF64, Vector{ComplexF64}}\n",
      " 0-dimensional\n",
      "-0.19096570157824214 - 0.4265079896854094im\n"
     ]
    }
   ],
   "source": [
    "v = ITensor(1.0)\n",
    "for j in 1:l\n",
    "    v = v*dag(ψₛ[j])*ψₗ[j]\n",
    "end\n",
    "v = v*v1*ψₗ[l+1]\n",
    "v = v*v2*ψₗ[L]\n",
    "@show v;"
   ]
  },
  {
   "cell_type": "code",
   "execution_count": 35,
   "id": "a2fa6c8c",
   "metadata": {},
   "outputs": [
    {
     "data": {
      "text/plain": [
       "0.21837696444475954 + 0.0im"
      ]
     },
     "execution_count": 35,
     "metadata": {},
     "output_type": "execute_result"
    }
   ],
   "source": [
    "inner(v,v)"
   ]
  },
  {
   "cell_type": "code",
   "execution_count": 34,
   "id": "d072af63",
   "metadata": {},
   "outputs": [
    {
     "data": {
      "text/plain": [
       "0.21837696444475954"
      ]
     },
     "execution_count": 34,
     "metadata": {},
     "output_type": "execute_result"
    }
   ],
   "source": [
    "real(inner(v,v))"
   ]
  },
  {
   "cell_type": "code",
   "execution_count": 33,
   "id": "cf47fbfa",
   "metadata": {},
   "outputs": [
    {
     "data": {
      "text/plain": [
       "0.4673082114030948"
      ]
     },
     "execution_count": 33,
     "metadata": {},
     "output_type": "execute_result"
    }
   ],
   "source": [
    "norm(v)"
   ]
  },
  {
   "cell_type": "code",
   "execution_count": null,
   "id": "74e8aa62",
   "metadata": {},
   "outputs": [],
   "source": [
    "\n",
    "# lattice_large - lattice_small = 2 \n",
    "function GrossNeveu(L,N,m,G²,sw)\n",
    "    l = L-2;\n",
    "    sites = siteinds(\"Fermion\",L)\n",
    "    ampoₗ = OpSum()\n",
    "    ampoₛ = OpSum()\n",
    "    # Large Lattice \n",
    "    for j in 1:L-N\n",
    "        ampoₗ -= 1im,\"C\",j,\"Cdag\",j+N\n",
    "        ampoₗ += 1im,\"C\",j+N,\"Cdag\",j\n",
    "    end\n",
    "    for j in 1:N:L-N\n",
    "        ampoₗ += (G²/2),\"C * Cdag\",j\n",
    "    end\n",
    "    for j in 1:L\n",
    "        ampoₗ += (m*(-1)^j),\"C * Cdag\",j\n",
    "    end\n",
    "    Hₗ = MPO(ampoₗ, sites)\n",
    "    ψₗ₀ = randomMPS(sites,100)\n",
    "    ######################################\n",
    "    ## small lattice \n",
    "    for j in 1:l-N\n",
    "        ampoₛ -= 1im,\"C\",j,\"Cdag\",j+N\n",
    "        ampoₛ += 1im,\"C\",j+N,\"Cdag\",j\n",
    "    end\n",
    "    for j in 1:N:l-N\n",
    "        ampoₛ += (G²/2),\"C * Cdag\",j\n",
    "    end\n",
    "    for j in 1:l\n",
    "        ampoₛ += (m*(-1)^j),\"C * Cdag\",j \n",
    "    end\n",
    "    Hₛ = MPO(ampoₛ,sites[1:l])\n",
    "    ψₛ₀ = randomMPS(sites[1:l],100)\n",
    "    sweep = Sweeps(sw)\n",
    "    setmaxdim!(sweep,repeat([1024],sw)...)\n",
    "    setcutoff!(sweep,1E-8)\n",
    "    \n",
    "    eₗ₀,ψₗ = dmrg(Hₗ,ψₗ₀,sweep,outputlevel=0)\n",
    "    eₛ₀,ψₛ = dmrg(Hₛ,ψₛ₀,sweep,outputlevel=0)\n",
    "    \n",
    "    #  Overlap computation\n",
    "    v1 = ITensor(sites[l+1]) \n",
    "    for j in 1:size(v1)[1]\n",
    "        v1[j] = 1/sqrt(2)\n",
    "    end\n",
    "    v2 = ITensor(sites[L])\n",
    "    for j in 1:size(v2)[1]\n",
    "        v2[j] = 1/sqrt(2)\n",
    "    end\n",
    "    v = ITensor(1.0)\n",
    "    for j in 1:l\n",
    "        v = v*dag(ψₛ[j])*ψₗ[j]\n",
    "    end\n",
    "    v = v*v1*ψₗ[l+1]\n",
    "    v = v*v2*ψₗ[L]\n",
    "    return inner(v,v), norm(v)\n",
    "end"
   ]
  },
  {
   "cell_type": "code",
   "execution_count": null,
   "id": "5bfb0545",
   "metadata": {},
   "outputs": [],
   "source": []
  },
  {
   "cell_type": "code",
   "execution_count": null,
   "id": "57d304b0",
   "metadata": {},
   "outputs": [],
   "source": []
  },
  {
   "cell_type": "code",
   "execution_count": null,
   "id": "5242c6e3",
   "metadata": {},
   "outputs": [],
   "source": []
  },
  {
   "cell_type": "code",
   "execution_count": null,
   "id": "3d942130",
   "metadata": {},
   "outputs": [],
   "source": []
  },
  {
   "cell_type": "code",
   "execution_count": null,
   "id": "6a9178fd",
   "metadata": {},
   "outputs": [],
   "source": []
  },
  {
   "cell_type": "code",
   "execution_count": null,
   "id": "5d77cca6",
   "metadata": {},
   "outputs": [],
   "source": []
  },
  {
   "cell_type": "code",
   "execution_count": null,
   "id": "b257cae0",
   "metadata": {},
   "outputs": [],
   "source": []
  },
  {
   "cell_type": "code",
   "execution_count": null,
   "id": "dafbbd45",
   "metadata": {},
   "outputs": [],
   "source": [
    "using ITensors \n",
    "using Plots\n",
    "using Measurements   \n",
    "using DelimitedFiles \n",
    "\n",
    "# lattice_large - lattice_small = 2 \n",
    "function GrossNeveu(L,N,m,G²,sw)\n",
    "    l = L-2;\n",
    "    sites = siteinds(\"Fermion\",L)\n",
    "    ampoₗ = OpSum()\n",
    "    ampoₛ = OpSum()\n",
    "    # Large Lattice \n",
    "    for j in 1:L-N\n",
    "        ampoₗ -= 1im,\"C\",j,\"Cdag\",j+N\n",
    "        ampoₗ += 1im,\"C\",j+N,\"Cdag\",j\n",
    "    end\n",
    "    for j in 1:N:L-N\n",
    "        ampoₗ += (G²/2),\"C * Cdag\",j\n",
    "    end\n",
    "    for j in 1:L\n",
    "        ampoₗ += (m*(-1)^j),\"C * Cdag\",j\n",
    "    end\n",
    "    Hₗ = MPO(ampoₗ, sites)\n",
    "    ψₗ₀ = randomMPS(sites,100)\n",
    "    ######################################\n",
    "    ## small lattice \n",
    "    for j in 1:l-N\n",
    "        ampoₛ -= 1im,\"C\",j,\"Cdag\",j+N\n",
    "        ampoₛ += 1im,\"C\",j+N,\"Cdag\",j\n",
    "    end\n",
    "    for j in 1:N:l-N\n",
    "        ampoₛ += (G²/2),\"C * Cdag\",j\n",
    "    end\n",
    "    for j in 1:l\n",
    "        ampoₛ += (m*(-1)^j),\"C * Cdag\",j \n",
    "    end\n",
    "    Hₛ = MPO(ampoₛ,sites[1:l])\n",
    "    ψₛ₀ = randomMPS(sites[1:l],100)\n",
    "    sweep = Sweeps(sw)\n",
    "    setmaxdim!(sweep,repeat([1024],sw)...)\n",
    "    setcutoff!(sweep,1E-8)\n",
    "    \n",
    "    eₗ₀,ψₗ = dmrg(Hₗ,ψₗ₀,sweep,outputlevel=0)\n",
    "    eₛ₀,ψₛ = dmrg(Hₛ,ψₛ₀,sweep,outputlevel=0)\n",
    "    \n",
    "    #  Overlap computation\n",
    "    v1 = ITensor(sites[l+1]) \n",
    "    for j in 1:size(v1)[1]\n",
    "        v1[j] = 1/sqrt(2)\n",
    "    end\n",
    "    v2 = ITensor(sites[L])\n",
    "    for j in 1:size(v2)[1]\n",
    "        v2[j] = 1/sqrt(2)\n",
    "    end\n",
    "    v = ITensor(1.0)\n",
    "    for j in 1:l\n",
    "        v = v*dag(ψₛ[j])*ψₗ[j]\n",
    "    end\n",
    "    v = v*v1*ψₗ[l+1]\n",
    "    v = v*v2*ψₗ[L]\n",
    "    return inner(v,v), norm(v)\n",
    "end\n",
    "\n",
    "# L::Integer, N::Integer,G²::Float64,m::Float64,sw::Integer\n",
    "result_res2 = Vector{ComplexF64}()\n",
    "result_norm2 = Vector{ComplexF64}()\n",
    "\n",
    "for j in 4:100\n",
    "    println(j)\n",
    "    res2 , norm_res2 = GrossNeveu(j,1,0.7,1.0,3); # change BD --> 100\n",
    "    push!(result_res2, res2);\n",
    "    push!(result_norm2, norm_res2);\n",
    "end   \n",
    "\n",
    "site_number2 = [x for x in 1:length(result_res2)]\n",
    "result_res22 = real(result_res2)\n",
    "result_norm22 = real(result_norm2)\n",
    "# scatter(site_number2, \n",
    "#     result_res22 .± 1E-5, \n",
    "#     xlim=(-1,25),xticks=((-1:25)), \n",
    "#     ylim=(0.18,0.27), \n",
    "#     yticks=((0.18:0.001:0.23)),   \n",
    "#     markersize=2,\n",
    "#     xlabel=\"Site Number\",\n",
    "#     ylabel=\"Inner Product\",\n",
    "#     title=\"Overlap\")\n",
    "# savefig(\"GN_m04.svg\")\n",
    "writedlm(\"res_m07_100.txt\",result_res22)\n",
    "# writedlm(\"norm_m07_50.txt\",result_norm22)"
   ]
  }
 ],
 "metadata": {
  "kernelspec": {
   "display_name": "Julia 1.8.2",
   "language": "julia",
   "name": "julia-1.8"
  },
  "language_info": {
   "file_extension": ".jl",
   "mimetype": "application/julia",
   "name": "julia",
   "version": "1.8.2"
  }
 },
 "nbformat": 4,
 "nbformat_minor": 5
}
