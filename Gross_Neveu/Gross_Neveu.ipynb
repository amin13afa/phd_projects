{
 "cells": [
  {
   "cell_type": "code",
   "execution_count": null,
   "id": "dfb5e0c0",
   "metadata": {},
   "outputs": [],
   "source": [
    "using ITensors \n",
    "using Plots\n",
    "using Measurements   \n",
    "using DelimitedFiles "
   ]
  },
  {
   "cell_type": "code",
   "execution_count": null,
   "id": "55acf254",
   "metadata": {},
   "outputs": [],
   "source": [
    "# lattice_large - lattice_small = 2 \n",
    "function GrossNeveu(L,N,m,G²,sw)\n",
    "    l = L-2;\n",
    "    sites = siteinds(\"Fermion\",L)\n",
    "    ampoₗ = OpSum()\n",
    "    ampoₛ = OpSum()\n",
    "    # Large Lattice \n",
    "    for j in 1:L-N\n",
    "        ampoₗ -= 1im,\"C\",j,\"Cdag\",j+N\n",
    "        ampoₗ += 1im,\"C\",j+N,\"Cdag\",j\n",
    "    end\n",
    "    for j in 1:N:L-N\n",
    "        ampoₗ += (G²/2),\"C * Cdag\",j\n",
    "    end\n",
    "    for j in 1:L\n",
    "        ampoₗ += (m*(-1)^j),\"C * Cdag\",j\n",
    "    end\n",
    "    Hₗ = MPO(ampoₗ, sites)\n",
    "    ψₗ₀ = randomMPS(sites,100)\n",
    "    ######################################\n",
    "    ## small lattice \n",
    "    for j in 1:l-N\n",
    "        ampoₛ -= 1im,\"C\",j,\"Cdag\",j+N\n",
    "        ampoₛ += 1im,\"C\",j+N,\"Cdag\",j\n",
    "    end\n",
    "    for j in 1:N:l-N\n",
    "        ampoₛ += (G²/2),\"C * Cdag\",j\n",
    "    end\n",
    "    for j in 1:l\n",
    "        ampoₛ += (m*(-1)^j),\"C * Cdag\",j \n",
    "    end\n",
    "    Hₛ = MPO(ampoₛ,sites[1:l])\n",
    "    ψₛ₀ = randomMPS(sites[1:l],100)\n",
    "    sweep = Sweeps(sw)\n",
    "    setmaxdim!(sweep,repeat([1024],sw)...)\n",
    "    setcutoff!(sweep,1E-8)\n",
    "    \n",
    "    eₗ₀,ψₗ = dmrg(Hₗ,ψₗ₀,sweep,outputlevel=1)\n",
    "    eₛ₀,ψₛ = dmrg(Hₛ,ψₛ₀,sweep,outputlevel=1)\n",
    "    \n",
    "    #  Overlap computation\n",
    "    v1 = ITensor(sites[l+1]) \n",
    "    for j in 1:size(v1)[1]\n",
    "        v1[j] = 1/sqrt(2)\n",
    "    end\n",
    "    v2 = ITensor(sites[L])\n",
    "    for j in 1:size(v2)[1]\n",
    "        v2[j] = 1/sqrt(2)\n",
    "    end\n",
    "    v = ITensor(1.0)\n",
    "    for j in 1:l\n",
    "        v = v*dag(ψₛ[j])*ψₗ[j]\n",
    "    end\n",
    "    v = v*v1*ψₗ[l+1]\n",
    "    v = v*v2*ψₗ[L]\n",
    "    return inner(v,v), norm(v)\n",
    "end"
   ]
  },
  {
   "cell_type": "code",
   "execution_count": null,
   "id": "37bc5790",
   "metadata": {},
   "outputs": [],
   "source": [
    "result_norm2 , result_norm22, result_res2, result_res22 = nothing, nothing, nothing, nothing"
   ]
  },
  {
   "cell_type": "code",
   "execution_count": null,
   "id": "8b964faa",
   "metadata": {},
   "outputs": [],
   "source": [
    "# L::Integer, N::Integer,G²::Float64,m::Float64,sw::Integer\n",
    "result_res2 = Vector{ComplexF64}()\n",
    "result_norm2 = Vector{ComplexF64}()\n",
    "\n",
    "for j in 4:30\n",
    "    println(j)\n",
    "    res2 , norm_res2 = GrossNeveu(j,1,0.4,1.0,3); \n",
    "    push!(result_res2, res2);\n",
    "    push!(result_norm2, norm_res2);\n",
    "end   \n"
   ]
  },
  {
   "cell_type": "code",
   "execution_count": null,
   "id": "23fcf7c1",
   "metadata": {},
   "outputs": [],
   "source": [
    "site_number2 = [x for x in 1:length(result_res2)]\n",
    "result_res22 = real(result_res2)\n",
    "result_norm22 = real(result_norm2)\n",
    "scatter(site_number2, \n",
    "    result_res22 .± 1E-16, \n",
    "    xlim=(-1,51),xticks=((1:2:51)), \n",
    "    ylim=(-0.1,0.3), \n",
    "    yticks=((-0.1:0.1:0.3)),   \n",
    "    markersize=2,\n",
    "    xlabel=\"Site Number\",\n",
    "    ylabel=\"Inner Product\",\n",
    "    title=\"Overlap\")\n",
    "# savefig(\"GN_m07_50.svg\")"
   ]
  },
  {
   "cell_type": "code",
   "execution_count": null,
   "id": "7fa632bc",
   "metadata": {},
   "outputs": [],
   "source": [
    "writedlm(\"res_m07_50.txt\",result_res22)\n",
    "writedlm(\"norm_m07_50.txt\",result_norm22)"
   ]
  }
 ],
 "metadata": {
  "kernelspec": {
   "display_name": "Julia 1.8.2",
   "language": "julia",
   "name": "julia-1.8"
  },
  "language_info": {
   "file_extension": ".jl",
   "mimetype": "application/julia",
   "name": "julia",
   "version": "1.8.2"
  }
 },
 "nbformat": 4,
 "nbformat_minor": 5
}
